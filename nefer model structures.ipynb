{
 "cells": [
  {
   "cell_type": "code",
   "execution_count": 1,
   "metadata": {
    "execution": {
     "iopub.execute_input": "2025-04-18T14:23:10.612704Z",
     "iopub.status.busy": "2025-04-18T14:23:10.612512Z",
     "iopub.status.idle": "2025-04-18T14:24:26.523298Z",
     "shell.execute_reply": "2025-04-18T14:24:26.522600Z",
     "shell.execute_reply.started": "2025-04-18T14:23:10.612686Z"
    }
   },
   "outputs": [
    {
     "name": "stdout",
     "output_type": "stream",
     "text": [
      "\u001b[2K     \u001b[90m━━━━━━━━━━━━━━━━━━━━━━━━━━━━━━━━━━━━━━━━\u001b[0m \u001b[32m87.8/87.8 kB\u001b[0m \u001b[31m3.4 MB/s\u001b[0m eta \u001b[36m0:00:00\u001b[0m\n",
      "\u001b[?25h  Preparing metadata (setup.py) ... \u001b[?25l\u001b[?25hdone\n",
      "\u001b[2K   \u001b[90m━━━━━━━━━━━━━━━━━━━━━━━━━━━━━━━━━━━━━━━━\u001b[0m \u001b[32m363.4/363.4 MB\u001b[0m \u001b[31m4.2 MB/s\u001b[0m eta \u001b[36m0:00:00\u001b[0m0:00:01\u001b[0m00:01\u001b[0m\n",
      "\u001b[2K   \u001b[90m━━━━━━━━━━━━━━━━━━━━━━━━━━━━━━━━━━━━━━━━\u001b[0m \u001b[32m664.8/664.8 MB\u001b[0m \u001b[31m1.9 MB/s\u001b[0m eta \u001b[36m0:00:00\u001b[0m0:00:01\u001b[0m00:01\u001b[0m\n",
      "\u001b[2K   \u001b[90m━━━━━━━━━━━━━━━━━━━━━━━━━━━━━━━━━━━━━━━━\u001b[0m \u001b[32m211.5/211.5 MB\u001b[0m \u001b[31m8.1 MB/s\u001b[0m eta \u001b[36m0:00:00\u001b[0m0:00:01\u001b[0m00:01\u001b[0m\n",
      "\u001b[2K   \u001b[90m━━━━━━━━━━━━━━━━━━━━━━━━━━━━━━━━━━━━━━━━\u001b[0m \u001b[32m56.3/56.3 MB\u001b[0m \u001b[31m31.5 MB/s\u001b[0m eta \u001b[36m0:00:00\u001b[0m:00:01\u001b[0m00:01\u001b[0m\n",
      "\u001b[2K   \u001b[90m━━━━━━━━━━━━━━━━━━━━━━━━━━━━━━━━━━━━━━━━\u001b[0m \u001b[32m127.9/127.9 MB\u001b[0m \u001b[31m13.7 MB/s\u001b[0m eta \u001b[36m0:00:00\u001b[0m:00:01\u001b[0m00:01\u001b[0m\n",
      "\u001b[2K   \u001b[90m━━━━━━━━━━━━━━━━━━━━━━━━━━━━━━━━━━━━━━━━\u001b[0m \u001b[32m207.5/207.5 MB\u001b[0m \u001b[31m8.2 MB/s\u001b[0m eta \u001b[36m0:00:00\u001b[0m0:00:01\u001b[0m00:01\u001b[0m\n",
      "\u001b[2K   \u001b[90m━━━━━━━━━━━━━━━━━━━━━━━━━━━━━━━━━━━━━━━━\u001b[0m \u001b[32m21.1/21.1 MB\u001b[0m \u001b[31m85.7 MB/s\u001b[0m eta \u001b[36m0:00:00\u001b[0m:00:01\u001b[0m00:01\u001b[0m\n",
      "\u001b[2K   \u001b[90m━━━━━━━━━━━━━━━━━━━━━━━━━━━━━━━━━━━━━━━━\u001b[0m \u001b[32m43.7/43.7 kB\u001b[0m \u001b[31m2.5 MB/s\u001b[0m eta \u001b[36m0:00:00\u001b[0m\n",
      "\u001b[2K   \u001b[90m━━━━━━━━━━━━━━━━━━━━━━━━━━━━━━━━━━━━━━━━\u001b[0m \u001b[32m45.8/45.8 kB\u001b[0m \u001b[31m2.9 MB/s\u001b[0m eta \u001b[36m0:00:00\u001b[0m\n",
      "\u001b[2K   \u001b[90m━━━━━━━━━━━━━━━━━━━━━━━━━━━━━━━━━━━━━━━━\u001b[0m \u001b[32m92.7/92.7 kB\u001b[0m \u001b[31m5.5 MB/s\u001b[0m eta \u001b[36m0:00:00\u001b[0m\n",
      "\u001b[2K   \u001b[90m━━━━━━━━━━━━━━━━━━━━━━━━━━━━━━━━━━━━━━━━\u001b[0m \u001b[32m9.3/9.3 MB\u001b[0m \u001b[31m103.4 MB/s\u001b[0m eta \u001b[36m0:00:00\u001b[0m00:01\u001b[0m00:01\u001b[0m\n",
      "\u001b[?25h  Building wheel for pims (setup.py) ... \u001b[?25l\u001b[?25hdone\n",
      "\u001b[31mERROR: pip's dependency resolver does not currently take into account all the packages that are installed. This behaviour is the source of the following dependency conflicts.\n",
      "pylibcugraph-cu12 24.12.0 requires pylibraft-cu12==24.12.*, but you have pylibraft-cu12 25.2.0 which is incompatible.\n",
      "pylibcugraph-cu12 24.12.0 requires rmm-cu12==24.12.*, but you have rmm-cu12 25.2.0 which is incompatible.\u001b[0m\u001b[31m\n",
      "\u001b[0m"
     ]
    }
   ],
   "source": [
    "# ========== INSTALL EVERYTHING IN-KERNEL ==========\n",
    "!pip install -q ffmpeg-python imageio[ffmpeg] pims opencv-python-headless torch torchvision argcomplete autopep8 engineering_notation easygui screeninfo dv_processing"
   ]
  },
  {
   "cell_type": "code",
   "execution_count": 2,
   "metadata": {
    "execution": {
     "iopub.execute_input": "2025-04-18T14:24:26.525406Z",
     "iopub.status.busy": "2025-04-18T14:24:26.525173Z",
     "iopub.status.idle": "2025-04-18T14:24:29.388705Z",
     "shell.execute_reply": "2025-04-18T14:24:29.387991Z",
     "shell.execute_reply.started": "2025-04-18T14:24:26.525386Z"
    }
   },
   "outputs": [
    {
     "name": "stdout",
     "output_type": "stream",
     "text": [
      "Requirement already satisfied: dv_processing in /usr/local/lib/python3.11/dist-packages (1.7.9)\n",
      "Requirement already satisfied: numpy in /usr/local/lib/python3.11/dist-packages (from dv_processing) (1.26.4)\n",
      "Requirement already satisfied: mkl_fft in /usr/local/lib/python3.11/dist-packages (from numpy->dv_processing) (1.3.8)\n",
      "Requirement already satisfied: mkl_random in /usr/local/lib/python3.11/dist-packages (from numpy->dv_processing) (1.2.4)\n",
      "Requirement already satisfied: mkl_umath in /usr/local/lib/python3.11/dist-packages (from numpy->dv_processing) (0.1.1)\n",
      "Requirement already satisfied: mkl in /usr/local/lib/python3.11/dist-packages (from numpy->dv_processing) (2025.1.0)\n",
      "Requirement already satisfied: tbb4py in /usr/local/lib/python3.11/dist-packages (from numpy->dv_processing) (2022.1.0)\n",
      "Requirement already satisfied: mkl-service in /usr/local/lib/python3.11/dist-packages (from numpy->dv_processing) (2.4.1)\n",
      "Requirement already satisfied: intel-openmp<2026,>=2024 in /usr/local/lib/python3.11/dist-packages (from mkl->numpy->dv_processing) (2024.2.0)\n",
      "Requirement already satisfied: tbb==2022.* in /usr/local/lib/python3.11/dist-packages (from mkl->numpy->dv_processing) (2022.1.0)\n",
      "Requirement already satisfied: tcmlib==1.* in /usr/local/lib/python3.11/dist-packages (from tbb==2022.*->mkl->numpy->dv_processing) (1.2.0)\n",
      "Requirement already satisfied: intel-cmplr-lib-rt in /usr/local/lib/python3.11/dist-packages (from mkl_umath->numpy->dv_processing) (2024.2.0)\n",
      "Requirement already satisfied: intel-cmplr-lib-ur==2024.2.0 in /usr/local/lib/python3.11/dist-packages (from intel-openmp<2026,>=2024->mkl->numpy->dv_processing) (2024.2.0)\n"
     ]
    }
   ],
   "source": [
    "!pip install dv_processing"
   ]
  },
  {
   "cell_type": "markdown",
   "metadata": {},
   "source": [
    "# CODE TO EXTRACT THE DVS VEDIOS FROM THE GOPRO RGB IMAGES"
   ]
  },
  {
   "cell_type": "code",
   "execution_count": 3,
   "metadata": {
    "execution": {
     "iopub.execute_input": "2025-04-18T14:24:29.392517Z",
     "iopub.status.busy": "2025-04-18T14:24:29.392301Z",
     "iopub.status.idle": "2025-04-18T16:54:37.316972Z",
     "shell.execute_reply": "2025-04-18T16:54:37.316126Z",
     "shell.execute_reply.started": "2025-04-18T14:24:29.392496Z"
    }
   },
   "outputs": [
    {
     "name": "stderr",
     "output_type": "stream",
     "text": [
      "Cloning into '/kaggle/working/v2e'...\n"
     ]
    },
    {
     "name": "stdout",
     "output_type": "stream",
     "text": [
      "     ━━━━━━━━━━━━━━━━━━━━━━━━━━━━━━━━━━━━━━━━ 61.2/61.2 kB 2.7 MB/s eta 0:00:00\n",
      "   ━━━━━━━━━━━━━━━━━━━━━━━━━━━━━━━━━━━━━━━━ 142.3/142.3 kB 6.3 MB/s eta 0:00:00\n",
      "⬇️ Downloading SuperSloMo39.ckpt…\n"
     ]
    },
    {
     "name": "stderr",
     "output_type": "stream",
     "text": [
      "/usr/local/lib/python3.11/dist-packages/gdown/__main__.py:140: FutureWarning: Option `--id` was deprecated in version 4.3.1 and will be removed in 5.0. You don't need to pass it anymore to use a file ID.\n",
      "  warnings.warn(\n",
      "Downloading...\n",
      "From (original): https://drive.google.com/uc?id=1ETID_4xqLpRBrRo1aOT7Yphs3QqWR_fx\n",
      "From (redirected): https://drive.google.com/uc?id=1ETID_4xqLpRBrRo1aOT7Yphs3QqWR_fx&confirm=t&uuid=6ae5cb06-5cec-4327-81c2-90d1cf4fdd75\n",
      "To: /kaggle/working/SuperSloMo39.ckpt\n",
      "100%|██████████| 158M/158M [00:03<00:00, 40.6MB/s] \n"
     ]
    },
    {
     "name": "stdout",
     "output_type": "stream",
     "text": [
      "✅ Downloaded ckpt to: /kaggle/working/SuperSloMo39.ckpt\n",
      "✅ Model moved to: /kaggle/working/v2e/v2e_networks/SuperSloMo39.pth.tar\n",
      "⏭️ Skipping user_00\n",
      "🚀 Processing user_01/GOPR0762 → happiness\n"
     ]
    },
    {
     "name": "stderr",
     "output_type": "stream",
     "text": [
      "/kaggle/working/v2e/v2e.py:506: DeprecationWarning: `np.math` is a deprecated alias for the standard library `math` module (Deprecated Numpy 1.25). Replace usages of `np.math` with `math`\n",
      "  dvsNumFrames = np.math.floor(\n",
      "rgb2luma: 100%|██████████| 51/51 [00:01<00:00, 35.47fr/s]\n",
      "npy2png: 51fr [00:00, 156.81fr/s]\n",
      "dvs: 100%|██████████| 51/51 [00:04<00:00, 10.38fr/s]\n",
      "/bin/sh: 1: xprop: not found\n"
     ]
    },
    {
     "name": "stdout",
     "output_type": "stream",
     "text": [
      "🚀 Processing user_01/GOPR0763 → fear\n"
     ]
    },
    {
     "name": "stderr",
     "output_type": "stream",
     "text": [
      "/kaggle/working/v2e/v2e.py:506: DeprecationWarning: `np.math` is a deprecated alias for the standard library `math` module (Deprecated Numpy 1.25). Replace usages of `np.math` with `math`\n",
      "  dvsNumFrames = np.math.floor(\n",
      "rgb2luma: 100%|██████████| 51/51 [00:01<00:00, 32.38fr/s]\n",
      "npy2png: 51fr [00:00, 157.26fr/s]\n",
      "dvs: 100%|██████████| 51/51 [00:04<00:00, 11.02fr/s]\n",
      "/bin/sh: 1: xprop: not found\n"
     ]
    },
    {
     "name": "stdout",
     "output_type": "stream",
     "text": [
      "🚀 Processing user_01/GOPR0764 → disgust\n"
     ]
    },
    {
     "name": "stderr",
     "output_type": "stream",
     "text": [
      "/kaggle/working/v2e/v2e.py:506: DeprecationWarning: `np.math` is a deprecated alias for the standard library `math` module (Deprecated Numpy 1.25). Replace usages of `np.math` with `math`\n",
      "  dvsNumFrames = np.math.floor(\n",
      "rgb2luma: 100%|██████████| 51/51 [00:01<00:00, 42.11fr/s]\n",
      "npy2png: 51fr [00:00, 156.56fr/s]\n",
      "dvs: 100%|██████████| 51/51 [00:04<00:00, 10.99fr/s]\n",
      "/bin/sh: 1: xprop: not found\n"
     ]
    },
    {
     "name": "stdout",
     "output_type": "stream",
     "text": [
      "🚀 Processing user_01/GOPR0765 → sadness\n"
     ]
    },
    {
     "name": "stderr",
     "output_type": "stream",
     "text": [
      "/kaggle/working/v2e/v2e.py:506: DeprecationWarning: `np.math` is a deprecated alias for the standard library `math` module (Deprecated Numpy 1.25). Replace usages of `np.math` with `math`\n",
      "  dvsNumFrames = np.math.floor(\n",
      "rgb2luma: 100%|██████████| 51/51 [00:01<00:00, 43.82fr/s]\n",
      "npy2png: 51fr [00:00, 155.73fr/s]\n",
      "dvs: 100%|██████████| 51/51 [00:04<00:00, 11.00fr/s]\n",
      "/bin/sh: 1: xprop: not found\n"
     ]
    },
    {
     "name": "stdout",
     "output_type": "stream",
     "text": [
      "🚀 Processing user_01/GOPR0766 → nan\n"
     ]
    },
    {
     "name": "stderr",
     "output_type": "stream",
     "text": [
      "/kaggle/working/v2e/v2e.py:506: DeprecationWarning: `np.math` is a deprecated alias for the standard library `math` module (Deprecated Numpy 1.25). Replace usages of `np.math` with `math`\n",
      "  dvsNumFrames = np.math.floor(\n",
      "rgb2luma: 100%|██████████| 51/51 [00:01<00:00, 44.20fr/s]\n",
      "npy2png: 51fr [00:00, 153.05fr/s]\n",
      "dvs: 100%|██████████| 51/51 [00:04<00:00, 10.86fr/s]\n",
      "/bin/sh: 1: xprop: not found\n"
     ]
    },
    {
     "name": "stdout",
     "output_type": "stream",
     "text": [
      "🚀 Processing user_01/GOPR0767 → anger\n"
     ]
    },
    {
     "name": "stderr",
     "output_type": "stream",
     "text": [
      "/kaggle/working/v2e/v2e.py:506: DeprecationWarning: `np.math` is a deprecated alias for the standard library `math` module (Deprecated Numpy 1.25). Replace usages of `np.math` with `math`\n",
      "  dvsNumFrames = np.math.floor(\n",
      "rgb2luma: 100%|██████████| 51/51 [00:01<00:00, 49.18fr/s]\n",
      "npy2png: 51fr [00:00, 155.45fr/s]\n",
      "dvs: 100%|██████████| 51/51 [00:04<00:00, 11.11fr/s]\n",
      "/bin/sh: 1: xprop: not found\n"
     ]
    },
    {
     "name": "stdout",
     "output_type": "stream",
     "text": [
      "🚀 Processing user_01/GOPR0768 → happiness\n"
     ]
    },
    {
     "name": "stderr",
     "output_type": "stream",
     "text": [
      "/kaggle/working/v2e/v2e.py:506: DeprecationWarning: `np.math` is a deprecated alias for the standard library `math` module (Deprecated Numpy 1.25). Replace usages of `np.math` with `math`\n",
      "  dvsNumFrames = np.math.floor(\n",
      "rgb2luma: 100%|██████████| 51/51 [00:01<00:00, 39.98fr/s]\n",
      "npy2png: 51fr [00:00, 154.17fr/s]\n",
      "dvs: 100%|██████████| 51/51 [00:04<00:00, 10.55fr/s]\n",
      "/bin/sh: 1: xprop: not found\n"
     ]
    },
    {
     "name": "stdout",
     "output_type": "stream",
     "text": [
      "🚀 Processing user_01/GOPR0769 → disgust\n"
     ]
    },
    {
     "name": "stderr",
     "output_type": "stream",
     "text": [
      "/kaggle/working/v2e/v2e.py:506: DeprecationWarning: `np.math` is a deprecated alias for the standard library `math` module (Deprecated Numpy 1.25). Replace usages of `np.math` with `math`\n",
      "  dvsNumFrames = np.math.floor(\n",
      "rgb2luma: 100%|██████████| 51/51 [00:01<00:00, 41.15fr/s]\n",
      "npy2png: 51fr [00:00, 156.54fr/s]\n",
      "dvs: 100%|██████████| 51/51 [00:04<00:00, 10.78fr/s]\n",
      "/bin/sh: 1: xprop: not found\n"
     ]
    },
    {
     "name": "stdout",
     "output_type": "stream",
     "text": [
      "🚀 Processing user_01/GOPR0770 → surprise\n"
     ]
    },
    {
     "name": "stderr",
     "output_type": "stream",
     "text": [
      "/kaggle/working/v2e/v2e.py:506: DeprecationWarning: `np.math` is a deprecated alias for the standard library `math` module (Deprecated Numpy 1.25). Replace usages of `np.math` with `math`\n",
      "  dvsNumFrames = np.math.floor(\n",
      "rgb2luma: 100%|██████████| 51/51 [00:01<00:00, 40.49fr/s]\n",
      "npy2png: 51fr [00:00, 156.96fr/s]\n",
      "dvs: 100%|██████████| 51/51 [00:04<00:00, 11.50fr/s]\n",
      "/bin/sh: 1: xprop: not found\n"
     ]
    },
    {
     "name": "stdout",
     "output_type": "stream",
     "text": [
      "🚀 Processing user_01/GOPR0771 → sadness\n"
     ]
    },
    {
     "name": "stderr",
     "output_type": "stream",
     "text": [
      "/kaggle/working/v2e/v2e.py:506: DeprecationWarning: `np.math` is a deprecated alias for the standard library `math` module (Deprecated Numpy 1.25). Replace usages of `np.math` with `math`\n",
      "  dvsNumFrames = np.math.floor(\n",
      "rgb2luma: 100%|██████████| 51/51 [00:01<00:00, 46.47fr/s]\n",
      "npy2png: 51fr [00:00, 152.36fr/s]\n",
      "dvs: 100%|██████████| 51/51 [00:04<00:00, 10.76fr/s]\n",
      "/bin/sh: 1: xprop: not found\n"
     ]
    },
    {
     "name": "stdout",
     "output_type": "stream",
     "text": [
      "🚀 Processing user_01/GOPR0772 → surprise\n"
     ]
    },
    {
     "name": "stderr",
     "output_type": "stream",
     "text": [
      "/kaggle/working/v2e/v2e.py:506: DeprecationWarning: `np.math` is a deprecated alias for the standard library `math` module (Deprecated Numpy 1.25). Replace usages of `np.math` with `math`\n",
      "  dvsNumFrames = np.math.floor(\n",
      "rgb2luma: 100%|██████████| 51/51 [00:01<00:00, 45.80fr/s]\n",
      "npy2png: 51fr [00:00, 155.90fr/s]\n",
      "dvs: 100%|██████████| 51/51 [00:04<00:00, 11.10fr/s]\n",
      "/bin/sh: 1: xprop: not found\n"
     ]
    },
    {
     "name": "stdout",
     "output_type": "stream",
     "text": [
      "🚀 Processing user_01/GOPR0773 → disgust\n"
     ]
    },
    {
     "name": "stderr",
     "output_type": "stream",
     "text": [
      "/kaggle/working/v2e/v2e.py:506: DeprecationWarning: `np.math` is a deprecated alias for the standard library `math` module (Deprecated Numpy 1.25). Replace usages of `np.math` with `math`\n",
      "  dvsNumFrames = np.math.floor(\n",
      "rgb2luma: 100%|██████████| 51/51 [00:01<00:00, 37.97fr/s]\n",
      "npy2png: 51fr [00:00, 156.31fr/s]\n",
      "dvs: 100%|██████████| 51/51 [00:04<00:00, 10.73fr/s]\n",
      "/bin/sh: 1: xprop: not found\n"
     ]
    },
    {
     "name": "stdout",
     "output_type": "stream",
     "text": [
      "🚀 Processing user_01/GOPR0774 → fear\n"
     ]
    },
    {
     "name": "stderr",
     "output_type": "stream",
     "text": [
      "/kaggle/working/v2e/v2e.py:506: DeprecationWarning: `np.math` is a deprecated alias for the standard library `math` module (Deprecated Numpy 1.25). Replace usages of `np.math` with `math`\n",
      "  dvsNumFrames = np.math.floor(\n",
      "rgb2luma: 100%|██████████| 51/51 [00:01<00:00, 39.74fr/s]\n",
      "npy2png: 51fr [00:00, 154.67fr/s]\n",
      "dvs: 100%|██████████| 51/51 [00:04<00:00, 11.03fr/s]\n",
      "/bin/sh: 1: xprop: not found\n"
     ]
    },
    {
     "name": "stdout",
     "output_type": "stream",
     "text": [
      "🚀 Processing user_01/GOPR0775 → contempt\n"
     ]
    },
    {
     "name": "stderr",
     "output_type": "stream",
     "text": [
      "/kaggle/working/v2e/v2e.py:506: DeprecationWarning: `np.math` is a deprecated alias for the standard library `math` module (Deprecated Numpy 1.25). Replace usages of `np.math` with `math`\n",
      "  dvsNumFrames = np.math.floor(\n",
      "rgb2luma: 100%|██████████| 51/51 [00:01<00:00, 44.86fr/s]\n",
      "npy2png: 51fr [00:00, 156.26fr/s]\n",
      "dvs: 100%|██████████| 51/51 [00:04<00:00, 11.15fr/s]\n",
      "/bin/sh: 1: xprop: not found\n"
     ]
    },
    {
     "name": "stdout",
     "output_type": "stream",
     "text": [
      "🚀 Processing user_01/GOPR0776 → contempt\n"
     ]
    },
    {
     "name": "stderr",
     "output_type": "stream",
     "text": [
      "/kaggle/working/v2e/v2e.py:506: DeprecationWarning: `np.math` is a deprecated alias for the standard library `math` module (Deprecated Numpy 1.25). Replace usages of `np.math` with `math`\n",
      "  dvsNumFrames = np.math.floor(\n",
      "rgb2luma: 100%|██████████| 51/51 [00:01<00:00, 38.10fr/s]\n",
      "npy2png: 51fr [00:00, 153.36fr/s]\n",
      "dvs: 100%|██████████| 51/51 [00:04<00:00, 11.00fr/s]\n",
      "/bin/sh: 1: xprop: not found\n"
     ]
    },
    {
     "name": "stdout",
     "output_type": "stream",
     "text": [
      "🚀 Processing user_01/GOPR0777 → surprise\n"
     ]
    },
    {
     "name": "stderr",
     "output_type": "stream",
     "text": [
      "/kaggle/working/v2e/v2e.py:506: DeprecationWarning: `np.math` is a deprecated alias for the standard library `math` module (Deprecated Numpy 1.25). Replace usages of `np.math` with `math`\n",
      "  dvsNumFrames = np.math.floor(\n",
      "rgb2luma: 100%|██████████| 51/51 [00:01<00:00, 45.63fr/s]\n",
      "npy2png: 51fr [00:00, 155.30fr/s]\n",
      "dvs: 100%|██████████| 51/51 [00:04<00:00, 10.90fr/s]\n",
      "/bin/sh: 1: xprop: not found\n"
     ]
    },
    {
     "name": "stdout",
     "output_type": "stream",
     "text": [
      "🚀 Processing user_01/GOPR0778 → surprise\n"
     ]
    },
    {
     "name": "stderr",
     "output_type": "stream",
     "text": [
      "/kaggle/working/v2e/v2e.py:506: DeprecationWarning: `np.math` is a deprecated alias for the standard library `math` module (Deprecated Numpy 1.25). Replace usages of `np.math` with `math`\n",
      "  dvsNumFrames = np.math.floor(\n",
      "rgb2luma: 100%|██████████| 51/51 [00:01<00:00, 38.82fr/s]\n",
      "npy2png: 51fr [00:00, 156.05fr/s]\n",
      "dvs: 100%|██████████| 51/51 [00:04<00:00, 10.76fr/s]\n",
      "/bin/sh: 1: xprop: not found\n"
     ]
    },
    {
     "name": "stdout",
     "output_type": "stream",
     "text": [
      "🚀 Processing user_01/GOPR0779 → anger\n"
     ]
    },
    {
     "name": "stderr",
     "output_type": "stream",
     "text": [
      "/kaggle/working/v2e/v2e.py:506: DeprecationWarning: `np.math` is a deprecated alias for the standard library `math` module (Deprecated Numpy 1.25). Replace usages of `np.math` with `math`\n",
      "  dvsNumFrames = np.math.floor(\n",
      "rgb2luma: 100%|██████████| 51/51 [00:01<00:00, 37.35fr/s]\n",
      "npy2png: 51fr [00:00, 153.48fr/s]\n",
      "dvs: 100%|██████████| 51/51 [00:04<00:00, 11.12fr/s]\n",
      "/bin/sh: 1: xprop: not found\n"
     ]
    },
    {
     "name": "stdout",
     "output_type": "stream",
     "text": [
      "🚀 Processing user_01/GOPR0780 → happiness\n"
     ]
    },
    {
     "name": "stderr",
     "output_type": "stream",
     "text": [
      "/kaggle/working/v2e/v2e.py:506: DeprecationWarning: `np.math` is a deprecated alias for the standard library `math` module (Deprecated Numpy 1.25). Replace usages of `np.math` with `math`\n",
      "  dvsNumFrames = np.math.floor(\n",
      "rgb2luma: 100%|██████████| 51/51 [00:01<00:00, 45.07fr/s]\n",
      "npy2png: 51fr [00:00, 152.64fr/s]\n",
      "dvs: 100%|██████████| 51/51 [00:04<00:00, 10.82fr/s]\n",
      "/bin/sh: 1: xprop: not found\n"
     ]
    },
    {
     "name": "stdout",
     "output_type": "stream",
     "text": [
      "🚀 Processing user_01/GOPR0781 → surprise\n"
     ]
    },
    {
     "name": "stderr",
     "output_type": "stream",
     "text": [
      "/kaggle/working/v2e/v2e.py:506: DeprecationWarning: `np.math` is a deprecated alias for the standard library `math` module (Deprecated Numpy 1.25). Replace usages of `np.math` with `math`\n",
      "  dvsNumFrames = np.math.floor(\n",
      "rgb2luma: 100%|██████████| 51/51 [00:01<00:00, 41.65fr/s]\n",
      "npy2png: 51fr [00:00, 157.72fr/s]\n",
      "dvs: 100%|██████████| 51/51 [00:04<00:00, 11.83fr/s]\n",
      "/bin/sh: 1: xprop: not found\n"
     ]
    },
    {
     "name": "stdout",
     "output_type": "stream",
     "text": [
      "🚀 Processing user_01/GOPR0782 → surprise\n"
     ]
    },
    {
     "name": "stderr",
     "output_type": "stream",
     "text": [
      "/kaggle/working/v2e/v2e.py:506: DeprecationWarning: `np.math` is a deprecated alias for the standard library `math` module (Deprecated Numpy 1.25). Replace usages of `np.math` with `math`\n",
      "  dvsNumFrames = np.math.floor(\n",
      "rgb2luma: 100%|██████████| 51/51 [00:01<00:00, 35.21fr/s]\n",
      "npy2png: 51fr [00:00, 153.38fr/s]\n",
      "dvs: 100%|██████████| 51/51 [00:04<00:00, 11.22fr/s]\n",
      "/bin/sh: 1: xprop: not found\n"
     ]
    },
    {
     "name": "stdout",
     "output_type": "stream",
     "text": [
      "🚀 Processing user_02/GOPR0783 → happiness\n"
     ]
    },
    {
     "name": "stderr",
     "output_type": "stream",
     "text": [
      "/kaggle/working/v2e/v2e.py:506: DeprecationWarning: `np.math` is a deprecated alias for the standard library `math` module (Deprecated Numpy 1.25). Replace usages of `np.math` with `math`\n",
      "  dvsNumFrames = np.math.floor(\n",
      "rgb2luma: 100%|██████████| 51/51 [00:01<00:00, 46.55fr/s]\n",
      "npy2png: 51fr [00:00, 158.03fr/s]\n",
      "dvs: 100%|██████████| 51/51 [00:04<00:00, 11.06fr/s]\n",
      "/bin/sh: 1: xprop: not found\n"
     ]
    },
    {
     "name": "stdout",
     "output_type": "stream",
     "text": [
      "🚀 Processing user_02/GOPR0784 → fear\n"
     ]
    },
    {
     "name": "stderr",
     "output_type": "stream",
     "text": [
      "/kaggle/working/v2e/v2e.py:506: DeprecationWarning: `np.math` is a deprecated alias for the standard library `math` module (Deprecated Numpy 1.25). Replace usages of `np.math` with `math`\n",
      "  dvsNumFrames = np.math.floor(\n",
      "rgb2luma: 100%|██████████| 51/51 [00:01<00:00, 46.86fr/s]\n",
      "npy2png: 51fr [00:00, 162.27fr/s]\n",
      "dvs: 100%|██████████| 51/51 [00:04<00:00, 10.72fr/s]\n",
      "/bin/sh: 1: xprop: not found\n"
     ]
    },
    {
     "name": "stdout",
     "output_type": "stream",
     "text": [
      "🚀 Processing user_02/GOPR0785 → disgust\n"
     ]
    },
    {
     "name": "stderr",
     "output_type": "stream",
     "text": [
      "/kaggle/working/v2e/v2e.py:506: DeprecationWarning: `np.math` is a deprecated alias for the standard library `math` module (Deprecated Numpy 1.25). Replace usages of `np.math` with `math`\n",
      "  dvsNumFrames = np.math.floor(\n",
      "rgb2luma: 100%|██████████| 51/51 [00:01<00:00, 41.99fr/s]\n",
      "npy2png: 51fr [00:00, 163.75fr/s]\n",
      "dvs: 100%|██████████| 51/51 [00:04<00:00, 11.94fr/s]\n",
      "/bin/sh: 1: xprop: not found\n"
     ]
    },
    {
     "name": "stdout",
     "output_type": "stream",
     "text": [
      "🚀 Processing user_02/GOPR0786 → sadness\n"
     ]
    },
    {
     "name": "stderr",
     "output_type": "stream",
     "text": [
      "/kaggle/working/v2e/v2e.py:506: DeprecationWarning: `np.math` is a deprecated alias for the standard library `math` module (Deprecated Numpy 1.25). Replace usages of `np.math` with `math`\n",
      "  dvsNumFrames = np.math.floor(\n",
      "rgb2luma: 100%|██████████| 51/51 [00:01<00:00, 45.05fr/s]\n",
      "npy2png: 51fr [00:00, 160.44fr/s]\n",
      "dvs: 100%|██████████| 51/51 [00:04<00:00, 11.38fr/s]\n",
      "/bin/sh: 1: xprop: not found\n"
     ]
    },
    {
     "name": "stdout",
     "output_type": "stream",
     "text": [
      "🚀 Processing user_02/GOPR0787 → sadness\n"
     ]
    },
    {
     "name": "stderr",
     "output_type": "stream",
     "text": [
      "/kaggle/working/v2e/v2e.py:506: DeprecationWarning: `np.math` is a deprecated alias for the standard library `math` module (Deprecated Numpy 1.25). Replace usages of `np.math` with `math`\n",
      "  dvsNumFrames = np.math.floor(\n",
      "rgb2luma: 100%|██████████| 51/51 [00:01<00:00, 40.89fr/s]\n",
      "npy2png: 51fr [00:00, 165.31fr/s]\n",
      "dvs: 100%|██████████| 51/51 [00:04<00:00, 11.68fr/s]\n",
      "/bin/sh: 1: xprop: not found\n"
     ]
    },
    {
     "name": "stdout",
     "output_type": "stream",
     "text": [
      "🚀 Processing user_02/GOPR0788 → anger\n"
     ]
    },
    {
     "name": "stderr",
     "output_type": "stream",
     "text": [
      "/kaggle/working/v2e/v2e.py:506: DeprecationWarning: `np.math` is a deprecated alias for the standard library `math` module (Deprecated Numpy 1.25). Replace usages of `np.math` with `math`\n",
      "  dvsNumFrames = np.math.floor(\n",
      "rgb2luma: 100%|██████████| 51/51 [00:01<00:00, 46.50fr/s]\n",
      "npy2png: 51fr [00:00, 154.17fr/s]\n",
      "dvs: 100%|██████████| 51/51 [00:04<00:00, 11.62fr/s]\n",
      "/bin/sh: 1: xprop: not found\n"
     ]
    },
    {
     "name": "stdout",
     "output_type": "stream",
     "text": [
      "🚀 Processing user_02/GOPR0789 → happiness\n"
     ]
    },
    {
     "name": "stderr",
     "output_type": "stream",
     "text": [
      "/kaggle/working/v2e/v2e.py:506: DeprecationWarning: `np.math` is a deprecated alias for the standard library `math` module (Deprecated Numpy 1.25). Replace usages of `np.math` with `math`\n",
      "  dvsNumFrames = np.math.floor(\n",
      "rgb2luma: 100%|██████████| 51/51 [00:02<00:00, 23.20fr/s]\n",
      "npy2png: 51fr [00:00, 165.92fr/s]\n",
      "dvs: 100%|██████████| 51/51 [00:04<00:00, 11.28fr/s]\n",
      "/bin/sh: 1: xprop: not found\n"
     ]
    },
    {
     "name": "stdout",
     "output_type": "stream",
     "text": [
      "🚀 Processing user_02/GOPR0790 → contempt\n"
     ]
    },
    {
     "name": "stderr",
     "output_type": "stream",
     "text": [
      "/kaggle/working/v2e/v2e.py:506: DeprecationWarning: `np.math` is a deprecated alias for the standard library `math` module (Deprecated Numpy 1.25). Replace usages of `np.math` with `math`\n",
      "  dvsNumFrames = np.math.floor(\n",
      "rgb2luma: 100%|██████████| 51/51 [00:01<00:00, 48.03fr/s]\n",
      "npy2png: 51fr [00:00, 166.43fr/s]\n",
      "dvs: 100%|██████████| 51/51 [00:04<00:00, 11.45fr/s]\n",
      "/bin/sh: 1: xprop: not found\n"
     ]
    },
    {
     "name": "stdout",
     "output_type": "stream",
     "text": [
      "🚀 Processing user_02/GOPR0791 → anger\n"
     ]
    },
    {
     "name": "stderr",
     "output_type": "stream",
     "text": [
      "/kaggle/working/v2e/v2e.py:506: DeprecationWarning: `np.math` is a deprecated alias for the standard library `math` module (Deprecated Numpy 1.25). Replace usages of `np.math` with `math`\n",
      "  dvsNumFrames = np.math.floor(\n",
      "rgb2luma: 100%|██████████| 51/51 [00:01<00:00, 43.89fr/s]\n",
      "npy2png: 51fr [00:00, 165.25fr/s]\n",
      "dvs: 100%|██████████| 51/51 [00:04<00:00, 11.34fr/s]\n",
      "/bin/sh: 1: xprop: not found\n"
     ]
    },
    {
     "name": "stdout",
     "output_type": "stream",
     "text": [
      "🚀 Processing user_02/GOPR0792 → anger\n"
     ]
    },
    {
     "name": "stderr",
     "output_type": "stream",
     "text": [
      "/kaggle/working/v2e/v2e.py:506: DeprecationWarning: `np.math` is a deprecated alias for the standard library `math` module (Deprecated Numpy 1.25). Replace usages of `np.math` with `math`\n",
      "  dvsNumFrames = np.math.floor(\n",
      "rgb2luma: 100%|██████████| 51/51 [00:01<00:00, 44.05fr/s]\n",
      "npy2png: 51fr [00:00, 164.72fr/s]\n",
      "dvs: 100%|██████████| 51/51 [00:04<00:00, 11.54fr/s]\n",
      "/bin/sh: 1: xprop: not found\n"
     ]
    },
    {
     "name": "stdout",
     "output_type": "stream",
     "text": [
      "🚀 Processing user_02/GOPR0793 → surprise\n"
     ]
    },
    {
     "name": "stderr",
     "output_type": "stream",
     "text": [
      "/kaggle/working/v2e/v2e.py:506: DeprecationWarning: `np.math` is a deprecated alias for the standard library `math` module (Deprecated Numpy 1.25). Replace usages of `np.math` with `math`\n",
      "  dvsNumFrames = np.math.floor(\n",
      "rgb2luma: 100%|██████████| 51/51 [00:01<00:00, 45.31fr/s]\n",
      "npy2png: 51fr [00:00, 165.78fr/s]\n",
      "dvs: 100%|██████████| 51/51 [00:04<00:00, 11.46fr/s]\n",
      "/bin/sh: 1: xprop: not found\n"
     ]
    },
    {
     "name": "stdout",
     "output_type": "stream",
     "text": [
      "🚀 Processing user_02/GOPR0794 → disgust\n"
     ]
    },
    {
     "name": "stderr",
     "output_type": "stream",
     "text": [
      "/kaggle/working/v2e/v2e.py:506: DeprecationWarning: `np.math` is a deprecated alias for the standard library `math` module (Deprecated Numpy 1.25). Replace usages of `np.math` with `math`\n",
      "  dvsNumFrames = np.math.floor(\n",
      "rgb2luma: 100%|██████████| 51/51 [00:01<00:00, 46.75fr/s]\n",
      "npy2png: 51fr [00:00, 165.51fr/s]\n",
      "dvs: 100%|██████████| 51/51 [00:04<00:00, 11.36fr/s]\n",
      "/bin/sh: 1: xprop: not found\n"
     ]
    },
    {
     "name": "stdout",
     "output_type": "stream",
     "text": [
      "🚀 Processing user_02/GOPR0795 → surprise\n"
     ]
    },
    {
     "name": "stderr",
     "output_type": "stream",
     "text": [
      "/kaggle/working/v2e/v2e.py:506: DeprecationWarning: `np.math` is a deprecated alias for the standard library `math` module (Deprecated Numpy 1.25). Replace usages of `np.math` with `math`\n",
      "  dvsNumFrames = np.math.floor(\n",
      "rgb2luma: 100%|██████████| 51/51 [00:01<00:00, 30.48fr/s]\n",
      "npy2png: 51fr [00:00, 165.26fr/s]\n",
      "dvs: 100%|██████████| 51/51 [00:04<00:00, 11.49fr/s]\n",
      "/bin/sh: 1: xprop: not found\n"
     ]
    },
    {
     "name": "stdout",
     "output_type": "stream",
     "text": [
      "🚀 Processing user_02/GOPR0796 → contempt\n"
     ]
    },
    {
     "name": "stderr",
     "output_type": "stream",
     "text": [
      "/kaggle/working/v2e/v2e.py:506: DeprecationWarning: `np.math` is a deprecated alias for the standard library `math` module (Deprecated Numpy 1.25). Replace usages of `np.math` with `math`\n",
      "  dvsNumFrames = np.math.floor(\n",
      "rgb2luma: 100%|██████████| 51/51 [00:02<00:00, 19.55fr/s]\n",
      "npy2png: 51fr [00:00, 159.80fr/s]\n",
      "dvs: 100%|██████████| 51/51 [00:04<00:00, 11.29fr/s]\n",
      "/bin/sh: 1: xprop: not found\n"
     ]
    },
    {
     "name": "stdout",
     "output_type": "stream",
     "text": [
      "🚀 Processing user_02/GOPR0797 → contempt\n"
     ]
    },
    {
     "name": "stderr",
     "output_type": "stream",
     "text": [
      "/kaggle/working/v2e/v2e.py:506: DeprecationWarning: `np.math` is a deprecated alias for the standard library `math` module (Deprecated Numpy 1.25). Replace usages of `np.math` with `math`\n",
      "  dvsNumFrames = np.math.floor(\n",
      "rgb2luma: 100%|██████████| 51/51 [00:01<00:00, 49.74fr/s]\n",
      "npy2png: 51fr [00:00, 160.75fr/s]\n",
      "dvs: 100%|██████████| 51/51 [00:04<00:00, 11.33fr/s]\n",
      "/bin/sh: 1: xprop: not found\n"
     ]
    },
    {
     "name": "stdout",
     "output_type": "stream",
     "text": [
      "🚀 Processing user_02/GOPR0798 → surprise\n"
     ]
    },
    {
     "name": "stderr",
     "output_type": "stream",
     "text": [
      "/kaggle/working/v2e/v2e.py:506: DeprecationWarning: `np.math` is a deprecated alias for the standard library `math` module (Deprecated Numpy 1.25). Replace usages of `np.math` with `math`\n",
      "  dvsNumFrames = np.math.floor(\n",
      "rgb2luma: 100%|██████████| 51/51 [00:01<00:00, 46.14fr/s]\n",
      "npy2png: 51fr [00:00, 163.24fr/s]\n",
      "dvs: 100%|██████████| 51/51 [00:04<00:00, 11.09fr/s]\n",
      "/bin/sh: 1: xprop: not found\n"
     ]
    },
    {
     "name": "stdout",
     "output_type": "stream",
     "text": [
      "🚀 Processing user_02/GOPR0799 → sadness\n"
     ]
    },
    {
     "name": "stderr",
     "output_type": "stream",
     "text": [
      "/kaggle/working/v2e/v2e.py:506: DeprecationWarning: `np.math` is a deprecated alias for the standard library `math` module (Deprecated Numpy 1.25). Replace usages of `np.math` with `math`\n",
      "  dvsNumFrames = np.math.floor(\n",
      "rgb2luma: 100%|██████████| 51/51 [00:01<00:00, 41.14fr/s]\n",
      "npy2png: 51fr [00:00, 165.87fr/s]\n",
      "dvs: 100%|██████████| 51/51 [00:04<00:00, 11.55fr/s]\n",
      "/bin/sh: 1: xprop: not found\n"
     ]
    },
    {
     "name": "stdout",
     "output_type": "stream",
     "text": [
      "🚀 Processing user_02/GOPR0800 → sadness\n"
     ]
    },
    {
     "name": "stderr",
     "output_type": "stream",
     "text": [
      "/kaggle/working/v2e/v2e.py:506: DeprecationWarning: `np.math` is a deprecated alias for the standard library `math` module (Deprecated Numpy 1.25). Replace usages of `np.math` with `math`\n",
      "  dvsNumFrames = np.math.floor(\n",
      "rgb2luma: 100%|██████████| 51/51 [00:01<00:00, 50.54fr/s]\n",
      "npy2png: 51fr [00:00, 166.07fr/s]\n",
      "dvs: 100%|██████████| 51/51 [00:04<00:00, 11.66fr/s]\n",
      "/bin/sh: 1: xprop: not found\n"
     ]
    },
    {
     "name": "stdout",
     "output_type": "stream",
     "text": [
      "🚀 Processing user_02/GOPR0801 → happiness\n"
     ]
    },
    {
     "name": "stderr",
     "output_type": "stream",
     "text": [
      "/kaggle/working/v2e/v2e.py:506: DeprecationWarning: `np.math` is a deprecated alias for the standard library `math` module (Deprecated Numpy 1.25). Replace usages of `np.math` with `math`\n",
      "  dvsNumFrames = np.math.floor(\n",
      "rgb2luma: 100%|██████████| 51/51 [00:01<00:00, 47.21fr/s]\n",
      "npy2png: 51fr [00:00, 162.01fr/s]\n",
      "dvs: 100%|██████████| 51/51 [00:04<00:00, 11.60fr/s]\n",
      "/bin/sh: 1: xprop: not found\n"
     ]
    },
    {
     "name": "stdout",
     "output_type": "stream",
     "text": [
      "🚀 Processing user_02/GOPR0802 → surprise\n"
     ]
    },
    {
     "name": "stderr",
     "output_type": "stream",
     "text": [
      "/kaggle/working/v2e/v2e.py:506: DeprecationWarning: `np.math` is a deprecated alias for the standard library `math` module (Deprecated Numpy 1.25). Replace usages of `np.math` with `math`\n",
      "  dvsNumFrames = np.math.floor(\n",
      "rgb2luma: 100%|██████████| 51/51 [00:01<00:00, 45.25fr/s]\n",
      "npy2png: 51fr [00:00, 165.66fr/s]\n",
      "dvs: 100%|██████████| 51/51 [00:04<00:00, 11.47fr/s]\n",
      "/bin/sh: 1: xprop: not found\n"
     ]
    },
    {
     "name": "stdout",
     "output_type": "stream",
     "text": [
      "🚀 Processing user_02/GOPR0803 → happiness\n"
     ]
    },
    {
     "name": "stderr",
     "output_type": "stream",
     "text": [
      "/kaggle/working/v2e/v2e.py:506: DeprecationWarning: `np.math` is a deprecated alias for the standard library `math` module (Deprecated Numpy 1.25). Replace usages of `np.math` with `math`\n",
      "  dvsNumFrames = np.math.floor(\n",
      "rgb2luma: 100%|██████████| 51/51 [00:01<00:00, 45.48fr/s]\n",
      "npy2png: 51fr [00:00, 166.53fr/s]\n",
      "dvs: 100%|██████████| 51/51 [00:04<00:00, 11.28fr/s]\n",
      "/bin/sh: 1: xprop: not found\n"
     ]
    },
    {
     "name": "stdout",
     "output_type": "stream",
     "text": [
      "🚀 Processing user_03/GOPR0804 → unknown\n"
     ]
    },
    {
     "name": "stderr",
     "output_type": "stream",
     "text": [
      "/kaggle/working/v2e/v2e.py:506: DeprecationWarning: `np.math` is a deprecated alias for the standard library `math` module (Deprecated Numpy 1.25). Replace usages of `np.math` with `math`\n",
      "  dvsNumFrames = np.math.floor(\n",
      "rgb2luma: 100%|██████████| 51/51 [00:01<00:00, 46.93fr/s]\n",
      "npy2png: 51fr [00:00, 171.04fr/s]\n",
      "dvs: 100%|██████████| 51/51 [00:04<00:00, 11.10fr/s]\n",
      "/bin/sh: 1: xprop: not found\n"
     ]
    },
    {
     "name": "stdout",
     "output_type": "stream",
     "text": [
      "🚀 Processing user_03/GOPR0805 → unknown\n"
     ]
    },
    {
     "name": "stderr",
     "output_type": "stream",
     "text": [
      "/kaggle/working/v2e/v2e.py:506: DeprecationWarning: `np.math` is a deprecated alias for the standard library `math` module (Deprecated Numpy 1.25). Replace usages of `np.math` with `math`\n",
      "  dvsNumFrames = np.math.floor(\n",
      "rgb2luma: 100%|██████████| 51/51 [00:01<00:00, 45.70fr/s]\n",
      "npy2png: 51fr [00:00, 172.03fr/s]\n",
      "dvs: 100%|██████████| 51/51 [00:04<00:00, 10.77fr/s]\n",
      "/bin/sh: 1: xprop: not found\n"
     ]
    },
    {
     "name": "stdout",
     "output_type": "stream",
     "text": [
      "🚀 Processing user_03/GOPR0806 → unknown\n"
     ]
    },
    {
     "name": "stderr",
     "output_type": "stream",
     "text": [
      "/kaggle/working/v2e/v2e.py:506: DeprecationWarning: `np.math` is a deprecated alias for the standard library `math` module (Deprecated Numpy 1.25). Replace usages of `np.math` with `math`\n",
      "  dvsNumFrames = np.math.floor(\n",
      "rgb2luma: 100%|██████████| 51/51 [00:01<00:00, 44.36fr/s]\n",
      "npy2png: 51fr [00:00, 173.66fr/s]\n",
      "dvs: 100%|██████████| 51/51 [00:04<00:00, 11.03fr/s]\n",
      "/bin/sh: 1: xprop: not found\n"
     ]
    },
    {
     "name": "stdout",
     "output_type": "stream",
     "text": [
      "🚀 Processing user_03/GOPR0807 → unknown\n"
     ]
    },
    {
     "name": "stderr",
     "output_type": "stream",
     "text": [
      "/kaggle/working/v2e/v2e.py:506: DeprecationWarning: `np.math` is a deprecated alias for the standard library `math` module (Deprecated Numpy 1.25). Replace usages of `np.math` with `math`\n",
      "  dvsNumFrames = np.math.floor(\n",
      "rgb2luma: 100%|██████████| 51/51 [00:01<00:00, 46.35fr/s]\n",
      "npy2png: 51fr [00:00, 173.10fr/s]\n",
      "dvs: 100%|██████████| 51/51 [00:04<00:00, 11.61fr/s]\n",
      "/bin/sh: 1: xprop: not found\n"
     ]
    },
    {
     "name": "stdout",
     "output_type": "stream",
     "text": [
      "🚀 Processing user_03/GOPR0808 → unknown\n"
     ]
    },
    {
     "name": "stderr",
     "output_type": "stream",
     "text": [
      "/kaggle/working/v2e/v2e.py:506: DeprecationWarning: `np.math` is a deprecated alias for the standard library `math` module (Deprecated Numpy 1.25). Replace usages of `np.math` with `math`\n",
      "  dvsNumFrames = np.math.floor(\n",
      "rgb2luma: 100%|██████████| 51/51 [00:01<00:00, 48.57fr/s]\n",
      "npy2png: 51fr [00:00, 172.77fr/s]\n",
      "dvs: 100%|██████████| 51/51 [00:04<00:00, 11.52fr/s]\n",
      "/bin/sh: 1: xprop: not found\n"
     ]
    },
    {
     "name": "stdout",
     "output_type": "stream",
     "text": [
      "🚀 Processing user_03/GOPR0809 → unknown\n"
     ]
    },
    {
     "name": "stderr",
     "output_type": "stream",
     "text": [
      "/kaggle/working/v2e/v2e.py:506: DeprecationWarning: `np.math` is a deprecated alias for the standard library `math` module (Deprecated Numpy 1.25). Replace usages of `np.math` with `math`\n",
      "  dvsNumFrames = np.math.floor(\n",
      "rgb2luma: 100%|██████████| 51/51 [00:01<00:00, 41.29fr/s]\n",
      "npy2png: 51fr [00:00, 173.21fr/s]\n",
      "dvs: 100%|██████████| 51/51 [00:04<00:00, 11.35fr/s]\n",
      "/bin/sh: 1: xprop: not found\n"
     ]
    },
    {
     "name": "stdout",
     "output_type": "stream",
     "text": [
      "🚀 Processing user_03/GOPR0810 → unknown\n"
     ]
    },
    {
     "name": "stderr",
     "output_type": "stream",
     "text": [
      "/kaggle/working/v2e/v2e.py:506: DeprecationWarning: `np.math` is a deprecated alias for the standard library `math` module (Deprecated Numpy 1.25). Replace usages of `np.math` with `math`\n",
      "  dvsNumFrames = np.math.floor(\n",
      "rgb2luma: 100%|██████████| 51/51 [00:01<00:00, 45.51fr/s]\n",
      "npy2png: 51fr [00:00, 172.90fr/s]\n",
      "dvs: 100%|██████████| 51/51 [00:04<00:00, 11.62fr/s]\n",
      "/bin/sh: 1: xprop: not found\n"
     ]
    },
    {
     "name": "stdout",
     "output_type": "stream",
     "text": [
      "🚀 Processing user_03/GOPR0811 → unknown\n"
     ]
    },
    {
     "name": "stderr",
     "output_type": "stream",
     "text": [
      "/kaggle/working/v2e/v2e.py:506: DeprecationWarning: `np.math` is a deprecated alias for the standard library `math` module (Deprecated Numpy 1.25). Replace usages of `np.math` with `math`\n",
      "  dvsNumFrames = np.math.floor(\n",
      "rgb2luma: 100%|██████████| 51/51 [00:01<00:00, 47.04fr/s]\n",
      "npy2png: 51fr [00:00, 175.08fr/s]\n",
      "dvs: 100%|██████████| 51/51 [00:04<00:00, 11.55fr/s]\n",
      "/bin/sh: 1: xprop: not found\n"
     ]
    },
    {
     "name": "stdout",
     "output_type": "stream",
     "text": [
      "🚀 Processing user_03/GOPR0812 → unknown\n"
     ]
    },
    {
     "name": "stderr",
     "output_type": "stream",
     "text": [
      "/kaggle/working/v2e/v2e.py:506: DeprecationWarning: `np.math` is a deprecated alias for the standard library `math` module (Deprecated Numpy 1.25). Replace usages of `np.math` with `math`\n",
      "  dvsNumFrames = np.math.floor(\n",
      "rgb2luma: 100%|██████████| 51/51 [00:01<00:00, 43.59fr/s]\n",
      "npy2png: 51fr [00:00, 171.32fr/s]\n",
      "dvs: 100%|██████████| 51/51 [00:04<00:00, 11.55fr/s]\n",
      "/bin/sh: 1: xprop: not found\n"
     ]
    },
    {
     "name": "stdout",
     "output_type": "stream",
     "text": [
      "🚀 Processing user_03/GOPR0815 → unknown\n"
     ]
    },
    {
     "name": "stderr",
     "output_type": "stream",
     "text": [
      "/kaggle/working/v2e/v2e.py:506: DeprecationWarning: `np.math` is a deprecated alias for the standard library `math` module (Deprecated Numpy 1.25). Replace usages of `np.math` with `math`\n",
      "  dvsNumFrames = np.math.floor(\n",
      "rgb2luma: 100%|██████████| 51/51 [00:01<00:00, 41.48fr/s]\n",
      "npy2png: 51fr [00:00, 172.07fr/s]\n",
      "dvs: 100%|██████████| 51/51 [00:04<00:00, 11.47fr/s]\n",
      "/bin/sh: 1: xprop: not found\n"
     ]
    },
    {
     "name": "stdout",
     "output_type": "stream",
     "text": [
      "🚀 Processing user_03/GOPR0816 → unknown\n"
     ]
    },
    {
     "name": "stderr",
     "output_type": "stream",
     "text": [
      "/kaggle/working/v2e/v2e.py:506: DeprecationWarning: `np.math` is a deprecated alias for the standard library `math` module (Deprecated Numpy 1.25). Replace usages of `np.math` with `math`\n",
      "  dvsNumFrames = np.math.floor(\n",
      "rgb2luma: 100%|██████████| 51/51 [00:01<00:00, 46.08fr/s]\n",
      "npy2png: 51fr [00:00, 173.61fr/s]\n",
      "dvs: 100%|██████████| 51/51 [00:04<00:00, 10.96fr/s]\n",
      "/bin/sh: 1: xprop: not found\n"
     ]
    },
    {
     "name": "stdout",
     "output_type": "stream",
     "text": [
      "🚀 Processing user_03/GOPR0817 → unknown\n"
     ]
    },
    {
     "name": "stderr",
     "output_type": "stream",
     "text": [
      "/kaggle/working/v2e/v2e.py:506: DeprecationWarning: `np.math` is a deprecated alias for the standard library `math` module (Deprecated Numpy 1.25). Replace usages of `np.math` with `math`\n",
      "  dvsNumFrames = np.math.floor(\n",
      "rgb2luma: 100%|██████████| 51/51 [00:01<00:00, 39.26fr/s]\n",
      "npy2png: 51fr [00:00, 172.46fr/s]\n",
      "dvs: 100%|██████████| 51/51 [00:04<00:00, 11.58fr/s]\n",
      "/bin/sh: 1: xprop: not found\n"
     ]
    },
    {
     "name": "stdout",
     "output_type": "stream",
     "text": [
      "🚀 Processing user_03/GOPR0818 → unknown\n"
     ]
    },
    {
     "name": "stderr",
     "output_type": "stream",
     "text": [
      "/kaggle/working/v2e/v2e.py:506: DeprecationWarning: `np.math` is a deprecated alias for the standard library `math` module (Deprecated Numpy 1.25). Replace usages of `np.math` with `math`\n",
      "  dvsNumFrames = np.math.floor(\n",
      "rgb2luma: 100%|██████████| 51/51 [00:01<00:00, 46.64fr/s]\n",
      "npy2png: 51fr [00:00, 172.55fr/s]\n",
      "dvs: 100%|██████████| 51/51 [00:04<00:00, 11.28fr/s]\n",
      "/bin/sh: 1: xprop: not found\n"
     ]
    },
    {
     "name": "stdout",
     "output_type": "stream",
     "text": [
      "🚀 Processing user_03/GOPR0819 → unknown\n"
     ]
    },
    {
     "name": "stderr",
     "output_type": "stream",
     "text": [
      "/kaggle/working/v2e/v2e.py:506: DeprecationWarning: `np.math` is a deprecated alias for the standard library `math` module (Deprecated Numpy 1.25). Replace usages of `np.math` with `math`\n",
      "  dvsNumFrames = np.math.floor(\n",
      "rgb2luma: 100%|██████████| 51/51 [00:01<00:00, 42.45fr/s]\n",
      "npy2png: 51fr [00:00, 171.29fr/s]\n",
      "dvs: 100%|██████████| 51/51 [00:04<00:00, 11.55fr/s]\n",
      "/bin/sh: 1: xprop: not found\n"
     ]
    },
    {
     "name": "stdout",
     "output_type": "stream",
     "text": [
      "🚀 Processing user_03/GOPR0820 → unknown\n"
     ]
    },
    {
     "name": "stderr",
     "output_type": "stream",
     "text": [
      "/kaggle/working/v2e/v2e.py:506: DeprecationWarning: `np.math` is a deprecated alias for the standard library `math` module (Deprecated Numpy 1.25). Replace usages of `np.math` with `math`\n",
      "  dvsNumFrames = np.math.floor(\n",
      "rgb2luma: 100%|██████████| 51/51 [00:01<00:00, 47.74fr/s]\n",
      "npy2png: 51fr [00:00, 171.89fr/s]\n",
      "dvs: 100%|██████████| 51/51 [00:04<00:00, 11.14fr/s]\n",
      "/bin/sh: 1: xprop: not found\n"
     ]
    },
    {
     "name": "stdout",
     "output_type": "stream",
     "text": [
      "🚀 Processing user_03/GOPR0821 → unknown\n"
     ]
    },
    {
     "name": "stderr",
     "output_type": "stream",
     "text": [
      "/kaggle/working/v2e/v2e.py:506: DeprecationWarning: `np.math` is a deprecated alias for the standard library `math` module (Deprecated Numpy 1.25). Replace usages of `np.math` with `math`\n",
      "  dvsNumFrames = np.math.floor(\n",
      "rgb2luma: 100%|██████████| 51/51 [00:01<00:00, 47.49fr/s]\n",
      "npy2png: 51fr [00:00, 169.03fr/s]\n",
      "dvs: 100%|██████████| 51/51 [00:04<00:00, 11.64fr/s]\n",
      "/bin/sh: 1: xprop: not found\n"
     ]
    },
    {
     "name": "stdout",
     "output_type": "stream",
     "text": [
      "🚀 Processing user_03/GOPR0822 → unknown\n"
     ]
    },
    {
     "name": "stderr",
     "output_type": "stream",
     "text": [
      "/kaggle/working/v2e/v2e.py:506: DeprecationWarning: `np.math` is a deprecated alias for the standard library `math` module (Deprecated Numpy 1.25). Replace usages of `np.math` with `math`\n",
      "  dvsNumFrames = np.math.floor(\n",
      "rgb2luma: 100%|██████████| 51/51 [00:01<00:00, 45.65fr/s]\n",
      "npy2png: 51fr [00:00, 169.12fr/s]\n",
      "dvs: 100%|██████████| 51/51 [00:04<00:00, 10.93fr/s]\n",
      "/bin/sh: 1: xprop: not found\n"
     ]
    },
    {
     "name": "stdout",
     "output_type": "stream",
     "text": [
      "🚀 Processing user_03/GOPR0823 → unknown\n"
     ]
    },
    {
     "name": "stderr",
     "output_type": "stream",
     "text": [
      "/kaggle/working/v2e/v2e.py:506: DeprecationWarning: `np.math` is a deprecated alias for the standard library `math` module (Deprecated Numpy 1.25). Replace usages of `np.math` with `math`\n",
      "  dvsNumFrames = np.math.floor(\n",
      "rgb2luma: 100%|██████████| 51/51 [00:02<00:00, 24.69fr/s]\n",
      "npy2png: 51fr [00:00, 168.74fr/s]\n",
      "dvs: 100%|██████████| 51/51 [00:04<00:00, 11.27fr/s]\n",
      "/bin/sh: 1: xprop: not found\n"
     ]
    },
    {
     "name": "stdout",
     "output_type": "stream",
     "text": [
      "🚀 Processing user_03/GOPR0824 → unknown\n"
     ]
    },
    {
     "name": "stderr",
     "output_type": "stream",
     "text": [
      "/kaggle/working/v2e/v2e.py:506: DeprecationWarning: `np.math` is a deprecated alias for the standard library `math` module (Deprecated Numpy 1.25). Replace usages of `np.math` with `math`\n",
      "  dvsNumFrames = np.math.floor(\n",
      "rgb2luma: 100%|██████████| 51/51 [00:01<00:00, 44.41fr/s]\n",
      "npy2png: 51fr [00:00, 176.13fr/s]\n",
      "dvs: 100%|██████████| 51/51 [00:04<00:00, 10.81fr/s]\n",
      "/bin/sh: 1: xprop: not found\n"
     ]
    },
    {
     "name": "stdout",
     "output_type": "stream",
     "text": [
      "🚀 Processing user_03/GOPR0825 → unknown\n"
     ]
    },
    {
     "name": "stderr",
     "output_type": "stream",
     "text": [
      "/kaggle/working/v2e/v2e.py:506: DeprecationWarning: `np.math` is a deprecated alias for the standard library `math` module (Deprecated Numpy 1.25). Replace usages of `np.math` with `math`\n",
      "  dvsNumFrames = np.math.floor(\n",
      "rgb2luma: 100%|██████████| 51/51 [00:01<00:00, 49.23fr/s]\n",
      "npy2png: 51fr [00:00, 169.94fr/s]\n",
      "dvs: 100%|██████████| 51/51 [00:04<00:00, 11.02fr/s]\n",
      "/bin/sh: 1: xprop: not found\n"
     ]
    },
    {
     "name": "stdout",
     "output_type": "stream",
     "text": [
      "🚀 Processing user_04/GOPR0826 → surprise\n"
     ]
    },
    {
     "name": "stderr",
     "output_type": "stream",
     "text": [
      "/kaggle/working/v2e/v2e.py:506: DeprecationWarning: `np.math` is a deprecated alias for the standard library `math` module (Deprecated Numpy 1.25). Replace usages of `np.math` with `math`\n",
      "  dvsNumFrames = np.math.floor(\n",
      "rgb2luma: 100%|██████████| 51/51 [00:01<00:00, 44.55fr/s]\n",
      "npy2png: 51fr [00:00, 168.86fr/s]\n",
      "dvs: 100%|██████████| 51/51 [00:04<00:00, 11.83fr/s]\n",
      "/bin/sh: 1: xprop: not found\n"
     ]
    },
    {
     "name": "stdout",
     "output_type": "stream",
     "text": [
      "🚀 Processing user_04/GOPR0827 → fear\n"
     ]
    },
    {
     "name": "stderr",
     "output_type": "stream",
     "text": [
      "/kaggle/working/v2e/v2e.py:506: DeprecationWarning: `np.math` is a deprecated alias for the standard library `math` module (Deprecated Numpy 1.25). Replace usages of `np.math` with `math`\n",
      "  dvsNumFrames = np.math.floor(\n",
      "rgb2luma: 100%|██████████| 51/51 [00:01<00:00, 42.73fr/s]\n",
      "npy2png: 51fr [00:00, 164.89fr/s]\n",
      "dvs: 100%|██████████| 51/51 [00:04<00:00, 11.52fr/s]\n",
      "/bin/sh: 1: xprop: not found\n"
     ]
    },
    {
     "name": "stdout",
     "output_type": "stream",
     "text": [
      "🚀 Processing user_04/GOPR0828 → disgust\n"
     ]
    },
    {
     "name": "stderr",
     "output_type": "stream",
     "text": [
      "/kaggle/working/v2e/v2e.py:506: DeprecationWarning: `np.math` is a deprecated alias for the standard library `math` module (Deprecated Numpy 1.25). Replace usages of `np.math` with `math`\n",
      "  dvsNumFrames = np.math.floor(\n",
      "rgb2luma: 100%|██████████| 51/51 [00:01<00:00, 48.80fr/s]\n",
      "npy2png: 51fr [00:00, 167.84fr/s]\n",
      "dvs: 100%|██████████| 51/51 [00:04<00:00, 10.99fr/s]\n",
      "/bin/sh: 1: xprop: not found\n"
     ]
    },
    {
     "name": "stdout",
     "output_type": "stream",
     "text": [
      "🚀 Processing user_04/GOPR0829 → happiness\n"
     ]
    },
    {
     "name": "stderr",
     "output_type": "stream",
     "text": [
      "/kaggle/working/v2e/v2e.py:506: DeprecationWarning: `np.math` is a deprecated alias for the standard library `math` module (Deprecated Numpy 1.25). Replace usages of `np.math` with `math`\n",
      "  dvsNumFrames = np.math.floor(\n",
      "rgb2luma: 100%|██████████| 51/51 [00:01<00:00, 48.53fr/s]\n",
      "npy2png: 51fr [00:00, 166.42fr/s]\n",
      "dvs: 100%|██████████| 51/51 [00:04<00:00, 11.63fr/s]\n",
      "/bin/sh: 1: xprop: not found\n"
     ]
    },
    {
     "name": "stdout",
     "output_type": "stream",
     "text": [
      "🚀 Processing user_04/GOPR0830 → nan\n"
     ]
    },
    {
     "name": "stderr",
     "output_type": "stream",
     "text": [
      "/kaggle/working/v2e/v2e.py:506: DeprecationWarning: `np.math` is a deprecated alias for the standard library `math` module (Deprecated Numpy 1.25). Replace usages of `np.math` with `math`\n",
      "  dvsNumFrames = np.math.floor(\n",
      "rgb2luma: 100%|██████████| 51/51 [00:01<00:00, 45.29fr/s]\n",
      "npy2png: 51fr [00:00, 168.60fr/s]\n",
      "dvs: 100%|██████████| 51/51 [00:04<00:00, 11.14fr/s]\n",
      "/bin/sh: 1: xprop: not found\n"
     ]
    },
    {
     "name": "stdout",
     "output_type": "stream",
     "text": [
      "🚀 Processing user_04/GOPR0831 → contempt\n"
     ]
    },
    {
     "name": "stderr",
     "output_type": "stream",
     "text": [
      "/kaggle/working/v2e/v2e.py:506: DeprecationWarning: `np.math` is a deprecated alias for the standard library `math` module (Deprecated Numpy 1.25). Replace usages of `np.math` with `math`\n",
      "  dvsNumFrames = np.math.floor(\n",
      "rgb2luma: 100%|██████████| 51/51 [00:01<00:00, 40.90fr/s]\n",
      "npy2png: 51fr [00:00, 168.97fr/s]\n",
      "dvs: 100%|██████████| 51/51 [00:04<00:00, 11.44fr/s]\n",
      "/bin/sh: 1: xprop: not found\n"
     ]
    },
    {
     "name": "stdout",
     "output_type": "stream",
     "text": [
      "🚀 Processing user_04/GOPR0832 → happiness\n"
     ]
    },
    {
     "name": "stderr",
     "output_type": "stream",
     "text": [
      "/kaggle/working/v2e/v2e.py:506: DeprecationWarning: `np.math` is a deprecated alias for the standard library `math` module (Deprecated Numpy 1.25). Replace usages of `np.math` with `math`\n",
      "  dvsNumFrames = np.math.floor(\n",
      "rgb2luma: 100%|██████████| 51/51 [00:01<00:00, 45.83fr/s]\n",
      "npy2png: 51fr [00:00, 168.73fr/s]\n",
      "dvs: 100%|██████████| 51/51 [00:04<00:00, 11.29fr/s]\n",
      "/bin/sh: 1: xprop: not found\n"
     ]
    },
    {
     "name": "stdout",
     "output_type": "stream",
     "text": [
      "🚀 Processing user_04/GOPR0833 → disgust\n"
     ]
    },
    {
     "name": "stderr",
     "output_type": "stream",
     "text": [
      "/kaggle/working/v2e/v2e.py:506: DeprecationWarning: `np.math` is a deprecated alias for the standard library `math` module (Deprecated Numpy 1.25). Replace usages of `np.math` with `math`\n",
      "  dvsNumFrames = np.math.floor(\n",
      "rgb2luma: 100%|██████████| 51/51 [00:01<00:00, 46.43fr/s]\n",
      "npy2png: 51fr [00:00, 171.09fr/s]\n",
      "dvs: 100%|██████████| 51/51 [00:04<00:00, 11.38fr/s]\n",
      "/bin/sh: 1: xprop: not found\n"
     ]
    },
    {
     "name": "stdout",
     "output_type": "stream",
     "text": [
      "🚀 Processing user_04/GOPR0834 → anger\n"
     ]
    },
    {
     "name": "stderr",
     "output_type": "stream",
     "text": [
      "/kaggle/working/v2e/v2e.py:506: DeprecationWarning: `np.math` is a deprecated alias for the standard library `math` module (Deprecated Numpy 1.25). Replace usages of `np.math` with `math`\n",
      "  dvsNumFrames = np.math.floor(\n",
      "rgb2luma: 100%|██████████| 51/51 [00:01<00:00, 43.83fr/s]\n",
      "npy2png: 51fr [00:00, 171.19fr/s]\n",
      "dvs: 100%|██████████| 51/51 [00:04<00:00, 11.22fr/s]\n",
      "/bin/sh: 1: xprop: not found\n"
     ]
    },
    {
     "name": "stdout",
     "output_type": "stream",
     "text": [
      "🚀 Processing user_04/GOPR0835 → sadness\n"
     ]
    },
    {
     "name": "stderr",
     "output_type": "stream",
     "text": [
      "/kaggle/working/v2e/v2e.py:506: DeprecationWarning: `np.math` is a deprecated alias for the standard library `math` module (Deprecated Numpy 1.25). Replace usages of `np.math` with `math`\n",
      "  dvsNumFrames = np.math.floor(\n",
      "rgb2luma: 100%|██████████| 51/51 [00:01<00:00, 45.32fr/s]\n",
      "npy2png: 51fr [00:00, 169.82fr/s]\n",
      "dvs: 100%|██████████| 51/51 [00:04<00:00, 11.31fr/s]\n",
      "/bin/sh: 1: xprop: not found\n"
     ]
    },
    {
     "name": "stdout",
     "output_type": "stream",
     "text": [
      "🚀 Processing user_04/GOPR0836 → surprise\n"
     ]
    },
    {
     "name": "stderr",
     "output_type": "stream",
     "text": [
      "/kaggle/working/v2e/v2e.py:506: DeprecationWarning: `np.math` is a deprecated alias for the standard library `math` module (Deprecated Numpy 1.25). Replace usages of `np.math` with `math`\n",
      "  dvsNumFrames = np.math.floor(\n",
      "rgb2luma: 100%|██████████| 51/51 [00:01<00:00, 46.17fr/s]\n",
      "npy2png: 51fr [00:00, 163.95fr/s]\n",
      "dvs: 100%|██████████| 51/51 [00:04<00:00, 11.48fr/s]\n",
      "/bin/sh: 1: xprop: not found\n"
     ]
    },
    {
     "name": "stdout",
     "output_type": "stream",
     "text": [
      "🚀 Processing user_04/GOPR0837 → disgust\n"
     ]
    },
    {
     "name": "stderr",
     "output_type": "stream",
     "text": [
      "/kaggle/working/v2e/v2e.py:506: DeprecationWarning: `np.math` is a deprecated alias for the standard library `math` module (Deprecated Numpy 1.25). Replace usages of `np.math` with `math`\n",
      "  dvsNumFrames = np.math.floor(\n",
      "rgb2luma: 100%|██████████| 51/51 [00:01<00:00, 50.16fr/s]\n",
      "npy2png: 51fr [00:00, 171.51fr/s]\n",
      "dvs: 100%|██████████| 51/51 [00:04<00:00, 11.09fr/s]\n",
      "/bin/sh: 1: xprop: not found\n"
     ]
    },
    {
     "name": "stdout",
     "output_type": "stream",
     "text": [
      "🚀 Processing user_04/GOPR0838 → fear\n"
     ]
    },
    {
     "name": "stderr",
     "output_type": "stream",
     "text": [
      "/kaggle/working/v2e/v2e.py:506: DeprecationWarning: `np.math` is a deprecated alias for the standard library `math` module (Deprecated Numpy 1.25). Replace usages of `np.math` with `math`\n",
      "  dvsNumFrames = np.math.floor(\n",
      "rgb2luma: 100%|██████████| 51/51 [00:01<00:00, 45.31fr/s]\n",
      "npy2png: 51fr [00:00, 170.81fr/s]\n",
      "dvs: 100%|██████████| 51/51 [00:04<00:00, 11.18fr/s]\n",
      "/bin/sh: 1: xprop: not found\n"
     ]
    },
    {
     "name": "stdout",
     "output_type": "stream",
     "text": [
      "🚀 Processing user_04/GOPR0839 → contempt\n"
     ]
    },
    {
     "name": "stderr",
     "output_type": "stream",
     "text": [
      "/kaggle/working/v2e/v2e.py:506: DeprecationWarning: `np.math` is a deprecated alias for the standard library `math` module (Deprecated Numpy 1.25). Replace usages of `np.math` with `math`\n",
      "  dvsNumFrames = np.math.floor(\n",
      "rgb2luma: 100%|██████████| 51/51 [00:01<00:00, 48.38fr/s]\n",
      "npy2png: 51fr [00:00, 168.99fr/s]\n",
      "dvs: 100%|██████████| 51/51 [00:04<00:00, 11.36fr/s]\n",
      "/bin/sh: 1: xprop: not found\n"
     ]
    },
    {
     "name": "stdout",
     "output_type": "stream",
     "text": [
      "🚀 Processing user_04/GOPR0840 → contempt\n"
     ]
    },
    {
     "name": "stderr",
     "output_type": "stream",
     "text": [
      "/kaggle/working/v2e/v2e.py:506: DeprecationWarning: `np.math` is a deprecated alias for the standard library `math` module (Deprecated Numpy 1.25). Replace usages of `np.math` with `math`\n",
      "  dvsNumFrames = np.math.floor(\n",
      "rgb2luma: 100%|██████████| 51/51 [00:01<00:00, 47.84fr/s]\n",
      "npy2png: 51fr [00:00, 166.94fr/s]\n",
      "dvs: 100%|██████████| 51/51 [00:04<00:00, 10.82fr/s]\n",
      "/bin/sh: 1: xprop: not found\n"
     ]
    },
    {
     "name": "stdout",
     "output_type": "stream",
     "text": [
      "🚀 Processing user_04/GOPR0841 → surprise\n"
     ]
    },
    {
     "name": "stderr",
     "output_type": "stream",
     "text": [
      "/kaggle/working/v2e/v2e.py:506: DeprecationWarning: `np.math` is a deprecated alias for the standard library `math` module (Deprecated Numpy 1.25). Replace usages of `np.math` with `math`\n",
      "  dvsNumFrames = np.math.floor(\n",
      "rgb2luma: 100%|██████████| 51/51 [00:01<00:00, 45.73fr/s]\n",
      "npy2png: 51fr [00:00, 169.44fr/s]\n",
      "dvs: 100%|██████████| 51/51 [00:04<00:00, 11.57fr/s]\n",
      "/bin/sh: 1: xprop: not found\n"
     ]
    },
    {
     "name": "stdout",
     "output_type": "stream",
     "text": [
      "🚀 Processing user_04/GOPR0842 → sadness\n"
     ]
    },
    {
     "name": "stderr",
     "output_type": "stream",
     "text": [
      "/kaggle/working/v2e/v2e.py:506: DeprecationWarning: `np.math` is a deprecated alias for the standard library `math` module (Deprecated Numpy 1.25). Replace usages of `np.math` with `math`\n",
      "  dvsNumFrames = np.math.floor(\n",
      "rgb2luma: 100%|██████████| 51/51 [00:01<00:00, 45.93fr/s]\n",
      "npy2png: 51fr [00:00, 147.78fr/s]\n",
      "dvs: 100%|██████████| 51/51 [00:04<00:00, 10.72fr/s]\n",
      "/bin/sh: 1: xprop: not found\n"
     ]
    },
    {
     "name": "stdout",
     "output_type": "stream",
     "text": [
      "🚀 Processing user_04/GOPR0843 → sadness\n"
     ]
    },
    {
     "name": "stderr",
     "output_type": "stream",
     "text": [
      "/kaggle/working/v2e/v2e.py:506: DeprecationWarning: `np.math` is a deprecated alias for the standard library `math` module (Deprecated Numpy 1.25). Replace usages of `np.math` with `math`\n",
      "  dvsNumFrames = np.math.floor(\n",
      "rgb2luma: 100%|██████████| 51/51 [00:01<00:00, 48.36fr/s]\n",
      "npy2png: 51fr [00:00, 171.21fr/s]\n",
      "dvs: 100%|██████████| 51/51 [00:04<00:00, 11.31fr/s]\n",
      "/bin/sh: 1: xprop: not found\n"
     ]
    },
    {
     "name": "stdout",
     "output_type": "stream",
     "text": [
      "🚀 Processing user_04/GOPR0844 → happiness\n"
     ]
    },
    {
     "name": "stderr",
     "output_type": "stream",
     "text": [
      "/kaggle/working/v2e/v2e.py:506: DeprecationWarning: `np.math` is a deprecated alias for the standard library `math` module (Deprecated Numpy 1.25). Replace usages of `np.math` with `math`\n",
      "  dvsNumFrames = np.math.floor(\n",
      "rgb2luma: 100%|██████████| 51/51 [00:01<00:00, 48.13fr/s]\n",
      "npy2png: 51fr [00:00, 151.84fr/s]\n",
      "dvs: 100%|██████████| 51/51 [00:04<00:00, 11.21fr/s]\n",
      "/bin/sh: 1: xprop: not found\n"
     ]
    },
    {
     "name": "stdout",
     "output_type": "stream",
     "text": [
      "🚀 Processing user_04/GOPR0845 → fear\n"
     ]
    },
    {
     "name": "stderr",
     "output_type": "stream",
     "text": [
      "/kaggle/working/v2e/v2e.py:506: DeprecationWarning: `np.math` is a deprecated alias for the standard library `math` module (Deprecated Numpy 1.25). Replace usages of `np.math` with `math`\n",
      "  dvsNumFrames = np.math.floor(\n",
      "rgb2luma: 100%|██████████| 51/51 [00:01<00:00, 46.77fr/s]\n",
      "npy2png: 51fr [00:00, 172.36fr/s]\n",
      "dvs: 100%|██████████| 51/51 [00:04<00:00, 11.43fr/s]\n",
      "/bin/sh: 1: xprop: not found\n"
     ]
    },
    {
     "name": "stdout",
     "output_type": "stream",
     "text": [
      "🚀 Processing user_04/GOPR0846 → surprise\n"
     ]
    },
    {
     "name": "stderr",
     "output_type": "stream",
     "text": [
      "/kaggle/working/v2e/v2e.py:506: DeprecationWarning: `np.math` is a deprecated alias for the standard library `math` module (Deprecated Numpy 1.25). Replace usages of `np.math` with `math`\n",
      "  dvsNumFrames = np.math.floor(\n",
      "rgb2luma: 100%|██████████| 51/51 [00:01<00:00, 45.76fr/s]\n",
      "npy2png: 51fr [00:00, 171.76fr/s]\n",
      "dvs: 100%|██████████| 51/51 [00:04<00:00, 11.07fr/s]\n",
      "/bin/sh: 1: xprop: not found\n"
     ]
    },
    {
     "name": "stdout",
     "output_type": "stream",
     "text": [
      "🚀 Processing user_05/GOPR0847 → surprise\n"
     ]
    },
    {
     "name": "stderr",
     "output_type": "stream",
     "text": [
      "/kaggle/working/v2e/v2e.py:506: DeprecationWarning: `np.math` is a deprecated alias for the standard library `math` module (Deprecated Numpy 1.25). Replace usages of `np.math` with `math`\n",
      "  dvsNumFrames = np.math.floor(\n",
      "rgb2luma: 100%|██████████| 51/51 [00:01<00:00, 40.20fr/s]\n",
      "npy2png: 51fr [00:00, 161.47fr/s]\n",
      "dvs: 100%|██████████| 51/51 [00:04<00:00, 11.00fr/s]\n",
      "/bin/sh: 1: xprop: not found\n"
     ]
    },
    {
     "name": "stdout",
     "output_type": "stream",
     "text": [
      "🚀 Processing user_05/GOPR0848 → surprise\n"
     ]
    },
    {
     "name": "stderr",
     "output_type": "stream",
     "text": [
      "/kaggle/working/v2e/v2e.py:506: DeprecationWarning: `np.math` is a deprecated alias for the standard library `math` module (Deprecated Numpy 1.25). Replace usages of `np.math` with `math`\n",
      "  dvsNumFrames = np.math.floor(\n",
      "rgb2luma: 100%|██████████| 51/51 [00:01<00:00, 43.07fr/s]\n",
      "npy2png: 51fr [00:00, 149.21fr/s]\n",
      "dvs: 100%|██████████| 51/51 [00:04<00:00, 11.80fr/s]\n",
      "/bin/sh: 1: xprop: not found\n"
     ]
    },
    {
     "name": "stdout",
     "output_type": "stream",
     "text": [
      "🚀 Processing user_05/GOPR0849 → disgust\n"
     ]
    },
    {
     "name": "stderr",
     "output_type": "stream",
     "text": [
      "/kaggle/working/v2e/v2e.py:506: DeprecationWarning: `np.math` is a deprecated alias for the standard library `math` module (Deprecated Numpy 1.25). Replace usages of `np.math` with `math`\n",
      "  dvsNumFrames = np.math.floor(\n",
      "rgb2luma: 100%|██████████| 51/51 [00:01<00:00, 42.57fr/s]\n",
      "npy2png: 51fr [00:00, 156.38fr/s]\n",
      "dvs: 100%|██████████| 51/51 [00:04<00:00, 11.01fr/s]\n",
      "/bin/sh: 1: xprop: not found\n"
     ]
    },
    {
     "name": "stdout",
     "output_type": "stream",
     "text": [
      "🚀 Processing user_05/GOPR0851 → happiness\n"
     ]
    },
    {
     "name": "stderr",
     "output_type": "stream",
     "text": [
      "/kaggle/working/v2e/v2e.py:506: DeprecationWarning: `np.math` is a deprecated alias for the standard library `math` module (Deprecated Numpy 1.25). Replace usages of `np.math` with `math`\n",
      "  dvsNumFrames = np.math.floor(\n",
      "rgb2luma: 100%|██████████| 51/51 [00:01<00:00, 40.67fr/s]\n",
      "npy2png: 51fr [00:00, 147.69fr/s]\n",
      "dvs: 100%|██████████| 51/51 [00:04<00:00, 11.01fr/s]\n",
      "/bin/sh: 1: xprop: not found\n"
     ]
    },
    {
     "name": "stdout",
     "output_type": "stream",
     "text": [
      "🚀 Processing user_05/GOPR0852 → sadness\n"
     ]
    },
    {
     "name": "stderr",
     "output_type": "stream",
     "text": [
      "/kaggle/working/v2e/v2e.py:506: DeprecationWarning: `np.math` is a deprecated alias for the standard library `math` module (Deprecated Numpy 1.25). Replace usages of `np.math` with `math`\n",
      "  dvsNumFrames = np.math.floor(\n",
      "rgb2luma: 100%|██████████| 51/51 [00:01<00:00, 45.68fr/s]\n",
      "npy2png: 51fr [00:00, 164.73fr/s]\n",
      "dvs: 100%|██████████| 51/51 [00:04<00:00, 11.40fr/s]\n",
      "/bin/sh: 1: xprop: not found\n"
     ]
    },
    {
     "name": "stdout",
     "output_type": "stream",
     "text": [
      "🚀 Processing user_05/GOPR0853 → anger\n"
     ]
    },
    {
     "name": "stderr",
     "output_type": "stream",
     "text": [
      "/kaggle/working/v2e/v2e.py:506: DeprecationWarning: `np.math` is a deprecated alias for the standard library `math` module (Deprecated Numpy 1.25). Replace usages of `np.math` with `math`\n",
      "  dvsNumFrames = np.math.floor(\n",
      "rgb2luma: 100%|██████████| 51/51 [00:01<00:00, 39.98fr/s]\n",
      "npy2png: 51fr [00:00, 156.69fr/s]\n",
      "dvs: 100%|██████████| 51/51 [00:04<00:00, 11.34fr/s]\n",
      "/bin/sh: 1: xprop: not found\n"
     ]
    },
    {
     "name": "stdout",
     "output_type": "stream",
     "text": [
      "🚀 Processing user_05/GOPR0854 → happiness\n"
     ]
    },
    {
     "name": "stderr",
     "output_type": "stream",
     "text": [
      "/kaggle/working/v2e/v2e.py:506: DeprecationWarning: `np.math` is a deprecated alias for the standard library `math` module (Deprecated Numpy 1.25). Replace usages of `np.math` with `math`\n",
      "  dvsNumFrames = np.math.floor(\n",
      "rgb2luma: 100%|██████████| 51/51 [00:01<00:00, 45.03fr/s]\n",
      "npy2png: 51fr [00:00, 163.94fr/s]\n",
      "dvs: 100%|██████████| 51/51 [00:04<00:00, 10.82fr/s]\n",
      "/bin/sh: 1: xprop: not found\n"
     ]
    },
    {
     "name": "stdout",
     "output_type": "stream",
     "text": [
      "🚀 Processing user_05/GOPR0855 → disgust\n"
     ]
    },
    {
     "name": "stderr",
     "output_type": "stream",
     "text": [
      "/kaggle/working/v2e/v2e.py:506: DeprecationWarning: `np.math` is a deprecated alias for the standard library `math` module (Deprecated Numpy 1.25). Replace usages of `np.math` with `math`\n",
      "  dvsNumFrames = np.math.floor(\n",
      "rgb2luma: 100%|██████████| 51/51 [00:01<00:00, 40.68fr/s]\n",
      "npy2png: 51fr [00:00, 153.84fr/s]\n",
      "dvs: 100%|██████████| 51/51 [00:04<00:00, 12.08fr/s]\n",
      "/bin/sh: 1: xprop: not found\n"
     ]
    },
    {
     "name": "stdout",
     "output_type": "stream",
     "text": [
      "🚀 Processing user_05/GOPR0856 → happiness\n"
     ]
    },
    {
     "name": "stderr",
     "output_type": "stream",
     "text": [
      "/kaggle/working/v2e/v2e.py:506: DeprecationWarning: `np.math` is a deprecated alias for the standard library `math` module (Deprecated Numpy 1.25). Replace usages of `np.math` with `math`\n",
      "  dvsNumFrames = np.math.floor(\n",
      "rgb2luma: 100%|██████████| 51/51 [00:01<00:00, 45.76fr/s]\n",
      "npy2png: 51fr [00:00, 164.93fr/s]\n",
      "dvs: 100%|██████████| 51/51 [00:04<00:00, 11.32fr/s]\n",
      "/bin/sh: 1: xprop: not found\n"
     ]
    },
    {
     "name": "stdout",
     "output_type": "stream",
     "text": [
      "🚀 Processing user_05/GOPR0857 → anger\n"
     ]
    },
    {
     "name": "stderr",
     "output_type": "stream",
     "text": [
      "/kaggle/working/v2e/v2e.py:506: DeprecationWarning: `np.math` is a deprecated alias for the standard library `math` module (Deprecated Numpy 1.25). Replace usages of `np.math` with `math`\n",
      "  dvsNumFrames = np.math.floor(\n",
      "rgb2luma: 100%|██████████| 51/51 [00:01<00:00, 40.28fr/s]\n",
      "npy2png: 51fr [00:00, 164.57fr/s]\n",
      "dvs: 100%|██████████| 51/51 [00:04<00:00, 11.41fr/s]\n",
      "/bin/sh: 1: xprop: not found\n"
     ]
    },
    {
     "name": "stdout",
     "output_type": "stream",
     "text": [
      "🚀 Processing user_05/GOPR0858 → happiness\n"
     ]
    },
    {
     "name": "stderr",
     "output_type": "stream",
     "text": [
      "/kaggle/working/v2e/v2e.py:506: DeprecationWarning: `np.math` is a deprecated alias for the standard library `math` module (Deprecated Numpy 1.25). Replace usages of `np.math` with `math`\n",
      "  dvsNumFrames = np.math.floor(\n",
      "rgb2luma: 100%|██████████| 51/51 [00:01<00:00, 41.39fr/s]\n",
      "npy2png: 51fr [00:00, 165.79fr/s]\n",
      "dvs: 100%|██████████| 51/51 [00:04<00:00, 11.22fr/s]\n",
      "/bin/sh: 1: xprop: not found\n"
     ]
    },
    {
     "name": "stdout",
     "output_type": "stream",
     "text": [
      "🚀 Processing user_05/GOPR0859 → disgust\n"
     ]
    },
    {
     "name": "stderr",
     "output_type": "stream",
     "text": [
      "/kaggle/working/v2e/v2e.py:506: DeprecationWarning: `np.math` is a deprecated alias for the standard library `math` module (Deprecated Numpy 1.25). Replace usages of `np.math` with `math`\n",
      "  dvsNumFrames = np.math.floor(\n",
      "rgb2luma: 100%|██████████| 51/51 [00:01<00:00, 45.11fr/s]\n",
      "npy2png: 51fr [00:00, 163.82fr/s]\n",
      "dvs: 100%|██████████| 51/51 [00:04<00:00, 10.74fr/s]\n",
      "/bin/sh: 1: xprop: not found\n"
     ]
    },
    {
     "name": "stdout",
     "output_type": "stream",
     "text": [
      "🚀 Processing user_05/GOPR0860 → surprise\n"
     ]
    },
    {
     "name": "stderr",
     "output_type": "stream",
     "text": [
      "/kaggle/working/v2e/v2e.py:506: DeprecationWarning: `np.math` is a deprecated alias for the standard library `math` module (Deprecated Numpy 1.25). Replace usages of `np.math` with `math`\n",
      "  dvsNumFrames = np.math.floor(\n",
      "rgb2luma: 100%|██████████| 51/51 [00:01<00:00, 36.82fr/s]\n",
      "npy2png: 51fr [00:00, 164.05fr/s]\n",
      "dvs: 100%|██████████| 51/51 [00:04<00:00, 10.86fr/s]\n",
      "/bin/sh: 1: xprop: not found\n"
     ]
    },
    {
     "name": "stdout",
     "output_type": "stream",
     "text": [
      "🚀 Processing user_05/GOPR0861 → contempt\n"
     ]
    },
    {
     "name": "stderr",
     "output_type": "stream",
     "text": [
      "/kaggle/working/v2e/v2e.py:506: DeprecationWarning: `np.math` is a deprecated alias for the standard library `math` module (Deprecated Numpy 1.25). Replace usages of `np.math` with `math`\n",
      "  dvsNumFrames = np.math.floor(\n",
      "rgb2luma: 100%|██████████| 51/51 [00:01<00:00, 38.96fr/s]\n",
      "npy2png: 51fr [00:00, 164.81fr/s]\n",
      "dvs: 100%|██████████| 51/51 [00:04<00:00, 10.53fr/s]\n",
      "/bin/sh: 1: xprop: not found\n"
     ]
    },
    {
     "name": "stdout",
     "output_type": "stream",
     "text": [
      "🚀 Processing user_05/GOPR0862 → anger\n"
     ]
    },
    {
     "name": "stderr",
     "output_type": "stream",
     "text": [
      "/kaggle/working/v2e/v2e.py:506: DeprecationWarning: `np.math` is a deprecated alias for the standard library `math` module (Deprecated Numpy 1.25). Replace usages of `np.math` with `math`\n",
      "  dvsNumFrames = np.math.floor(\n",
      "rgb2luma: 100%|██████████| 51/51 [00:01<00:00, 40.25fr/s]\n",
      "npy2png: 51fr [00:00, 161.92fr/s]\n",
      "dvs: 100%|██████████| 51/51 [00:04<00:00, 11.30fr/s]\n",
      "/bin/sh: 1: xprop: not found\n"
     ]
    },
    {
     "name": "stdout",
     "output_type": "stream",
     "text": [
      "🚀 Processing user_05/GOPR0863 → surprise\n"
     ]
    },
    {
     "name": "stderr",
     "output_type": "stream",
     "text": [
      "/kaggle/working/v2e/v2e.py:506: DeprecationWarning: `np.math` is a deprecated alias for the standard library `math` module (Deprecated Numpy 1.25). Replace usages of `np.math` with `math`\n",
      "  dvsNumFrames = np.math.floor(\n",
      "rgb2luma: 100%|██████████| 51/51 [00:01<00:00, 38.95fr/s]\n",
      "npy2png: 51fr [00:00, 160.03fr/s]\n",
      "dvs: 100%|██████████| 51/51 [00:04<00:00, 10.86fr/s]\n",
      "/bin/sh: 1: xprop: not found\n"
     ]
    },
    {
     "name": "stdout",
     "output_type": "stream",
     "text": [
      "🚀 Processing user_05/GOPR0864 → sadness\n"
     ]
    },
    {
     "name": "stderr",
     "output_type": "stream",
     "text": [
      "/kaggle/working/v2e/v2e.py:506: DeprecationWarning: `np.math` is a deprecated alias for the standard library `math` module (Deprecated Numpy 1.25). Replace usages of `np.math` with `math`\n",
      "  dvsNumFrames = np.math.floor(\n",
      "rgb2luma: 100%|██████████| 51/51 [00:01<00:00, 44.72fr/s]\n",
      "npy2png: 51fr [00:00, 161.02fr/s]\n",
      "dvs: 100%|██████████| 51/51 [00:04<00:00, 10.96fr/s]\n",
      "/bin/sh: 1: xprop: not found\n"
     ]
    },
    {
     "name": "stdout",
     "output_type": "stream",
     "text": [
      "🚀 Processing user_05/GOPR0865 → sadness\n"
     ]
    },
    {
     "name": "stderr",
     "output_type": "stream",
     "text": [
      "/kaggle/working/v2e/v2e.py:506: DeprecationWarning: `np.math` is a deprecated alias for the standard library `math` module (Deprecated Numpy 1.25). Replace usages of `np.math` with `math`\n",
      "  dvsNumFrames = np.math.floor(\n",
      "rgb2luma: 100%|██████████| 51/51 [00:01<00:00, 43.42fr/s]\n",
      "npy2png: 51fr [00:00, 165.93fr/s]\n",
      "dvs: 100%|██████████| 51/51 [00:04<00:00, 11.21fr/s]\n",
      "/bin/sh: 1: xprop: not found\n"
     ]
    },
    {
     "name": "stdout",
     "output_type": "stream",
     "text": [
      "🚀 Processing user_05/GOPR0866 → happiness\n"
     ]
    },
    {
     "name": "stderr",
     "output_type": "stream",
     "text": [
      "/kaggle/working/v2e/v2e.py:506: DeprecationWarning: `np.math` is a deprecated alias for the standard library `math` module (Deprecated Numpy 1.25). Replace usages of `np.math` with `math`\n",
      "  dvsNumFrames = np.math.floor(\n",
      "rgb2luma: 100%|██████████| 51/51 [00:01<00:00, 42.70fr/s]\n",
      "npy2png: 51fr [00:00, 166.62fr/s]\n",
      "dvs: 100%|██████████| 51/51 [00:04<00:00, 10.91fr/s]\n",
      "/bin/sh: 1: xprop: not found\n"
     ]
    },
    {
     "name": "stdout",
     "output_type": "stream",
     "text": [
      "🚀 Processing user_05/GOPR0867 → surprise\n"
     ]
    },
    {
     "name": "stderr",
     "output_type": "stream",
     "text": [
      "/kaggle/working/v2e/v2e.py:506: DeprecationWarning: `np.math` is a deprecated alias for the standard library `math` module (Deprecated Numpy 1.25). Replace usages of `np.math` with `math`\n",
      "  dvsNumFrames = np.math.floor(\n",
      "rgb2luma: 100%|██████████| 51/51 [00:01<00:00, 42.31fr/s]\n",
      "npy2png: 51fr [00:00, 164.72fr/s]\n",
      "dvs: 100%|██████████| 51/51 [00:04<00:00, 11.10fr/s]\n",
      "/bin/sh: 1: xprop: not found\n"
     ]
    },
    {
     "name": "stdout",
     "output_type": "stream",
     "text": [
      "🚀 Processing user_05/GOPR0868 → surprise\n"
     ]
    },
    {
     "name": "stderr",
     "output_type": "stream",
     "text": [
      "/kaggle/working/v2e/v2e.py:506: DeprecationWarning: `np.math` is a deprecated alias for the standard library `math` module (Deprecated Numpy 1.25). Replace usages of `np.math` with `math`\n",
      "  dvsNumFrames = np.math.floor(\n",
      "rgb2luma: 100%|██████████| 51/51 [00:01<00:00, 41.17fr/s]\n",
      "npy2png: 51fr [00:00, 165.50fr/s]\n",
      "dvs: 100%|██████████| 51/51 [00:04<00:00, 11.14fr/s]\n",
      "/bin/sh: 1: xprop: not found\n"
     ]
    },
    {
     "name": "stdout",
     "output_type": "stream",
     "text": [
      "🚀 Processing user_06/GOPR0869 → happiness\n"
     ]
    },
    {
     "name": "stderr",
     "output_type": "stream",
     "text": [
      "/kaggle/working/v2e/v2e.py:506: DeprecationWarning: `np.math` is a deprecated alias for the standard library `math` module (Deprecated Numpy 1.25). Replace usages of `np.math` with `math`\n",
      "  dvsNumFrames = np.math.floor(\n",
      "rgb2luma: 100%|██████████| 51/51 [00:01<00:00, 38.62fr/s]\n",
      "npy2png: 51fr [00:00, 161.89fr/s]\n",
      "dvs: 100%|██████████| 51/51 [00:04<00:00, 11.40fr/s]\n",
      "/bin/sh: 1: xprop: not found\n"
     ]
    },
    {
     "name": "stdout",
     "output_type": "stream",
     "text": [
      "🚀 Processing user_06/GOPR0870 → surprise\n"
     ]
    },
    {
     "name": "stderr",
     "output_type": "stream",
     "text": [
      "/kaggle/working/v2e/v2e.py:506: DeprecationWarning: `np.math` is a deprecated alias for the standard library `math` module (Deprecated Numpy 1.25). Replace usages of `np.math` with `math`\n",
      "  dvsNumFrames = np.math.floor(\n",
      "rgb2luma: 100%|██████████| 51/51 [00:01<00:00, 45.40fr/s]\n",
      "npy2png: 51fr [00:00, 161.37fr/s]\n",
      "dvs: 100%|██████████| 51/51 [00:04<00:00, 11.64fr/s]\n",
      "/bin/sh: 1: xprop: not found\n"
     ]
    },
    {
     "name": "stdout",
     "output_type": "stream",
     "text": [
      "🚀 Processing user_06/GOPR0871 → happiness\n"
     ]
    },
    {
     "name": "stderr",
     "output_type": "stream",
     "text": [
      "/kaggle/working/v2e/v2e.py:506: DeprecationWarning: `np.math` is a deprecated alias for the standard library `math` module (Deprecated Numpy 1.25). Replace usages of `np.math` with `math`\n",
      "  dvsNumFrames = np.math.floor(\n",
      "rgb2luma: 100%|██████████| 51/51 [00:01<00:00, 46.51fr/s]\n",
      "npy2png: 51fr [00:00, 158.81fr/s]\n",
      "dvs: 100%|██████████| 51/51 [00:04<00:00, 11.36fr/s]\n",
      "/bin/sh: 1: xprop: not found\n"
     ]
    },
    {
     "name": "stdout",
     "output_type": "stream",
     "text": [
      "🚀 Processing user_06/GOPR0872 → sadness\n"
     ]
    },
    {
     "name": "stderr",
     "output_type": "stream",
     "text": [
      "/kaggle/working/v2e/v2e.py:506: DeprecationWarning: `np.math` is a deprecated alias for the standard library `math` module (Deprecated Numpy 1.25). Replace usages of `np.math` with `math`\n",
      "  dvsNumFrames = np.math.floor(\n",
      "rgb2luma: 100%|██████████| 51/51 [00:01<00:00, 44.39fr/s]\n",
      "npy2png: 51fr [00:00, 160.47fr/s]\n",
      "dvs: 100%|██████████| 51/51 [00:04<00:00, 11.54fr/s]\n",
      "/bin/sh: 1: xprop: not found\n"
     ]
    },
    {
     "name": "stdout",
     "output_type": "stream",
     "text": [
      "🚀 Processing user_06/GOPR0873 → sadness\n"
     ]
    },
    {
     "name": "stderr",
     "output_type": "stream",
     "text": [
      "/kaggle/working/v2e/v2e.py:506: DeprecationWarning: `np.math` is a deprecated alias for the standard library `math` module (Deprecated Numpy 1.25). Replace usages of `np.math` with `math`\n",
      "  dvsNumFrames = np.math.floor(\n",
      "rgb2luma: 100%|██████████| 51/51 [00:01<00:00, 44.47fr/s]\n",
      "npy2png: 51fr [00:00, 163.50fr/s]\n",
      "dvs: 100%|██████████| 51/51 [00:04<00:00, 11.53fr/s]\n",
      "/bin/sh: 1: xprop: not found\n"
     ]
    },
    {
     "name": "stdout",
     "output_type": "stream",
     "text": [
      "🚀 Processing user_06/GOPR0874 → anger\n"
     ]
    },
    {
     "name": "stderr",
     "output_type": "stream",
     "text": [
      "/kaggle/working/v2e/v2e.py:506: DeprecationWarning: `np.math` is a deprecated alias for the standard library `math` module (Deprecated Numpy 1.25). Replace usages of `np.math` with `math`\n",
      "  dvsNumFrames = np.math.floor(\n",
      "rgb2luma: 100%|██████████| 51/51 [00:01<00:00, 47.30fr/s]\n",
      "npy2png: 51fr [00:00, 161.47fr/s]\n",
      "dvs: 100%|██████████| 51/51 [00:04<00:00, 11.57fr/s]\n",
      "/bin/sh: 1: xprop: not found\n"
     ]
    },
    {
     "name": "stdout",
     "output_type": "stream",
     "text": [
      "🚀 Processing user_06/GOPR0875 → happiness\n"
     ]
    },
    {
     "name": "stderr",
     "output_type": "stream",
     "text": [
      "/kaggle/working/v2e/v2e.py:506: DeprecationWarning: `np.math` is a deprecated alias for the standard library `math` module (Deprecated Numpy 1.25). Replace usages of `np.math` with `math`\n",
      "  dvsNumFrames = np.math.floor(\n",
      "rgb2luma: 100%|██████████| 51/51 [00:01<00:00, 47.03fr/s]\n",
      "npy2png: 51fr [00:00, 163.11fr/s]\n",
      "dvs: 100%|██████████| 51/51 [00:04<00:00, 11.55fr/s]\n",
      "/bin/sh: 1: xprop: not found\n"
     ]
    },
    {
     "name": "stdout",
     "output_type": "stream",
     "text": [
      "🚀 Processing user_06/GOPR0876 → surprise\n"
     ]
    },
    {
     "name": "stderr",
     "output_type": "stream",
     "text": [
      "/kaggle/working/v2e/v2e.py:506: DeprecationWarning: `np.math` is a deprecated alias for the standard library `math` module (Deprecated Numpy 1.25). Replace usages of `np.math` with `math`\n",
      "  dvsNumFrames = np.math.floor(\n",
      "rgb2luma: 100%|██████████| 51/51 [00:01<00:00, 44.79fr/s]\n",
      "npy2png: 51fr [00:00, 159.58fr/s]\n",
      "dvs: 100%|██████████| 51/51 [00:04<00:00, 11.88fr/s]\n",
      "/bin/sh: 1: xprop: not found\n"
     ]
    },
    {
     "name": "stdout",
     "output_type": "stream",
     "text": [
      "🚀 Processing user_06/GOPR0877 → contempt\n"
     ]
    },
    {
     "name": "stderr",
     "output_type": "stream",
     "text": [
      "/kaggle/working/v2e/v2e.py:506: DeprecationWarning: `np.math` is a deprecated alias for the standard library `math` module (Deprecated Numpy 1.25). Replace usages of `np.math` with `math`\n",
      "  dvsNumFrames = np.math.floor(\n",
      "rgb2luma: 100%|██████████| 51/51 [00:01<00:00, 38.01fr/s]\n",
      "npy2png: 51fr [00:00, 160.33fr/s]\n",
      "dvs: 100%|██████████| 51/51 [00:04<00:00, 11.50fr/s]\n",
      "/bin/sh: 1: xprop: not found\n"
     ]
    },
    {
     "name": "stdout",
     "output_type": "stream",
     "text": [
      "🚀 Processing user_06/GOPR0878 → contempt\n"
     ]
    },
    {
     "name": "stderr",
     "output_type": "stream",
     "text": [
      "/kaggle/working/v2e/v2e.py:506: DeprecationWarning: `np.math` is a deprecated alias for the standard library `math` module (Deprecated Numpy 1.25). Replace usages of `np.math` with `math`\n",
      "  dvsNumFrames = np.math.floor(\n",
      "rgb2luma: 100%|██████████| 51/51 [00:01<00:00, 44.41fr/s]\n",
      "npy2png: 51fr [00:00, 159.52fr/s]\n",
      "dvs: 100%|██████████| 51/51 [00:04<00:00, 11.35fr/s]\n",
      "/bin/sh: 1: xprop: not found\n"
     ]
    },
    {
     "name": "stdout",
     "output_type": "stream",
     "text": [
      "🚀 Processing user_06/GOPR0879 → nan\n"
     ]
    },
    {
     "name": "stderr",
     "output_type": "stream",
     "text": [
      "/kaggle/working/v2e/v2e.py:506: DeprecationWarning: `np.math` is a deprecated alias for the standard library `math` module (Deprecated Numpy 1.25). Replace usages of `np.math` with `math`\n",
      "  dvsNumFrames = np.math.floor(\n",
      "rgb2luma: 100%|██████████| 51/51 [00:01<00:00, 45.13fr/s]\n",
      "npy2png: 51fr [00:00, 146.66fr/s]\n",
      "dvs: 100%|██████████| 51/51 [00:04<00:00, 11.66fr/s]\n",
      "/bin/sh: 1: xprop: not found\n"
     ]
    },
    {
     "name": "stdout",
     "output_type": "stream",
     "text": [
      "🚀 Processing user_06/GOPR0880 → disgust\n"
     ]
    },
    {
     "name": "stderr",
     "output_type": "stream",
     "text": [
      "/kaggle/working/v2e/v2e.py:506: DeprecationWarning: `np.math` is a deprecated alias for the standard library `math` module (Deprecated Numpy 1.25). Replace usages of `np.math` with `math`\n",
      "  dvsNumFrames = np.math.floor(\n",
      "rgb2luma: 100%|██████████| 51/51 [00:01<00:00, 42.95fr/s]\n",
      "npy2png: 51fr [00:00, 159.03fr/s]\n",
      "dvs: 100%|██████████| 51/51 [00:04<00:00, 11.45fr/s]\n",
      "/bin/sh: 1: xprop: not found\n"
     ]
    },
    {
     "name": "stdout",
     "output_type": "stream",
     "text": [
      "🚀 Processing user_06/GOPR0881 → surprise\n"
     ]
    },
    {
     "name": "stderr",
     "output_type": "stream",
     "text": [
      "/kaggle/working/v2e/v2e.py:506: DeprecationWarning: `np.math` is a deprecated alias for the standard library `math` module (Deprecated Numpy 1.25). Replace usages of `np.math` with `math`\n",
      "  dvsNumFrames = np.math.floor(\n",
      "rgb2luma: 100%|██████████| 51/51 [00:01<00:00, 43.86fr/s]\n",
      "npy2png: 51fr [00:00, 157.70fr/s]\n",
      "dvs: 100%|██████████| 51/51 [00:04<00:00, 11.38fr/s]\n",
      "/bin/sh: 1: xprop: not found\n"
     ]
    },
    {
     "name": "stdout",
     "output_type": "stream",
     "text": [
      "🚀 Processing user_06/GOPR0882 → contempt\n"
     ]
    },
    {
     "name": "stderr",
     "output_type": "stream",
     "text": [
      "/kaggle/working/v2e/v2e.py:506: DeprecationWarning: `np.math` is a deprecated alias for the standard library `math` module (Deprecated Numpy 1.25). Replace usages of `np.math` with `math`\n",
      "  dvsNumFrames = np.math.floor(\n",
      "rgb2luma: 100%|██████████| 51/51 [00:01<00:00, 45.03fr/s]\n",
      "npy2png: 51fr [00:00, 152.42fr/s]\n",
      "dvs: 100%|██████████| 51/51 [00:04<00:00, 11.04fr/s]\n",
      "/bin/sh: 1: xprop: not found\n"
     ]
    },
    {
     "name": "stdout",
     "output_type": "stream",
     "text": [
      "🚀 Processing user_06/GOPR0883 → contempt\n"
     ]
    },
    {
     "name": "stderr",
     "output_type": "stream",
     "text": [
      "/kaggle/working/v2e/v2e.py:506: DeprecationWarning: `np.math` is a deprecated alias for the standard library `math` module (Deprecated Numpy 1.25). Replace usages of `np.math` with `math`\n",
      "  dvsNumFrames = np.math.floor(\n",
      "rgb2luma: 100%|██████████| 51/51 [00:01<00:00, 41.00fr/s]\n",
      "npy2png: 51fr [00:00, 160.61fr/s]\n",
      "dvs: 100%|██████████| 51/51 [00:04<00:00, 11.31fr/s]\n",
      "/bin/sh: 1: xprop: not found\n"
     ]
    },
    {
     "name": "stdout",
     "output_type": "stream",
     "text": [
      "🚀 Processing user_06/GOPR0884 → contempt\n"
     ]
    },
    {
     "name": "stderr",
     "output_type": "stream",
     "text": [
      "/kaggle/working/v2e/v2e.py:506: DeprecationWarning: `np.math` is a deprecated alias for the standard library `math` module (Deprecated Numpy 1.25). Replace usages of `np.math` with `math`\n",
      "  dvsNumFrames = np.math.floor(\n",
      "rgb2luma: 100%|██████████| 51/51 [00:01<00:00, 47.28fr/s]\n",
      "npy2png: 51fr [00:00, 164.67fr/s]\n",
      "dvs: 100%|██████████| 51/51 [00:04<00:00, 11.25fr/s]\n",
      "/bin/sh: 1: xprop: not found\n"
     ]
    },
    {
     "name": "stdout",
     "output_type": "stream",
     "text": [
      "🚀 Processing user_06/GOPR0885 → sadness\n"
     ]
    },
    {
     "name": "stderr",
     "output_type": "stream",
     "text": [
      "/kaggle/working/v2e/v2e.py:506: DeprecationWarning: `np.math` is a deprecated alias for the standard library `math` module (Deprecated Numpy 1.25). Replace usages of `np.math` with `math`\n",
      "  dvsNumFrames = np.math.floor(\n",
      "rgb2luma: 100%|██████████| 51/51 [00:01<00:00, 43.67fr/s]\n",
      "npy2png: 51fr [00:00, 165.75fr/s]\n",
      "dvs: 100%|██████████| 51/51 [00:04<00:00, 11.33fr/s]\n",
      "/bin/sh: 1: xprop: not found\n"
     ]
    },
    {
     "name": "stdout",
     "output_type": "stream",
     "text": [
      "🚀 Processing user_06/GOPR0886 → anger\n"
     ]
    },
    {
     "name": "stderr",
     "output_type": "stream",
     "text": [
      "/kaggle/working/v2e/v2e.py:506: DeprecationWarning: `np.math` is a deprecated alias for the standard library `math` module (Deprecated Numpy 1.25). Replace usages of `np.math` with `math`\n",
      "  dvsNumFrames = np.math.floor(\n",
      "rgb2luma: 100%|██████████| 51/51 [00:01<00:00, 48.77fr/s]\n",
      "npy2png: 51fr [00:00, 165.61fr/s]\n",
      "dvs: 100%|██████████| 51/51 [00:04<00:00, 11.47fr/s]\n",
      "/bin/sh: 1: xprop: not found\n"
     ]
    },
    {
     "name": "stdout",
     "output_type": "stream",
     "text": [
      "🚀 Processing user_06/GOPR0887 → happiness\n"
     ]
    },
    {
     "name": "stderr",
     "output_type": "stream",
     "text": [
      "/kaggle/working/v2e/v2e.py:506: DeprecationWarning: `np.math` is a deprecated alias for the standard library `math` module (Deprecated Numpy 1.25). Replace usages of `np.math` with `math`\n",
      "  dvsNumFrames = np.math.floor(\n",
      "rgb2luma: 100%|██████████| 51/51 [00:01<00:00, 45.34fr/s]\n",
      "npy2png: 51fr [00:00, 158.42fr/s]\n",
      "dvs: 100%|██████████| 51/51 [00:04<00:00, 11.48fr/s]\n",
      "/bin/sh: 1: xprop: not found\n"
     ]
    },
    {
     "name": "stdout",
     "output_type": "stream",
     "text": [
      "🚀 Processing user_06/GOPR0888 → surprise\n"
     ]
    },
    {
     "name": "stderr",
     "output_type": "stream",
     "text": [
      "/kaggle/working/v2e/v2e.py:506: DeprecationWarning: `np.math` is a deprecated alias for the standard library `math` module (Deprecated Numpy 1.25). Replace usages of `np.math` with `math`\n",
      "  dvsNumFrames = np.math.floor(\n",
      "rgb2luma: 100%|██████████| 51/51 [00:01<00:00, 46.59fr/s]\n",
      "npy2png: 51fr [00:00, 167.65fr/s]\n",
      "dvs: 100%|██████████| 51/51 [00:04<00:00, 11.39fr/s]\n",
      "/bin/sh: 1: xprop: not found\n"
     ]
    },
    {
     "name": "stdout",
     "output_type": "stream",
     "text": [
      "🚀 Processing user_06/GOPR0889 → happiness\n"
     ]
    },
    {
     "name": "stderr",
     "output_type": "stream",
     "text": [
      "/kaggle/working/v2e/v2e.py:506: DeprecationWarning: `np.math` is a deprecated alias for the standard library `math` module (Deprecated Numpy 1.25). Replace usages of `np.math` with `math`\n",
      "  dvsNumFrames = np.math.floor(\n",
      "rgb2luma: 100%|██████████| 51/51 [00:01<00:00, 45.48fr/s]\n",
      "npy2png: 51fr [00:00, 160.98fr/s]\n",
      "dvs: 100%|██████████| 51/51 [00:04<00:00, 11.50fr/s]\n",
      "/bin/sh: 1: xprop: not found\n"
     ]
    },
    {
     "name": "stdout",
     "output_type": "stream",
     "text": [
      "🚀 Processing user_07/GOPR0890 → unknown\n"
     ]
    },
    {
     "name": "stderr",
     "output_type": "stream",
     "text": [
      "/kaggle/working/v2e/v2e.py:506: DeprecationWarning: `np.math` is a deprecated alias for the standard library `math` module (Deprecated Numpy 1.25). Replace usages of `np.math` with `math`\n",
      "  dvsNumFrames = np.math.floor(\n",
      "rgb2luma: 100%|██████████| 51/51 [00:01<00:00, 47.30fr/s]\n",
      "npy2png: 51fr [00:00, 160.91fr/s]\n",
      "dvs: 100%|██████████| 51/51 [00:04<00:00, 11.21fr/s]\n",
      "/bin/sh: 1: xprop: not found\n"
     ]
    },
    {
     "name": "stdout",
     "output_type": "stream",
     "text": [
      "🚀 Processing user_07/GOPR0891 → unknown\n"
     ]
    },
    {
     "name": "stderr",
     "output_type": "stream",
     "text": [
      "/kaggle/working/v2e/v2e.py:506: DeprecationWarning: `np.math` is a deprecated alias for the standard library `math` module (Deprecated Numpy 1.25). Replace usages of `np.math` with `math`\n",
      "  dvsNumFrames = np.math.floor(\n",
      "rgb2luma: 100%|██████████| 51/51 [00:01<00:00, 41.28fr/s]\n",
      "npy2png: 51fr [00:00, 158.83fr/s]\n",
      "dvs: 100%|██████████| 51/51 [00:04<00:00, 11.00fr/s]\n",
      "/bin/sh: 1: xprop: not found\n"
     ]
    },
    {
     "name": "stdout",
     "output_type": "stream",
     "text": [
      "🚀 Processing user_07/GOPR0892 → unknown\n"
     ]
    },
    {
     "name": "stderr",
     "output_type": "stream",
     "text": [
      "/kaggle/working/v2e/v2e.py:506: DeprecationWarning: `np.math` is a deprecated alias for the standard library `math` module (Deprecated Numpy 1.25). Replace usages of `np.math` with `math`\n",
      "  dvsNumFrames = np.math.floor(\n",
      "rgb2luma: 100%|██████████| 51/51 [00:01<00:00, 44.26fr/s]\n",
      "npy2png: 51fr [00:00, 166.87fr/s]\n",
      "dvs: 100%|██████████| 51/51 [00:04<00:00, 11.00fr/s]\n",
      "/bin/sh: 1: xprop: not found\n"
     ]
    },
    {
     "name": "stdout",
     "output_type": "stream",
     "text": [
      "🚀 Processing user_07/GOPR0893 → unknown\n"
     ]
    },
    {
     "name": "stderr",
     "output_type": "stream",
     "text": [
      "/kaggle/working/v2e/v2e.py:506: DeprecationWarning: `np.math` is a deprecated alias for the standard library `math` module (Deprecated Numpy 1.25). Replace usages of `np.math` with `math`\n",
      "  dvsNumFrames = np.math.floor(\n",
      "rgb2luma: 100%|██████████| 51/51 [00:01<00:00, 43.34fr/s]\n",
      "npy2png: 51fr [00:00, 164.32fr/s]\n",
      "dvs: 100%|██████████| 51/51 [00:04<00:00, 10.96fr/s]\n",
      "/bin/sh: 1: xprop: not found\n"
     ]
    },
    {
     "name": "stdout",
     "output_type": "stream",
     "text": [
      "🚀 Processing user_07/GOPR0894 → unknown\n"
     ]
    },
    {
     "name": "stderr",
     "output_type": "stream",
     "text": [
      "/kaggle/working/v2e/v2e.py:506: DeprecationWarning: `np.math` is a deprecated alias for the standard library `math` module (Deprecated Numpy 1.25). Replace usages of `np.math` with `math`\n",
      "  dvsNumFrames = np.math.floor(\n",
      "rgb2luma: 100%|██████████| 51/51 [00:01<00:00, 42.48fr/s]\n",
      "npy2png: 51fr [00:00, 157.09fr/s]\n",
      "dvs: 100%|██████████| 51/51 [00:04<00:00, 11.67fr/s]\n",
      "/bin/sh: 1: xprop: not found\n"
     ]
    },
    {
     "name": "stdout",
     "output_type": "stream",
     "text": [
      "🚀 Processing user_07/GOPR0895 → unknown\n"
     ]
    },
    {
     "name": "stderr",
     "output_type": "stream",
     "text": [
      "/kaggle/working/v2e/v2e.py:506: DeprecationWarning: `np.math` is a deprecated alias for the standard library `math` module (Deprecated Numpy 1.25). Replace usages of `np.math` with `math`\n",
      "  dvsNumFrames = np.math.floor(\n",
      "rgb2luma: 100%|██████████| 51/51 [00:01<00:00, 37.56fr/s]\n",
      "npy2png: 51fr [00:00, 162.77fr/s]\n",
      "dvs: 100%|██████████| 51/51 [00:04<00:00, 11.11fr/s]\n",
      "/bin/sh: 1: xprop: not found\n"
     ]
    },
    {
     "name": "stdout",
     "output_type": "stream",
     "text": [
      "🚀 Processing user_07/GOPR0896 → unknown\n"
     ]
    },
    {
     "name": "stderr",
     "output_type": "stream",
     "text": [
      "/kaggle/working/v2e/v2e.py:506: DeprecationWarning: `np.math` is a deprecated alias for the standard library `math` module (Deprecated Numpy 1.25). Replace usages of `np.math` with `math`\n",
      "  dvsNumFrames = np.math.floor(\n",
      "rgb2luma: 100%|██████████| 51/51 [00:01<00:00, 40.65fr/s]\n",
      "npy2png: 51fr [00:00, 162.52fr/s]\n",
      "dvs: 100%|██████████| 51/51 [00:04<00:00, 11.16fr/s]\n",
      "/bin/sh: 1: xprop: not found\n"
     ]
    },
    {
     "name": "stdout",
     "output_type": "stream",
     "text": [
      "🚀 Processing user_07/GOPR0897 → unknown\n"
     ]
    },
    {
     "name": "stderr",
     "output_type": "stream",
     "text": [
      "/kaggle/working/v2e/v2e.py:506: DeprecationWarning: `np.math` is a deprecated alias for the standard library `math` module (Deprecated Numpy 1.25). Replace usages of `np.math` with `math`\n",
      "  dvsNumFrames = np.math.floor(\n",
      "rgb2luma: 100%|██████████| 51/51 [00:01<00:00, 44.46fr/s]\n",
      "npy2png: 51fr [00:00, 153.87fr/s]\n",
      "dvs: 100%|██████████| 51/51 [00:04<00:00, 11.39fr/s]\n",
      "/bin/sh: 1: xprop: not found\n"
     ]
    },
    {
     "name": "stdout",
     "output_type": "stream",
     "text": [
      "🚀 Processing user_07/GOPR0898 → unknown\n"
     ]
    },
    {
     "name": "stderr",
     "output_type": "stream",
     "text": [
      "/kaggle/working/v2e/v2e.py:506: DeprecationWarning: `np.math` is a deprecated alias for the standard library `math` module (Deprecated Numpy 1.25). Replace usages of `np.math` with `math`\n",
      "  dvsNumFrames = np.math.floor(\n",
      "rgb2luma: 100%|██████████| 51/51 [00:01<00:00, 43.08fr/s]\n",
      "npy2png: 51fr [00:00, 159.48fr/s]\n",
      "dvs: 100%|██████████| 51/51 [00:04<00:00, 11.15fr/s]\n",
      "/bin/sh: 1: xprop: not found\n"
     ]
    },
    {
     "name": "stdout",
     "output_type": "stream",
     "text": [
      "🚀 Processing user_07/GOPR0899 → unknown\n"
     ]
    },
    {
     "name": "stderr",
     "output_type": "stream",
     "text": [
      "/kaggle/working/v2e/v2e.py:506: DeprecationWarning: `np.math` is a deprecated alias for the standard library `math` module (Deprecated Numpy 1.25). Replace usages of `np.math` with `math`\n",
      "  dvsNumFrames = np.math.floor(\n",
      "rgb2luma: 100%|██████████| 51/51 [00:01<00:00, 45.00fr/s]\n",
      "npy2png: 51fr [00:00, 157.07fr/s]\n",
      "dvs: 100%|██████████| 51/51 [00:04<00:00, 11.57fr/s]\n",
      "/bin/sh: 1: xprop: not found\n"
     ]
    },
    {
     "name": "stdout",
     "output_type": "stream",
     "text": [
      "🚀 Processing user_07/GOPR0900 → unknown\n"
     ]
    },
    {
     "name": "stderr",
     "output_type": "stream",
     "text": [
      "/kaggle/working/v2e/v2e.py:506: DeprecationWarning: `np.math` is a deprecated alias for the standard library `math` module (Deprecated Numpy 1.25). Replace usages of `np.math` with `math`\n",
      "  dvsNumFrames = np.math.floor(\n",
      "rgb2luma: 100%|██████████| 51/51 [00:01<00:00, 42.06fr/s]\n",
      "npy2png: 51fr [00:00, 157.74fr/s]\n",
      "dvs: 100%|██████████| 51/51 [00:04<00:00, 11.14fr/s]\n",
      "/bin/sh: 1: xprop: not found\n"
     ]
    },
    {
     "name": "stdout",
     "output_type": "stream",
     "text": [
      "🚀 Processing user_07/GOPR0901 → unknown\n"
     ]
    },
    {
     "name": "stderr",
     "output_type": "stream",
     "text": [
      "/kaggle/working/v2e/v2e.py:506: DeprecationWarning: `np.math` is a deprecated alias for the standard library `math` module (Deprecated Numpy 1.25). Replace usages of `np.math` with `math`\n",
      "  dvsNumFrames = np.math.floor(\n",
      "rgb2luma: 100%|██████████| 51/51 [00:01<00:00, 40.41fr/s]\n",
      "npy2png: 51fr [00:00, 158.71fr/s]\n",
      "dvs: 100%|██████████| 51/51 [00:04<00:00, 11.22fr/s]\n",
      "/bin/sh: 1: xprop: not found\n"
     ]
    },
    {
     "name": "stdout",
     "output_type": "stream",
     "text": [
      "🚀 Processing user_07/GOPR0902 → unknown\n"
     ]
    },
    {
     "name": "stderr",
     "output_type": "stream",
     "text": [
      "/kaggle/working/v2e/v2e.py:506: DeprecationWarning: `np.math` is a deprecated alias for the standard library `math` module (Deprecated Numpy 1.25). Replace usages of `np.math` with `math`\n",
      "  dvsNumFrames = np.math.floor(\n",
      "rgb2luma: 100%|██████████| 51/51 [00:01<00:00, 41.97fr/s]\n",
      "npy2png: 51fr [00:00, 157.79fr/s]\n",
      "dvs: 100%|██████████| 51/51 [00:04<00:00, 10.95fr/s]\n",
      "/bin/sh: 1: xprop: not found\n"
     ]
    },
    {
     "name": "stdout",
     "output_type": "stream",
     "text": [
      "🚀 Processing user_07/GOPR0903 → unknown\n"
     ]
    },
    {
     "name": "stderr",
     "output_type": "stream",
     "text": [
      "/kaggle/working/v2e/v2e.py:506: DeprecationWarning: `np.math` is a deprecated alias for the standard library `math` module (Deprecated Numpy 1.25). Replace usages of `np.math` with `math`\n",
      "  dvsNumFrames = np.math.floor(\n",
      "rgb2luma: 100%|██████████| 51/51 [00:01<00:00, 41.99fr/s]\n",
      "npy2png: 51fr [00:00, 157.53fr/s]\n",
      "dvs: 100%|██████████| 51/51 [00:04<00:00, 11.38fr/s]\n",
      "/bin/sh: 1: xprop: not found\n"
     ]
    },
    {
     "name": "stdout",
     "output_type": "stream",
     "text": [
      "🚀 Processing user_07/GOPR0904 → unknown\n"
     ]
    },
    {
     "name": "stderr",
     "output_type": "stream",
     "text": [
      "/kaggle/working/v2e/v2e.py:506: DeprecationWarning: `np.math` is a deprecated alias for the standard library `math` module (Deprecated Numpy 1.25). Replace usages of `np.math` with `math`\n",
      "  dvsNumFrames = np.math.floor(\n",
      "rgb2luma: 100%|██████████| 51/51 [00:01<00:00, 43.37fr/s]\n",
      "npy2png: 51fr [00:00, 159.00fr/s]\n",
      "dvs: 100%|██████████| 51/51 [00:04<00:00, 11.01fr/s]\n",
      "/bin/sh: 1: xprop: not found\n"
     ]
    },
    {
     "name": "stdout",
     "output_type": "stream",
     "text": [
      "🚀 Processing user_07/GOPR0905 → unknown\n"
     ]
    },
    {
     "name": "stderr",
     "output_type": "stream",
     "text": [
      "/kaggle/working/v2e/v2e.py:506: DeprecationWarning: `np.math` is a deprecated alias for the standard library `math` module (Deprecated Numpy 1.25). Replace usages of `np.math` with `math`\n",
      "  dvsNumFrames = np.math.floor(\n",
      "rgb2luma: 100%|██████████| 51/51 [00:01<00:00, 45.99fr/s]\n",
      "npy2png: 51fr [00:00, 158.56fr/s]\n",
      "dvs: 100%|██████████| 51/51 [00:04<00:00, 11.23fr/s]\n",
      "/bin/sh: 1: xprop: not found\n"
     ]
    },
    {
     "name": "stdout",
     "output_type": "stream",
     "text": [
      "🚀 Processing user_07/GOPR0906 → unknown\n"
     ]
    },
    {
     "name": "stderr",
     "output_type": "stream",
     "text": [
      "/kaggle/working/v2e/v2e.py:506: DeprecationWarning: `np.math` is a deprecated alias for the standard library `math` module (Deprecated Numpy 1.25). Replace usages of `np.math` with `math`\n",
      "  dvsNumFrames = np.math.floor(\n",
      "rgb2luma: 100%|██████████| 51/51 [00:01<00:00, 41.92fr/s]\n",
      "npy2png: 51fr [00:00, 159.65fr/s]\n",
      "dvs: 100%|██████████| 51/51 [00:04<00:00, 11.36fr/s]\n",
      "/bin/sh: 1: xprop: not found\n"
     ]
    },
    {
     "name": "stdout",
     "output_type": "stream",
     "text": [
      "🚀 Processing user_07/GOPR0907 → unknown\n"
     ]
    },
    {
     "name": "stderr",
     "output_type": "stream",
     "text": [
      "/kaggle/working/v2e/v2e.py:506: DeprecationWarning: `np.math` is a deprecated alias for the standard library `math` module (Deprecated Numpy 1.25). Replace usages of `np.math` with `math`\n",
      "  dvsNumFrames = np.math.floor(\n",
      "rgb2luma: 100%|██████████| 51/51 [00:01<00:00, 43.48fr/s]\n",
      "npy2png: 51fr [00:00, 158.28fr/s]\n",
      "dvs: 100%|██████████| 51/51 [00:04<00:00, 11.30fr/s]\n",
      "/bin/sh: 1: xprop: not found\n"
     ]
    },
    {
     "name": "stdout",
     "output_type": "stream",
     "text": [
      "🚀 Processing user_07/GOPR0908 → unknown\n"
     ]
    },
    {
     "name": "stderr",
     "output_type": "stream",
     "text": [
      "/kaggle/working/v2e/v2e.py:506: DeprecationWarning: `np.math` is a deprecated alias for the standard library `math` module (Deprecated Numpy 1.25). Replace usages of `np.math` with `math`\n",
      "  dvsNumFrames = np.math.floor(\n",
      "rgb2luma: 100%|██████████| 51/51 [00:01<00:00, 41.92fr/s]\n",
      "npy2png: 51fr [00:00, 158.49fr/s]\n",
      "dvs: 100%|██████████| 51/51 [00:04<00:00, 11.05fr/s]\n",
      "/bin/sh: 1: xprop: not found\n"
     ]
    },
    {
     "name": "stdout",
     "output_type": "stream",
     "text": [
      "🚀 Processing user_07/GOPR0909 → unknown\n"
     ]
    },
    {
     "name": "stderr",
     "output_type": "stream",
     "text": [
      "/kaggle/working/v2e/v2e.py:506: DeprecationWarning: `np.math` is a deprecated alias for the standard library `math` module (Deprecated Numpy 1.25). Replace usages of `np.math` with `math`\n",
      "  dvsNumFrames = np.math.floor(\n",
      "rgb2luma: 100%|██████████| 51/51 [00:01<00:00, 41.89fr/s]\n",
      "npy2png: 51fr [00:00, 159.52fr/s]\n",
      "dvs: 100%|██████████| 51/51 [00:04<00:00, 12.01fr/s]\n",
      "/bin/sh: 1: xprop: not found\n"
     ]
    },
    {
     "name": "stdout",
     "output_type": "stream",
     "text": [
      "🚀 Processing user_07/GOPR0910 → unknown\n"
     ]
    },
    {
     "name": "stderr",
     "output_type": "stream",
     "text": [
      "/kaggle/working/v2e/v2e.py:506: DeprecationWarning: `np.math` is a deprecated alias for the standard library `math` module (Deprecated Numpy 1.25). Replace usages of `np.math` with `math`\n",
      "  dvsNumFrames = np.math.floor(\n",
      "rgb2luma: 100%|██████████| 51/51 [00:01<00:00, 45.42fr/s]\n",
      "npy2png: 51fr [00:00, 159.46fr/s]\n",
      "dvs: 100%|██████████| 51/51 [00:04<00:00, 10.87fr/s]\n",
      "/bin/sh: 1: xprop: not found\n"
     ]
    },
    {
     "name": "stdout",
     "output_type": "stream",
     "text": [
      "🚀 Processing user_08/GOPR0911 → happiness\n"
     ]
    },
    {
     "name": "stderr",
     "output_type": "stream",
     "text": [
      "/kaggle/working/v2e/v2e.py:506: DeprecationWarning: `np.math` is a deprecated alias for the standard library `math` module (Deprecated Numpy 1.25). Replace usages of `np.math` with `math`\n",
      "  dvsNumFrames = np.math.floor(\n",
      "rgb2luma: 100%|██████████| 51/51 [00:01<00:00, 46.72fr/s]\n",
      "npy2png: 51fr [00:00, 169.20fr/s]\n",
      "dvs: 100%|██████████| 51/51 [00:04<00:00, 11.67fr/s]\n",
      "/bin/sh: 1: xprop: not found\n"
     ]
    },
    {
     "name": "stdout",
     "output_type": "stream",
     "text": [
      "🚀 Processing user_08/GOPR0915 → fear\n"
     ]
    },
    {
     "name": "stderr",
     "output_type": "stream",
     "text": [
      "/kaggle/working/v2e/v2e.py:506: DeprecationWarning: `np.math` is a deprecated alias for the standard library `math` module (Deprecated Numpy 1.25). Replace usages of `np.math` with `math`\n",
      "  dvsNumFrames = np.math.floor(\n",
      "rgb2luma: 100%|██████████| 51/51 [00:00<00:00, 51.11fr/s]\n",
      "npy2png: 51fr [00:00, 168.41fr/s]\n",
      "dvs: 100%|██████████| 51/51 [00:04<00:00, 11.14fr/s]\n",
      "/bin/sh: 1: xprop: not found\n"
     ]
    },
    {
     "name": "stdout",
     "output_type": "stream",
     "text": [
      "🚀 Processing user_08/GOPR0916 → disgust\n"
     ]
    },
    {
     "name": "stderr",
     "output_type": "stream",
     "text": [
      "/kaggle/working/v2e/v2e.py:506: DeprecationWarning: `np.math` is a deprecated alias for the standard library `math` module (Deprecated Numpy 1.25). Replace usages of `np.math` with `math`\n",
      "  dvsNumFrames = np.math.floor(\n",
      "rgb2luma: 100%|██████████| 51/51 [00:01<00:00, 48.09fr/s]\n",
      "npy2png: 51fr [00:00, 167.39fr/s]\n",
      "dvs: 100%|██████████| 51/51 [00:04<00:00, 11.51fr/s]\n",
      "/bin/sh: 1: xprop: not found\n"
     ]
    },
    {
     "name": "stdout",
     "output_type": "stream",
     "text": [
      "🚀 Processing user_08/GOPR0917 → sadness\n"
     ]
    },
    {
     "name": "stderr",
     "output_type": "stream",
     "text": [
      "/kaggle/working/v2e/v2e.py:506: DeprecationWarning: `np.math` is a deprecated alias for the standard library `math` module (Deprecated Numpy 1.25). Replace usages of `np.math` with `math`\n",
      "  dvsNumFrames = np.math.floor(\n",
      "rgb2luma: 100%|██████████| 51/51 [00:01<00:00, 47.04fr/s]\n",
      "npy2png: 51fr [00:00, 164.81fr/s]\n",
      "dvs: 100%|██████████| 51/51 [00:04<00:00, 10.99fr/s]\n",
      "/bin/sh: 1: xprop: not found\n"
     ]
    },
    {
     "name": "stdout",
     "output_type": "stream",
     "text": [
      "🚀 Processing user_08/GOPR0918 → sadness\n"
     ]
    },
    {
     "name": "stderr",
     "output_type": "stream",
     "text": [
      "/kaggle/working/v2e/v2e.py:506: DeprecationWarning: `np.math` is a deprecated alias for the standard library `math` module (Deprecated Numpy 1.25). Replace usages of `np.math` with `math`\n",
      "  dvsNumFrames = np.math.floor(\n",
      "rgb2luma: 100%|██████████| 51/51 [00:01<00:00, 45.42fr/s]\n",
      "npy2png: 51fr [00:00, 164.86fr/s]\n",
      "dvs: 100%|██████████| 51/51 [00:04<00:00, 11.23fr/s]\n",
      "/bin/sh: 1: xprop: not found\n"
     ]
    },
    {
     "name": "stdout",
     "output_type": "stream",
     "text": [
      "🚀 Processing user_08/GOPR0919 → anger\n"
     ]
    },
    {
     "name": "stderr",
     "output_type": "stream",
     "text": [
      "/kaggle/working/v2e/v2e.py:506: DeprecationWarning: `np.math` is a deprecated alias for the standard library `math` module (Deprecated Numpy 1.25). Replace usages of `np.math` with `math`\n",
      "  dvsNumFrames = np.math.floor(\n",
      "rgb2luma: 100%|██████████| 51/51 [00:01<00:00, 50.77fr/s]\n",
      "npy2png: 51fr [00:00, 168.08fr/s]\n",
      "dvs: 100%|██████████| 51/51 [00:04<00:00, 11.01fr/s]\n",
      "/bin/sh: 1: xprop: not found\n"
     ]
    },
    {
     "name": "stdout",
     "output_type": "stream",
     "text": [
      "🚀 Processing user_08/GOPR0920 → happiness\n"
     ]
    },
    {
     "name": "stderr",
     "output_type": "stream",
     "text": [
      "/kaggle/working/v2e/v2e.py:506: DeprecationWarning: `np.math` is a deprecated alias for the standard library `math` module (Deprecated Numpy 1.25). Replace usages of `np.math` with `math`\n",
      "  dvsNumFrames = np.math.floor(\n",
      "rgb2luma: 100%|██████████| 51/51 [00:01<00:00, 42.27fr/s]\n",
      "npy2png: 51fr [00:00, 167.33fr/s]\n",
      "dvs: 100%|██████████| 51/51 [00:04<00:00, 11.23fr/s]\n",
      "/bin/sh: 1: xprop: not found\n"
     ]
    },
    {
     "name": "stdout",
     "output_type": "stream",
     "text": [
      "🚀 Processing user_08/GOPR0921 → disgust\n"
     ]
    },
    {
     "name": "stderr",
     "output_type": "stream",
     "text": [
      "/kaggle/working/v2e/v2e.py:506: DeprecationWarning: `np.math` is a deprecated alias for the standard library `math` module (Deprecated Numpy 1.25). Replace usages of `np.math` with `math`\n",
      "  dvsNumFrames = np.math.floor(\n",
      "rgb2luma: 100%|██████████| 51/51 [00:01<00:00, 43.68fr/s]\n",
      "npy2png: 51fr [00:00, 169.99fr/s]\n",
      "dvs: 100%|██████████| 51/51 [00:04<00:00, 11.07fr/s]\n",
      "/bin/sh: 1: xprop: not found\n"
     ]
    },
    {
     "name": "stdout",
     "output_type": "stream",
     "text": [
      "🚀 Processing user_08/GOPR0922 → happiness\n"
     ]
    },
    {
     "name": "stderr",
     "output_type": "stream",
     "text": [
      "/kaggle/working/v2e/v2e.py:506: DeprecationWarning: `np.math` is a deprecated alias for the standard library `math` module (Deprecated Numpy 1.25). Replace usages of `np.math` with `math`\n",
      "  dvsNumFrames = np.math.floor(\n",
      "rgb2luma: 100%|██████████| 51/51 [00:01<00:00, 50.29fr/s]\n",
      "npy2png: 51fr [00:00, 161.77fr/s]\n",
      "dvs: 100%|██████████| 51/51 [00:04<00:00, 11.75fr/s]\n",
      "/bin/sh: 1: xprop: not found\n"
     ]
    },
    {
     "name": "stdout",
     "output_type": "stream",
     "text": [
      "🚀 Processing user_08/GOPR0923 → sadness\n"
     ]
    },
    {
     "name": "stderr",
     "output_type": "stream",
     "text": [
      "/kaggle/working/v2e/v2e.py:506: DeprecationWarning: `np.math` is a deprecated alias for the standard library `math` module (Deprecated Numpy 1.25). Replace usages of `np.math` with `math`\n",
      "  dvsNumFrames = np.math.floor(\n",
      "rgb2luma: 100%|██████████| 51/51 [00:00<00:00, 51.04fr/s]\n",
      "npy2png: 51fr [00:00, 170.16fr/s]\n",
      "dvs: 100%|██████████| 51/51 [00:04<00:00, 11.61fr/s]\n",
      "/bin/sh: 1: xprop: not found\n"
     ]
    },
    {
     "name": "stdout",
     "output_type": "stream",
     "text": [
      "🚀 Processing user_08/GOPR0924 → surprise\n"
     ]
    },
    {
     "name": "stderr",
     "output_type": "stream",
     "text": [
      "/kaggle/working/v2e/v2e.py:506: DeprecationWarning: `np.math` is a deprecated alias for the standard library `math` module (Deprecated Numpy 1.25). Replace usages of `np.math` with `math`\n",
      "  dvsNumFrames = np.math.floor(\n",
      "rgb2luma: 100%|██████████| 51/51 [00:01<00:00, 48.52fr/s]\n",
      "npy2png: 51fr [00:00, 169.91fr/s]\n",
      "dvs: 100%|██████████| 51/51 [00:04<00:00, 11.65fr/s]\n",
      "/bin/sh: 1: xprop: not found\n"
     ]
    },
    {
     "name": "stdout",
     "output_type": "stream",
     "text": [
      "🚀 Processing user_08/GOPR0925 → surprise\n"
     ]
    },
    {
     "name": "stderr",
     "output_type": "stream",
     "text": [
      "/kaggle/working/v2e/v2e.py:506: DeprecationWarning: `np.math` is a deprecated alias for the standard library `math` module (Deprecated Numpy 1.25). Replace usages of `np.math` with `math`\n",
      "  dvsNumFrames = np.math.floor(\n",
      "rgb2luma: 100%|██████████| 51/51 [00:01<00:00, 47.18fr/s]\n",
      "npy2png: 51fr [00:00, 168.34fr/s]\n",
      "dvs: 100%|██████████| 51/51 [00:04<00:00, 11.29fr/s]\n",
      "/bin/sh: 1: xprop: not found\n"
     ]
    },
    {
     "name": "stdout",
     "output_type": "stream",
     "text": [
      "🚀 Processing user_08/GOPR0926 → fear\n"
     ]
    },
    {
     "name": "stderr",
     "output_type": "stream",
     "text": [
      "/kaggle/working/v2e/v2e.py:506: DeprecationWarning: `np.math` is a deprecated alias for the standard library `math` module (Deprecated Numpy 1.25). Replace usages of `np.math` with `math`\n",
      "  dvsNumFrames = np.math.floor(\n",
      "rgb2luma: 100%|██████████| 51/51 [00:01<00:00, 50.84fr/s]\n",
      "npy2png: 51fr [00:00, 169.30fr/s]\n",
      "dvs: 100%|██████████| 51/51 [00:04<00:00, 11.44fr/s]\n",
      "/bin/sh: 1: xprop: not found\n"
     ]
    },
    {
     "name": "stdout",
     "output_type": "stream",
     "text": [
      "🚀 Processing user_08/GOPR0927 → contempt\n"
     ]
    },
    {
     "name": "stderr",
     "output_type": "stream",
     "text": [
      "/kaggle/working/v2e/v2e.py:506: DeprecationWarning: `np.math` is a deprecated alias for the standard library `math` module (Deprecated Numpy 1.25). Replace usages of `np.math` with `math`\n",
      "  dvsNumFrames = np.math.floor(\n",
      "rgb2luma: 100%|██████████| 51/51 [00:01<00:00, 50.15fr/s]\n",
      "npy2png: 51fr [00:00, 167.06fr/s]\n",
      "dvs: 100%|██████████| 51/51 [00:04<00:00, 11.45fr/s]\n",
      "/bin/sh: 1: xprop: not found\n"
     ]
    },
    {
     "name": "stdout",
     "output_type": "stream",
     "text": [
      "🚀 Processing user_08/GOPR0928 → sadness\n"
     ]
    },
    {
     "name": "stderr",
     "output_type": "stream",
     "text": [
      "/kaggle/working/v2e/v2e.py:506: DeprecationWarning: `np.math` is a deprecated alias for the standard library `math` module (Deprecated Numpy 1.25). Replace usages of `np.math` with `math`\n",
      "  dvsNumFrames = np.math.floor(\n",
      "rgb2luma: 100%|██████████| 51/51 [00:01<00:00, 47.83fr/s]\n",
      "npy2png: 51fr [00:00, 172.04fr/s]\n",
      "dvs: 100%|██████████| 51/51 [00:04<00:00, 11.79fr/s]\n",
      "/bin/sh: 1: xprop: not found\n"
     ]
    },
    {
     "name": "stdout",
     "output_type": "stream",
     "text": [
      "🚀 Processing user_08/GOPR0929 → surprise\n"
     ]
    },
    {
     "name": "stderr",
     "output_type": "stream",
     "text": [
      "/kaggle/working/v2e/v2e.py:506: DeprecationWarning: `np.math` is a deprecated alias for the standard library `math` module (Deprecated Numpy 1.25). Replace usages of `np.math` with `math`\n",
      "  dvsNumFrames = np.math.floor(\n",
      "rgb2luma: 100%|██████████| 51/51 [00:01<00:00, 48.75fr/s]\n",
      "npy2png: 51fr [00:00, 171.18fr/s]\n",
      "dvs: 100%|██████████| 51/51 [00:04<00:00, 11.65fr/s]\n",
      "/bin/sh: 1: xprop: not found\n"
     ]
    },
    {
     "name": "stdout",
     "output_type": "stream",
     "text": [
      "🚀 Processing user_08/GOPR0930 → sadness\n"
     ]
    },
    {
     "name": "stderr",
     "output_type": "stream",
     "text": [
      "/kaggle/working/v2e/v2e.py:506: DeprecationWarning: `np.math` is a deprecated alias for the standard library `math` module (Deprecated Numpy 1.25). Replace usages of `np.math` with `math`\n",
      "  dvsNumFrames = np.math.floor(\n",
      "rgb2luma: 100%|██████████| 51/51 [00:01<00:00, 48.74fr/s]\n",
      "npy2png: 51fr [00:00, 170.34fr/s]\n",
      "dvs: 100%|██████████| 51/51 [00:04<00:00, 11.84fr/s]\n",
      "/bin/sh: 1: xprop: not found\n"
     ]
    },
    {
     "name": "stdout",
     "output_type": "stream",
     "text": [
      "🚀 Processing user_08/GOPR0931 → contempt\n"
     ]
    },
    {
     "name": "stderr",
     "output_type": "stream",
     "text": [
      "/kaggle/working/v2e/v2e.py:506: DeprecationWarning: `np.math` is a deprecated alias for the standard library `math` module (Deprecated Numpy 1.25). Replace usages of `np.math` with `math`\n",
      "  dvsNumFrames = np.math.floor(\n",
      "rgb2luma: 100%|██████████| 51/51 [00:00<00:00, 51.45fr/s]\n",
      "npy2png: 51fr [00:00, 171.92fr/s]\n",
      "dvs: 100%|██████████| 51/51 [00:04<00:00, 11.51fr/s]\n",
      "/bin/sh: 1: xprop: not found\n"
     ]
    },
    {
     "name": "stdout",
     "output_type": "stream",
     "text": [
      "🚀 Processing user_08/GOPR0932 → happiness\n"
     ]
    },
    {
     "name": "stderr",
     "output_type": "stream",
     "text": [
      "/kaggle/working/v2e/v2e.py:506: DeprecationWarning: `np.math` is a deprecated alias for the standard library `math` module (Deprecated Numpy 1.25). Replace usages of `np.math` with `math`\n",
      "  dvsNumFrames = np.math.floor(\n",
      "rgb2luma: 100%|██████████| 51/51 [00:01<00:00, 46.56fr/s]\n",
      "npy2png: 51fr [00:00, 168.41fr/s]\n",
      "dvs: 100%|██████████| 51/51 [00:04<00:00, 11.61fr/s]\n",
      "/bin/sh: 1: xprop: not found\n"
     ]
    },
    {
     "name": "stdout",
     "output_type": "stream",
     "text": [
      "🚀 Processing user_08/GOPR0933 → surprise\n"
     ]
    },
    {
     "name": "stderr",
     "output_type": "stream",
     "text": [
      "/kaggle/working/v2e/v2e.py:506: DeprecationWarning: `np.math` is a deprecated alias for the standard library `math` module (Deprecated Numpy 1.25). Replace usages of `np.math` with `math`\n",
      "  dvsNumFrames = np.math.floor(\n",
      "rgb2luma: 100%|██████████| 51/51 [00:01<00:00, 48.46fr/s]\n",
      "npy2png: 51fr [00:00, 168.43fr/s]\n",
      "dvs: 100%|██████████| 51/51 [00:04<00:00, 11.55fr/s]\n",
      "/bin/sh: 1: xprop: not found\n"
     ]
    },
    {
     "name": "stdout",
     "output_type": "stream",
     "text": [
      "🚀 Processing user_08/GOPR0934 → surprise\n"
     ]
    },
    {
     "name": "stderr",
     "output_type": "stream",
     "text": [
      "/kaggle/working/v2e/v2e.py:506: DeprecationWarning: `np.math` is a deprecated alias for the standard library `math` module (Deprecated Numpy 1.25). Replace usages of `np.math` with `math`\n",
      "  dvsNumFrames = np.math.floor(\n",
      "rgb2luma: 100%|██████████| 51/51 [00:00<00:00, 52.51fr/s]\n",
      "npy2png: 51fr [00:00, 169.98fr/s]\n",
      "dvs: 100%|██████████| 51/51 [00:04<00:00, 11.43fr/s]\n",
      "/bin/sh: 1: xprop: not found\n"
     ]
    },
    {
     "name": "stdout",
     "output_type": "stream",
     "text": [
      "🚀 Processing user_09/GOPR0935 → surprise\n"
     ]
    },
    {
     "name": "stderr",
     "output_type": "stream",
     "text": [
      "/kaggle/working/v2e/v2e.py:506: DeprecationWarning: `np.math` is a deprecated alias for the standard library `math` module (Deprecated Numpy 1.25). Replace usages of `np.math` with `math`\n",
      "  dvsNumFrames = np.math.floor(\n",
      "rgb2luma: 100%|██████████| 51/51 [00:01<00:00, 48.01fr/s]\n",
      "npy2png: 51fr [00:00, 161.22fr/s]\n",
      "dvs: 100%|██████████| 51/51 [00:04<00:00, 11.80fr/s]\n",
      "/bin/sh: 1: xprop: not found\n"
     ]
    },
    {
     "name": "stdout",
     "output_type": "stream",
     "text": [
      "🚀 Processing user_09/GOPR0936 → fear\n"
     ]
    },
    {
     "name": "stderr",
     "output_type": "stream",
     "text": [
      "/kaggle/working/v2e/v2e.py:506: DeprecationWarning: `np.math` is a deprecated alias for the standard library `math` module (Deprecated Numpy 1.25). Replace usages of `np.math` with `math`\n",
      "  dvsNumFrames = np.math.floor(\n",
      "rgb2luma: 100%|██████████| 51/51 [00:01<00:00, 44.23fr/s]\n",
      "npy2png: 51fr [00:00, 159.70fr/s]\n",
      "dvs: 100%|██████████| 51/51 [00:04<00:00, 11.23fr/s]\n",
      "/bin/sh: 1: xprop: not found\n"
     ]
    },
    {
     "name": "stdout",
     "output_type": "stream",
     "text": [
      "🚀 Processing user_09/GOPR0937 → disgust\n"
     ]
    },
    {
     "name": "stderr",
     "output_type": "stream",
     "text": [
      "/kaggle/working/v2e/v2e.py:506: DeprecationWarning: `np.math` is a deprecated alias for the standard library `math` module (Deprecated Numpy 1.25). Replace usages of `np.math` with `math`\n",
      "  dvsNumFrames = np.math.floor(\n",
      "rgb2luma: 100%|██████████| 51/51 [00:01<00:00, 43.58fr/s]\n",
      "npy2png: 51fr [00:00, 158.76fr/s]\n",
      "dvs: 100%|██████████| 51/51 [00:04<00:00, 11.22fr/s]\n",
      "/bin/sh: 1: xprop: not found\n"
     ]
    },
    {
     "name": "stdout",
     "output_type": "stream",
     "text": [
      "🚀 Processing user_09/GOPR0938 → sadness\n"
     ]
    },
    {
     "name": "stderr",
     "output_type": "stream",
     "text": [
      "/kaggle/working/v2e/v2e.py:506: DeprecationWarning: `np.math` is a deprecated alias for the standard library `math` module (Deprecated Numpy 1.25). Replace usages of `np.math` with `math`\n",
      "  dvsNumFrames = np.math.floor(\n",
      "rgb2luma: 100%|██████████| 51/51 [00:01<00:00, 47.34fr/s]\n",
      "npy2png: 51fr [00:00, 162.38fr/s]\n",
      "dvs: 100%|██████████| 51/51 [00:04<00:00, 11.73fr/s]\n",
      "/bin/sh: 1: xprop: not found\n"
     ]
    },
    {
     "name": "stdout",
     "output_type": "stream",
     "text": [
      "🚀 Processing user_09/GOPR0939 → nan\n"
     ]
    },
    {
     "name": "stderr",
     "output_type": "stream",
     "text": [
      "/kaggle/working/v2e/v2e.py:506: DeprecationWarning: `np.math` is a deprecated alias for the standard library `math` module (Deprecated Numpy 1.25). Replace usages of `np.math` with `math`\n",
      "  dvsNumFrames = np.math.floor(\n",
      "rgb2luma: 100%|██████████| 51/51 [00:01<00:00, 48.33fr/s]\n",
      "npy2png: 51fr [00:00, 163.42fr/s]\n",
      "dvs: 100%|██████████| 51/51 [00:04<00:00, 11.25fr/s]\n",
      "/bin/sh: 1: xprop: not found\n"
     ]
    },
    {
     "name": "stdout",
     "output_type": "stream",
     "text": [
      "🚀 Processing user_09/GOPR0940 → contempt\n"
     ]
    },
    {
     "name": "stderr",
     "output_type": "stream",
     "text": [
      "/kaggle/working/v2e/v2e.py:506: DeprecationWarning: `np.math` is a deprecated alias for the standard library `math` module (Deprecated Numpy 1.25). Replace usages of `np.math` with `math`\n",
      "  dvsNumFrames = np.math.floor(\n",
      "rgb2luma: 100%|██████████| 51/51 [00:01<00:00, 44.24fr/s]\n",
      "npy2png: 51fr [00:00, 163.43fr/s]\n",
      "dvs: 100%|██████████| 51/51 [00:04<00:00, 11.10fr/s]\n",
      "/bin/sh: 1: xprop: not found\n"
     ]
    },
    {
     "name": "stdout",
     "output_type": "stream",
     "text": [
      "🚀 Processing user_09/GOPR0941 → happiness\n"
     ]
    },
    {
     "name": "stderr",
     "output_type": "stream",
     "text": [
      "/kaggle/working/v2e/v2e.py:506: DeprecationWarning: `np.math` is a deprecated alias for the standard library `math` module (Deprecated Numpy 1.25). Replace usages of `np.math` with `math`\n",
      "  dvsNumFrames = np.math.floor(\n",
      "rgb2luma: 100%|██████████| 51/51 [00:01<00:00, 47.01fr/s]\n",
      "npy2png: 51fr [00:00, 152.95fr/s]\n",
      "dvs: 100%|██████████| 51/51 [00:04<00:00, 11.42fr/s]\n",
      "/bin/sh: 1: xprop: not found\n"
     ]
    },
    {
     "name": "stdout",
     "output_type": "stream",
     "text": [
      "🚀 Processing user_09/GOPR0942 → surprise\n"
     ]
    },
    {
     "name": "stderr",
     "output_type": "stream",
     "text": [
      "/kaggle/working/v2e/v2e.py:506: DeprecationWarning: `np.math` is a deprecated alias for the standard library `math` module (Deprecated Numpy 1.25). Replace usages of `np.math` with `math`\n",
      "  dvsNumFrames = np.math.floor(\n",
      "rgb2luma: 100%|██████████| 51/51 [00:01<00:00, 49.01fr/s]\n",
      "npy2png: 51fr [00:00, 162.41fr/s]\n",
      "dvs: 100%|██████████| 51/51 [00:04<00:00, 11.30fr/s]\n",
      "/bin/sh: 1: xprop: not found\n"
     ]
    },
    {
     "name": "stdout",
     "output_type": "stream",
     "text": [
      "🚀 Processing user_09/GOPR0943 → happiness\n"
     ]
    },
    {
     "name": "stderr",
     "output_type": "stream",
     "text": [
      "/kaggle/working/v2e/v2e.py:506: DeprecationWarning: `np.math` is a deprecated alias for the standard library `math` module (Deprecated Numpy 1.25). Replace usages of `np.math` with `math`\n",
      "  dvsNumFrames = np.math.floor(\n",
      "rgb2luma: 100%|██████████| 51/51 [00:01<00:00, 42.01fr/s]\n",
      "npy2png: 51fr [00:00, 148.03fr/s]\n",
      "dvs: 100%|██████████| 51/51 [00:04<00:00, 11.58fr/s]\n",
      "/bin/sh: 1: xprop: not found\n"
     ]
    },
    {
     "name": "stdout",
     "output_type": "stream",
     "text": [
      "🚀 Processing user_09/GOPR0944 → sadness\n"
     ]
    },
    {
     "name": "stderr",
     "output_type": "stream",
     "text": [
      "/kaggle/working/v2e/v2e.py:506: DeprecationWarning: `np.math` is a deprecated alias for the standard library `math` module (Deprecated Numpy 1.25). Replace usages of `np.math` with `math`\n",
      "  dvsNumFrames = np.math.floor(\n",
      "rgb2luma: 100%|██████████| 51/51 [00:01<00:00, 44.58fr/s]\n",
      "npy2png: 51fr [00:00, 163.76fr/s]\n",
      "dvs: 100%|██████████| 51/51 [00:04<00:00, 11.60fr/s]\n",
      "/bin/sh: 1: xprop: not found\n"
     ]
    },
    {
     "name": "stdout",
     "output_type": "stream",
     "text": [
      "🚀 Processing user_09/GOPR0945 → contempt\n"
     ]
    },
    {
     "name": "stderr",
     "output_type": "stream",
     "text": [
      "/kaggle/working/v2e/v2e.py:506: DeprecationWarning: `np.math` is a deprecated alias for the standard library `math` module (Deprecated Numpy 1.25). Replace usages of `np.math` with `math`\n",
      "  dvsNumFrames = np.math.floor(\n",
      "rgb2luma: 100%|██████████| 51/51 [00:01<00:00, 44.40fr/s]\n",
      "npy2png: 51fr [00:00, 152.85fr/s]\n",
      "dvs: 100%|██████████| 51/51 [00:04<00:00, 11.63fr/s]\n",
      "/bin/sh: 1: xprop: not found\n"
     ]
    },
    {
     "name": "stdout",
     "output_type": "stream",
     "text": [
      "🚀 Processing user_09/GOPR0946 → disgust\n"
     ]
    },
    {
     "name": "stderr",
     "output_type": "stream",
     "text": [
      "/kaggle/working/v2e/v2e.py:506: DeprecationWarning: `np.math` is a deprecated alias for the standard library `math` module (Deprecated Numpy 1.25). Replace usages of `np.math` with `math`\n",
      "  dvsNumFrames = np.math.floor(\n",
      "rgb2luma: 100%|██████████| 51/51 [00:01<00:00, 49.21fr/s]\n",
      "npy2png: 51fr [00:00, 162.22fr/s]\n",
      "dvs: 100%|██████████| 51/51 [00:04<00:00, 11.49fr/s]\n",
      "/bin/sh: 1: xprop: not found\n"
     ]
    },
    {
     "name": "stdout",
     "output_type": "stream",
     "text": [
      "🚀 Processing user_09/GOPR0947 → fear\n"
     ]
    },
    {
     "name": "stderr",
     "output_type": "stream",
     "text": [
      "/kaggle/working/v2e/v2e.py:506: DeprecationWarning: `np.math` is a deprecated alias for the standard library `math` module (Deprecated Numpy 1.25). Replace usages of `np.math` with `math`\n",
      "  dvsNumFrames = np.math.floor(\n",
      "rgb2luma: 100%|██████████| 51/51 [00:01<00:00, 43.92fr/s]\n",
      "npy2png: 51fr [00:00, 161.72fr/s]\n",
      "dvs: 100%|██████████| 51/51 [00:04<00:00, 11.54fr/s]\n",
      "/bin/sh: 1: xprop: not found\n"
     ]
    },
    {
     "name": "stdout",
     "output_type": "stream",
     "text": [
      "🚀 Processing user_09/GOPR0948 → sadness\n"
     ]
    },
    {
     "name": "stderr",
     "output_type": "stream",
     "text": [
      "/kaggle/working/v2e/v2e.py:506: DeprecationWarning: `np.math` is a deprecated alias for the standard library `math` module (Deprecated Numpy 1.25). Replace usages of `np.math` with `math`\n",
      "  dvsNumFrames = np.math.floor(\n",
      "rgb2luma: 100%|██████████| 51/51 [00:01<00:00, 44.55fr/s]\n",
      "npy2png: 51fr [00:00, 166.69fr/s]\n",
      "dvs: 100%|██████████| 51/51 [00:04<00:00, 11.73fr/s]\n",
      "/bin/sh: 1: xprop: not found\n"
     ]
    },
    {
     "name": "stdout",
     "output_type": "stream",
     "text": [
      "🚀 Processing user_09/GOPR0949 → sadness\n"
     ]
    },
    {
     "name": "stderr",
     "output_type": "stream",
     "text": [
      "/kaggle/working/v2e/v2e.py:506: DeprecationWarning: `np.math` is a deprecated alias for the standard library `math` module (Deprecated Numpy 1.25). Replace usages of `np.math` with `math`\n",
      "  dvsNumFrames = np.math.floor(\n",
      "rgb2luma: 100%|██████████| 51/51 [00:01<00:00, 46.93fr/s]\n",
      "npy2png: 51fr [00:00, 164.21fr/s]\n",
      "dvs: 100%|██████████| 51/51 [00:04<00:00, 11.63fr/s]\n",
      "/bin/sh: 1: xprop: not found\n"
     ]
    },
    {
     "name": "stdout",
     "output_type": "stream",
     "text": [
      "🚀 Processing user_09/GOPR0950 → surprise\n"
     ]
    },
    {
     "name": "stderr",
     "output_type": "stream",
     "text": [
      "/kaggle/working/v2e/v2e.py:506: DeprecationWarning: `np.math` is a deprecated alias for the standard library `math` module (Deprecated Numpy 1.25). Replace usages of `np.math` with `math`\n",
      "  dvsNumFrames = np.math.floor(\n",
      "rgb2luma: 100%|██████████| 51/51 [00:01<00:00, 49.54fr/s]\n",
      "npy2png: 51fr [00:00, 163.55fr/s]\n",
      "dvs: 100%|██████████| 51/51 [00:04<00:00, 11.64fr/s]\n",
      "/bin/sh: 1: xprop: not found\n"
     ]
    },
    {
     "name": "stdout",
     "output_type": "stream",
     "text": [
      "🚀 Processing user_09/GOPR0951 → sadness\n"
     ]
    },
    {
     "name": "stderr",
     "output_type": "stream",
     "text": [
      "/kaggle/working/v2e/v2e.py:506: DeprecationWarning: `np.math` is a deprecated alias for the standard library `math` module (Deprecated Numpy 1.25). Replace usages of `np.math` with `math`\n",
      "  dvsNumFrames = np.math.floor(\n",
      "rgb2luma: 100%|██████████| 51/51 [00:01<00:00, 44.03fr/s]\n",
      "npy2png: 51fr [00:00, 160.77fr/s]\n",
      "dvs: 100%|██████████| 51/51 [00:04<00:00, 11.58fr/s]\n",
      "/bin/sh: 1: xprop: not found\n"
     ]
    },
    {
     "name": "stdout",
     "output_type": "stream",
     "text": [
      "🚀 Processing user_09/GOPR0952 → sadness\n"
     ]
    },
    {
     "name": "stderr",
     "output_type": "stream",
     "text": [
      "/kaggle/working/v2e/v2e.py:506: DeprecationWarning: `np.math` is a deprecated alias for the standard library `math` module (Deprecated Numpy 1.25). Replace usages of `np.math` with `math`\n",
      "  dvsNumFrames = np.math.floor(\n",
      "rgb2luma: 100%|██████████| 51/51 [00:01<00:00, 47.38fr/s]\n",
      "npy2png: 51fr [00:00, 166.08fr/s]\n",
      "dvs: 100%|██████████| 51/51 [00:04<00:00, 11.84fr/s]\n",
      "/bin/sh: 1: xprop: not found\n"
     ]
    },
    {
     "name": "stdout",
     "output_type": "stream",
     "text": [
      "🚀 Processing user_09/GOPR0953 → nan\n"
     ]
    },
    {
     "name": "stderr",
     "output_type": "stream",
     "text": [
      "/kaggle/working/v2e/v2e.py:506: DeprecationWarning: `np.math` is a deprecated alias for the standard library `math` module (Deprecated Numpy 1.25). Replace usages of `np.math` with `math`\n",
      "  dvsNumFrames = np.math.floor(\n",
      "rgb2luma: 100%|██████████| 51/51 [00:01<00:00, 43.95fr/s]\n",
      "npy2png: 51fr [00:00, 153.61fr/s]\n",
      "dvs: 100%|██████████| 51/51 [00:04<00:00, 11.56fr/s]\n",
      "/bin/sh: 1: xprop: not found\n"
     ]
    },
    {
     "name": "stdout",
     "output_type": "stream",
     "text": [
      "🚀 Processing user_09/GOPR0954 → fear\n"
     ]
    },
    {
     "name": "stderr",
     "output_type": "stream",
     "text": [
      "/kaggle/working/v2e/v2e.py:506: DeprecationWarning: `np.math` is a deprecated alias for the standard library `math` module (Deprecated Numpy 1.25). Replace usages of `np.math` with `math`\n",
      "  dvsNumFrames = np.math.floor(\n",
      "rgb2luma: 100%|██████████| 51/51 [00:01<00:00, 50.55fr/s]\n",
      "npy2png: 51fr [00:00, 166.74fr/s]\n",
      "dvs: 100%|██████████| 51/51 [00:04<00:00, 11.59fr/s]\n",
      "/bin/sh: 1: xprop: not found\n"
     ]
    },
    {
     "name": "stdout",
     "output_type": "stream",
     "text": [
      "🚀 Processing user_09/GOPR0955 → surprise\n"
     ]
    },
    {
     "name": "stderr",
     "output_type": "stream",
     "text": [
      "/kaggle/working/v2e/v2e.py:506: DeprecationWarning: `np.math` is a deprecated alias for the standard library `math` module (Deprecated Numpy 1.25). Replace usages of `np.math` with `math`\n",
      "  dvsNumFrames = np.math.floor(\n",
      "rgb2luma: 100%|██████████| 51/51 [00:01<00:00, 43.81fr/s]\n",
      "npy2png: 51fr [00:00, 159.97fr/s]\n",
      "dvs: 100%|██████████| 51/51 [00:04<00:00, 11.40fr/s]\n",
      "/bin/sh: 1: xprop: not found\n"
     ]
    },
    {
     "name": "stdout",
     "output_type": "stream",
     "text": [
      "🚀 Processing user_10/GOPR0956 → happiness\n"
     ]
    },
    {
     "name": "stderr",
     "output_type": "stream",
     "text": [
      "/kaggle/working/v2e/v2e.py:506: DeprecationWarning: `np.math` is a deprecated alias for the standard library `math` module (Deprecated Numpy 1.25). Replace usages of `np.math` with `math`\n",
      "  dvsNumFrames = np.math.floor(\n",
      "rgb2luma: 100%|██████████| 51/51 [00:01<00:00, 45.00fr/s]\n",
      "npy2png: 51fr [00:00, 162.63fr/s]\n",
      "dvs: 100%|██████████| 51/51 [00:04<00:00, 11.80fr/s]\n",
      "/bin/sh: 1: xprop: not found\n"
     ]
    },
    {
     "name": "stdout",
     "output_type": "stream",
     "text": [
      "🚀 Processing user_10/GOPR0957 → fear\n"
     ]
    },
    {
     "name": "stderr",
     "output_type": "stream",
     "text": [
      "/kaggle/working/v2e/v2e.py:506: DeprecationWarning: `np.math` is a deprecated alias for the standard library `math` module (Deprecated Numpy 1.25). Replace usages of `np.math` with `math`\n",
      "  dvsNumFrames = np.math.floor(\n",
      "rgb2luma: 100%|██████████| 51/51 [00:01<00:00, 45.65fr/s]\n",
      "npy2png: 51fr [00:00, 163.24fr/s]\n",
      "dvs: 100%|██████████| 51/51 [00:04<00:00, 11.76fr/s]\n",
      "/bin/sh: 1: xprop: not found\n"
     ]
    },
    {
     "name": "stdout",
     "output_type": "stream",
     "text": [
      "🚀 Processing user_10/GOPR0958 → disgust\n"
     ]
    },
    {
     "name": "stderr",
     "output_type": "stream",
     "text": [
      "/kaggle/working/v2e/v2e.py:506: DeprecationWarning: `np.math` is a deprecated alias for the standard library `math` module (Deprecated Numpy 1.25). Replace usages of `np.math` with `math`\n",
      "  dvsNumFrames = np.math.floor(\n",
      "rgb2luma: 100%|██████████| 51/51 [00:01<00:00, 48.14fr/s]\n",
      "npy2png: 51fr [00:00, 163.69fr/s]\n",
      "dvs: 100%|██████████| 51/51 [00:04<00:00, 11.55fr/s]\n",
      "/bin/sh: 1: xprop: not found\n"
     ]
    },
    {
     "name": "stdout",
     "output_type": "stream",
     "text": [
      "🚀 Processing user_10/GOPR0959 → sadness\n"
     ]
    },
    {
     "name": "stderr",
     "output_type": "stream",
     "text": [
      "/kaggle/working/v2e/v2e.py:506: DeprecationWarning: `np.math` is a deprecated alias for the standard library `math` module (Deprecated Numpy 1.25). Replace usages of `np.math` with `math`\n",
      "  dvsNumFrames = np.math.floor(\n",
      "rgb2luma: 100%|██████████| 51/51 [00:01<00:00, 41.32fr/s]\n",
      "npy2png: 51fr [00:00, 160.87fr/s]\n",
      "dvs: 100%|██████████| 51/51 [00:04<00:00, 11.87fr/s]\n",
      "/bin/sh: 1: xprop: not found\n"
     ]
    },
    {
     "name": "stdout",
     "output_type": "stream",
     "text": [
      "🚀 Processing user_10/GOPR0960 → sadness\n"
     ]
    },
    {
     "name": "stderr",
     "output_type": "stream",
     "text": [
      "/kaggle/working/v2e/v2e.py:506: DeprecationWarning: `np.math` is a deprecated alias for the standard library `math` module (Deprecated Numpy 1.25). Replace usages of `np.math` with `math`\n",
      "  dvsNumFrames = np.math.floor(\n",
      "rgb2luma: 100%|██████████| 51/51 [00:01<00:00, 44.61fr/s]\n",
      "npy2png: 51fr [00:00, 166.36fr/s]\n",
      "dvs: 100%|██████████| 51/51 [00:04<00:00, 12.22fr/s]\n",
      "/bin/sh: 1: xprop: not found\n"
     ]
    },
    {
     "name": "stdout",
     "output_type": "stream",
     "text": [
      "🚀 Processing user_10/GOPR0961 → contempt\n"
     ]
    },
    {
     "name": "stderr",
     "output_type": "stream",
     "text": [
      "/kaggle/working/v2e/v2e.py:506: DeprecationWarning: `np.math` is a deprecated alias for the standard library `math` module (Deprecated Numpy 1.25). Replace usages of `np.math` with `math`\n",
      "  dvsNumFrames = np.math.floor(\n",
      "rgb2luma: 100%|██████████| 51/51 [00:01<00:00, 47.04fr/s]\n",
      "npy2png: 51fr [00:00, 148.67fr/s]\n",
      "dvs: 100%|██████████| 51/51 [00:04<00:00, 11.66fr/s]\n",
      "/bin/sh: 1: xprop: not found\n"
     ]
    },
    {
     "name": "stdout",
     "output_type": "stream",
     "text": [
      "🚀 Processing user_10/GOPR0962 → happiness\n"
     ]
    },
    {
     "name": "stderr",
     "output_type": "stream",
     "text": [
      "/kaggle/working/v2e/v2e.py:506: DeprecationWarning: `np.math` is a deprecated alias for the standard library `math` module (Deprecated Numpy 1.25). Replace usages of `np.math` with `math`\n",
      "  dvsNumFrames = np.math.floor(\n",
      "rgb2luma: 100%|██████████| 51/51 [00:01<00:00, 49.90fr/s]\n",
      "npy2png: 51fr [00:00, 167.87fr/s]\n",
      "dvs: 100%|██████████| 51/51 [00:04<00:00, 11.74fr/s]\n",
      "/bin/sh: 1: xprop: not found\n"
     ]
    },
    {
     "name": "stdout",
     "output_type": "stream",
     "text": [
      "🚀 Processing user_10/GOPR0963 → disgust\n"
     ]
    },
    {
     "name": "stderr",
     "output_type": "stream",
     "text": [
      "/kaggle/working/v2e/v2e.py:506: DeprecationWarning: `np.math` is a deprecated alias for the standard library `math` module (Deprecated Numpy 1.25). Replace usages of `np.math` with `math`\n",
      "  dvsNumFrames = np.math.floor(\n",
      "rgb2luma: 100%|██████████| 51/51 [00:01<00:00, 44.77fr/s]\n",
      "npy2png: 51fr [00:00, 157.43fr/s]\n",
      "dvs: 100%|██████████| 51/51 [00:04<00:00, 11.36fr/s]\n",
      "/bin/sh: 1: xprop: not found\n"
     ]
    },
    {
     "name": "stdout",
     "output_type": "stream",
     "text": [
      "🚀 Processing user_10/GOPR0964 → surprise\n"
     ]
    },
    {
     "name": "stderr",
     "output_type": "stream",
     "text": [
      "/kaggle/working/v2e/v2e.py:506: DeprecationWarning: `np.math` is a deprecated alias for the standard library `math` module (Deprecated Numpy 1.25). Replace usages of `np.math` with `math`\n",
      "  dvsNumFrames = np.math.floor(\n",
      "rgb2luma: 100%|██████████| 51/51 [00:01<00:00, 45.97fr/s]\n",
      "npy2png: 51fr [00:00, 163.84fr/s]\n",
      "dvs: 100%|██████████| 51/51 [00:04<00:00, 11.39fr/s]\n",
      "/bin/sh: 1: xprop: not found\n"
     ]
    },
    {
     "name": "stdout",
     "output_type": "stream",
     "text": [
      "🚀 Processing user_10/GOPR0965 → contempt\n"
     ]
    },
    {
     "name": "stderr",
     "output_type": "stream",
     "text": [
      "/kaggle/working/v2e/v2e.py:506: DeprecationWarning: `np.math` is a deprecated alias for the standard library `math` module (Deprecated Numpy 1.25). Replace usages of `np.math` with `math`\n",
      "  dvsNumFrames = np.math.floor(\n",
      "rgb2luma: 100%|██████████| 51/51 [00:01<00:00, 47.66fr/s]\n",
      "npy2png: 51fr [00:00, 157.11fr/s]\n",
      "dvs: 100%|██████████| 51/51 [00:04<00:00, 11.65fr/s]\n",
      "/bin/sh: 1: xprop: not found\n"
     ]
    },
    {
     "name": "stdout",
     "output_type": "stream",
     "text": [
      "🚀 Processing user_10/GOPR0966 → surprise\n"
     ]
    },
    {
     "name": "stderr",
     "output_type": "stream",
     "text": [
      "/kaggle/working/v2e/v2e.py:506: DeprecationWarning: `np.math` is a deprecated alias for the standard library `math` module (Deprecated Numpy 1.25). Replace usages of `np.math` with `math`\n",
      "  dvsNumFrames = np.math.floor(\n",
      "rgb2luma: 100%|██████████| 51/51 [00:01<00:00, 47.11fr/s]\n",
      "npy2png: 51fr [00:00, 166.43fr/s]\n",
      "dvs: 100%|██████████| 51/51 [00:04<00:00, 11.71fr/s]\n",
      "/bin/sh: 1: xprop: not found\n"
     ]
    },
    {
     "name": "stdout",
     "output_type": "stream",
     "text": [
      "🚀 Processing user_10/GOPR0967 → disgust\n"
     ]
    },
    {
     "name": "stderr",
     "output_type": "stream",
     "text": [
      "/kaggle/working/v2e/v2e.py:506: DeprecationWarning: `np.math` is a deprecated alias for the standard library `math` module (Deprecated Numpy 1.25). Replace usages of `np.math` with `math`\n",
      "  dvsNumFrames = np.math.floor(\n",
      "rgb2luma: 100%|██████████| 51/51 [00:01<00:00, 46.26fr/s]\n",
      "npy2png: 51fr [00:00, 161.05fr/s]\n",
      "dvs: 100%|██████████| 51/51 [00:04<00:00, 11.75fr/s]\n",
      "/bin/sh: 1: xprop: not found\n"
     ]
    },
    {
     "name": "stdout",
     "output_type": "stream",
     "text": [
      "🚀 Processing user_10/GOPR0968 → fear\n"
     ]
    },
    {
     "name": "stderr",
     "output_type": "stream",
     "text": [
      "/kaggle/working/v2e/v2e.py:506: DeprecationWarning: `np.math` is a deprecated alias for the standard library `math` module (Deprecated Numpy 1.25). Replace usages of `np.math` with `math`\n",
      "  dvsNumFrames = np.math.floor(\n",
      "rgb2luma: 100%|██████████| 51/51 [00:01<00:00, 47.54fr/s]\n",
      "npy2png: 51fr [00:00, 164.48fr/s]\n",
      "dvs: 100%|██████████| 51/51 [00:04<00:00, 11.65fr/s]\n",
      "/bin/sh: 1: xprop: not found\n"
     ]
    },
    {
     "name": "stdout",
     "output_type": "stream",
     "text": [
      "🚀 Processing user_10/GOPR0969 → contempt\n"
     ]
    },
    {
     "name": "stderr",
     "output_type": "stream",
     "text": [
      "/kaggle/working/v2e/v2e.py:506: DeprecationWarning: `np.math` is a deprecated alias for the standard library `math` module (Deprecated Numpy 1.25). Replace usages of `np.math` with `math`\n",
      "  dvsNumFrames = np.math.floor(\n",
      "rgb2luma: 100%|██████████| 51/51 [00:01<00:00, 48.73fr/s]\n",
      "npy2png: 51fr [00:00, 155.31fr/s]\n",
      "dvs: 100%|██████████| 51/51 [00:04<00:00, 11.42fr/s]\n",
      "/bin/sh: 1: xprop: not found\n"
     ]
    },
    {
     "name": "stdout",
     "output_type": "stream",
     "text": [
      "🚀 Processing user_10/GOPR0970 → contempt\n"
     ]
    },
    {
     "name": "stderr",
     "output_type": "stream",
     "text": [
      "/kaggle/working/v2e/v2e.py:506: DeprecationWarning: `np.math` is a deprecated alias for the standard library `math` module (Deprecated Numpy 1.25). Replace usages of `np.math` with `math`\n",
      "  dvsNumFrames = np.math.floor(\n",
      "rgb2luma: 100%|██████████| 51/51 [00:01<00:00, 45.91fr/s]\n",
      "npy2png: 51fr [00:00, 158.49fr/s]\n",
      "dvs: 100%|██████████| 51/51 [00:04<00:00, 11.50fr/s]\n",
      "/bin/sh: 1: xprop: not found\n"
     ]
    },
    {
     "name": "stdout",
     "output_type": "stream",
     "text": [
      "🚀 Processing user_10/GOPR0971 → surprise\n"
     ]
    },
    {
     "name": "stderr",
     "output_type": "stream",
     "text": [
      "/kaggle/working/v2e/v2e.py:506: DeprecationWarning: `np.math` is a deprecated alias for the standard library `math` module (Deprecated Numpy 1.25). Replace usages of `np.math` with `math`\n",
      "  dvsNumFrames = np.math.floor(\n",
      "rgb2luma: 100%|██████████| 51/51 [00:01<00:00, 44.14fr/s]\n",
      "npy2png: 51fr [00:00, 161.00fr/s]\n",
      "dvs: 100%|██████████| 51/51 [00:04<00:00, 11.78fr/s]\n",
      "/bin/sh: 1: xprop: not found\n"
     ]
    },
    {
     "name": "stdout",
     "output_type": "stream",
     "text": [
      "🚀 Processing user_10/GOPR0972 → sadness\n"
     ]
    },
    {
     "name": "stderr",
     "output_type": "stream",
     "text": [
      "/kaggle/working/v2e/v2e.py:506: DeprecationWarning: `np.math` is a deprecated alias for the standard library `math` module (Deprecated Numpy 1.25). Replace usages of `np.math` with `math`\n",
      "  dvsNumFrames = np.math.floor(\n",
      "rgb2luma: 100%|██████████| 51/51 [00:01<00:00, 49.55fr/s]\n",
      "npy2png: 51fr [00:00, 162.08fr/s]\n",
      "dvs: 100%|██████████| 51/51 [00:04<00:00, 11.61fr/s]\n",
      "/bin/sh: 1: xprop: not found\n"
     ]
    },
    {
     "name": "stdout",
     "output_type": "stream",
     "text": [
      "🚀 Processing user_10/GOPR0973 → contempt\n"
     ]
    },
    {
     "name": "stderr",
     "output_type": "stream",
     "text": [
      "/kaggle/working/v2e/v2e.py:506: DeprecationWarning: `np.math` is a deprecated alias for the standard library `math` module (Deprecated Numpy 1.25). Replace usages of `np.math` with `math`\n",
      "  dvsNumFrames = np.math.floor(\n",
      "rgb2luma: 100%|██████████| 51/51 [00:01<00:00, 49.38fr/s]\n",
      "npy2png: 51fr [00:00, 157.91fr/s]\n",
      "dvs: 100%|██████████| 51/51 [00:04<00:00, 11.64fr/s]\n",
      "/bin/sh: 1: xprop: not found\n"
     ]
    },
    {
     "name": "stdout",
     "output_type": "stream",
     "text": [
      "🚀 Processing user_10/GOPR0974 → happiness\n"
     ]
    },
    {
     "name": "stderr",
     "output_type": "stream",
     "text": [
      "/kaggle/working/v2e/v2e.py:506: DeprecationWarning: `np.math` is a deprecated alias for the standard library `math` module (Deprecated Numpy 1.25). Replace usages of `np.math` with `math`\n",
      "  dvsNumFrames = np.math.floor(\n",
      "rgb2luma: 100%|██████████| 51/51 [00:01<00:00, 44.90fr/s]\n",
      "npy2png: 51fr [00:00, 157.46fr/s]\n",
      "dvs: 100%|██████████| 51/51 [00:04<00:00, 11.39fr/s]\n",
      "/bin/sh: 1: xprop: not found\n"
     ]
    },
    {
     "name": "stdout",
     "output_type": "stream",
     "text": [
      "🚀 Processing user_10/GOPR0975 → surprise\n"
     ]
    },
    {
     "name": "stderr",
     "output_type": "stream",
     "text": [
      "/kaggle/working/v2e/v2e.py:506: DeprecationWarning: `np.math` is a deprecated alias for the standard library `math` module (Deprecated Numpy 1.25). Replace usages of `np.math` with `math`\n",
      "  dvsNumFrames = np.math.floor(\n",
      "rgb2luma: 100%|██████████| 51/51 [00:01<00:00, 46.99fr/s]\n",
      "npy2png: 51fr [00:00, 161.22fr/s]\n",
      "dvs: 100%|██████████| 51/51 [00:04<00:00, 11.69fr/s]\n",
      "/bin/sh: 1: xprop: not found\n"
     ]
    },
    {
     "name": "stdout",
     "output_type": "stream",
     "text": [
      "🚀 Processing user_10/GOPR0976 → surprise\n"
     ]
    },
    {
     "name": "stderr",
     "output_type": "stream",
     "text": [
      "/kaggle/working/v2e/v2e.py:506: DeprecationWarning: `np.math` is a deprecated alias for the standard library `math` module (Deprecated Numpy 1.25). Replace usages of `np.math` with `math`\n",
      "  dvsNumFrames = np.math.floor(\n",
      "rgb2luma: 100%|██████████| 51/51 [00:01<00:00, 49.23fr/s]\n",
      "npy2png: 51fr [00:00, 160.26fr/s]\n",
      "dvs: 100%|██████████| 51/51 [00:04<00:00, 11.63fr/s]\n",
      "/bin/sh: 1: xprop: not found\n"
     ]
    },
    {
     "name": "stdout",
     "output_type": "stream",
     "text": [
      "🚀 Processing user_11/GOPR0977 → happiness\n"
     ]
    },
    {
     "name": "stderr",
     "output_type": "stream",
     "text": [
      "/kaggle/working/v2e/v2e.py:506: DeprecationWarning: `np.math` is a deprecated alias for the standard library `math` module (Deprecated Numpy 1.25). Replace usages of `np.math` with `math`\n",
      "  dvsNumFrames = np.math.floor(\n",
      "rgb2luma: 100%|██████████| 51/51 [00:01<00:00, 47.28fr/s]\n",
      "npy2png: 51fr [00:00, 145.02fr/s]\n",
      "dvs: 100%|██████████| 51/51 [00:04<00:00, 11.72fr/s]\n",
      "/bin/sh: 1: xprop: not found\n"
     ]
    },
    {
     "name": "stdout",
     "output_type": "stream",
     "text": [
      "🚀 Processing user_11/GOPR0978 → fear\n"
     ]
    },
    {
     "name": "stderr",
     "output_type": "stream",
     "text": [
      "/kaggle/working/v2e/v2e.py:506: DeprecationWarning: `np.math` is a deprecated alias for the standard library `math` module (Deprecated Numpy 1.25). Replace usages of `np.math` with `math`\n",
      "  dvsNumFrames = np.math.floor(\n",
      "rgb2luma: 100%|██████████| 51/51 [00:01<00:00, 35.45fr/s]\n",
      "npy2png: 51fr [00:00, 163.56fr/s]\n",
      "dvs: 100%|██████████| 51/51 [00:04<00:00, 11.60fr/s]\n",
      "/bin/sh: 1: xprop: not found\n"
     ]
    },
    {
     "name": "stdout",
     "output_type": "stream",
     "text": [
      "🚀 Processing user_11/GOPR0979 → disgust\n"
     ]
    },
    {
     "name": "stderr",
     "output_type": "stream",
     "text": [
      "/kaggle/working/v2e/v2e.py:506: DeprecationWarning: `np.math` is a deprecated alias for the standard library `math` module (Deprecated Numpy 1.25). Replace usages of `np.math` with `math`\n",
      "  dvsNumFrames = np.math.floor(\n",
      "rgb2luma: 100%|██████████| 51/51 [00:01<00:00, 45.75fr/s]\n",
      "npy2png: 51fr [00:00, 165.04fr/s]\n",
      "dvs: 100%|██████████| 51/51 [00:04<00:00, 11.22fr/s]\n",
      "/bin/sh: 1: xprop: not found\n"
     ]
    },
    {
     "name": "stdout",
     "output_type": "stream",
     "text": [
      "🚀 Processing user_11/GOPR0980 → sadness\n"
     ]
    },
    {
     "name": "stderr",
     "output_type": "stream",
     "text": [
      "/kaggle/working/v2e/v2e.py:506: DeprecationWarning: `np.math` is a deprecated alias for the standard library `math` module (Deprecated Numpy 1.25). Replace usages of `np.math` with `math`\n",
      "  dvsNumFrames = np.math.floor(\n",
      "rgb2luma: 100%|██████████| 51/51 [00:01<00:00, 47.72fr/s]\n",
      "npy2png: 51fr [00:00, 167.13fr/s]\n",
      "dvs: 100%|██████████| 51/51 [00:04<00:00, 11.72fr/s]\n",
      "/bin/sh: 1: xprop: not found\n"
     ]
    },
    {
     "name": "stdout",
     "output_type": "stream",
     "text": [
      "🚀 Processing user_11/GOPR0981 → sadness\n"
     ]
    },
    {
     "name": "stderr",
     "output_type": "stream",
     "text": [
      "/kaggle/working/v2e/v2e.py:506: DeprecationWarning: `np.math` is a deprecated alias for the standard library `math` module (Deprecated Numpy 1.25). Replace usages of `np.math` with `math`\n",
      "  dvsNumFrames = np.math.floor(\n",
      "rgb2luma: 100%|██████████| 51/51 [00:01<00:00, 43.59fr/s]\n",
      "npy2png: 51fr [00:00, 167.01fr/s]\n",
      "dvs: 100%|██████████| 51/51 [00:04<00:00, 11.64fr/s]\n",
      "/bin/sh: 1: xprop: not found\n"
     ]
    },
    {
     "name": "stdout",
     "output_type": "stream",
     "text": [
      "🚀 Processing user_11/GOPR0982 → contempt\n"
     ]
    },
    {
     "name": "stderr",
     "output_type": "stream",
     "text": [
      "/kaggle/working/v2e/v2e.py:506: DeprecationWarning: `np.math` is a deprecated alias for the standard library `math` module (Deprecated Numpy 1.25). Replace usages of `np.math` with `math`\n",
      "  dvsNumFrames = np.math.floor(\n",
      "rgb2luma: 100%|██████████| 51/51 [00:01<00:00, 47.08fr/s]\n",
      "npy2png: 51fr [00:00, 167.57fr/s]\n",
      "dvs: 100%|██████████| 51/51 [00:04<00:00, 11.53fr/s]\n",
      "/bin/sh: 1: xprop: not found\n"
     ]
    },
    {
     "name": "stdout",
     "output_type": "stream",
     "text": [
      "🚀 Processing user_11/GOPR0983 → happiness\n"
     ]
    },
    {
     "name": "stderr",
     "output_type": "stream",
     "text": [
      "/kaggle/working/v2e/v2e.py:506: DeprecationWarning: `np.math` is a deprecated alias for the standard library `math` module (Deprecated Numpy 1.25). Replace usages of `np.math` with `math`\n",
      "  dvsNumFrames = np.math.floor(\n",
      "rgb2luma: 100%|██████████| 51/51 [00:01<00:00, 43.47fr/s]\n",
      "npy2png: 51fr [00:00, 164.35fr/s]\n",
      "dvs: 100%|██████████| 51/51 [00:04<00:00, 11.46fr/s]\n",
      "/bin/sh: 1: xprop: not found\n"
     ]
    },
    {
     "name": "stdout",
     "output_type": "stream",
     "text": [
      "🚀 Processing user_11/GOPR0984 → disgust\n"
     ]
    },
    {
     "name": "stderr",
     "output_type": "stream",
     "text": [
      "/kaggle/working/v2e/v2e.py:506: DeprecationWarning: `np.math` is a deprecated alias for the standard library `math` module (Deprecated Numpy 1.25). Replace usages of `np.math` with `math`\n",
      "  dvsNumFrames = np.math.floor(\n",
      "rgb2luma: 100%|██████████| 51/51 [00:01<00:00, 48.09fr/s]\n",
      "npy2png: 51fr [00:00, 163.97fr/s]\n",
      "dvs: 100%|██████████| 51/51 [00:04<00:00, 11.33fr/s]\n",
      "/bin/sh: 1: xprop: not found\n"
     ]
    },
    {
     "name": "stdout",
     "output_type": "stream",
     "text": [
      "🚀 Processing user_11/GOPR0985 → surprise\n"
     ]
    },
    {
     "name": "stderr",
     "output_type": "stream",
     "text": [
      "/kaggle/working/v2e/v2e.py:506: DeprecationWarning: `np.math` is a deprecated alias for the standard library `math` module (Deprecated Numpy 1.25). Replace usages of `np.math` with `math`\n",
      "  dvsNumFrames = np.math.floor(\n",
      "rgb2luma: 100%|██████████| 51/51 [00:01<00:00, 43.35fr/s]\n",
      "npy2png: 51fr [00:00, 165.26fr/s]\n",
      "dvs: 100%|██████████| 51/51 [00:04<00:00, 11.64fr/s]\n",
      "/bin/sh: 1: xprop: not found\n"
     ]
    },
    {
     "name": "stdout",
     "output_type": "stream",
     "text": [
      "🚀 Processing user_11/GOPR0986 → anger\n"
     ]
    },
    {
     "name": "stderr",
     "output_type": "stream",
     "text": [
      "/kaggle/working/v2e/v2e.py:506: DeprecationWarning: `np.math` is a deprecated alias for the standard library `math` module (Deprecated Numpy 1.25). Replace usages of `np.math` with `math`\n",
      "  dvsNumFrames = np.math.floor(\n",
      "rgb2luma: 100%|██████████| 51/51 [00:01<00:00, 47.98fr/s]\n",
      "npy2png: 51fr [00:00, 167.26fr/s]\n",
      "dvs: 100%|██████████| 51/51 [00:04<00:00, 11.58fr/s]\n",
      "/bin/sh: 1: xprop: not found\n"
     ]
    },
    {
     "name": "stdout",
     "output_type": "stream",
     "text": [
      "🚀 Processing user_11/GOPR0987 → surprise\n"
     ]
    },
    {
     "name": "stderr",
     "output_type": "stream",
     "text": [
      "/kaggle/working/v2e/v2e.py:506: DeprecationWarning: `np.math` is a deprecated alias for the standard library `math` module (Deprecated Numpy 1.25). Replace usages of `np.math` with `math`\n",
      "  dvsNumFrames = np.math.floor(\n",
      "rgb2luma: 100%|██████████| 51/51 [00:01<00:00, 36.07fr/s]\n",
      "npy2png: 51fr [00:00, 164.88fr/s]\n",
      "dvs: 100%|██████████| 51/51 [00:04<00:00, 11.51fr/s]\n",
      "/bin/sh: 1: xprop: not found\n"
     ]
    },
    {
     "name": "stdout",
     "output_type": "stream",
     "text": [
      "🚀 Processing user_11/GOPR0988 → disgust\n"
     ]
    },
    {
     "name": "stderr",
     "output_type": "stream",
     "text": [
      "/kaggle/working/v2e/v2e.py:506: DeprecationWarning: `np.math` is a deprecated alias for the standard library `math` module (Deprecated Numpy 1.25). Replace usages of `np.math` with `math`\n",
      "  dvsNumFrames = np.math.floor(\n",
      "rgb2luma: 100%|██████████| 51/51 [00:01<00:00, 30.62fr/s]\n",
      "npy2png: 51fr [00:00, 161.89fr/s]\n",
      "dvs: 100%|██████████| 51/51 [00:04<00:00, 11.13fr/s]\n",
      "/bin/sh: 1: xprop: not found\n"
     ]
    },
    {
     "name": "stdout",
     "output_type": "stream",
     "text": [
      "🚀 Processing user_11/GOPR0989 → fear\n"
     ]
    },
    {
     "name": "stderr",
     "output_type": "stream",
     "text": [
      "/kaggle/working/v2e/v2e.py:506: DeprecationWarning: `np.math` is a deprecated alias for the standard library `math` module (Deprecated Numpy 1.25). Replace usages of `np.math` with `math`\n",
      "  dvsNumFrames = np.math.floor(\n",
      "rgb2luma: 100%|██████████| 51/51 [00:01<00:00, 27.70fr/s]\n",
      "npy2png: 51fr [00:00, 165.94fr/s]\n",
      "dvs: 100%|██████████| 51/51 [00:04<00:00, 11.17fr/s]\n",
      "/bin/sh: 1: xprop: not found\n"
     ]
    },
    {
     "name": "stdout",
     "output_type": "stream",
     "text": [
      "🚀 Processing user_11/GOPR0990 → anger\n"
     ]
    },
    {
     "name": "stderr",
     "output_type": "stream",
     "text": [
      "/kaggle/working/v2e/v2e.py:506: DeprecationWarning: `np.math` is a deprecated alias for the standard library `math` module (Deprecated Numpy 1.25). Replace usages of `np.math` with `math`\n",
      "  dvsNumFrames = np.math.floor(\n",
      "rgb2luma: 100%|██████████| 51/51 [00:01<00:00, 41.36fr/s]\n",
      "npy2png: 51fr [00:00, 165.36fr/s]\n",
      "dvs: 100%|██████████| 51/51 [00:04<00:00, 11.46fr/s]\n",
      "/bin/sh: 1: xprop: not found\n"
     ]
    },
    {
     "name": "stdout",
     "output_type": "stream",
     "text": [
      "🚀 Processing user_11/GOPR0991 → contempt\n"
     ]
    },
    {
     "name": "stderr",
     "output_type": "stream",
     "text": [
      "/kaggle/working/v2e/v2e.py:506: DeprecationWarning: `np.math` is a deprecated alias for the standard library `math` module (Deprecated Numpy 1.25). Replace usages of `np.math` with `math`\n",
      "  dvsNumFrames = np.math.floor(\n",
      "rgb2luma: 100%|██████████| 51/51 [00:01<00:00, 48.77fr/s]\n",
      "npy2png: 51fr [00:00, 161.51fr/s]\n",
      "dvs: 100%|██████████| 51/51 [00:04<00:00, 11.64fr/s]\n",
      "/bin/sh: 1: xprop: not found\n"
     ]
    },
    {
     "name": "stdout",
     "output_type": "stream",
     "text": [
      "🚀 Processing user_11/GOPR0992 → surprise\n"
     ]
    },
    {
     "name": "stderr",
     "output_type": "stream",
     "text": [
      "/kaggle/working/v2e/v2e.py:506: DeprecationWarning: `np.math` is a deprecated alias for the standard library `math` module (Deprecated Numpy 1.25). Replace usages of `np.math` with `math`\n",
      "  dvsNumFrames = np.math.floor(\n",
      "rgb2luma: 100%|██████████| 51/51 [00:01<00:00, 46.10fr/s]\n",
      "npy2png: 51fr [00:00, 166.45fr/s]\n",
      "dvs: 100%|██████████| 51/51 [00:04<00:00, 11.64fr/s]\n",
      "/bin/sh: 1: xprop: not found\n"
     ]
    },
    {
     "name": "stdout",
     "output_type": "stream",
     "text": [
      "🚀 Processing user_11/GOPR0993 → sadness\n"
     ]
    },
    {
     "name": "stderr",
     "output_type": "stream",
     "text": [
      "/kaggle/working/v2e/v2e.py:506: DeprecationWarning: `np.math` is a deprecated alias for the standard library `math` module (Deprecated Numpy 1.25). Replace usages of `np.math` with `math`\n",
      "  dvsNumFrames = np.math.floor(\n",
      "rgb2luma: 100%|██████████| 51/51 [00:01<00:00, 44.50fr/s]\n",
      "npy2png: 51fr [00:00, 165.57fr/s]\n",
      "dvs: 100%|██████████| 51/51 [00:04<00:00, 11.40fr/s]\n",
      "/bin/sh: 1: xprop: not found\n"
     ]
    },
    {
     "name": "stdout",
     "output_type": "stream",
     "text": [
      "🚀 Processing user_11/GOPR0994 → contempt\n"
     ]
    },
    {
     "name": "stderr",
     "output_type": "stream",
     "text": [
      "/kaggle/working/v2e/v2e.py:506: DeprecationWarning: `np.math` is a deprecated alias for the standard library `math` module (Deprecated Numpy 1.25). Replace usages of `np.math` with `math`\n",
      "  dvsNumFrames = np.math.floor(\n",
      "rgb2luma: 100%|██████████| 51/51 [00:02<00:00, 21.53fr/s]\n",
      "npy2png: 51fr [00:00, 166.95fr/s]\n",
      "dvs: 100%|██████████| 51/51 [00:04<00:00, 11.66fr/s]\n",
      "/bin/sh: 1: xprop: not found\n"
     ]
    },
    {
     "name": "stdout",
     "output_type": "stream",
     "text": [
      "🚀 Processing user_11/GOPR0995 → happiness\n"
     ]
    },
    {
     "name": "stderr",
     "output_type": "stream",
     "text": [
      "/kaggle/working/v2e/v2e.py:506: DeprecationWarning: `np.math` is a deprecated alias for the standard library `math` module (Deprecated Numpy 1.25). Replace usages of `np.math` with `math`\n",
      "  dvsNumFrames = np.math.floor(\n",
      "rgb2luma: 100%|██████████| 51/51 [00:01<00:00, 47.06fr/s]\n",
      "npy2png: 51fr [00:00, 166.11fr/s]\n",
      "dvs: 100%|██████████| 51/51 [00:04<00:00, 11.42fr/s]\n",
      "/bin/sh: 1: xprop: not found\n"
     ]
    },
    {
     "name": "stdout",
     "output_type": "stream",
     "text": [
      "🚀 Processing user_11/GOPR0996 → fear\n"
     ]
    },
    {
     "name": "stderr",
     "output_type": "stream",
     "text": [
      "/kaggle/working/v2e/v2e.py:506: DeprecationWarning: `np.math` is a deprecated alias for the standard library `math` module (Deprecated Numpy 1.25). Replace usages of `np.math` with `math`\n",
      "  dvsNumFrames = np.math.floor(\n",
      "rgb2luma: 100%|██████████| 51/51 [00:01<00:00, 38.39fr/s]\n",
      "npy2png: 51fr [00:00, 163.95fr/s]\n",
      "dvs: 100%|██████████| 51/51 [00:04<00:00, 11.26fr/s]\n",
      "/bin/sh: 1: xprop: not found\n"
     ]
    },
    {
     "name": "stdout",
     "output_type": "stream",
     "text": [
      "🚀 Processing user_11/GOPR0997 → surprise\n"
     ]
    },
    {
     "name": "stderr",
     "output_type": "stream",
     "text": [
      "/kaggle/working/v2e/v2e.py:506: DeprecationWarning: `np.math` is a deprecated alias for the standard library `math` module (Deprecated Numpy 1.25). Replace usages of `np.math` with `math`\n",
      "  dvsNumFrames = np.math.floor(\n",
      "rgb2luma: 100%|██████████| 51/51 [00:01<00:00, 44.09fr/s]\n",
      "npy2png: 51fr [00:00, 165.37fr/s]\n",
      "dvs: 100%|██████████| 51/51 [00:04<00:00, 11.63fr/s]\n",
      "/bin/sh: 1: xprop: not found\n"
     ]
    },
    {
     "name": "stdout",
     "output_type": "stream",
     "text": [
      "🚀 Processing user_12/GOPR0998 → happiness\n"
     ]
    },
    {
     "name": "stderr",
     "output_type": "stream",
     "text": [
      "/kaggle/working/v2e/v2e.py:506: DeprecationWarning: `np.math` is a deprecated alias for the standard library `math` module (Deprecated Numpy 1.25). Replace usages of `np.math` with `math`\n",
      "  dvsNumFrames = np.math.floor(\n",
      "rgb2luma: 100%|██████████| 51/51 [00:01<00:00, 46.38fr/s]\n",
      "npy2png: 51fr [00:00, 155.90fr/s]\n",
      "dvs: 100%|██████████| 51/51 [00:04<00:00, 11.75fr/s]\n",
      "/bin/sh: 1: xprop: not found\n"
     ]
    },
    {
     "name": "stdout",
     "output_type": "stream",
     "text": [
      "🚀 Processing user_12/GOPR0999 → fear\n"
     ]
    },
    {
     "name": "stderr",
     "output_type": "stream",
     "text": [
      "/kaggle/working/v2e/v2e.py:506: DeprecationWarning: `np.math` is a deprecated alias for the standard library `math` module (Deprecated Numpy 1.25). Replace usages of `np.math` with `math`\n",
      "  dvsNumFrames = np.math.floor(\n",
      "rgb2luma: 100%|██████████| 51/51 [00:01<00:00, 45.19fr/s]\n",
      "npy2png: 51fr [00:00, 164.22fr/s]\n",
      "dvs: 100%|██████████| 51/51 [00:04<00:00, 11.22fr/s]\n",
      "/bin/sh: 1: xprop: not found\n"
     ]
    },
    {
     "name": "stdout",
     "output_type": "stream",
     "text": [
      "🚀 Processing user_12/GOPR1000 → disgust\n"
     ]
    },
    {
     "name": "stderr",
     "output_type": "stream",
     "text": [
      "/kaggle/working/v2e/v2e.py:506: DeprecationWarning: `np.math` is a deprecated alias for the standard library `math` module (Deprecated Numpy 1.25). Replace usages of `np.math` with `math`\n",
      "  dvsNumFrames = np.math.floor(\n",
      "rgb2luma: 100%|██████████| 51/51 [00:01<00:00, 47.51fr/s]\n",
      "npy2png: 51fr [00:00, 163.99fr/s]\n",
      "dvs: 100%|██████████| 51/51 [00:04<00:00, 11.43fr/s]\n",
      "/bin/sh: 1: xprop: not found\n"
     ]
    },
    {
     "name": "stdout",
     "output_type": "stream",
     "text": [
      "🚀 Processing user_12/GOPR1001 → sadness\n"
     ]
    },
    {
     "name": "stderr",
     "output_type": "stream",
     "text": [
      "/kaggle/working/v2e/v2e.py:506: DeprecationWarning: `np.math` is a deprecated alias for the standard library `math` module (Deprecated Numpy 1.25). Replace usages of `np.math` with `math`\n",
      "  dvsNumFrames = np.math.floor(\n",
      "rgb2luma: 100%|██████████| 51/51 [00:01<00:00, 47.07fr/s]\n",
      "npy2png: 51fr [00:00, 162.84fr/s]\n",
      "dvs: 100%|██████████| 51/51 [00:04<00:00, 11.29fr/s]\n",
      "/bin/sh: 1: xprop: not found\n"
     ]
    },
    {
     "name": "stdout",
     "output_type": "stream",
     "text": [
      "🚀 Processing user_12/GOPR1002 → sadness\n"
     ]
    },
    {
     "name": "stderr",
     "output_type": "stream",
     "text": [
      "/kaggle/working/v2e/v2e.py:506: DeprecationWarning: `np.math` is a deprecated alias for the standard library `math` module (Deprecated Numpy 1.25). Replace usages of `np.math` with `math`\n",
      "  dvsNumFrames = np.math.floor(\n",
      "rgb2luma: 100%|██████████| 51/51 [00:01<00:00, 46.86fr/s]\n",
      "npy2png: 51fr [00:00, 160.90fr/s]\n",
      "dvs: 100%|██████████| 51/51 [00:04<00:00, 11.98fr/s]\n",
      "/bin/sh: 1: xprop: not found\n"
     ]
    },
    {
     "name": "stdout",
     "output_type": "stream",
     "text": [
      "🚀 Processing user_12/GOPR1003 → contempt\n"
     ]
    },
    {
     "name": "stderr",
     "output_type": "stream",
     "text": [
      "/kaggle/working/v2e/v2e.py:506: DeprecationWarning: `np.math` is a deprecated alias for the standard library `math` module (Deprecated Numpy 1.25). Replace usages of `np.math` with `math`\n",
      "  dvsNumFrames = np.math.floor(\n",
      "rgb2luma: 100%|██████████| 51/51 [00:01<00:00, 50.31fr/s]\n",
      "npy2png: 51fr [00:00, 162.43fr/s]\n",
      "dvs: 100%|██████████| 51/51 [00:04<00:00, 11.44fr/s]\n",
      "/bin/sh: 1: xprop: not found\n"
     ]
    },
    {
     "name": "stdout",
     "output_type": "stream",
     "text": [
      "🚀 Processing user_12/GOPR1004 → happiness\n"
     ]
    },
    {
     "name": "stderr",
     "output_type": "stream",
     "text": [
      "/kaggle/working/v2e/v2e.py:506: DeprecationWarning: `np.math` is a deprecated alias for the standard library `math` module (Deprecated Numpy 1.25). Replace usages of `np.math` with `math`\n",
      "  dvsNumFrames = np.math.floor(\n",
      "rgb2luma: 100%|██████████| 51/51 [00:01<00:00, 45.62fr/s]\n",
      "npy2png: 51fr [00:00, 159.84fr/s]\n",
      "dvs: 100%|██████████| 51/51 [00:04<00:00, 11.32fr/s]\n",
      "/bin/sh: 1: xprop: not found\n"
     ]
    },
    {
     "name": "stdout",
     "output_type": "stream",
     "text": [
      "🚀 Processing user_12/GOPR1005 → disgust\n"
     ]
    },
    {
     "name": "stderr",
     "output_type": "stream",
     "text": [
      "/kaggle/working/v2e/v2e.py:506: DeprecationWarning: `np.math` is a deprecated alias for the standard library `math` module (Deprecated Numpy 1.25). Replace usages of `np.math` with `math`\n",
      "  dvsNumFrames = np.math.floor(\n",
      "rgb2luma: 100%|██████████| 51/51 [00:01<00:00, 48.64fr/s]\n",
      "npy2png: 51fr [00:00, 160.08fr/s]\n",
      "dvs: 100%|██████████| 51/51 [00:04<00:00, 11.66fr/s]\n",
      "/bin/sh: 1: xprop: not found\n"
     ]
    },
    {
     "name": "stdout",
     "output_type": "stream",
     "text": [
      "🚀 Processing user_12/GOPR1006 → surprise\n"
     ]
    },
    {
     "name": "stderr",
     "output_type": "stream",
     "text": [
      "/kaggle/working/v2e/v2e.py:506: DeprecationWarning: `np.math` is a deprecated alias for the standard library `math` module (Deprecated Numpy 1.25). Replace usages of `np.math` with `math`\n",
      "  dvsNumFrames = np.math.floor(\n",
      "rgb2luma: 100%|██████████| 51/51 [00:01<00:00, 46.05fr/s]\n",
      "npy2png: 51fr [00:00, 157.90fr/s]\n",
      "dvs: 100%|██████████| 51/51 [00:04<00:00, 11.72fr/s]\n",
      "/bin/sh: 1: xprop: not found\n"
     ]
    },
    {
     "name": "stdout",
     "output_type": "stream",
     "text": [
      "🚀 Processing user_12/GOPR1007 → anger\n"
     ]
    },
    {
     "name": "stderr",
     "output_type": "stream",
     "text": [
      "/kaggle/working/v2e/v2e.py:506: DeprecationWarning: `np.math` is a deprecated alias for the standard library `math` module (Deprecated Numpy 1.25). Replace usages of `np.math` with `math`\n",
      "  dvsNumFrames = np.math.floor(\n",
      "rgb2luma: 100%|██████████| 51/51 [00:01<00:00, 50.56fr/s]\n",
      "npy2png: 51fr [00:00, 157.83fr/s]\n",
      "dvs: 100%|██████████| 51/51 [00:04<00:00, 11.93fr/s]\n",
      "/bin/sh: 1: xprop: not found\n"
     ]
    },
    {
     "name": "stdout",
     "output_type": "stream",
     "text": [
      "🚀 Processing user_12/GOPR1008 → surprise\n"
     ]
    },
    {
     "name": "stderr",
     "output_type": "stream",
     "text": [
      "/kaggle/working/v2e/v2e.py:506: DeprecationWarning: `np.math` is a deprecated alias for the standard library `math` module (Deprecated Numpy 1.25). Replace usages of `np.math` with `math`\n",
      "  dvsNumFrames = np.math.floor(\n",
      "rgb2luma: 100%|██████████| 51/51 [00:01<00:00, 46.22fr/s]\n",
      "npy2png: 51fr [00:00, 154.95fr/s]\n",
      "dvs: 100%|██████████| 51/51 [00:04<00:00, 11.80fr/s]\n",
      "/bin/sh: 1: xprop: not found\n"
     ]
    },
    {
     "name": "stdout",
     "output_type": "stream",
     "text": [
      "🚀 Processing user_12/GOPR1009 → disgust\n"
     ]
    },
    {
     "name": "stderr",
     "output_type": "stream",
     "text": [
      "/kaggle/working/v2e/v2e.py:506: DeprecationWarning: `np.math` is a deprecated alias for the standard library `math` module (Deprecated Numpy 1.25). Replace usages of `np.math` with `math`\n",
      "  dvsNumFrames = np.math.floor(\n",
      "rgb2luma: 100%|██████████| 51/51 [00:01<00:00, 46.21fr/s]\n",
      "npy2png: 51fr [00:00, 157.48fr/s]\n",
      "dvs: 100%|██████████| 51/51 [00:04<00:00, 11.54fr/s]\n",
      "/bin/sh: 1: xprop: not found\n"
     ]
    },
    {
     "name": "stdout",
     "output_type": "stream",
     "text": [
      "🚀 Processing user_12/GOPR1010 → nan\n"
     ]
    },
    {
     "name": "stderr",
     "output_type": "stream",
     "text": [
      "/kaggle/working/v2e/v2e.py:506: DeprecationWarning: `np.math` is a deprecated alias for the standard library `math` module (Deprecated Numpy 1.25). Replace usages of `np.math` with `math`\n",
      "  dvsNumFrames = np.math.floor(\n",
      "rgb2luma: 100%|██████████| 51/51 [00:01<00:00, 45.88fr/s]\n",
      "npy2png: 51fr [00:00, 160.13fr/s]\n",
      "dvs: 100%|██████████| 51/51 [00:04<00:00, 11.64fr/s]\n",
      "/bin/sh: 1: xprop: not found\n"
     ]
    },
    {
     "name": "stdout",
     "output_type": "stream",
     "text": [
      "🚀 Processing user_12/GOPR1011 → contempt\n"
     ]
    },
    {
     "name": "stderr",
     "output_type": "stream",
     "text": [
      "/kaggle/working/v2e/v2e.py:506: DeprecationWarning: `np.math` is a deprecated alias for the standard library `math` module (Deprecated Numpy 1.25). Replace usages of `np.math` with `math`\n",
      "  dvsNumFrames = np.math.floor(\n",
      "rgb2luma: 100%|██████████| 51/51 [00:01<00:00, 44.92fr/s]\n",
      "npy2png: 51fr [00:00, 162.54fr/s]\n",
      "dvs: 100%|██████████| 51/51 [00:04<00:00, 11.79fr/s]\n",
      "/bin/sh: 1: xprop: not found\n"
     ]
    },
    {
     "name": "stdout",
     "output_type": "stream",
     "text": [
      "🚀 Processing user_12/GOPR1012 → contempt\n"
     ]
    },
    {
     "name": "stderr",
     "output_type": "stream",
     "text": [
      "/kaggle/working/v2e/v2e.py:506: DeprecationWarning: `np.math` is a deprecated alias for the standard library `math` module (Deprecated Numpy 1.25). Replace usages of `np.math` with `math`\n",
      "  dvsNumFrames = np.math.floor(\n",
      "rgb2luma: 100%|██████████| 51/51 [00:01<00:00, 42.79fr/s]\n",
      "npy2png: 51fr [00:00, 158.89fr/s]\n",
      "dvs: 100%|██████████| 51/51 [00:04<00:00, 11.73fr/s]\n",
      "/bin/sh: 1: xprop: not found\n"
     ]
    },
    {
     "name": "stdout",
     "output_type": "stream",
     "text": [
      "🚀 Processing user_12/GOPR1013 → surprise\n"
     ]
    },
    {
     "name": "stderr",
     "output_type": "stream",
     "text": [
      "/kaggle/working/v2e/v2e.py:506: DeprecationWarning: `np.math` is a deprecated alias for the standard library `math` module (Deprecated Numpy 1.25). Replace usages of `np.math` with `math`\n",
      "  dvsNumFrames = np.math.floor(\n",
      "rgb2luma: 100%|██████████| 51/51 [00:01<00:00, 47.68fr/s]\n",
      "npy2png: 51fr [00:00, 158.21fr/s]\n",
      "dvs: 100%|██████████| 51/51 [00:04<00:00, 11.43fr/s]\n",
      "/bin/sh: 1: xprop: not found\n"
     ]
    },
    {
     "name": "stdout",
     "output_type": "stream",
     "text": [
      "🚀 Processing user_12/GOPR1014 → sadness\n"
     ]
    },
    {
     "name": "stderr",
     "output_type": "stream",
     "text": [
      "/kaggle/working/v2e/v2e.py:506: DeprecationWarning: `np.math` is a deprecated alias for the standard library `math` module (Deprecated Numpy 1.25). Replace usages of `np.math` with `math`\n",
      "  dvsNumFrames = np.math.floor(\n",
      "rgb2luma: 100%|██████████| 51/51 [00:01<00:00, 49.08fr/s]\n",
      "npy2png: 51fr [00:00, 160.37fr/s]\n",
      "dvs: 100%|██████████| 51/51 [00:04<00:00, 11.88fr/s]\n",
      "/bin/sh: 1: xprop: not found\n"
     ]
    },
    {
     "name": "stdout",
     "output_type": "stream",
     "text": [
      "🚀 Processing user_12/GOPR1015 → anger\n"
     ]
    },
    {
     "name": "stderr",
     "output_type": "stream",
     "text": [
      "/kaggle/working/v2e/v2e.py:506: DeprecationWarning: `np.math` is a deprecated alias for the standard library `math` module (Deprecated Numpy 1.25). Replace usages of `np.math` with `math`\n",
      "  dvsNumFrames = np.math.floor(\n",
      "rgb2luma: 100%|██████████| 51/51 [00:01<00:00, 44.21fr/s]\n",
      "npy2png: 51fr [00:00, 158.27fr/s]\n",
      "dvs: 100%|██████████| 51/51 [00:04<00:00, 11.91fr/s]\n",
      "/bin/sh: 1: xprop: not found\n"
     ]
    },
    {
     "name": "stdout",
     "output_type": "stream",
     "text": [
      "🚀 Processing user_12/GOPR1016 → nan\n"
     ]
    },
    {
     "name": "stderr",
     "output_type": "stream",
     "text": [
      "/kaggle/working/v2e/v2e.py:506: DeprecationWarning: `np.math` is a deprecated alias for the standard library `math` module (Deprecated Numpy 1.25). Replace usages of `np.math` with `math`\n",
      "  dvsNumFrames = np.math.floor(\n",
      "rgb2luma: 100%|██████████| 51/51 [00:01<00:00, 44.57fr/s]\n",
      "npy2png: 51fr [00:00, 155.22fr/s]\n",
      "dvs: 100%|██████████| 51/51 [00:04<00:00, 11.64fr/s]\n",
      "/bin/sh: 1: xprop: not found\n"
     ]
    },
    {
     "name": "stdout",
     "output_type": "stream",
     "text": [
      "🚀 Processing user_12/GOPR1017 → surprise\n"
     ]
    },
    {
     "name": "stderr",
     "output_type": "stream",
     "text": [
      "/kaggle/working/v2e/v2e.py:506: DeprecationWarning: `np.math` is a deprecated alias for the standard library `math` module (Deprecated Numpy 1.25). Replace usages of `np.math` with `math`\n",
      "  dvsNumFrames = np.math.floor(\n",
      "rgb2luma: 100%|██████████| 51/51 [00:01<00:00, 47.23fr/s]\n",
      "npy2png: 51fr [00:00, 163.70fr/s]\n",
      "dvs: 100%|██████████| 51/51 [00:04<00:00, 11.36fr/s]\n",
      "/bin/sh: 1: xprop: not found\n"
     ]
    },
    {
     "name": "stdout",
     "output_type": "stream",
     "text": [
      "🚀 Processing user_12/GOPR1018 → surprise\n"
     ]
    },
    {
     "name": "stderr",
     "output_type": "stream",
     "text": [
      "/kaggle/working/v2e/v2e.py:506: DeprecationWarning: `np.math` is a deprecated alias for the standard library `math` module (Deprecated Numpy 1.25). Replace usages of `np.math` with `math`\n",
      "  dvsNumFrames = np.math.floor(\n",
      "rgb2luma: 100%|██████████| 51/51 [00:01<00:00, 47.01fr/s]\n",
      "npy2png: 51fr [00:00, 160.78fr/s]\n",
      "dvs: 100%|██████████| 51/51 [00:04<00:00, 11.07fr/s]\n",
      "/bin/sh: 1: xprop: not found\n"
     ]
    },
    {
     "name": "stdout",
     "output_type": "stream",
     "text": [
      "🚀 Processing user_13/GOPR1019 → happiness\n"
     ]
    },
    {
     "name": "stderr",
     "output_type": "stream",
     "text": [
      "/kaggle/working/v2e/v2e.py:506: DeprecationWarning: `np.math` is a deprecated alias for the standard library `math` module (Deprecated Numpy 1.25). Replace usages of `np.math` with `math`\n",
      "  dvsNumFrames = np.math.floor(\n",
      "rgb2luma: 100%|██████████| 51/51 [00:01<00:00, 40.74fr/s]\n",
      "npy2png: 51fr [00:00, 157.30fr/s]\n",
      "dvs: 100%|██████████| 51/51 [00:04<00:00, 11.62fr/s]\n",
      "/bin/sh: 1: xprop: not found\n"
     ]
    },
    {
     "name": "stdout",
     "output_type": "stream",
     "text": [
      "🚀 Processing user_13/GOPR1020 → fear\n"
     ]
    },
    {
     "name": "stderr",
     "output_type": "stream",
     "text": [
      "/kaggle/working/v2e/v2e.py:506: DeprecationWarning: `np.math` is a deprecated alias for the standard library `math` module (Deprecated Numpy 1.25). Replace usages of `np.math` with `math`\n",
      "  dvsNumFrames = np.math.floor(\n",
      "rgb2luma: 100%|██████████| 51/51 [00:01<00:00, 45.75fr/s]\n",
      "npy2png: 51fr [00:00, 157.07fr/s]\n",
      "dvs: 100%|██████████| 51/51 [00:04<00:00, 11.48fr/s]\n",
      "/bin/sh: 1: xprop: not found\n"
     ]
    },
    {
     "name": "stdout",
     "output_type": "stream",
     "text": [
      "🚀 Processing user_13/GOPR1021 → disgust\n"
     ]
    },
    {
     "name": "stderr",
     "output_type": "stream",
     "text": [
      "/kaggle/working/v2e/v2e.py:506: DeprecationWarning: `np.math` is a deprecated alias for the standard library `math` module (Deprecated Numpy 1.25). Replace usages of `np.math` with `math`\n",
      "  dvsNumFrames = np.math.floor(\n",
      "rgb2luma: 100%|██████████| 51/51 [00:01<00:00, 45.07fr/s]\n",
      "npy2png: 51fr [00:00, 156.72fr/s]\n",
      "dvs: 100%|██████████| 51/51 [00:04<00:00, 11.88fr/s]\n",
      "/bin/sh: 1: xprop: not found\n"
     ]
    },
    {
     "name": "stdout",
     "output_type": "stream",
     "text": [
      "🚀 Processing user_13/GOPR1022 → sadness\n"
     ]
    },
    {
     "name": "stderr",
     "output_type": "stream",
     "text": [
      "/kaggle/working/v2e/v2e.py:506: DeprecationWarning: `np.math` is a deprecated alias for the standard library `math` module (Deprecated Numpy 1.25). Replace usages of `np.math` with `math`\n",
      "  dvsNumFrames = np.math.floor(\n",
      "rgb2luma: 100%|██████████| 51/51 [00:01<00:00, 46.58fr/s]\n",
      "npy2png: 51fr [00:00, 155.05fr/s]\n",
      "dvs: 100%|██████████| 51/51 [00:04<00:00, 11.80fr/s]\n",
      "/bin/sh: 1: xprop: not found\n"
     ]
    },
    {
     "name": "stdout",
     "output_type": "stream",
     "text": [
      "🚀 Processing user_13/GOPR1023 → sadness\n"
     ]
    },
    {
     "name": "stderr",
     "output_type": "stream",
     "text": [
      "/kaggle/working/v2e/v2e.py:506: DeprecationWarning: `np.math` is a deprecated alias for the standard library `math` module (Deprecated Numpy 1.25). Replace usages of `np.math` with `math`\n",
      "  dvsNumFrames = np.math.floor(\n",
      "rgb2luma: 100%|██████████| 51/51 [00:01<00:00, 44.84fr/s]\n",
      "npy2png: 51fr [00:00, 156.09fr/s]\n",
      "dvs: 100%|██████████| 51/51 [00:04<00:00, 11.89fr/s]\n",
      "/bin/sh: 1: xprop: not found\n"
     ]
    },
    {
     "name": "stdout",
     "output_type": "stream",
     "text": [
      "🚀 Processing user_13/GOPR1024 → contempt\n"
     ]
    },
    {
     "name": "stderr",
     "output_type": "stream",
     "text": [
      "/kaggle/working/v2e/v2e.py:506: DeprecationWarning: `np.math` is a deprecated alias for the standard library `math` module (Deprecated Numpy 1.25). Replace usages of `np.math` with `math`\n",
      "  dvsNumFrames = np.math.floor(\n",
      "rgb2luma: 100%|██████████| 51/51 [00:01<00:00, 46.87fr/s]\n",
      "npy2png: 51fr [00:00, 154.32fr/s]\n",
      "dvs: 100%|██████████| 51/51 [00:04<00:00, 11.81fr/s]\n",
      "/bin/sh: 1: xprop: not found\n"
     ]
    },
    {
     "name": "stdout",
     "output_type": "stream",
     "text": [
      "🚀 Processing user_13/GOPR1025 → happiness\n"
     ]
    },
    {
     "name": "stderr",
     "output_type": "stream",
     "text": [
      "/kaggle/working/v2e/v2e.py:506: DeprecationWarning: `np.math` is a deprecated alias for the standard library `math` module (Deprecated Numpy 1.25). Replace usages of `np.math` with `math`\n",
      "  dvsNumFrames = np.math.floor(\n",
      "rgb2luma: 100%|██████████| 51/51 [00:01<00:00, 46.70fr/s]\n",
      "npy2png: 51fr [00:00, 157.23fr/s]\n",
      "dvs: 100%|██████████| 51/51 [00:04<00:00, 11.91fr/s]\n",
      "/bin/sh: 1: xprop: not found\n"
     ]
    },
    {
     "name": "stdout",
     "output_type": "stream",
     "text": [
      "🚀 Processing user_13/GOPR1026 → disgust\n"
     ]
    },
    {
     "name": "stderr",
     "output_type": "stream",
     "text": [
      "/kaggle/working/v2e/v2e.py:506: DeprecationWarning: `np.math` is a deprecated alias for the standard library `math` module (Deprecated Numpy 1.25). Replace usages of `np.math` with `math`\n",
      "  dvsNumFrames = np.math.floor(\n",
      "rgb2luma: 100%|██████████| 51/51 [00:01<00:00, 45.55fr/s]\n",
      "npy2png: 51fr [00:00, 157.53fr/s]\n",
      "dvs: 100%|██████████| 51/51 [00:04<00:00, 12.06fr/s]\n",
      "/bin/sh: 1: xprop: not found\n"
     ]
    },
    {
     "name": "stdout",
     "output_type": "stream",
     "text": [
      "🚀 Processing user_13/GOPR1027 → surprise\n"
     ]
    },
    {
     "name": "stderr",
     "output_type": "stream",
     "text": [
      "/kaggle/working/v2e/v2e.py:506: DeprecationWarning: `np.math` is a deprecated alias for the standard library `math` module (Deprecated Numpy 1.25). Replace usages of `np.math` with `math`\n",
      "  dvsNumFrames = np.math.floor(\n",
      "rgb2luma: 100%|██████████| 51/51 [00:01<00:00, 42.23fr/s]\n",
      "npy2png: 51fr [00:00, 156.76fr/s]\n",
      "dvs: 100%|██████████| 51/51 [00:04<00:00, 12.49fr/s]\n",
      "/bin/sh: 1: xprop: not found\n"
     ]
    },
    {
     "name": "stdout",
     "output_type": "stream",
     "text": [
      "🚀 Processing user_13/GOPR1028 → contempt\n"
     ]
    },
    {
     "name": "stderr",
     "output_type": "stream",
     "text": [
      "/kaggle/working/v2e/v2e.py:506: DeprecationWarning: `np.math` is a deprecated alias for the standard library `math` module (Deprecated Numpy 1.25). Replace usages of `np.math` with `math`\n",
      "  dvsNumFrames = np.math.floor(\n",
      "rgb2luma: 100%|██████████| 51/51 [00:01<00:00, 43.93fr/s]\n",
      "npy2png: 51fr [00:00, 157.83fr/s]\n",
      "dvs: 100%|██████████| 51/51 [00:04<00:00, 12.04fr/s]\n",
      "/bin/sh: 1: xprop: not found\n"
     ]
    },
    {
     "name": "stdout",
     "output_type": "stream",
     "text": [
      "🚀 Processing user_13/GOPR1029 → nan\n"
     ]
    },
    {
     "name": "stderr",
     "output_type": "stream",
     "text": [
      "/kaggle/working/v2e/v2e.py:506: DeprecationWarning: `np.math` is a deprecated alias for the standard library `math` module (Deprecated Numpy 1.25). Replace usages of `np.math` with `math`\n",
      "  dvsNumFrames = np.math.floor(\n",
      "rgb2luma: 100%|██████████| 51/51 [00:01<00:00, 45.57fr/s]\n",
      "npy2png: 51fr [00:00, 157.46fr/s]\n",
      "dvs: 100%|██████████| 51/51 [00:04<00:00, 11.62fr/s]\n",
      "/bin/sh: 1: xprop: not found\n"
     ]
    },
    {
     "name": "stdout",
     "output_type": "stream",
     "text": [
      "🚀 Processing user_13/GOPR1030 → disgust\n"
     ]
    },
    {
     "name": "stderr",
     "output_type": "stream",
     "text": [
      "/kaggle/working/v2e/v2e.py:506: DeprecationWarning: `np.math` is a deprecated alias for the standard library `math` module (Deprecated Numpy 1.25). Replace usages of `np.math` with `math`\n",
      "  dvsNumFrames = np.math.floor(\n",
      "rgb2luma: 100%|██████████| 51/51 [00:01<00:00, 45.79fr/s]\n",
      "npy2png: 51fr [00:00, 157.28fr/s]\n",
      "dvs: 100%|██████████| 51/51 [00:04<00:00, 12.00fr/s]\n",
      "/bin/sh: 1: xprop: not found\n"
     ]
    },
    {
     "name": "stdout",
     "output_type": "stream",
     "text": [
      "🚀 Processing user_13/GOPR1031 → surprise\n"
     ]
    },
    {
     "name": "stderr",
     "output_type": "stream",
     "text": [
      "/kaggle/working/v2e/v2e.py:506: DeprecationWarning: `np.math` is a deprecated alias for the standard library `math` module (Deprecated Numpy 1.25). Replace usages of `np.math` with `math`\n",
      "  dvsNumFrames = np.math.floor(\n",
      "rgb2luma: 100%|██████████| 51/51 [00:01<00:00, 43.06fr/s]\n",
      "npy2png: 51fr [00:00, 157.95fr/s]\n",
      "dvs: 100%|██████████| 51/51 [00:04<00:00, 11.87fr/s]\n",
      "/bin/sh: 1: xprop: not found\n"
     ]
    },
    {
     "name": "stdout",
     "output_type": "stream",
     "text": [
      "🚀 Processing user_13/GOPR1032 → anger\n"
     ]
    },
    {
     "name": "stderr",
     "output_type": "stream",
     "text": [
      "/kaggle/working/v2e/v2e.py:506: DeprecationWarning: `np.math` is a deprecated alias for the standard library `math` module (Deprecated Numpy 1.25). Replace usages of `np.math` with `math`\n",
      "  dvsNumFrames = np.math.floor(\n",
      "rgb2luma: 100%|██████████| 51/51 [00:01<00:00, 46.17fr/s]\n",
      "npy2png: 51fr [00:00, 156.42fr/s]\n",
      "dvs: 100%|██████████| 51/51 [00:04<00:00, 12.02fr/s]\n",
      "/bin/sh: 1: xprop: not found\n"
     ]
    },
    {
     "name": "stdout",
     "output_type": "stream",
     "text": [
      "🚀 Processing user_13/GOPR1033 → contempt\n"
     ]
    },
    {
     "name": "stderr",
     "output_type": "stream",
     "text": [
      "/kaggle/working/v2e/v2e.py:506: DeprecationWarning: `np.math` is a deprecated alias for the standard library `math` module (Deprecated Numpy 1.25). Replace usages of `np.math` with `math`\n",
      "  dvsNumFrames = np.math.floor(\n",
      "rgb2luma: 100%|██████████| 51/51 [00:01<00:00, 47.09fr/s]\n",
      "npy2png: 51fr [00:00, 157.51fr/s]\n",
      "dvs: 100%|██████████| 51/51 [00:04<00:00, 11.68fr/s]\n",
      "/bin/sh: 1: xprop: not found\n"
     ]
    },
    {
     "name": "stdout",
     "output_type": "stream",
     "text": [
      "🚀 Processing user_13/GOPR1034 → surprise\n"
     ]
    },
    {
     "name": "stderr",
     "output_type": "stream",
     "text": [
      "/kaggle/working/v2e/v2e.py:506: DeprecationWarning: `np.math` is a deprecated alias for the standard library `math` module (Deprecated Numpy 1.25). Replace usages of `np.math` with `math`\n",
      "  dvsNumFrames = np.math.floor(\n",
      "rgb2luma: 100%|██████████| 51/51 [00:01<00:00, 45.77fr/s]\n",
      "npy2png: 51fr [00:00, 147.18fr/s]\n",
      "dvs: 100%|██████████| 51/51 [00:04<00:00, 12.40fr/s]\n",
      "/bin/sh: 1: xprop: not found\n"
     ]
    },
    {
     "name": "stdout",
     "output_type": "stream",
     "text": [
      "🚀 Processing user_13/GOPR1035 → sadness\n"
     ]
    },
    {
     "name": "stderr",
     "output_type": "stream",
     "text": [
      "/kaggle/working/v2e/v2e.py:506: DeprecationWarning: `np.math` is a deprecated alias for the standard library `math` module (Deprecated Numpy 1.25). Replace usages of `np.math` with `math`\n",
      "  dvsNumFrames = np.math.floor(\n",
      "rgb2luma: 100%|██████████| 51/51 [00:01<00:00, 41.01fr/s]\n",
      "npy2png: 51fr [00:00, 156.49fr/s]\n",
      "dvs: 100%|██████████| 51/51 [00:04<00:00, 11.87fr/s]\n",
      "/bin/sh: 1: xprop: not found\n"
     ]
    },
    {
     "name": "stdout",
     "output_type": "stream",
     "text": [
      "🚀 Processing user_13/GOPR1036 → sadness\n"
     ]
    },
    {
     "name": "stderr",
     "output_type": "stream",
     "text": [
      "/kaggle/working/v2e/v2e.py:506: DeprecationWarning: `np.math` is a deprecated alias for the standard library `math` module (Deprecated Numpy 1.25). Replace usages of `np.math` with `math`\n",
      "  dvsNumFrames = np.math.floor(\n",
      "rgb2luma: 100%|██████████| 51/51 [00:01<00:00, 37.54fr/s]\n",
      "npy2png: 51fr [00:00, 157.32fr/s]\n",
      "dvs: 100%|██████████| 51/51 [00:04<00:00, 11.91fr/s]\n",
      "/bin/sh: 1: xprop: not found\n"
     ]
    },
    {
     "name": "stdout",
     "output_type": "stream",
     "text": [
      "🚀 Processing user_13/GOPR1037 → happiness\n"
     ]
    },
    {
     "name": "stderr",
     "output_type": "stream",
     "text": [
      "/kaggle/working/v2e/v2e.py:506: DeprecationWarning: `np.math` is a deprecated alias for the standard library `math` module (Deprecated Numpy 1.25). Replace usages of `np.math` with `math`\n",
      "  dvsNumFrames = np.math.floor(\n",
      "rgb2luma: 100%|██████████| 51/51 [00:01<00:00, 43.48fr/s]\n",
      "npy2png: 51fr [00:00, 157.93fr/s]\n",
      "dvs: 100%|██████████| 51/51 [00:04<00:00, 11.96fr/s]\n",
      "/bin/sh: 1: xprop: not found\n"
     ]
    },
    {
     "name": "stdout",
     "output_type": "stream",
     "text": [
      "🚀 Processing user_13/GOPR1038 → surprise\n"
     ]
    },
    {
     "name": "stderr",
     "output_type": "stream",
     "text": [
      "/kaggle/working/v2e/v2e.py:506: DeprecationWarning: `np.math` is a deprecated alias for the standard library `math` module (Deprecated Numpy 1.25). Replace usages of `np.math` with `math`\n",
      "  dvsNumFrames = np.math.floor(\n",
      "rgb2luma: 100%|██████████| 51/51 [00:01<00:00, 44.76fr/s]\n",
      "npy2png: 51fr [00:00, 152.36fr/s]\n",
      "dvs: 100%|██████████| 51/51 [00:04<00:00, 11.79fr/s]\n",
      "/bin/sh: 1: xprop: not found\n"
     ]
    },
    {
     "name": "stdout",
     "output_type": "stream",
     "text": [
      "🚀 Processing user_13/GOPR1039 → happiness\n"
     ]
    },
    {
     "name": "stderr",
     "output_type": "stream",
     "text": [
      "/kaggle/working/v2e/v2e.py:506: DeprecationWarning: `np.math` is a deprecated alias for the standard library `math` module (Deprecated Numpy 1.25). Replace usages of `np.math` with `math`\n",
      "  dvsNumFrames = np.math.floor(\n",
      "rgb2luma: 100%|██████████| 51/51 [00:01<00:00, 45.68fr/s]\n",
      "npy2png: 51fr [00:00, 156.00fr/s]\n",
      "dvs: 100%|██████████| 51/51 [00:04<00:00, 11.49fr/s]\n",
      "/bin/sh: 1: xprop: not found\n"
     ]
    },
    {
     "name": "stdout",
     "output_type": "stream",
     "text": [
      "🚀 Processing user_14/GOPR1040 → happiness\n"
     ]
    },
    {
     "name": "stderr",
     "output_type": "stream",
     "text": [
      "/kaggle/working/v2e/v2e.py:506: DeprecationWarning: `np.math` is a deprecated alias for the standard library `math` module (Deprecated Numpy 1.25). Replace usages of `np.math` with `math`\n",
      "  dvsNumFrames = np.math.floor(\n",
      "rgb2luma: 100%|██████████| 51/51 [00:01<00:00, 47.59fr/s]\n",
      "npy2png: 51fr [00:00, 161.19fr/s]\n",
      "dvs: 100%|██████████| 51/51 [00:04<00:00, 11.84fr/s]\n",
      "/bin/sh: 1: xprop: not found\n"
     ]
    },
    {
     "name": "stdout",
     "output_type": "stream",
     "text": [
      "🚀 Processing user_14/GOPR1041 → fear\n"
     ]
    },
    {
     "name": "stderr",
     "output_type": "stream",
     "text": [
      "/kaggle/working/v2e/v2e.py:506: DeprecationWarning: `np.math` is a deprecated alias for the standard library `math` module (Deprecated Numpy 1.25). Replace usages of `np.math` with `math`\n",
      "  dvsNumFrames = np.math.floor(\n",
      "rgb2luma: 100%|██████████| 51/51 [00:01<00:00, 47.24fr/s]\n",
      "npy2png: 51fr [00:00, 160.78fr/s]\n",
      "dvs: 100%|██████████| 51/51 [00:04<00:00, 11.07fr/s]\n",
      "/bin/sh: 1: xprop: not found\n"
     ]
    },
    {
     "name": "stdout",
     "output_type": "stream",
     "text": [
      "🚀 Processing user_14/GOPR1042 → disgust\n"
     ]
    },
    {
     "name": "stderr",
     "output_type": "stream",
     "text": [
      "/kaggle/working/v2e/v2e.py:506: DeprecationWarning: `np.math` is a deprecated alias for the standard library `math` module (Deprecated Numpy 1.25). Replace usages of `np.math` with `math`\n",
      "  dvsNumFrames = np.math.floor(\n",
      "rgb2luma: 100%|██████████| 51/51 [00:01<00:00, 47.00fr/s]\n",
      "npy2png: 51fr [00:00, 159.48fr/s]\n",
      "dvs: 100%|██████████| 51/51 [00:04<00:00, 11.29fr/s]\n",
      "/bin/sh: 1: xprop: not found\n"
     ]
    },
    {
     "name": "stdout",
     "output_type": "stream",
     "text": [
      "🚀 Processing user_14/GOPR1043 → sadness\n"
     ]
    },
    {
     "name": "stderr",
     "output_type": "stream",
     "text": [
      "/kaggle/working/v2e/v2e.py:506: DeprecationWarning: `np.math` is a deprecated alias for the standard library `math` module (Deprecated Numpy 1.25). Replace usages of `np.math` with `math`\n",
      "  dvsNumFrames = np.math.floor(\n",
      "rgb2luma: 100%|██████████| 51/51 [00:01<00:00, 46.72fr/s]\n",
      "npy2png: 51fr [00:00, 160.74fr/s]\n",
      "dvs: 100%|██████████| 51/51 [00:04<00:00, 11.69fr/s]\n",
      "/bin/sh: 1: xprop: not found\n"
     ]
    },
    {
     "name": "stdout",
     "output_type": "stream",
     "text": [
      "🚀 Processing user_14/GOPR1044 → sadness\n"
     ]
    },
    {
     "name": "stderr",
     "output_type": "stream",
     "text": [
      "/kaggle/working/v2e/v2e.py:506: DeprecationWarning: `np.math` is a deprecated alias for the standard library `math` module (Deprecated Numpy 1.25). Replace usages of `np.math` with `math`\n",
      "  dvsNumFrames = np.math.floor(\n",
      "rgb2luma: 100%|██████████| 51/51 [00:01<00:00, 48.56fr/s]\n",
      "npy2png: 51fr [00:00, 163.79fr/s]\n",
      "dvs: 100%|██████████| 51/51 [00:04<00:00, 12.05fr/s]\n",
      "/bin/sh: 1: xprop: not found\n"
     ]
    },
    {
     "name": "stdout",
     "output_type": "stream",
     "text": [
      "🚀 Processing user_14/GOPR1045 → anger\n"
     ]
    },
    {
     "name": "stderr",
     "output_type": "stream",
     "text": [
      "/kaggle/working/v2e/v2e.py:506: DeprecationWarning: `np.math` is a deprecated alias for the standard library `math` module (Deprecated Numpy 1.25). Replace usages of `np.math` with `math`\n",
      "  dvsNumFrames = np.math.floor(\n",
      "rgb2luma: 100%|██████████| 51/51 [00:01<00:00, 48.53fr/s]\n",
      "npy2png: 51fr [00:00, 162.63fr/s]\n",
      "dvs: 100%|██████████| 51/51 [00:04<00:00, 11.79fr/s]\n",
      "/bin/sh: 1: xprop: not found\n"
     ]
    },
    {
     "name": "stdout",
     "output_type": "stream",
     "text": [
      "🚀 Processing user_14/GOPR1046 → happiness\n"
     ]
    },
    {
     "name": "stderr",
     "output_type": "stream",
     "text": [
      "/kaggle/working/v2e/v2e.py:506: DeprecationWarning: `np.math` is a deprecated alias for the standard library `math` module (Deprecated Numpy 1.25). Replace usages of `np.math` with `math`\n",
      "  dvsNumFrames = np.math.floor(\n",
      "rgb2luma: 100%|██████████| 51/51 [00:01<00:00, 45.55fr/s]\n",
      "npy2png: 51fr [00:00, 155.15fr/s]\n",
      "dvs: 100%|██████████| 51/51 [00:04<00:00, 11.47fr/s]\n",
      "/bin/sh: 1: xprop: not found\n"
     ]
    },
    {
     "name": "stdout",
     "output_type": "stream",
     "text": [
      "🚀 Processing user_14/GOPR1047 → disgust\n"
     ]
    },
    {
     "name": "stderr",
     "output_type": "stream",
     "text": [
      "/kaggle/working/v2e/v2e.py:506: DeprecationWarning: `np.math` is a deprecated alias for the standard library `math` module (Deprecated Numpy 1.25). Replace usages of `np.math` with `math`\n",
      "  dvsNumFrames = np.math.floor(\n",
      "rgb2luma: 100%|██████████| 51/51 [00:01<00:00, 45.48fr/s]\n",
      "npy2png: 51fr [00:00, 161.22fr/s]\n",
      "dvs: 100%|██████████| 51/51 [00:04<00:00, 12.05fr/s]\n",
      "/bin/sh: 1: xprop: not found\n"
     ]
    },
    {
     "name": "stdout",
     "output_type": "stream",
     "text": [
      "🚀 Processing user_14/GOPR1048 → surprise\n"
     ]
    },
    {
     "name": "stderr",
     "output_type": "stream",
     "text": [
      "/kaggle/working/v2e/v2e.py:506: DeprecationWarning: `np.math` is a deprecated alias for the standard library `math` module (Deprecated Numpy 1.25). Replace usages of `np.math` with `math`\n",
      "  dvsNumFrames = np.math.floor(\n",
      "rgb2luma: 100%|██████████| 51/51 [00:01<00:00, 48.60fr/s]\n",
      "npy2png: 51fr [00:00, 159.50fr/s]\n",
      "dvs: 100%|██████████| 51/51 [00:04<00:00, 11.57fr/s]\n",
      "/bin/sh: 1: xprop: not found\n"
     ]
    },
    {
     "name": "stdout",
     "output_type": "stream",
     "text": [
      "🚀 Processing user_14/GOPR1049 → anger\n"
     ]
    },
    {
     "name": "stderr",
     "output_type": "stream",
     "text": [
      "/kaggle/working/v2e/v2e.py:506: DeprecationWarning: `np.math` is a deprecated alias for the standard library `math` module (Deprecated Numpy 1.25). Replace usages of `np.math` with `math`\n",
      "  dvsNumFrames = np.math.floor(\n",
      "rgb2luma: 100%|██████████| 51/51 [00:01<00:00, 49.64fr/s]\n",
      "npy2png: 51fr [00:00, 161.03fr/s]\n",
      "dvs: 100%|██████████| 51/51 [00:04<00:00, 11.65fr/s]\n",
      "/bin/sh: 1: xprop: not found\n"
     ]
    },
    {
     "name": "stdout",
     "output_type": "stream",
     "text": [
      "🚀 Processing user_14/GOPR1050 → happiness\n"
     ]
    },
    {
     "name": "stderr",
     "output_type": "stream",
     "text": [
      "/kaggle/working/v2e/v2e.py:506: DeprecationWarning: `np.math` is a deprecated alias for the standard library `math` module (Deprecated Numpy 1.25). Replace usages of `np.math` with `math`\n",
      "  dvsNumFrames = np.math.floor(\n",
      "rgb2luma: 100%|██████████| 51/51 [00:01<00:00, 45.39fr/s]\n",
      "npy2png: 51fr [00:00, 160.45fr/s]\n",
      "dvs: 100%|██████████| 51/51 [00:04<00:00, 11.95fr/s]\n",
      "/bin/sh: 1: xprop: not found\n"
     ]
    },
    {
     "name": "stdout",
     "output_type": "stream",
     "text": [
      "🚀 Processing user_14/GOPR1051 → disgust\n"
     ]
    },
    {
     "name": "stderr",
     "output_type": "stream",
     "text": [
      "/kaggle/working/v2e/v2e.py:506: DeprecationWarning: `np.math` is a deprecated alias for the standard library `math` module (Deprecated Numpy 1.25). Replace usages of `np.math` with `math`\n",
      "  dvsNumFrames = np.math.floor(\n",
      "rgb2luma: 100%|██████████| 51/51 [00:01<00:00, 46.46fr/s]\n",
      "npy2png: 51fr [00:00, 162.24fr/s]\n",
      "dvs: 100%|██████████| 51/51 [00:04<00:00, 11.63fr/s]\n",
      "/bin/sh: 1: xprop: not found\n"
     ]
    },
    {
     "name": "stdout",
     "output_type": "stream",
     "text": [
      "🚀 Processing user_14/GOPR1052 → surprise\n"
     ]
    },
    {
     "name": "stderr",
     "output_type": "stream",
     "text": [
      "/kaggle/working/v2e/v2e.py:506: DeprecationWarning: `np.math` is a deprecated alias for the standard library `math` module (Deprecated Numpy 1.25). Replace usages of `np.math` with `math`\n",
      "  dvsNumFrames = np.math.floor(\n",
      "rgb2luma: 100%|██████████| 51/51 [00:01<00:00, 46.58fr/s]\n",
      "npy2png: 51fr [00:00, 163.43fr/s]\n",
      "dvs: 100%|██████████| 51/51 [00:04<00:00, 11.77fr/s]\n",
      "/bin/sh: 1: xprop: not found\n"
     ]
    },
    {
     "name": "stdout",
     "output_type": "stream",
     "text": [
      "🚀 Processing user_14/GOPR1053 → disgust\n"
     ]
    },
    {
     "name": "stderr",
     "output_type": "stream",
     "text": [
      "/kaggle/working/v2e/v2e.py:506: DeprecationWarning: `np.math` is a deprecated alias for the standard library `math` module (Deprecated Numpy 1.25). Replace usages of `np.math` with `math`\n",
      "  dvsNumFrames = np.math.floor(\n",
      "rgb2luma: 100%|██████████| 51/51 [00:01<00:00, 44.74fr/s]\n",
      "npy2png: 51fr [00:00, 164.03fr/s]\n",
      "dvs: 100%|██████████| 51/51 [00:04<00:00, 11.77fr/s]\n",
      "/bin/sh: 1: xprop: not found\n"
     ]
    },
    {
     "name": "stdout",
     "output_type": "stream",
     "text": [
      "🚀 Processing user_14/GOPR1054 → contempt\n"
     ]
    },
    {
     "name": "stderr",
     "output_type": "stream",
     "text": [
      "/kaggle/working/v2e/v2e.py:506: DeprecationWarning: `np.math` is a deprecated alias for the standard library `math` module (Deprecated Numpy 1.25). Replace usages of `np.math` with `math`\n",
      "  dvsNumFrames = np.math.floor(\n",
      "rgb2luma: 100%|██████████| 51/51 [00:01<00:00, 47.24fr/s]\n",
      "npy2png: 51fr [00:00, 160.47fr/s]\n",
      "dvs: 100%|██████████| 51/51 [00:04<00:00, 11.87fr/s]\n",
      "/bin/sh: 1: xprop: not found\n"
     ]
    },
    {
     "name": "stdout",
     "output_type": "stream",
     "text": [
      "🚀 Processing user_14/GOPR1055 → nan\n"
     ]
    },
    {
     "name": "stderr",
     "output_type": "stream",
     "text": [
      "/kaggle/working/v2e/v2e.py:506: DeprecationWarning: `np.math` is a deprecated alias for the standard library `math` module (Deprecated Numpy 1.25). Replace usages of `np.math` with `math`\n",
      "  dvsNumFrames = np.math.floor(\n",
      "rgb2luma: 100%|██████████| 51/51 [00:01<00:00, 45.24fr/s]\n",
      "npy2png: 51fr [00:00, 159.73fr/s]\n",
      "dvs: 100%|██████████| 51/51 [00:04<00:00, 11.88fr/s]\n",
      "/bin/sh: 1: xprop: not found\n"
     ]
    },
    {
     "name": "stdout",
     "output_type": "stream",
     "text": [
      "🚀 Processing user_14/GOPR1056 → sadness\n"
     ]
    },
    {
     "name": "stderr",
     "output_type": "stream",
     "text": [
      "/kaggle/working/v2e/v2e.py:506: DeprecationWarning: `np.math` is a deprecated alias for the standard library `math` module (Deprecated Numpy 1.25). Replace usages of `np.math` with `math`\n",
      "  dvsNumFrames = np.math.floor(\n",
      "rgb2luma: 100%|██████████| 51/51 [00:01<00:00, 45.66fr/s]\n",
      "npy2png: 51fr [00:00, 161.13fr/s]\n",
      "dvs: 100%|██████████| 51/51 [00:04<00:00, 11.99fr/s]\n",
      "/bin/sh: 1: xprop: not found\n"
     ]
    },
    {
     "name": "stdout",
     "output_type": "stream",
     "text": [
      "🚀 Processing user_14/GOPR1057 → sadness\n"
     ]
    },
    {
     "name": "stderr",
     "output_type": "stream",
     "text": [
      "/kaggle/working/v2e/v2e.py:506: DeprecationWarning: `np.math` is a deprecated alias for the standard library `math` module (Deprecated Numpy 1.25). Replace usages of `np.math` with `math`\n",
      "  dvsNumFrames = np.math.floor(\n",
      "rgb2luma: 100%|██████████| 51/51 [00:01<00:00, 49.01fr/s]\n",
      "npy2png: 51fr [00:00, 160.89fr/s]\n",
      "dvs: 100%|██████████| 51/51 [00:04<00:00, 11.78fr/s]\n",
      "/bin/sh: 1: xprop: not found\n"
     ]
    },
    {
     "name": "stdout",
     "output_type": "stream",
     "text": [
      "🚀 Processing user_14/GOPR1058 → happiness\n"
     ]
    },
    {
     "name": "stderr",
     "output_type": "stream",
     "text": [
      "/kaggle/working/v2e/v2e.py:506: DeprecationWarning: `np.math` is a deprecated alias for the standard library `math` module (Deprecated Numpy 1.25). Replace usages of `np.math` with `math`\n",
      "  dvsNumFrames = np.math.floor(\n",
      "rgb2luma: 100%|██████████| 51/51 [00:01<00:00, 43.64fr/s]\n",
      "npy2png: 51fr [00:00, 159.84fr/s]\n",
      "dvs: 100%|██████████| 51/51 [00:04<00:00, 11.72fr/s]\n",
      "/bin/sh: 1: xprop: not found\n"
     ]
    },
    {
     "name": "stdout",
     "output_type": "stream",
     "text": [
      "🚀 Processing user_14/GOPR1059 → fear\n"
     ]
    },
    {
     "name": "stderr",
     "output_type": "stream",
     "text": [
      "/kaggle/working/v2e/v2e.py:506: DeprecationWarning: `np.math` is a deprecated alias for the standard library `math` module (Deprecated Numpy 1.25). Replace usages of `np.math` with `math`\n",
      "  dvsNumFrames = np.math.floor(\n",
      "rgb2luma: 100%|██████████| 51/51 [00:01<00:00, 47.25fr/s]\n",
      "npy2png: 51fr [00:00, 161.85fr/s]\n",
      "dvs: 100%|██████████| 51/51 [00:04<00:00, 11.38fr/s]\n",
      "/bin/sh: 1: xprop: not found\n"
     ]
    },
    {
     "name": "stdout",
     "output_type": "stream",
     "text": [
      "🚀 Processing user_14/GOPR1061 → surprise\n"
     ]
    },
    {
     "name": "stderr",
     "output_type": "stream",
     "text": [
      "/kaggle/working/v2e/v2e.py:506: DeprecationWarning: `np.math` is a deprecated alias for the standard library `math` module (Deprecated Numpy 1.25). Replace usages of `np.math` with `math`\n",
      "  dvsNumFrames = np.math.floor(\n",
      "rgb2luma: 100%|██████████| 51/51 [00:01<00:00, 45.55fr/s]\n",
      "npy2png: 51fr [00:00, 163.11fr/s]\n",
      "dvs: 100%|██████████| 51/51 [00:04<00:00, 11.70fr/s]\n",
      "/bin/sh: 1: xprop: not found\n"
     ]
    },
    {
     "name": "stdout",
     "output_type": "stream",
     "text": [
      "🚀 Processing user_15/GOPR1062 → happiness\n"
     ]
    },
    {
     "name": "stderr",
     "output_type": "stream",
     "text": [
      "/kaggle/working/v2e/v2e.py:506: DeprecationWarning: `np.math` is a deprecated alias for the standard library `math` module (Deprecated Numpy 1.25). Replace usages of `np.math` with `math`\n",
      "  dvsNumFrames = np.math.floor(\n",
      "rgb2luma: 100%|██████████| 51/51 [00:01<00:00, 45.31fr/s]\n",
      "npy2png: 51fr [00:00, 164.32fr/s]\n",
      "dvs: 100%|██████████| 51/51 [00:04<00:00, 12.27fr/s]\n",
      "/bin/sh: 1: xprop: not found\n"
     ]
    },
    {
     "name": "stdout",
     "output_type": "stream",
     "text": [
      "🚀 Processing user_15/GOPR1063 → surprise\n"
     ]
    },
    {
     "name": "stderr",
     "output_type": "stream",
     "text": [
      "/kaggle/working/v2e/v2e.py:506: DeprecationWarning: `np.math` is a deprecated alias for the standard library `math` module (Deprecated Numpy 1.25). Replace usages of `np.math` with `math`\n",
      "  dvsNumFrames = np.math.floor(\n",
      "rgb2luma: 100%|██████████| 51/51 [00:01<00:00, 45.86fr/s]\n",
      "npy2png: 51fr [00:00, 164.69fr/s]\n",
      "dvs: 100%|██████████| 51/51 [00:04<00:00, 11.65fr/s]\n",
      "/bin/sh: 1: xprop: not found\n"
     ]
    },
    {
     "name": "stdout",
     "output_type": "stream",
     "text": [
      "🚀 Processing user_15/GOPR1064 → disgust\n"
     ]
    },
    {
     "name": "stderr",
     "output_type": "stream",
     "text": [
      "/kaggle/working/v2e/v2e.py:506: DeprecationWarning: `np.math` is a deprecated alias for the standard library `math` module (Deprecated Numpy 1.25). Replace usages of `np.math` with `math`\n",
      "  dvsNumFrames = np.math.floor(\n",
      "rgb2luma: 100%|██████████| 51/51 [00:01<00:00, 47.78fr/s]\n",
      "npy2png: 51fr [00:00, 165.80fr/s]\n",
      "dvs: 100%|██████████| 51/51 [00:04<00:00, 11.97fr/s]\n",
      "/bin/sh: 1: xprop: not found\n"
     ]
    },
    {
     "name": "stdout",
     "output_type": "stream",
     "text": [
      "🚀 Processing user_15/GOPR1065 → sadness\n"
     ]
    },
    {
     "name": "stderr",
     "output_type": "stream",
     "text": [
      "/kaggle/working/v2e/v2e.py:506: DeprecationWarning: `np.math` is a deprecated alias for the standard library `math` module (Deprecated Numpy 1.25). Replace usages of `np.math` with `math`\n",
      "  dvsNumFrames = np.math.floor(\n",
      "rgb2luma: 100%|██████████| 51/51 [00:01<00:00, 45.93fr/s]\n",
      "npy2png: 51fr [00:00, 161.24fr/s]\n",
      "dvs: 100%|██████████| 51/51 [00:04<00:00, 11.91fr/s]\n",
      "/bin/sh: 1: xprop: not found\n"
     ]
    },
    {
     "name": "stdout",
     "output_type": "stream",
     "text": [
      "🚀 Processing user_15/GOPR1066 → sadness\n"
     ]
    },
    {
     "name": "stderr",
     "output_type": "stream",
     "text": [
      "/kaggle/working/v2e/v2e.py:506: DeprecationWarning: `np.math` is a deprecated alias for the standard library `math` module (Deprecated Numpy 1.25). Replace usages of `np.math` with `math`\n",
      "  dvsNumFrames = np.math.floor(\n",
      "rgb2luma: 100%|██████████| 51/51 [00:01<00:00, 45.91fr/s]\n",
      "npy2png: 51fr [00:00, 160.63fr/s]\n",
      "dvs: 100%|██████████| 51/51 [00:04<00:00, 11.80fr/s]\n",
      "/bin/sh: 1: xprop: not found\n"
     ]
    },
    {
     "name": "stdout",
     "output_type": "stream",
     "text": [
      "🚀 Processing user_15/GOPR1067 → anger\n"
     ]
    },
    {
     "name": "stderr",
     "output_type": "stream",
     "text": [
      "/kaggle/working/v2e/v2e.py:506: DeprecationWarning: `np.math` is a deprecated alias for the standard library `math` module (Deprecated Numpy 1.25). Replace usages of `np.math` with `math`\n",
      "  dvsNumFrames = np.math.floor(\n",
      "rgb2luma: 100%|██████████| 51/51 [00:01<00:00, 44.01fr/s]\n",
      "npy2png: 51fr [00:00, 165.64fr/s]\n",
      "dvs: 100%|██████████| 51/51 [00:04<00:00, 11.79fr/s]\n",
      "/bin/sh: 1: xprop: not found\n"
     ]
    },
    {
     "name": "stdout",
     "output_type": "stream",
     "text": [
      "🚀 Processing user_15/GOPR1068 → happiness\n"
     ]
    },
    {
     "name": "stderr",
     "output_type": "stream",
     "text": [
      "/kaggle/working/v2e/v2e.py:506: DeprecationWarning: `np.math` is a deprecated alias for the standard library `math` module (Deprecated Numpy 1.25). Replace usages of `np.math` with `math`\n",
      "  dvsNumFrames = np.math.floor(\n",
      "rgb2luma: 100%|██████████| 51/51 [00:01<00:00, 48.20fr/s]\n",
      "npy2png: 51fr [00:00, 160.72fr/s]\n",
      "dvs: 100%|██████████| 51/51 [00:04<00:00, 11.71fr/s]\n",
      "/bin/sh: 1: xprop: not found\n"
     ]
    },
    {
     "name": "stdout",
     "output_type": "stream",
     "text": [
      "🚀 Processing user_15/GOPR1069 → disgust\n"
     ]
    },
    {
     "name": "stderr",
     "output_type": "stream",
     "text": [
      "/kaggle/working/v2e/v2e.py:506: DeprecationWarning: `np.math` is a deprecated alias for the standard library `math` module (Deprecated Numpy 1.25). Replace usages of `np.math` with `math`\n",
      "  dvsNumFrames = np.math.floor(\n",
      "rgb2luma: 100%|██████████| 51/51 [00:01<00:00, 48.74fr/s]\n",
      "npy2png: 51fr [00:00, 160.98fr/s]\n",
      "dvs: 100%|██████████| 51/51 [00:04<00:00, 11.54fr/s]\n",
      "/bin/sh: 1: xprop: not found\n"
     ]
    },
    {
     "name": "stdout",
     "output_type": "stream",
     "text": [
      "🚀 Processing user_15/GOPR1070 → nan\n"
     ]
    },
    {
     "name": "stderr",
     "output_type": "stream",
     "text": [
      "/kaggle/working/v2e/v2e.py:506: DeprecationWarning: `np.math` is a deprecated alias for the standard library `math` module (Deprecated Numpy 1.25). Replace usages of `np.math` with `math`\n",
      "  dvsNumFrames = np.math.floor(\n",
      "rgb2luma: 100%|██████████| 51/51 [00:01<00:00, 47.47fr/s]\n",
      "npy2png: 51fr [00:00, 161.56fr/s]\n",
      "dvs: 100%|██████████| 51/51 [00:04<00:00, 11.71fr/s]\n",
      "/bin/sh: 1: xprop: not found\n"
     ]
    },
    {
     "name": "stdout",
     "output_type": "stream",
     "text": [
      "🚀 Processing user_15/GOPR1071 → anger\n"
     ]
    },
    {
     "name": "stderr",
     "output_type": "stream",
     "text": [
      "/kaggle/working/v2e/v2e.py:506: DeprecationWarning: `np.math` is a deprecated alias for the standard library `math` module (Deprecated Numpy 1.25). Replace usages of `np.math` with `math`\n",
      "  dvsNumFrames = np.math.floor(\n",
      "rgb2luma: 100%|██████████| 51/51 [00:01<00:00, 44.79fr/s]\n",
      "npy2png: 51fr [00:00, 164.59fr/s]\n",
      "dvs: 100%|██████████| 51/51 [00:04<00:00, 11.68fr/s]\n",
      "/bin/sh: 1: xprop: not found\n"
     ]
    },
    {
     "name": "stdout",
     "output_type": "stream",
     "text": [
      "🚀 Processing user_15/GOPR1072 → happiness\n"
     ]
    },
    {
     "name": "stderr",
     "output_type": "stream",
     "text": [
      "/kaggle/working/v2e/v2e.py:506: DeprecationWarning: `np.math` is a deprecated alias for the standard library `math` module (Deprecated Numpy 1.25). Replace usages of `np.math` with `math`\n",
      "  dvsNumFrames = np.math.floor(\n",
      "rgb2luma: 100%|██████████| 51/51 [00:01<00:00, 49.79fr/s]\n",
      "npy2png: 51fr [00:00, 160.49fr/s]\n",
      "dvs: 100%|██████████| 51/51 [00:04<00:00, 11.70fr/s]\n",
      "/bin/sh: 1: xprop: not found\n"
     ]
    },
    {
     "name": "stdout",
     "output_type": "stream",
     "text": [
      "🚀 Processing user_15/GOPR1073 → disgust\n"
     ]
    },
    {
     "name": "stderr",
     "output_type": "stream",
     "text": [
      "/kaggle/working/v2e/v2e.py:506: DeprecationWarning: `np.math` is a deprecated alias for the standard library `math` module (Deprecated Numpy 1.25). Replace usages of `np.math` with `math`\n",
      "  dvsNumFrames = np.math.floor(\n",
      "rgb2luma: 100%|██████████| 51/51 [00:01<00:00, 47.97fr/s]\n",
      "npy2png: 51fr [00:00, 162.71fr/s]\n",
      "dvs: 100%|██████████| 51/51 [00:04<00:00, 11.76fr/s]\n",
      "/bin/sh: 1: xprop: not found\n"
     ]
    },
    {
     "name": "stdout",
     "output_type": "stream",
     "text": [
      "🚀 Processing user_15/GOPR1074 → nan\n"
     ]
    },
    {
     "name": "stderr",
     "output_type": "stream",
     "text": [
      "/kaggle/working/v2e/v2e.py:506: DeprecationWarning: `np.math` is a deprecated alias for the standard library `math` module (Deprecated Numpy 1.25). Replace usages of `np.math` with `math`\n",
      "  dvsNumFrames = np.math.floor(\n",
      "rgb2luma: 100%|██████████| 51/51 [00:01<00:00, 43.53fr/s]\n",
      "npy2png: 51fr [00:00, 157.79fr/s]\n",
      "dvs: 100%|██████████| 51/51 [00:04<00:00, 11.32fr/s]\n",
      "/bin/sh: 1: xprop: not found\n"
     ]
    },
    {
     "name": "stdout",
     "output_type": "stream",
     "text": [
      "🚀 Processing user_15/GOPR1075 → contempt\n"
     ]
    },
    {
     "name": "stderr",
     "output_type": "stream",
     "text": [
      "/kaggle/working/v2e/v2e.py:506: DeprecationWarning: `np.math` is a deprecated alias for the standard library `math` module (Deprecated Numpy 1.25). Replace usages of `np.math` with `math`\n",
      "  dvsNumFrames = np.math.floor(\n",
      "rgb2luma: 100%|██████████| 51/51 [00:01<00:00, 41.57fr/s]\n",
      "npy2png: 51fr [00:00, 162.44fr/s]\n",
      "dvs: 100%|██████████| 51/51 [00:04<00:00, 11.68fr/s]\n",
      "/bin/sh: 1: xprop: not found\n"
     ]
    },
    {
     "name": "stdout",
     "output_type": "stream",
     "text": [
      "🚀 Processing user_15/GOPR1076 → contempt\n"
     ]
    },
    {
     "name": "stderr",
     "output_type": "stream",
     "text": [
      "/kaggle/working/v2e/v2e.py:506: DeprecationWarning: `np.math` is a deprecated alias for the standard library `math` module (Deprecated Numpy 1.25). Replace usages of `np.math` with `math`\n",
      "  dvsNumFrames = np.math.floor(\n",
      "rgb2luma: 100%|██████████| 51/51 [00:01<00:00, 43.36fr/s]\n",
      "npy2png: 51fr [00:00, 154.09fr/s]\n",
      "dvs: 100%|██████████| 51/51 [00:04<00:00, 11.60fr/s]\n",
      "/bin/sh: 1: xprop: not found\n"
     ]
    },
    {
     "name": "stdout",
     "output_type": "stream",
     "text": [
      "🚀 Processing user_15/GOPR1077 → surprise\n"
     ]
    },
    {
     "name": "stderr",
     "output_type": "stream",
     "text": [
      "/kaggle/working/v2e/v2e.py:506: DeprecationWarning: `np.math` is a deprecated alias for the standard library `math` module (Deprecated Numpy 1.25). Replace usages of `np.math` with `math`\n",
      "  dvsNumFrames = np.math.floor(\n",
      "rgb2luma: 100%|██████████| 51/51 [00:01<00:00, 46.31fr/s]\n",
      "npy2png: 51fr [00:00, 160.83fr/s]\n",
      "dvs: 100%|██████████| 51/51 [00:04<00:00, 11.43fr/s]\n",
      "/bin/sh: 1: xprop: not found\n"
     ]
    },
    {
     "name": "stdout",
     "output_type": "stream",
     "text": [
      "🚀 Processing user_15/GOPR1078 → sadness\n"
     ]
    },
    {
     "name": "stderr",
     "output_type": "stream",
     "text": [
      "/kaggle/working/v2e/v2e.py:506: DeprecationWarning: `np.math` is a deprecated alias for the standard library `math` module (Deprecated Numpy 1.25). Replace usages of `np.math` with `math`\n",
      "  dvsNumFrames = np.math.floor(\n",
      "rgb2luma: 100%|██████████| 51/51 [00:01<00:00, 46.22fr/s]\n",
      "npy2png: 51fr [00:00, 161.73fr/s]\n",
      "dvs: 100%|██████████| 51/51 [00:04<00:00, 11.86fr/s]\n",
      "/bin/sh: 1: xprop: not found\n"
     ]
    },
    {
     "name": "stdout",
     "output_type": "stream",
     "text": [
      "🚀 Processing user_15/GOPR1079 → contempt\n"
     ]
    },
    {
     "name": "stderr",
     "output_type": "stream",
     "text": [
      "/kaggle/working/v2e/v2e.py:506: DeprecationWarning: `np.math` is a deprecated alias for the standard library `math` module (Deprecated Numpy 1.25). Replace usages of `np.math` with `math`\n",
      "  dvsNumFrames = np.math.floor(\n",
      "rgb2luma: 100%|██████████| 51/51 [00:01<00:00, 43.94fr/s]\n",
      "npy2png: 51fr [00:00, 162.49fr/s]\n",
      "dvs: 100%|██████████| 51/51 [00:04<00:00, 11.56fr/s]\n",
      "/bin/sh: 1: xprop: not found\n"
     ]
    },
    {
     "name": "stdout",
     "output_type": "stream",
     "text": [
      "🚀 Processing user_15/GOPR1080 → nan\n"
     ]
    },
    {
     "name": "stderr",
     "output_type": "stream",
     "text": [
      "/kaggle/working/v2e/v2e.py:506: DeprecationWarning: `np.math` is a deprecated alias for the standard library `math` module (Deprecated Numpy 1.25). Replace usages of `np.math` with `math`\n",
      "  dvsNumFrames = np.math.floor(\n",
      "rgb2luma: 100%|██████████| 51/51 [00:01<00:00, 47.79fr/s]\n",
      "npy2png: 51fr [00:00, 163.24fr/s]\n",
      "dvs: 100%|██████████| 51/51 [00:04<00:00, 11.35fr/s]\n",
      "/bin/sh: 1: xprop: not found\n"
     ]
    },
    {
     "name": "stdout",
     "output_type": "stream",
     "text": [
      "🚀 Processing user_15/GOPR1081 → nan\n"
     ]
    },
    {
     "name": "stderr",
     "output_type": "stream",
     "text": [
      "/kaggle/working/v2e/v2e.py:506: DeprecationWarning: `np.math` is a deprecated alias for the standard library `math` module (Deprecated Numpy 1.25). Replace usages of `np.math` with `math`\n",
      "  dvsNumFrames = np.math.floor(\n",
      "rgb2luma: 100%|██████████| 51/51 [00:01<00:00, 46.01fr/s]\n",
      "npy2png: 51fr [00:00, 164.07fr/s]\n",
      "dvs: 100%|██████████| 51/51 [00:04<00:00, 11.57fr/s]\n",
      "/bin/sh: 1: xprop: not found\n"
     ]
    },
    {
     "name": "stdout",
     "output_type": "stream",
     "text": [
      "🚀 Processing user_15/GOPR1082 → happiness\n"
     ]
    },
    {
     "name": "stderr",
     "output_type": "stream",
     "text": [
      "/kaggle/working/v2e/v2e.py:506: DeprecationWarning: `np.math` is a deprecated alias for the standard library `math` module (Deprecated Numpy 1.25). Replace usages of `np.math` with `math`\n",
      "  dvsNumFrames = np.math.floor(\n",
      "rgb2luma: 100%|██████████| 51/51 [00:01<00:00, 47.84fr/s]\n",
      "npy2png: 51fr [00:00, 165.16fr/s]\n",
      "dvs: 100%|██████████| 51/51 [00:04<00:00, 11.53fr/s]\n",
      "/bin/sh: 1: xprop: not found\n"
     ]
    },
    {
     "name": "stdout",
     "output_type": "stream",
     "text": [
      "🚀 Processing user_16/GOPR1083 → happiness\n"
     ]
    },
    {
     "name": "stderr",
     "output_type": "stream",
     "text": [
      "/kaggle/working/v2e/v2e.py:506: DeprecationWarning: `np.math` is a deprecated alias for the standard library `math` module (Deprecated Numpy 1.25). Replace usages of `np.math` with `math`\n",
      "  dvsNumFrames = np.math.floor(\n",
      "rgb2luma: 100%|██████████| 51/51 [00:01<00:00, 48.45fr/s]\n",
      "npy2png: 51fr [00:00, 164.11fr/s]\n",
      "dvs: 100%|██████████| 51/51 [00:04<00:00, 11.77fr/s]\n",
      "/bin/sh: 1: xprop: not found\n"
     ]
    },
    {
     "name": "stdout",
     "output_type": "stream",
     "text": [
      "🚀 Processing user_16/GOPR1084 → surprise\n"
     ]
    },
    {
     "name": "stderr",
     "output_type": "stream",
     "text": [
      "/kaggle/working/v2e/v2e.py:506: DeprecationWarning: `np.math` is a deprecated alias for the standard library `math` module (Deprecated Numpy 1.25). Replace usages of `np.math` with `math`\n",
      "  dvsNumFrames = np.math.floor(\n",
      "rgb2luma: 100%|██████████| 51/51 [00:01<00:00, 47.70fr/s]\n",
      "npy2png: 51fr [00:00, 164.16fr/s]\n",
      "dvs: 100%|██████████| 51/51 [00:04<00:00, 11.66fr/s]\n",
      "/bin/sh: 1: xprop: not found\n"
     ]
    },
    {
     "name": "stdout",
     "output_type": "stream",
     "text": [
      "🚀 Processing user_16/GOPR1085 → disgust\n"
     ]
    },
    {
     "name": "stderr",
     "output_type": "stream",
     "text": [
      "/kaggle/working/v2e/v2e.py:506: DeprecationWarning: `np.math` is a deprecated alias for the standard library `math` module (Deprecated Numpy 1.25). Replace usages of `np.math` with `math`\n",
      "  dvsNumFrames = np.math.floor(\n",
      "rgb2luma: 100%|██████████| 51/51 [00:01<00:00, 48.29fr/s]\n",
      "npy2png: 51fr [00:00, 166.02fr/s]\n",
      "dvs: 100%|██████████| 51/51 [00:04<00:00, 11.79fr/s]\n",
      "/bin/sh: 1: xprop: not found\n"
     ]
    },
    {
     "name": "stdout",
     "output_type": "stream",
     "text": [
      "🚀 Processing user_16/GOPR1086 → sadness\n"
     ]
    },
    {
     "name": "stderr",
     "output_type": "stream",
     "text": [
      "/kaggle/working/v2e/v2e.py:506: DeprecationWarning: `np.math` is a deprecated alias for the standard library `math` module (Deprecated Numpy 1.25). Replace usages of `np.math` with `math`\n",
      "  dvsNumFrames = np.math.floor(\n",
      "rgb2luma: 100%|██████████| 51/51 [00:01<00:00, 46.42fr/s]\n",
      "npy2png: 51fr [00:00, 163.06fr/s]\n",
      "dvs: 100%|██████████| 51/51 [00:04<00:00, 11.56fr/s]\n",
      "/bin/sh: 1: xprop: not found\n"
     ]
    },
    {
     "name": "stdout",
     "output_type": "stream",
     "text": [
      "🚀 Processing user_16/GOPR1087 → sadness\n"
     ]
    },
    {
     "name": "stderr",
     "output_type": "stream",
     "text": [
      "/kaggle/working/v2e/v2e.py:506: DeprecationWarning: `np.math` is a deprecated alias for the standard library `math` module (Deprecated Numpy 1.25). Replace usages of `np.math` with `math`\n",
      "  dvsNumFrames = np.math.floor(\n",
      "rgb2luma: 100%|██████████| 51/51 [00:01<00:00, 49.29fr/s]\n",
      "npy2png: 51fr [00:00, 164.03fr/s]\n",
      "dvs: 100%|██████████| 51/51 [00:04<00:00, 11.90fr/s]\n",
      "/bin/sh: 1: xprop: not found\n"
     ]
    },
    {
     "name": "stdout",
     "output_type": "stream",
     "text": [
      "🚀 Processing user_16/GOPR1088 → contempt\n"
     ]
    },
    {
     "name": "stderr",
     "output_type": "stream",
     "text": [
      "/kaggle/working/v2e/v2e.py:506: DeprecationWarning: `np.math` is a deprecated alias for the standard library `math` module (Deprecated Numpy 1.25). Replace usages of `np.math` with `math`\n",
      "  dvsNumFrames = np.math.floor(\n",
      "rgb2luma: 100%|██████████| 51/51 [00:01<00:00, 46.02fr/s]\n",
      "npy2png: 51fr [00:00, 165.65fr/s]\n",
      "dvs: 100%|██████████| 51/51 [00:04<00:00, 11.89fr/s]\n",
      "/bin/sh: 1: xprop: not found\n"
     ]
    },
    {
     "name": "stdout",
     "output_type": "stream",
     "text": [
      "🚀 Processing user_16/GOPR1089 → happiness\n"
     ]
    },
    {
     "name": "stderr",
     "output_type": "stream",
     "text": [
      "/kaggle/working/v2e/v2e.py:506: DeprecationWarning: `np.math` is a deprecated alias for the standard library `math` module (Deprecated Numpy 1.25). Replace usages of `np.math` with `math`\n",
      "  dvsNumFrames = np.math.floor(\n",
      "rgb2luma: 100%|██████████| 51/51 [00:01<00:00, 45.20fr/s]\n",
      "npy2png: 51fr [00:00, 167.00fr/s]\n",
      "dvs: 100%|██████████| 51/51 [00:04<00:00, 11.54fr/s]\n",
      "/bin/sh: 1: xprop: not found\n"
     ]
    },
    {
     "name": "stdout",
     "output_type": "stream",
     "text": [
      "🚀 Processing user_16/GOPR1090 → disgust\n"
     ]
    },
    {
     "name": "stderr",
     "output_type": "stream",
     "text": [
      "/kaggle/working/v2e/v2e.py:506: DeprecationWarning: `np.math` is a deprecated alias for the standard library `math` module (Deprecated Numpy 1.25). Replace usages of `np.math` with `math`\n",
      "  dvsNumFrames = np.math.floor(\n",
      "rgb2luma: 100%|██████████| 51/51 [00:01<00:00, 48.46fr/s]\n",
      "npy2png: 51fr [00:00, 158.94fr/s]\n",
      "dvs: 100%|██████████| 51/51 [00:04<00:00, 11.92fr/s]\n",
      "/bin/sh: 1: xprop: not found\n"
     ]
    },
    {
     "name": "stdout",
     "output_type": "stream",
     "text": [
      "🚀 Processing user_16/GOPR1091 → anger\n"
     ]
    },
    {
     "name": "stderr",
     "output_type": "stream",
     "text": [
      "/kaggle/working/v2e/v2e.py:506: DeprecationWarning: `np.math` is a deprecated alias for the standard library `math` module (Deprecated Numpy 1.25). Replace usages of `np.math` with `math`\n",
      "  dvsNumFrames = np.math.floor(\n",
      "rgb2luma: 100%|██████████| 51/51 [00:01<00:00, 49.34fr/s]\n",
      "npy2png: 51fr [00:00, 167.25fr/s]\n",
      "dvs: 100%|██████████| 51/51 [00:04<00:00, 11.80fr/s]\n",
      "/bin/sh: 1: xprop: not found\n"
     ]
    },
    {
     "name": "stdout",
     "output_type": "stream",
     "text": [
      "🚀 Processing user_16/GOPR1092 → anger\n"
     ]
    },
    {
     "name": "stderr",
     "output_type": "stream",
     "text": [
      "/kaggle/working/v2e/v2e.py:506: DeprecationWarning: `np.math` is a deprecated alias for the standard library `math` module (Deprecated Numpy 1.25). Replace usages of `np.math` with `math`\n",
      "  dvsNumFrames = np.math.floor(\n",
      "rgb2luma: 100%|██████████| 51/51 [00:01<00:00, 47.52fr/s]\n",
      "npy2png: 51fr [00:00, 169.46fr/s]\n",
      "dvs: 100%|██████████| 51/51 [00:04<00:00, 11.92fr/s]\n",
      "/bin/sh: 1: xprop: not found\n"
     ]
    },
    {
     "name": "stdout",
     "output_type": "stream",
     "text": [
      "🚀 Processing user_16/GOPR1093 → nan\n"
     ]
    },
    {
     "name": "stderr",
     "output_type": "stream",
     "text": [
      "/kaggle/working/v2e/v2e.py:506: DeprecationWarning: `np.math` is a deprecated alias for the standard library `math` module (Deprecated Numpy 1.25). Replace usages of `np.math` with `math`\n",
      "  dvsNumFrames = np.math.floor(\n",
      "rgb2luma: 100%|██████████| 51/51 [00:01<00:00, 43.78fr/s]\n",
      "npy2png: 51fr [00:00, 164.76fr/s]\n",
      "dvs: 100%|██████████| 51/51 [00:04<00:00, 11.85fr/s]\n",
      "/bin/sh: 1: xprop: not found\n"
     ]
    },
    {
     "name": "stdout",
     "output_type": "stream",
     "text": [
      "🚀 Processing user_16/GOPR1094 → disgust\n"
     ]
    },
    {
     "name": "stderr",
     "output_type": "stream",
     "text": [
      "/kaggle/working/v2e/v2e.py:506: DeprecationWarning: `np.math` is a deprecated alias for the standard library `math` module (Deprecated Numpy 1.25). Replace usages of `np.math` with `math`\n",
      "  dvsNumFrames = np.math.floor(\n",
      "rgb2luma: 100%|██████████| 51/51 [00:01<00:00, 48.27fr/s]\n",
      "npy2png: 51fr [00:00, 169.39fr/s]\n",
      "dvs: 100%|██████████| 51/51 [00:04<00:00, 11.94fr/s]\n",
      "/bin/sh: 1: xprop: not found\n"
     ]
    },
    {
     "name": "stdout",
     "output_type": "stream",
     "text": [
      "🚀 Processing user_16/GOPR1095 → surprise\n"
     ]
    },
    {
     "name": "stderr",
     "output_type": "stream",
     "text": [
      "/kaggle/working/v2e/v2e.py:506: DeprecationWarning: `np.math` is a deprecated alias for the standard library `math` module (Deprecated Numpy 1.25). Replace usages of `np.math` with `math`\n",
      "  dvsNumFrames = np.math.floor(\n",
      "rgb2luma: 100%|██████████| 51/51 [00:00<00:00, 51.14fr/s]\n",
      "npy2png: 51fr [00:00, 168.32fr/s]\n",
      "dvs: 100%|██████████| 51/51 [00:04<00:00, 12.01fr/s]\n",
      "/bin/sh: 1: xprop: not found\n"
     ]
    },
    {
     "name": "stdout",
     "output_type": "stream",
     "text": [
      "🚀 Processing user_16/GOPR1096 → sadness\n"
     ]
    },
    {
     "name": "stderr",
     "output_type": "stream",
     "text": [
      "/kaggle/working/v2e/v2e.py:506: DeprecationWarning: `np.math` is a deprecated alias for the standard library `math` module (Deprecated Numpy 1.25). Replace usages of `np.math` with `math`\n",
      "  dvsNumFrames = np.math.floor(\n",
      "rgb2luma: 100%|██████████| 51/51 [00:00<00:00, 51.35fr/s]\n",
      "npy2png: 51fr [00:00, 168.76fr/s]\n",
      "dvs: 100%|██████████| 51/51 [00:04<00:00, 11.60fr/s]\n",
      "/bin/sh: 1: xprop: not found\n"
     ]
    },
    {
     "name": "stdout",
     "output_type": "stream",
     "text": [
      "🚀 Processing user_16/GOPR1097 → contempt\n"
     ]
    },
    {
     "name": "stderr",
     "output_type": "stream",
     "text": [
      "/kaggle/working/v2e/v2e.py:506: DeprecationWarning: `np.math` is a deprecated alias for the standard library `math` module (Deprecated Numpy 1.25). Replace usages of `np.math` with `math`\n",
      "  dvsNumFrames = np.math.floor(\n",
      "rgb2luma: 100%|██████████| 51/51 [00:00<00:00, 51.06fr/s]\n",
      "npy2png: 51fr [00:00, 167.44fr/s]\n",
      "dvs: 100%|██████████| 51/51 [00:04<00:00, 11.91fr/s]\n",
      "/bin/sh: 1: xprop: not found\n"
     ]
    },
    {
     "name": "stdout",
     "output_type": "stream",
     "text": [
      "🚀 Processing user_16/GOPR1098 → nan\n"
     ]
    },
    {
     "name": "stderr",
     "output_type": "stream",
     "text": [
      "/kaggle/working/v2e/v2e.py:506: DeprecationWarning: `np.math` is a deprecated alias for the standard library `math` module (Deprecated Numpy 1.25). Replace usages of `np.math` with `math`\n",
      "  dvsNumFrames = np.math.floor(\n",
      "rgb2luma: 100%|██████████| 51/51 [00:01<00:00, 47.18fr/s]\n",
      "npy2png: 51fr [00:00, 166.38fr/s]\n",
      "dvs: 100%|██████████| 51/51 [00:04<00:00, 12.12fr/s]\n",
      "/bin/sh: 1: xprop: not found\n"
     ]
    },
    {
     "name": "stdout",
     "output_type": "stream",
     "text": [
      "🚀 Processing user_16/GOPR1099 → sadness\n"
     ]
    },
    {
     "name": "stderr",
     "output_type": "stream",
     "text": [
      "/kaggle/working/v2e/v2e.py:506: DeprecationWarning: `np.math` is a deprecated alias for the standard library `math` module (Deprecated Numpy 1.25). Replace usages of `np.math` with `math`\n",
      "  dvsNumFrames = np.math.floor(\n",
      "rgb2luma: 100%|██████████| 51/51 [00:01<00:00, 50.52fr/s]\n",
      "npy2png: 51fr [00:00, 167.57fr/s]\n",
      "dvs: 100%|██████████| 51/51 [00:04<00:00, 11.68fr/s]\n",
      "/bin/sh: 1: xprop: not found\n"
     ]
    },
    {
     "name": "stdout",
     "output_type": "stream",
     "text": [
      "🚀 Processing user_16/GOPR1100 → sadness\n"
     ]
    },
    {
     "name": "stderr",
     "output_type": "stream",
     "text": [
      "/kaggle/working/v2e/v2e.py:506: DeprecationWarning: `np.math` is a deprecated alias for the standard library `math` module (Deprecated Numpy 1.25). Replace usages of `np.math` with `math`\n",
      "  dvsNumFrames = np.math.floor(\n",
      "rgb2luma: 100%|██████████| 51/51 [00:00<00:00, 51.27fr/s]\n",
      "npy2png: 51fr [00:00, 168.50fr/s]\n",
      "dvs: 100%|██████████| 51/51 [00:04<00:00, 11.70fr/s]\n",
      "/bin/sh: 1: xprop: not found\n"
     ]
    },
    {
     "name": "stdout",
     "output_type": "stream",
     "text": [
      "🚀 Processing user_16/GOPR1101 → happiness\n"
     ]
    },
    {
     "name": "stderr",
     "output_type": "stream",
     "text": [
      "/kaggle/working/v2e/v2e.py:506: DeprecationWarning: `np.math` is a deprecated alias for the standard library `math` module (Deprecated Numpy 1.25). Replace usages of `np.math` with `math`\n",
      "  dvsNumFrames = np.math.floor(\n",
      "rgb2luma: 100%|██████████| 51/51 [00:01<00:00, 46.89fr/s]\n",
      "npy2png: 51fr [00:00, 170.33fr/s]\n",
      "dvs: 100%|██████████| 51/51 [00:04<00:00, 11.80fr/s]\n",
      "/bin/sh: 1: xprop: not found\n"
     ]
    },
    {
     "name": "stdout",
     "output_type": "stream",
     "text": [
      "🚀 Processing user_16/GOPR1102 → fear\n"
     ]
    },
    {
     "name": "stderr",
     "output_type": "stream",
     "text": [
      "/kaggle/working/v2e/v2e.py:506: DeprecationWarning: `np.math` is a deprecated alias for the standard library `math` module (Deprecated Numpy 1.25). Replace usages of `np.math` with `math`\n",
      "  dvsNumFrames = np.math.floor(\n",
      "rgb2luma: 100%|██████████| 51/51 [00:01<00:00, 48.99fr/s]\n",
      "npy2png: 51fr [00:00, 168.69fr/s]\n",
      "dvs: 100%|██████████| 51/51 [00:04<00:00, 11.81fr/s]\n",
      "/bin/sh: 1: xprop: not found\n"
     ]
    },
    {
     "name": "stdout",
     "output_type": "stream",
     "text": [
      "🚀 Processing user_16/GOPR1103 → surprise\n"
     ]
    },
    {
     "name": "stderr",
     "output_type": "stream",
     "text": [
      "/kaggle/working/v2e/v2e.py:506: DeprecationWarning: `np.math` is a deprecated alias for the standard library `math` module (Deprecated Numpy 1.25). Replace usages of `np.math` with `math`\n",
      "  dvsNumFrames = np.math.floor(\n",
      "rgb2luma: 100%|██████████| 51/51 [00:01<00:00, 45.83fr/s]\n",
      "npy2png: 51fr [00:00, 167.47fr/s]\n",
      "dvs: 100%|██████████| 51/51 [00:04<00:00, 11.82fr/s]\n",
      "/bin/sh: 1: xprop: not found\n"
     ]
    },
    {
     "name": "stdout",
     "output_type": "stream",
     "text": [
      "🚀 Processing user_17/GOPR1104 → unknown\n"
     ]
    },
    {
     "name": "stderr",
     "output_type": "stream",
     "text": [
      "/kaggle/working/v2e/v2e.py:506: DeprecationWarning: `np.math` is a deprecated alias for the standard library `math` module (Deprecated Numpy 1.25). Replace usages of `np.math` with `math`\n",
      "  dvsNumFrames = np.math.floor(\n",
      "rgb2luma: 100%|██████████| 51/51 [00:01<00:00, 45.04fr/s]\n",
      "npy2png: 51fr [00:00, 162.46fr/s]\n",
      "dvs: 100%|██████████| 51/51 [00:04<00:00, 11.34fr/s]\n",
      "/bin/sh: 1: xprop: not found\n"
     ]
    },
    {
     "name": "stdout",
     "output_type": "stream",
     "text": [
      "🚀 Processing user_17/GOPR1105 → unknown\n"
     ]
    },
    {
     "name": "stderr",
     "output_type": "stream",
     "text": [
      "/kaggle/working/v2e/v2e.py:506: DeprecationWarning: `np.math` is a deprecated alias for the standard library `math` module (Deprecated Numpy 1.25). Replace usages of `np.math` with `math`\n",
      "  dvsNumFrames = np.math.floor(\n",
      "rgb2luma: 100%|██████████| 51/51 [00:01<00:00, 47.16fr/s]\n",
      "npy2png: 51fr [00:00, 161.74fr/s]\n",
      "dvs: 100%|██████████| 51/51 [00:04<00:00, 11.30fr/s]\n",
      "/bin/sh: 1: xprop: not found\n"
     ]
    },
    {
     "name": "stdout",
     "output_type": "stream",
     "text": [
      "🚀 Processing user_17/GOPR1106 → unknown\n"
     ]
    },
    {
     "name": "stderr",
     "output_type": "stream",
     "text": [
      "/kaggle/working/v2e/v2e.py:506: DeprecationWarning: `np.math` is a deprecated alias for the standard library `math` module (Deprecated Numpy 1.25). Replace usages of `np.math` with `math`\n",
      "  dvsNumFrames = np.math.floor(\n",
      "rgb2luma: 100%|██████████| 51/51 [00:01<00:00, 47.85fr/s]\n",
      "npy2png: 51fr [00:00, 158.84fr/s]\n",
      "dvs: 100%|██████████| 51/51 [00:04<00:00, 11.54fr/s]\n",
      "/bin/sh: 1: xprop: not found\n"
     ]
    },
    {
     "name": "stdout",
     "output_type": "stream",
     "text": [
      "🚀 Processing user_17/GOPR1107 → unknown\n"
     ]
    },
    {
     "name": "stderr",
     "output_type": "stream",
     "text": [
      "/kaggle/working/v2e/v2e.py:506: DeprecationWarning: `np.math` is a deprecated alias for the standard library `math` module (Deprecated Numpy 1.25). Replace usages of `np.math` with `math`\n",
      "  dvsNumFrames = np.math.floor(\n",
      "rgb2luma: 100%|██████████| 51/51 [00:01<00:00, 43.98fr/s]\n",
      "npy2png: 51fr [00:00, 160.07fr/s]\n",
      "dvs: 100%|██████████| 51/51 [00:04<00:00, 11.46fr/s]\n",
      "/bin/sh: 1: xprop: not found\n"
     ]
    },
    {
     "name": "stdout",
     "output_type": "stream",
     "text": [
      "🚀 Processing user_17/GOPR1108 → unknown\n"
     ]
    },
    {
     "name": "stderr",
     "output_type": "stream",
     "text": [
      "/kaggle/working/v2e/v2e.py:506: DeprecationWarning: `np.math` is a deprecated alias for the standard library `math` module (Deprecated Numpy 1.25). Replace usages of `np.math` with `math`\n",
      "  dvsNumFrames = np.math.floor(\n",
      "rgb2luma: 100%|██████████| 51/51 [00:01<00:00, 44.51fr/s]\n",
      "npy2png: 51fr [00:00, 160.04fr/s]\n",
      "dvs: 100%|██████████| 51/51 [00:04<00:00, 11.56fr/s]\n",
      "/bin/sh: 1: xprop: not found\n"
     ]
    },
    {
     "name": "stdout",
     "output_type": "stream",
     "text": [
      "🚀 Processing user_17/GOPR1109 → unknown\n"
     ]
    },
    {
     "name": "stderr",
     "output_type": "stream",
     "text": [
      "/kaggle/working/v2e/v2e.py:506: DeprecationWarning: `np.math` is a deprecated alias for the standard library `math` module (Deprecated Numpy 1.25). Replace usages of `np.math` with `math`\n",
      "  dvsNumFrames = np.math.floor(\n",
      "rgb2luma: 100%|██████████| 51/51 [00:01<00:00, 44.26fr/s]\n",
      "npy2png: 51fr [00:00, 160.24fr/s]\n",
      "dvs: 100%|██████████| 51/51 [00:04<00:00, 11.55fr/s]\n",
      "/bin/sh: 1: xprop: not found\n"
     ]
    },
    {
     "name": "stdout",
     "output_type": "stream",
     "text": [
      "🚀 Processing user_17/GOPR1110 → unknown\n"
     ]
    },
    {
     "name": "stderr",
     "output_type": "stream",
     "text": [
      "/kaggle/working/v2e/v2e.py:506: DeprecationWarning: `np.math` is a deprecated alias for the standard library `math` module (Deprecated Numpy 1.25). Replace usages of `np.math` with `math`\n",
      "  dvsNumFrames = np.math.floor(\n",
      "rgb2luma: 100%|██████████| 51/51 [00:01<00:00, 50.62fr/s]\n",
      "npy2png: 51fr [00:00, 162.84fr/s]\n",
      "dvs: 100%|██████████| 51/51 [00:04<00:00, 11.30fr/s]\n",
      "/bin/sh: 1: xprop: not found\n"
     ]
    },
    {
     "name": "stdout",
     "output_type": "stream",
     "text": [
      "🚀 Processing user_17/GOPR1111 → unknown\n"
     ]
    },
    {
     "name": "stderr",
     "output_type": "stream",
     "text": [
      "/kaggle/working/v2e/v2e.py:506: DeprecationWarning: `np.math` is a deprecated alias for the standard library `math` module (Deprecated Numpy 1.25). Replace usages of `np.math` with `math`\n",
      "  dvsNumFrames = np.math.floor(\n",
      "rgb2luma: 100%|██████████| 51/51 [00:01<00:00, 50.05fr/s]\n",
      "npy2png: 51fr [00:00, 161.72fr/s]\n",
      "dvs: 100%|██████████| 51/51 [00:04<00:00, 11.01fr/s]\n",
      "/bin/sh: 1: xprop: not found\n"
     ]
    },
    {
     "name": "stdout",
     "output_type": "stream",
     "text": [
      "🚀 Processing user_17/GOPR1112 → unknown\n"
     ]
    },
    {
     "name": "stderr",
     "output_type": "stream",
     "text": [
      "/kaggle/working/v2e/v2e.py:506: DeprecationWarning: `np.math` is a deprecated alias for the standard library `math` module (Deprecated Numpy 1.25). Replace usages of `np.math` with `math`\n",
      "  dvsNumFrames = np.math.floor(\n",
      "rgb2luma: 100%|██████████| 51/51 [00:01<00:00, 45.80fr/s]\n",
      "npy2png: 51fr [00:00, 157.56fr/s]\n",
      "dvs: 100%|██████████| 51/51 [00:04<00:00, 11.00fr/s]\n",
      "/bin/sh: 1: xprop: not found\n"
     ]
    },
    {
     "name": "stdout",
     "output_type": "stream",
     "text": [
      "🚀 Processing user_17/GOPR1113 → unknown\n"
     ]
    },
    {
     "name": "stderr",
     "output_type": "stream",
     "text": [
      "/kaggle/working/v2e/v2e.py:506: DeprecationWarning: `np.math` is a deprecated alias for the standard library `math` module (Deprecated Numpy 1.25). Replace usages of `np.math` with `math`\n",
      "  dvsNumFrames = np.math.floor(\n",
      "rgb2luma: 100%|██████████| 51/51 [00:01<00:00, 48.18fr/s]\n",
      "npy2png: 51fr [00:00, 162.26fr/s]\n",
      "dvs: 100%|██████████| 51/51 [00:04<00:00, 11.47fr/s]\n",
      "/bin/sh: 1: xprop: not found\n"
     ]
    },
    {
     "name": "stdout",
     "output_type": "stream",
     "text": [
      "🚀 Processing user_17/GOPR1114 → unknown\n"
     ]
    },
    {
     "name": "stderr",
     "output_type": "stream",
     "text": [
      "/kaggle/working/v2e/v2e.py:506: DeprecationWarning: `np.math` is a deprecated alias for the standard library `math` module (Deprecated Numpy 1.25). Replace usages of `np.math` with `math`\n",
      "  dvsNumFrames = np.math.floor(\n",
      "rgb2luma: 100%|██████████| 51/51 [00:01<00:00, 50.01fr/s]\n",
      "npy2png: 51fr [00:00, 159.62fr/s]\n",
      "dvs: 100%|██████████| 51/51 [00:04<00:00, 10.83fr/s]\n",
      "/bin/sh: 1: xprop: not found\n"
     ]
    },
    {
     "name": "stdout",
     "output_type": "stream",
     "text": [
      "🚀 Processing user_17/GOPR1115 → unknown\n"
     ]
    },
    {
     "name": "stderr",
     "output_type": "stream",
     "text": [
      "/kaggle/working/v2e/v2e.py:506: DeprecationWarning: `np.math` is a deprecated alias for the standard library `math` module (Deprecated Numpy 1.25). Replace usages of `np.math` with `math`\n",
      "  dvsNumFrames = np.math.floor(\n",
      "rgb2luma: 100%|██████████| 51/51 [00:01<00:00, 49.95fr/s]\n",
      "npy2png: 51fr [00:00, 161.89fr/s]\n",
      "dvs: 100%|██████████| 51/51 [00:04<00:00, 11.24fr/s]\n",
      "/bin/sh: 1: xprop: not found\n"
     ]
    },
    {
     "name": "stdout",
     "output_type": "stream",
     "text": [
      "🚀 Processing user_17/GOPR1116 → unknown\n"
     ]
    },
    {
     "name": "stderr",
     "output_type": "stream",
     "text": [
      "/kaggle/working/v2e/v2e.py:506: DeprecationWarning: `np.math` is a deprecated alias for the standard library `math` module (Deprecated Numpy 1.25). Replace usages of `np.math` with `math`\n",
      "  dvsNumFrames = np.math.floor(\n",
      "rgb2luma: 100%|██████████| 51/51 [00:01<00:00, 47.85fr/s]\n",
      "npy2png: 51fr [00:00, 161.28fr/s]\n",
      "dvs: 100%|██████████| 51/51 [00:04<00:00, 11.39fr/s]\n",
      "/bin/sh: 1: xprop: not found\n"
     ]
    },
    {
     "name": "stdout",
     "output_type": "stream",
     "text": [
      "🚀 Processing user_17/GOPR1117 → unknown\n"
     ]
    },
    {
     "name": "stderr",
     "output_type": "stream",
     "text": [
      "/kaggle/working/v2e/v2e.py:506: DeprecationWarning: `np.math` is a deprecated alias for the standard library `math` module (Deprecated Numpy 1.25). Replace usages of `np.math` with `math`\n",
      "  dvsNumFrames = np.math.floor(\n",
      "rgb2luma: 100%|██████████| 51/51 [00:01<00:00, 41.61fr/s]\n",
      "npy2png: 51fr [00:00, 158.93fr/s]\n",
      "dvs: 100%|██████████| 51/51 [00:04<00:00, 11.05fr/s]\n",
      "/bin/sh: 1: xprop: not found\n"
     ]
    },
    {
     "name": "stdout",
     "output_type": "stream",
     "text": [
      "🚀 Processing user_17/GOPR1118 → unknown\n"
     ]
    },
    {
     "name": "stderr",
     "output_type": "stream",
     "text": [
      "/kaggle/working/v2e/v2e.py:506: DeprecationWarning: `np.math` is a deprecated alias for the standard library `math` module (Deprecated Numpy 1.25). Replace usages of `np.math` with `math`\n",
      "  dvsNumFrames = np.math.floor(\n",
      "rgb2luma: 100%|██████████| 51/51 [00:01<00:00, 47.62fr/s]\n",
      "npy2png: 51fr [00:00, 160.24fr/s]\n",
      "dvs: 100%|██████████| 51/51 [00:04<00:00, 11.03fr/s]\n",
      "/bin/sh: 1: xprop: not found\n"
     ]
    },
    {
     "name": "stdout",
     "output_type": "stream",
     "text": [
      "🚀 Processing user_17/GOPR1119 → unknown\n"
     ]
    },
    {
     "name": "stderr",
     "output_type": "stream",
     "text": [
      "/kaggle/working/v2e/v2e.py:506: DeprecationWarning: `np.math` is a deprecated alias for the standard library `math` module (Deprecated Numpy 1.25). Replace usages of `np.math` with `math`\n",
      "  dvsNumFrames = np.math.floor(\n",
      "rgb2luma: 100%|██████████| 51/51 [00:01<00:00, 43.97fr/s]\n",
      "npy2png: 51fr [00:00, 161.54fr/s]\n",
      "dvs: 100%|██████████| 51/51 [00:04<00:00, 11.44fr/s]\n",
      "/bin/sh: 1: xprop: not found\n"
     ]
    },
    {
     "name": "stdout",
     "output_type": "stream",
     "text": [
      "🚀 Processing user_17/GOPR1120 → unknown\n"
     ]
    },
    {
     "name": "stderr",
     "output_type": "stream",
     "text": [
      "/kaggle/working/v2e/v2e.py:506: DeprecationWarning: `np.math` is a deprecated alias for the standard library `math` module (Deprecated Numpy 1.25). Replace usages of `np.math` with `math`\n",
      "  dvsNumFrames = np.math.floor(\n",
      "rgb2luma: 100%|██████████| 51/51 [00:01<00:00, 50.73fr/s]\n",
      "npy2png: 51fr [00:00, 168.25fr/s]\n",
      "dvs: 100%|██████████| 51/51 [00:04<00:00, 11.52fr/s]\n",
      "/bin/sh: 1: xprop: not found\n"
     ]
    },
    {
     "name": "stdout",
     "output_type": "stream",
     "text": [
      "🚀 Processing user_17/GOPR1121 → unknown\n"
     ]
    },
    {
     "name": "stderr",
     "output_type": "stream",
     "text": [
      "/kaggle/working/v2e/v2e.py:506: DeprecationWarning: `np.math` is a deprecated alias for the standard library `math` module (Deprecated Numpy 1.25). Replace usages of `np.math` with `math`\n",
      "  dvsNumFrames = np.math.floor(\n",
      "rgb2luma: 100%|██████████| 51/51 [00:01<00:00, 49.12fr/s]\n",
      "npy2png: 51fr [00:00, 167.12fr/s]\n",
      "dvs: 100%|██████████| 51/51 [00:04<00:00, 11.63fr/s]\n",
      "/bin/sh: 1: xprop: not found\n"
     ]
    },
    {
     "name": "stdout",
     "output_type": "stream",
     "text": [
      "🚀 Processing user_17/GOPR1122 → unknown\n"
     ]
    },
    {
     "name": "stderr",
     "output_type": "stream",
     "text": [
      "/kaggle/working/v2e/v2e.py:506: DeprecationWarning: `np.math` is a deprecated alias for the standard library `math` module (Deprecated Numpy 1.25). Replace usages of `np.math` with `math`\n",
      "  dvsNumFrames = np.math.floor(\n",
      "rgb2luma: 100%|██████████| 51/51 [00:00<00:00, 51.45fr/s]\n",
      "npy2png: 51fr [00:00, 166.73fr/s]\n",
      "dvs: 100%|██████████| 51/51 [00:04<00:00, 11.58fr/s]\n",
      "/bin/sh: 1: xprop: not found\n"
     ]
    },
    {
     "name": "stdout",
     "output_type": "stream",
     "text": [
      "🚀 Processing user_17/GOPR1123 → unknown\n"
     ]
    },
    {
     "name": "stderr",
     "output_type": "stream",
     "text": [
      "/kaggle/working/v2e/v2e.py:506: DeprecationWarning: `np.math` is a deprecated alias for the standard library `math` module (Deprecated Numpy 1.25). Replace usages of `np.math` with `math`\n",
      "  dvsNumFrames = np.math.floor(\n",
      "rgb2luma: 100%|██████████| 51/51 [00:01<00:00, 44.52fr/s]\n",
      "npy2png: 51fr [00:00, 168.34fr/s]\n",
      "dvs: 100%|██████████| 51/51 [00:04<00:00, 11.79fr/s]\n",
      "/bin/sh: 1: xprop: not found\n"
     ]
    },
    {
     "name": "stdout",
     "output_type": "stream",
     "text": [
      "🚀 Processing user_17/GOPR1124 → unknown\n"
     ]
    },
    {
     "name": "stderr",
     "output_type": "stream",
     "text": [
      "/kaggle/working/v2e/v2e.py:506: DeprecationWarning: `np.math` is a deprecated alias for the standard library `math` module (Deprecated Numpy 1.25). Replace usages of `np.math` with `math`\n",
      "  dvsNumFrames = np.math.floor(\n",
      "rgb2luma: 100%|██████████| 51/51 [00:01<00:00, 44.45fr/s]\n",
      "npy2png: 51fr [00:00, 167.93fr/s]\n",
      "dvs: 100%|██████████| 51/51 [00:04<00:00, 11.42fr/s]\n",
      "/bin/sh: 1: xprop: not found\n"
     ]
    },
    {
     "name": "stdout",
     "output_type": "stream",
     "text": [
      "🚀 Processing user_18/GOPR1125 → unknown\n"
     ]
    },
    {
     "name": "stderr",
     "output_type": "stream",
     "text": [
      "/kaggle/working/v2e/v2e.py:506: DeprecationWarning: `np.math` is a deprecated alias for the standard library `math` module (Deprecated Numpy 1.25). Replace usages of `np.math` with `math`\n",
      "  dvsNumFrames = np.math.floor(\n",
      "rgb2luma: 100%|██████████| 51/51 [00:01<00:00, 49.74fr/s]\n",
      "npy2png: 51fr [00:00, 159.33fr/s]\n",
      "dvs: 100%|██████████| 51/51 [00:04<00:00, 11.21fr/s]\n",
      "/bin/sh: 1: xprop: not found\n"
     ]
    },
    {
     "name": "stdout",
     "output_type": "stream",
     "text": [
      "🚀 Processing user_18/GOPR1126 → unknown\n"
     ]
    },
    {
     "name": "stderr",
     "output_type": "stream",
     "text": [
      "/kaggle/working/v2e/v2e.py:506: DeprecationWarning: `np.math` is a deprecated alias for the standard library `math` module (Deprecated Numpy 1.25). Replace usages of `np.math` with `math`\n",
      "  dvsNumFrames = np.math.floor(\n",
      "rgb2luma: 100%|██████████| 51/51 [00:01<00:00, 45.01fr/s]\n",
      "npy2png: 51fr [00:00, 158.66fr/s]\n",
      "dvs: 100%|██████████| 51/51 [00:04<00:00, 11.28fr/s]\n",
      "/bin/sh: 1: xprop: not found\n"
     ]
    },
    {
     "name": "stdout",
     "output_type": "stream",
     "text": [
      "🚀 Processing user_19/GOPR1131 → unknown\n"
     ]
    },
    {
     "name": "stderr",
     "output_type": "stream",
     "text": [
      "/kaggle/working/v2e/v2e.py:506: DeprecationWarning: `np.math` is a deprecated alias for the standard library `math` module (Deprecated Numpy 1.25). Replace usages of `np.math` with `math`\n",
      "  dvsNumFrames = np.math.floor(\n",
      "rgb2luma: 100%|██████████| 51/51 [00:01<00:00, 49.64fr/s]\n",
      "npy2png: 51fr [00:00, 169.35fr/s]\n",
      "dvs: 100%|██████████| 51/51 [00:04<00:00, 11.46fr/s]\n",
      "/bin/sh: 1: xprop: not found\n"
     ]
    },
    {
     "name": "stdout",
     "output_type": "stream",
     "text": [
      "🚀 Processing user_19/GOPR1132 → unknown\n"
     ]
    },
    {
     "name": "stderr",
     "output_type": "stream",
     "text": [
      "/kaggle/working/v2e/v2e.py:506: DeprecationWarning: `np.math` is a deprecated alias for the standard library `math` module (Deprecated Numpy 1.25). Replace usages of `np.math` with `math`\n",
      "  dvsNumFrames = np.math.floor(\n",
      "rgb2luma: 100%|██████████| 51/51 [00:01<00:00, 44.19fr/s]\n",
      "npy2png: 51fr [00:00, 166.98fr/s]\n",
      "dvs: 100%|██████████| 51/51 [00:04<00:00, 11.55fr/s]\n",
      "/bin/sh: 1: xprop: not found\n"
     ]
    },
    {
     "name": "stdout",
     "output_type": "stream",
     "text": [
      "🚀 Processing user_19/GOPR1133 → unknown\n"
     ]
    },
    {
     "name": "stderr",
     "output_type": "stream",
     "text": [
      "/kaggle/working/v2e/v2e.py:506: DeprecationWarning: `np.math` is a deprecated alias for the standard library `math` module (Deprecated Numpy 1.25). Replace usages of `np.math` with `math`\n",
      "  dvsNumFrames = np.math.floor(\n",
      "rgb2luma: 100%|██████████| 51/51 [00:01<00:00, 49.57fr/s]\n",
      "npy2png: 51fr [00:00, 172.02fr/s]\n",
      "dvs: 100%|██████████| 51/51 [00:04<00:00, 11.56fr/s]\n",
      "/bin/sh: 1: xprop: not found\n"
     ]
    },
    {
     "name": "stdout",
     "output_type": "stream",
     "text": [
      "🚀 Processing user_19/GOPR1134 → unknown\n"
     ]
    },
    {
     "name": "stderr",
     "output_type": "stream",
     "text": [
      "/kaggle/working/v2e/v2e.py:506: DeprecationWarning: `np.math` is a deprecated alias for the standard library `math` module (Deprecated Numpy 1.25). Replace usages of `np.math` with `math`\n",
      "  dvsNumFrames = np.math.floor(\n",
      "rgb2luma: 100%|██████████| 51/51 [00:00<00:00, 52.41fr/s]\n",
      "npy2png: 51fr [00:00, 168.47fr/s]\n",
      "dvs: 100%|██████████| 51/51 [00:04<00:00, 11.56fr/s]\n",
      "/bin/sh: 1: xprop: not found\n"
     ]
    },
    {
     "name": "stdout",
     "output_type": "stream",
     "text": [
      "🚀 Processing user_19/GOPR1135 → unknown\n"
     ]
    },
    {
     "name": "stderr",
     "output_type": "stream",
     "text": [
      "/kaggle/working/v2e/v2e.py:506: DeprecationWarning: `np.math` is a deprecated alias for the standard library `math` module (Deprecated Numpy 1.25). Replace usages of `np.math` with `math`\n",
      "  dvsNumFrames = np.math.floor(\n",
      "rgb2luma: 100%|██████████| 51/51 [00:01<00:00, 50.25fr/s]\n",
      "npy2png: 51fr [00:00, 165.62fr/s]\n",
      "dvs: 100%|██████████| 51/51 [00:04<00:00, 11.50fr/s]\n",
      "/bin/sh: 1: xprop: not found\n"
     ]
    },
    {
     "name": "stdout",
     "output_type": "stream",
     "text": [
      "🚀 Processing user_19/GOPR1136 → unknown\n"
     ]
    },
    {
     "name": "stderr",
     "output_type": "stream",
     "text": [
      "/kaggle/working/v2e/v2e.py:506: DeprecationWarning: `np.math` is a deprecated alias for the standard library `math` module (Deprecated Numpy 1.25). Replace usages of `np.math` with `math`\n",
      "  dvsNumFrames = np.math.floor(\n",
      "rgb2luma: 100%|██████████| 51/51 [00:01<00:00, 44.77fr/s]\n",
      "npy2png: 51fr [00:00, 160.74fr/s]\n",
      "dvs: 100%|██████████| 51/51 [00:04<00:00, 11.53fr/s]\n",
      "/bin/sh: 1: xprop: not found\n"
     ]
    },
    {
     "name": "stdout",
     "output_type": "stream",
     "text": [
      "🚀 Processing user_19/GOPR1137 → unknown\n"
     ]
    },
    {
     "name": "stderr",
     "output_type": "stream",
     "text": [
      "/kaggle/working/v2e/v2e.py:506: DeprecationWarning: `np.math` is a deprecated alias for the standard library `math` module (Deprecated Numpy 1.25). Replace usages of `np.math` with `math`\n",
      "  dvsNumFrames = np.math.floor(\n",
      "rgb2luma: 100%|██████████| 51/51 [00:01<00:00, 50.50fr/s]\n",
      "npy2png: 51fr [00:00, 168.66fr/s]\n",
      "dvs: 100%|██████████| 51/51 [00:04<00:00, 11.62fr/s]\n",
      "/bin/sh: 1: xprop: not found\n"
     ]
    },
    {
     "name": "stdout",
     "output_type": "stream",
     "text": [
      "🚀 Processing user_19/GOPR1138 → unknown\n"
     ]
    },
    {
     "name": "stderr",
     "output_type": "stream",
     "text": [
      "/kaggle/working/v2e/v2e.py:506: DeprecationWarning: `np.math` is a deprecated alias for the standard library `math` module (Deprecated Numpy 1.25). Replace usages of `np.math` with `math`\n",
      "  dvsNumFrames = np.math.floor(\n",
      "rgb2luma: 100%|██████████| 51/51 [00:01<00:00, 47.54fr/s]\n",
      "npy2png: 51fr [00:00, 159.43fr/s]\n",
      "dvs: 100%|██████████| 51/51 [00:04<00:00, 11.08fr/s]\n",
      "/bin/sh: 1: xprop: not found\n"
     ]
    },
    {
     "name": "stdout",
     "output_type": "stream",
     "text": [
      "🚀 Processing user_19/GOPR1139 → unknown\n"
     ]
    },
    {
     "name": "stderr",
     "output_type": "stream",
     "text": [
      "/kaggle/working/v2e/v2e.py:506: DeprecationWarning: `np.math` is a deprecated alias for the standard library `math` module (Deprecated Numpy 1.25). Replace usages of `np.math` with `math`\n",
      "  dvsNumFrames = np.math.floor(\n",
      "rgb2luma: 100%|██████████| 51/51 [00:01<00:00, 41.47fr/s]\n",
      "npy2png: 51fr [00:00, 162.95fr/s]\n",
      "dvs: 100%|██████████| 51/51 [00:04<00:00, 11.55fr/s]\n",
      "/bin/sh: 1: xprop: not found\n"
     ]
    },
    {
     "name": "stdout",
     "output_type": "stream",
     "text": [
      "🚀 Processing user_19/GOPR1140 → unknown\n"
     ]
    },
    {
     "name": "stderr",
     "output_type": "stream",
     "text": [
      "/kaggle/working/v2e/v2e.py:506: DeprecationWarning: `np.math` is a deprecated alias for the standard library `math` module (Deprecated Numpy 1.25). Replace usages of `np.math` with `math`\n",
      "  dvsNumFrames = np.math.floor(\n",
      "rgb2luma: 100%|██████████| 51/51 [00:01<00:00, 47.76fr/s]\n",
      "npy2png: 51fr [00:00, 169.12fr/s]\n",
      "dvs: 100%|██████████| 51/51 [00:04<00:00, 11.79fr/s]\n",
      "/bin/sh: 1: xprop: not found\n"
     ]
    },
    {
     "name": "stdout",
     "output_type": "stream",
     "text": [
      "🚀 Processing user_19/GOPR1141 → unknown\n"
     ]
    },
    {
     "name": "stderr",
     "output_type": "stream",
     "text": [
      "/kaggle/working/v2e/v2e.py:506: DeprecationWarning: `np.math` is a deprecated alias for the standard library `math` module (Deprecated Numpy 1.25). Replace usages of `np.math` with `math`\n",
      "  dvsNumFrames = np.math.floor(\n",
      "rgb2luma: 100%|██████████| 51/51 [00:01<00:00, 48.99fr/s]\n",
      "npy2png: 51fr [00:00, 169.83fr/s]\n",
      "dvs: 100%|██████████| 51/51 [00:04<00:00, 11.46fr/s]\n",
      "/bin/sh: 1: xprop: not found\n"
     ]
    },
    {
     "name": "stdout",
     "output_type": "stream",
     "text": [
      "🚀 Processing user_19/GOPR1142 → unknown\n"
     ]
    },
    {
     "name": "stderr",
     "output_type": "stream",
     "text": [
      "/kaggle/working/v2e/v2e.py:506: DeprecationWarning: `np.math` is a deprecated alias for the standard library `math` module (Deprecated Numpy 1.25). Replace usages of `np.math` with `math`\n",
      "  dvsNumFrames = np.math.floor(\n",
      "rgb2luma: 100%|██████████| 51/51 [00:01<00:00, 48.46fr/s]\n",
      "npy2png: 51fr [00:00, 167.16fr/s]\n",
      "dvs: 100%|██████████| 51/51 [00:04<00:00, 11.68fr/s]\n",
      "/bin/sh: 1: xprop: not found\n"
     ]
    },
    {
     "name": "stdout",
     "output_type": "stream",
     "text": [
      "🚀 Processing user_19/GOPR1143 → unknown\n"
     ]
    },
    {
     "name": "stderr",
     "output_type": "stream",
     "text": [
      "/kaggle/working/v2e/v2e.py:506: DeprecationWarning: `np.math` is a deprecated alias for the standard library `math` module (Deprecated Numpy 1.25). Replace usages of `np.math` with `math`\n",
      "  dvsNumFrames = np.math.floor(\n",
      "rgb2luma: 100%|██████████| 51/51 [00:01<00:00, 44.24fr/s]\n",
      "npy2png: 51fr [00:00, 159.60fr/s]\n",
      "dvs: 100%|██████████| 51/51 [00:04<00:00, 11.44fr/s]\n",
      "/bin/sh: 1: xprop: not found\n"
     ]
    },
    {
     "name": "stdout",
     "output_type": "stream",
     "text": [
      "🚀 Processing user_19/GOPR1144 → unknown\n"
     ]
    },
    {
     "name": "stderr",
     "output_type": "stream",
     "text": [
      "/kaggle/working/v2e/v2e.py:506: DeprecationWarning: `np.math` is a deprecated alias for the standard library `math` module (Deprecated Numpy 1.25). Replace usages of `np.math` with `math`\n",
      "  dvsNumFrames = np.math.floor(\n",
      "rgb2luma: 100%|██████████| 51/51 [00:01<00:00, 45.65fr/s]\n",
      "npy2png: 51fr [00:00, 170.95fr/s]\n",
      "dvs: 100%|██████████| 51/51 [00:04<00:00, 11.44fr/s]\n",
      "/bin/sh: 1: xprop: not found\n"
     ]
    },
    {
     "name": "stdout",
     "output_type": "stream",
     "text": [
      "🚀 Processing user_19/GOPR1145 → unknown\n"
     ]
    },
    {
     "name": "stderr",
     "output_type": "stream",
     "text": [
      "/kaggle/working/v2e/v2e.py:506: DeprecationWarning: `np.math` is a deprecated alias for the standard library `math` module (Deprecated Numpy 1.25). Replace usages of `np.math` with `math`\n",
      "  dvsNumFrames = np.math.floor(\n",
      "rgb2luma: 100%|██████████| 51/51 [00:01<00:00, 46.75fr/s]\n",
      "npy2png: 51fr [00:00, 170.32fr/s]\n",
      "dvs: 100%|██████████| 51/51 [00:04<00:00, 11.32fr/s]\n",
      "/bin/sh: 1: xprop: not found\n"
     ]
    },
    {
     "name": "stdout",
     "output_type": "stream",
     "text": [
      "🚀 Processing user_19/GOPR1146 → unknown\n"
     ]
    },
    {
     "name": "stderr",
     "output_type": "stream",
     "text": [
      "/kaggle/working/v2e/v2e.py:506: DeprecationWarning: `np.math` is a deprecated alias for the standard library `math` module (Deprecated Numpy 1.25). Replace usages of `np.math` with `math`\n",
      "  dvsNumFrames = np.math.floor(\n",
      "rgb2luma: 100%|██████████| 51/51 [00:01<00:00, 50.33fr/s]\n",
      "npy2png: 51fr [00:00, 167.04fr/s]\n",
      "dvs: 100%|██████████| 51/51 [00:04<00:00, 11.04fr/s]\n",
      "/bin/sh: 1: xprop: not found\n"
     ]
    },
    {
     "name": "stdout",
     "output_type": "stream",
     "text": [
      "🚀 Processing user_19/GOPR1147 → unknown\n"
     ]
    },
    {
     "name": "stderr",
     "output_type": "stream",
     "text": [
      "/kaggle/working/v2e/v2e.py:506: DeprecationWarning: `np.math` is a deprecated alias for the standard library `math` module (Deprecated Numpy 1.25). Replace usages of `np.math` with `math`\n",
      "  dvsNumFrames = np.math.floor(\n",
      "rgb2luma: 100%|██████████| 51/51 [00:01<00:00, 45.38fr/s]\n",
      "npy2png: 51fr [00:00, 169.97fr/s]\n",
      "dvs: 100%|██████████| 51/51 [00:04<00:00, 11.58fr/s]\n",
      "/bin/sh: 1: xprop: not found\n"
     ]
    },
    {
     "name": "stdout",
     "output_type": "stream",
     "text": [
      "🚀 Processing user_19/GOPR1148 → unknown\n"
     ]
    },
    {
     "name": "stderr",
     "output_type": "stream",
     "text": [
      "/kaggle/working/v2e/v2e.py:506: DeprecationWarning: `np.math` is a deprecated alias for the standard library `math` module (Deprecated Numpy 1.25). Replace usages of `np.math` with `math`\n",
      "  dvsNumFrames = np.math.floor(\n",
      "rgb2luma: 100%|██████████| 51/51 [00:01<00:00, 50.70fr/s]\n",
      "npy2png: 51fr [00:00, 169.71fr/s]\n",
      "dvs: 100%|██████████| 51/51 [00:04<00:00, 11.38fr/s]\n",
      "/bin/sh: 1: xprop: not found\n"
     ]
    },
    {
     "name": "stdout",
     "output_type": "stream",
     "text": [
      "🚀 Processing user_19/GOPR1149 → unknown\n"
     ]
    },
    {
     "name": "stderr",
     "output_type": "stream",
     "text": [
      "/kaggle/working/v2e/v2e.py:506: DeprecationWarning: `np.math` is a deprecated alias for the standard library `math` module (Deprecated Numpy 1.25). Replace usages of `np.math` with `math`\n",
      "  dvsNumFrames = np.math.floor(\n",
      "rgb2luma: 100%|██████████| 51/51 [00:00<00:00, 51.56fr/s]\n",
      "npy2png: 51fr [00:00, 170.27fr/s]\n",
      "dvs: 100%|██████████| 51/51 [00:04<00:00, 11.78fr/s]\n",
      "/bin/sh: 1: xprop: not found\n"
     ]
    },
    {
     "name": "stdout",
     "output_type": "stream",
     "text": [
      "🚀 Processing user_19/GOPR1150 → unknown\n"
     ]
    },
    {
     "name": "stderr",
     "output_type": "stream",
     "text": [
      "/kaggle/working/v2e/v2e.py:506: DeprecationWarning: `np.math` is a deprecated alias for the standard library `math` module (Deprecated Numpy 1.25). Replace usages of `np.math` with `math`\n",
      "  dvsNumFrames = np.math.floor(\n",
      "rgb2luma: 100%|██████████| 51/51 [00:01<00:00, 47.93fr/s]\n",
      "npy2png: 51fr [00:00, 169.59fr/s]\n",
      "dvs: 100%|██████████| 51/51 [00:04<00:00, 11.55fr/s]\n",
      "/bin/sh: 1: xprop: not found\n"
     ]
    },
    {
     "name": "stdout",
     "output_type": "stream",
     "text": [
      "🚀 Processing user_19/GOPR1151 → unknown\n"
     ]
    },
    {
     "name": "stderr",
     "output_type": "stream",
     "text": [
      "/kaggle/working/v2e/v2e.py:506: DeprecationWarning: `np.math` is a deprecated alias for the standard library `math` module (Deprecated Numpy 1.25). Replace usages of `np.math` with `math`\n",
      "  dvsNumFrames = np.math.floor(\n",
      "rgb2luma: 100%|██████████| 51/51 [00:01<00:00, 44.24fr/s]\n",
      "npy2png: 51fr [00:00, 168.51fr/s]\n",
      "dvs: 100%|██████████| 51/51 [00:04<00:00, 11.56fr/s]\n",
      "/bin/sh: 1: xprop: not found\n"
     ]
    },
    {
     "name": "stdout",
     "output_type": "stream",
     "text": [
      "🚀 Processing user_20/GOPR1152 → unknown\n"
     ]
    },
    {
     "name": "stderr",
     "output_type": "stream",
     "text": [
      "/kaggle/working/v2e/v2e.py:506: DeprecationWarning: `np.math` is a deprecated alias for the standard library `math` module (Deprecated Numpy 1.25). Replace usages of `np.math` with `math`\n",
      "  dvsNumFrames = np.math.floor(\n",
      "rgb2luma: 100%|██████████| 51/51 [00:01<00:00, 40.64fr/s]\n",
      "npy2png: 51fr [00:00, 160.50fr/s]\n",
      "dvs: 100%|██████████| 51/51 [00:04<00:00, 11.94fr/s]\n",
      "/bin/sh: 1: xprop: not found\n"
     ]
    },
    {
     "name": "stdout",
     "output_type": "stream",
     "text": [
      "🚀 Processing user_20/GOPR1153 → unknown\n"
     ]
    },
    {
     "name": "stderr",
     "output_type": "stream",
     "text": [
      "/kaggle/working/v2e/v2e.py:506: DeprecationWarning: `np.math` is a deprecated alias for the standard library `math` module (Deprecated Numpy 1.25). Replace usages of `np.math` with `math`\n",
      "  dvsNumFrames = np.math.floor(\n",
      "rgb2luma: 100%|██████████| 51/51 [00:01<00:00, 44.14fr/s]\n",
      "npy2png: 51fr [00:00, 160.77fr/s]\n",
      "dvs: 100%|██████████| 51/51 [00:04<00:00, 11.32fr/s]\n",
      "/bin/sh: 1: xprop: not found\n"
     ]
    },
    {
     "name": "stdout",
     "output_type": "stream",
     "text": [
      "🚀 Processing user_20/GOPR1154 → unknown\n"
     ]
    },
    {
     "name": "stderr",
     "output_type": "stream",
     "text": [
      "/kaggle/working/v2e/v2e.py:506: DeprecationWarning: `np.math` is a deprecated alias for the standard library `math` module (Deprecated Numpy 1.25). Replace usages of `np.math` with `math`\n",
      "  dvsNumFrames = np.math.floor(\n",
      "rgb2luma: 100%|██████████| 51/51 [00:01<00:00, 43.28fr/s]\n",
      "npy2png: 51fr [00:00, 158.66fr/s]\n",
      "dvs: 100%|██████████| 51/51 [00:04<00:00, 11.53fr/s]\n",
      "/bin/sh: 1: xprop: not found\n"
     ]
    },
    {
     "name": "stdout",
     "output_type": "stream",
     "text": [
      "🚀 Processing user_20/GOPR1155 → unknown\n"
     ]
    },
    {
     "name": "stderr",
     "output_type": "stream",
     "text": [
      "/kaggle/working/v2e/v2e.py:506: DeprecationWarning: `np.math` is a deprecated alias for the standard library `math` module (Deprecated Numpy 1.25). Replace usages of `np.math` with `math`\n",
      "  dvsNumFrames = np.math.floor(\n",
      "rgb2luma: 100%|██████████| 51/51 [00:01<00:00, 46.10fr/s]\n",
      "npy2png: 51fr [00:00, 159.58fr/s]\n",
      "dvs: 100%|██████████| 51/51 [00:04<00:00, 11.48fr/s]\n",
      "/bin/sh: 1: xprop: not found\n"
     ]
    },
    {
     "name": "stdout",
     "output_type": "stream",
     "text": [
      "🚀 Processing user_20/GOPR1156 → unknown\n"
     ]
    },
    {
     "name": "stderr",
     "output_type": "stream",
     "text": [
      "/kaggle/working/v2e/v2e.py:506: DeprecationWarning: `np.math` is a deprecated alias for the standard library `math` module (Deprecated Numpy 1.25). Replace usages of `np.math` with `math`\n",
      "  dvsNumFrames = np.math.floor(\n",
      "rgb2luma: 100%|██████████| 51/51 [00:01<00:00, 47.70fr/s]\n",
      "npy2png: 51fr [00:00, 162.13fr/s]\n",
      "dvs: 100%|██████████| 51/51 [00:04<00:00, 11.70fr/s]\n",
      "/bin/sh: 1: xprop: not found\n"
     ]
    },
    {
     "name": "stdout",
     "output_type": "stream",
     "text": [
      "🚀 Processing user_20/GOPR1157 → unknown\n"
     ]
    },
    {
     "name": "stderr",
     "output_type": "stream",
     "text": [
      "/kaggle/working/v2e/v2e.py:506: DeprecationWarning: `np.math` is a deprecated alias for the standard library `math` module (Deprecated Numpy 1.25). Replace usages of `np.math` with `math`\n",
      "  dvsNumFrames = np.math.floor(\n",
      "rgb2luma: 100%|██████████| 51/51 [00:01<00:00, 46.53fr/s]\n",
      "npy2png: 51fr [00:00, 161.21fr/s]\n",
      "dvs: 100%|██████████| 51/51 [00:04<00:00, 11.73fr/s]\n",
      "/bin/sh: 1: xprop: not found\n"
     ]
    },
    {
     "name": "stdout",
     "output_type": "stream",
     "text": [
      "🚀 Processing user_20/GOPR1158 → unknown\n"
     ]
    },
    {
     "name": "stderr",
     "output_type": "stream",
     "text": [
      "/kaggle/working/v2e/v2e.py:506: DeprecationWarning: `np.math` is a deprecated alias for the standard library `math` module (Deprecated Numpy 1.25). Replace usages of `np.math` with `math`\n",
      "  dvsNumFrames = np.math.floor(\n",
      "rgb2luma: 100%|██████████| 51/51 [00:01<00:00, 42.55fr/s]\n",
      "npy2png: 51fr [00:00, 162.40fr/s]\n",
      "dvs: 100%|██████████| 51/51 [00:04<00:00, 11.42fr/s]\n",
      "/bin/sh: 1: xprop: not found\n"
     ]
    },
    {
     "name": "stdout",
     "output_type": "stream",
     "text": [
      "🚀 Processing user_20/GOPR1159 → unknown\n"
     ]
    },
    {
     "name": "stderr",
     "output_type": "stream",
     "text": [
      "/kaggle/working/v2e/v2e.py:506: DeprecationWarning: `np.math` is a deprecated alias for the standard library `math` module (Deprecated Numpy 1.25). Replace usages of `np.math` with `math`\n",
      "  dvsNumFrames = np.math.floor(\n",
      "rgb2luma: 100%|██████████| 51/51 [00:01<00:00, 46.62fr/s]\n",
      "npy2png: 51fr [00:00, 161.66fr/s]\n",
      "dvs: 100%|██████████| 51/51 [00:04<00:00, 11.65fr/s]\n",
      "/bin/sh: 1: xprop: not found\n"
     ]
    },
    {
     "name": "stdout",
     "output_type": "stream",
     "text": [
      "🚀 Processing user_20/GOPR1160 → unknown\n"
     ]
    },
    {
     "name": "stderr",
     "output_type": "stream",
     "text": [
      "/kaggle/working/v2e/v2e.py:506: DeprecationWarning: `np.math` is a deprecated alias for the standard library `math` module (Deprecated Numpy 1.25). Replace usages of `np.math` with `math`\n",
      "  dvsNumFrames = np.math.floor(\n",
      "rgb2luma: 100%|██████████| 51/51 [00:01<00:00, 45.96fr/s]\n",
      "npy2png: 51fr [00:00, 159.80fr/s]\n",
      "dvs: 100%|██████████| 51/51 [00:04<00:00, 11.52fr/s]\n",
      "/bin/sh: 1: xprop: not found\n"
     ]
    },
    {
     "name": "stdout",
     "output_type": "stream",
     "text": [
      "🚀 Processing user_20/GOPR1161 → unknown\n"
     ]
    },
    {
     "name": "stderr",
     "output_type": "stream",
     "text": [
      "/kaggle/working/v2e/v2e.py:506: DeprecationWarning: `np.math` is a deprecated alias for the standard library `math` module (Deprecated Numpy 1.25). Replace usages of `np.math` with `math`\n",
      "  dvsNumFrames = np.math.floor(\n",
      "rgb2luma: 100%|██████████| 51/51 [00:01<00:00, 45.97fr/s]\n",
      "npy2png: 51fr [00:00, 161.76fr/s]\n",
      "dvs: 100%|██████████| 51/51 [00:04<00:00, 11.67fr/s]\n",
      "/bin/sh: 1: xprop: not found\n"
     ]
    },
    {
     "name": "stdout",
     "output_type": "stream",
     "text": [
      "🚀 Processing user_20/GOPR1162 → unknown\n"
     ]
    },
    {
     "name": "stderr",
     "output_type": "stream",
     "text": [
      "/kaggle/working/v2e/v2e.py:506: DeprecationWarning: `np.math` is a deprecated alias for the standard library `math` module (Deprecated Numpy 1.25). Replace usages of `np.math` with `math`\n",
      "  dvsNumFrames = np.math.floor(\n",
      "rgb2luma: 100%|██████████| 51/51 [00:01<00:00, 47.22fr/s]\n",
      "npy2png: 51fr [00:00, 161.84fr/s]\n",
      "dvs: 100%|██████████| 51/51 [00:04<00:00, 11.65fr/s]\n",
      "/bin/sh: 1: xprop: not found\n"
     ]
    },
    {
     "name": "stdout",
     "output_type": "stream",
     "text": [
      "🚀 Processing user_20/GOPR1163 → unknown\n"
     ]
    },
    {
     "name": "stderr",
     "output_type": "stream",
     "text": [
      "/kaggle/working/v2e/v2e.py:506: DeprecationWarning: `np.math` is a deprecated alias for the standard library `math` module (Deprecated Numpy 1.25). Replace usages of `np.math` with `math`\n",
      "  dvsNumFrames = np.math.floor(\n",
      "rgb2luma: 100%|██████████| 51/51 [00:01<00:00, 47.03fr/s]\n",
      "npy2png: 51fr [00:00, 161.66fr/s]\n",
      "dvs: 100%|██████████| 51/51 [00:04<00:00, 11.80fr/s]\n",
      "/bin/sh: 1: xprop: not found\n"
     ]
    },
    {
     "name": "stdout",
     "output_type": "stream",
     "text": [
      "🚀 Processing user_20/GOPR1164 → unknown\n"
     ]
    },
    {
     "name": "stderr",
     "output_type": "stream",
     "text": [
      "/kaggle/working/v2e/v2e.py:506: DeprecationWarning: `np.math` is a deprecated alias for the standard library `math` module (Deprecated Numpy 1.25). Replace usages of `np.math` with `math`\n",
      "  dvsNumFrames = np.math.floor(\n",
      "rgb2luma: 100%|██████████| 51/51 [00:01<00:00, 48.11fr/s]\n",
      "npy2png: 51fr [00:00, 163.89fr/s]\n",
      "dvs: 100%|██████████| 51/51 [00:04<00:00, 11.46fr/s]\n",
      "/bin/sh: 1: xprop: not found\n"
     ]
    },
    {
     "name": "stdout",
     "output_type": "stream",
     "text": [
      "🚀 Processing user_20/GOPR1165 → unknown\n"
     ]
    },
    {
     "name": "stderr",
     "output_type": "stream",
     "text": [
      "/kaggle/working/v2e/v2e.py:506: DeprecationWarning: `np.math` is a deprecated alias for the standard library `math` module (Deprecated Numpy 1.25). Replace usages of `np.math` with `math`\n",
      "  dvsNumFrames = np.math.floor(\n",
      "rgb2luma: 100%|██████████| 51/51 [00:01<00:00, 48.06fr/s]\n",
      "npy2png: 51fr [00:00, 163.55fr/s]\n",
      "dvs: 100%|██████████| 51/51 [00:04<00:00, 11.39fr/s]\n",
      "/bin/sh: 1: xprop: not found\n"
     ]
    },
    {
     "name": "stdout",
     "output_type": "stream",
     "text": [
      "🚀 Processing user_20/GOPR1166 → unknown\n"
     ]
    },
    {
     "name": "stderr",
     "output_type": "stream",
     "text": [
      "/kaggle/working/v2e/v2e.py:506: DeprecationWarning: `np.math` is a deprecated alias for the standard library `math` module (Deprecated Numpy 1.25). Replace usages of `np.math` with `math`\n",
      "  dvsNumFrames = np.math.floor(\n",
      "rgb2luma: 100%|██████████| 51/51 [00:01<00:00, 47.02fr/s]\n",
      "npy2png: 51fr [00:00, 159.77fr/s]\n",
      "dvs: 100%|██████████| 51/51 [00:04<00:00, 11.45fr/s]\n",
      "/bin/sh: 1: xprop: not found\n"
     ]
    },
    {
     "name": "stdout",
     "output_type": "stream",
     "text": [
      "🚀 Processing user_20/GOPR1167 → unknown\n"
     ]
    },
    {
     "name": "stderr",
     "output_type": "stream",
     "text": [
      "/kaggle/working/v2e/v2e.py:506: DeprecationWarning: `np.math` is a deprecated alias for the standard library `math` module (Deprecated Numpy 1.25). Replace usages of `np.math` with `math`\n",
      "  dvsNumFrames = np.math.floor(\n",
      "rgb2luma: 100%|██████████| 51/51 [00:01<00:00, 46.98fr/s]\n",
      "npy2png: 51fr [00:00, 162.91fr/s]\n",
      "dvs: 100%|██████████| 51/51 [00:04<00:00, 11.17fr/s]\n",
      "/bin/sh: 1: xprop: not found\n"
     ]
    },
    {
     "name": "stdout",
     "output_type": "stream",
     "text": [
      "🚀 Processing user_20/GOPR1168 → unknown\n"
     ]
    },
    {
     "name": "stderr",
     "output_type": "stream",
     "text": [
      "/kaggle/working/v2e/v2e.py:506: DeprecationWarning: `np.math` is a deprecated alias for the standard library `math` module (Deprecated Numpy 1.25). Replace usages of `np.math` with `math`\n",
      "  dvsNumFrames = np.math.floor(\n",
      "rgb2luma: 100%|██████████| 51/51 [00:01<00:00, 49.00fr/s]\n",
      "npy2png: 51fr [00:00, 158.50fr/s]\n",
      "dvs: 100%|██████████| 51/51 [00:04<00:00, 11.60fr/s]\n",
      "/bin/sh: 1: xprop: not found\n"
     ]
    },
    {
     "name": "stdout",
     "output_type": "stream",
     "text": [
      "🚀 Processing user_20/GOPR1169 → unknown\n"
     ]
    },
    {
     "name": "stderr",
     "output_type": "stream",
     "text": [
      "/kaggle/working/v2e/v2e.py:506: DeprecationWarning: `np.math` is a deprecated alias for the standard library `math` module (Deprecated Numpy 1.25). Replace usages of `np.math` with `math`\n",
      "  dvsNumFrames = np.math.floor(\n",
      "rgb2luma: 100%|██████████| 51/51 [00:01<00:00, 36.30fr/s]\n",
      "npy2png: 51fr [00:00, 157.12fr/s]\n",
      "dvs: 100%|██████████| 51/51 [00:04<00:00, 10.54fr/s]\n",
      "/bin/sh: 1: xprop: not found\n"
     ]
    },
    {
     "name": "stdout",
     "output_type": "stream",
     "text": [
      "🚀 Processing user_20/GOPR1170 → unknown\n"
     ]
    },
    {
     "name": "stderr",
     "output_type": "stream",
     "text": [
      "/kaggle/working/v2e/v2e.py:506: DeprecationWarning: `np.math` is a deprecated alias for the standard library `math` module (Deprecated Numpy 1.25). Replace usages of `np.math` with `math`\n",
      "  dvsNumFrames = np.math.floor(\n",
      "rgb2luma: 100%|██████████| 51/51 [00:01<00:00, 46.79fr/s]\n",
      "npy2png: 51fr [00:00, 162.75fr/s]\n",
      "dvs: 100%|██████████| 51/51 [00:04<00:00, 11.42fr/s]\n",
      "/bin/sh: 1: xprop: not found\n"
     ]
    },
    {
     "name": "stdout",
     "output_type": "stream",
     "text": [
      "🚀 Processing user_20/GOPR1171 → unknown\n"
     ]
    },
    {
     "name": "stderr",
     "output_type": "stream",
     "text": [
      "/kaggle/working/v2e/v2e.py:506: DeprecationWarning: `np.math` is a deprecated alias for the standard library `math` module (Deprecated Numpy 1.25). Replace usages of `np.math` with `math`\n",
      "  dvsNumFrames = np.math.floor(\n",
      "rgb2luma: 100%|██████████| 51/51 [00:01<00:00, 47.51fr/s]\n",
      "npy2png: 51fr [00:00, 162.44fr/s]\n",
      "dvs: 100%|██████████| 51/51 [00:04<00:00, 11.41fr/s]\n",
      "/bin/sh: 1: xprop: not found\n"
     ]
    },
    {
     "name": "stdout",
     "output_type": "stream",
     "text": [
      "🚀 Processing user_20/GOPR1172 → unknown\n"
     ]
    },
    {
     "name": "stderr",
     "output_type": "stream",
     "text": [
      "/kaggle/working/v2e/v2e.py:506: DeprecationWarning: `np.math` is a deprecated alias for the standard library `math` module (Deprecated Numpy 1.25). Replace usages of `np.math` with `math`\n",
      "  dvsNumFrames = np.math.floor(\n",
      "rgb2luma: 100%|██████████| 51/51 [00:01<00:00, 46.39fr/s]\n",
      "npy2png: 51fr [00:00, 160.08fr/s]\n",
      "dvs: 100%|██████████| 51/51 [00:04<00:00, 10.94fr/s]\n",
      "/bin/sh: 1: xprop: not found\n"
     ]
    },
    {
     "name": "stdout",
     "output_type": "stream",
     "text": [
      "🚀 Processing user_21/GOPR1173 → happiness\n"
     ]
    },
    {
     "name": "stderr",
     "output_type": "stream",
     "text": [
      "/kaggle/working/v2e/v2e.py:506: DeprecationWarning: `np.math` is a deprecated alias for the standard library `math` module (Deprecated Numpy 1.25). Replace usages of `np.math` with `math`\n",
      "  dvsNumFrames = np.math.floor(\n",
      "rgb2luma: 100%|██████████| 51/51 [00:01<00:00, 42.87fr/s]\n",
      "npy2png: 51fr [00:00, 156.69fr/s]\n",
      "dvs: 100%|██████████| 51/51 [00:04<00:00, 11.42fr/s]\n",
      "/bin/sh: 1: xprop: not found\n"
     ]
    },
    {
     "name": "stdout",
     "output_type": "stream",
     "text": [
      "🚀 Processing user_21/GOPR1174 → surprise\n"
     ]
    },
    {
     "name": "stderr",
     "output_type": "stream",
     "text": [
      "/kaggle/working/v2e/v2e.py:506: DeprecationWarning: `np.math` is a deprecated alias for the standard library `math` module (Deprecated Numpy 1.25). Replace usages of `np.math` with `math`\n",
      "  dvsNumFrames = np.math.floor(\n",
      "rgb2luma: 100%|██████████| 51/51 [00:01<00:00, 41.22fr/s]\n",
      "npy2png: 51fr [00:00, 155.25fr/s]\n",
      "dvs: 100%|██████████| 51/51 [00:04<00:00, 11.53fr/s]\n",
      "/bin/sh: 1: xprop: not found\n"
     ]
    },
    {
     "name": "stdout",
     "output_type": "stream",
     "text": [
      "🚀 Processing user_21/GOPR1175 → disgust\n"
     ]
    },
    {
     "name": "stderr",
     "output_type": "stream",
     "text": [
      "/kaggle/working/v2e/v2e.py:506: DeprecationWarning: `np.math` is a deprecated alias for the standard library `math` module (Deprecated Numpy 1.25). Replace usages of `np.math` with `math`\n",
      "  dvsNumFrames = np.math.floor(\n",
      "rgb2luma: 100%|██████████| 51/51 [00:01<00:00, 45.90fr/s]\n",
      "npy2png: 51fr [00:00, 156.30fr/s]\n",
      "dvs: 100%|██████████| 51/51 [00:04<00:00, 11.05fr/s]\n",
      "/bin/sh: 1: xprop: not found\n"
     ]
    },
    {
     "name": "stdout",
     "output_type": "stream",
     "text": [
      "🚀 Processing user_21/GOPR1176 → nan\n"
     ]
    },
    {
     "name": "stderr",
     "output_type": "stream",
     "text": [
      "/kaggle/working/v2e/v2e.py:506: DeprecationWarning: `np.math` is a deprecated alias for the standard library `math` module (Deprecated Numpy 1.25). Replace usages of `np.math` with `math`\n",
      "  dvsNumFrames = np.math.floor(\n",
      "rgb2luma: 100%|██████████| 51/51 [00:01<00:00, 48.37fr/s]\n",
      "npy2png: 51fr [00:00, 156.32fr/s]\n",
      "dvs: 100%|██████████| 51/51 [00:04<00:00, 11.47fr/s]\n",
      "/bin/sh: 1: xprop: not found\n"
     ]
    },
    {
     "name": "stdout",
     "output_type": "stream",
     "text": [
      "🚀 Processing user_21/GOPR1177 → sadness\n"
     ]
    },
    {
     "name": "stderr",
     "output_type": "stream",
     "text": [
      "/kaggle/working/v2e/v2e.py:506: DeprecationWarning: `np.math` is a deprecated alias for the standard library `math` module (Deprecated Numpy 1.25). Replace usages of `np.math` with `math`\n",
      "  dvsNumFrames = np.math.floor(\n",
      "rgb2luma: 100%|██████████| 51/51 [00:01<00:00, 40.29fr/s]\n",
      "npy2png: 51fr [00:00, 156.10fr/s]\n",
      "dvs: 100%|██████████| 51/51 [00:04<00:00, 11.12fr/s]\n",
      "/bin/sh: 1: xprop: not found\n"
     ]
    },
    {
     "name": "stdout",
     "output_type": "stream",
     "text": [
      "🚀 Processing user_21/GOPR1178 → anger\n"
     ]
    },
    {
     "name": "stderr",
     "output_type": "stream",
     "text": [
      "/kaggle/working/v2e/v2e.py:506: DeprecationWarning: `np.math` is a deprecated alias for the standard library `math` module (Deprecated Numpy 1.25). Replace usages of `np.math` with `math`\n",
      "  dvsNumFrames = np.math.floor(\n",
      "rgb2luma: 100%|██████████| 51/51 [00:01<00:00, 47.88fr/s]\n",
      "npy2png: 51fr [00:00, 157.75fr/s]\n",
      "dvs: 100%|██████████| 51/51 [00:04<00:00, 11.43fr/s]\n",
      "/bin/sh: 1: xprop: not found\n"
     ]
    },
    {
     "name": "stdout",
     "output_type": "stream",
     "text": [
      "🚀 Processing user_21/GOPR1179 → happiness\n"
     ]
    },
    {
     "name": "stderr",
     "output_type": "stream",
     "text": [
      "/kaggle/working/v2e/v2e.py:506: DeprecationWarning: `np.math` is a deprecated alias for the standard library `math` module (Deprecated Numpy 1.25). Replace usages of `np.math` with `math`\n",
      "  dvsNumFrames = np.math.floor(\n",
      "rgb2luma: 100%|██████████| 51/51 [00:01<00:00, 46.46fr/s]\n",
      "npy2png: 51fr [00:00, 154.60fr/s]\n",
      "dvs: 100%|██████████| 51/51 [00:04<00:00, 10.74fr/s]\n",
      "/bin/sh: 1: xprop: not found\n"
     ]
    },
    {
     "name": "stdout",
     "output_type": "stream",
     "text": [
      "🚀 Processing user_21/GOPR1180 → disgust\n"
     ]
    },
    {
     "name": "stderr",
     "output_type": "stream",
     "text": [
      "/kaggle/working/v2e/v2e.py:506: DeprecationWarning: `np.math` is a deprecated alias for the standard library `math` module (Deprecated Numpy 1.25). Replace usages of `np.math` with `math`\n",
      "  dvsNumFrames = np.math.floor(\n",
      "rgb2luma: 100%|██████████| 51/51 [00:01<00:00, 44.92fr/s]\n",
      "npy2png: 51fr [00:00, 156.73fr/s]\n",
      "dvs: 100%|██████████| 51/51 [00:04<00:00, 11.34fr/s]\n",
      "/bin/sh: 1: xprop: not found\n"
     ]
    },
    {
     "name": "stdout",
     "output_type": "stream",
     "text": [
      "🚀 Processing user_21/GOPR1181 → surprise\n"
     ]
    },
    {
     "name": "stderr",
     "output_type": "stream",
     "text": [
      "/kaggle/working/v2e/v2e.py:506: DeprecationWarning: `np.math` is a deprecated alias for the standard library `math` module (Deprecated Numpy 1.25). Replace usages of `np.math` with `math`\n",
      "  dvsNumFrames = np.math.floor(\n",
      "rgb2luma: 100%|██████████| 51/51 [00:01<00:00, 43.95fr/s]\n",
      "npy2png: 51fr [00:00, 156.91fr/s]\n",
      "dvs: 100%|██████████| 51/51 [00:04<00:00, 11.07fr/s]\n",
      "/bin/sh: 1: xprop: not found\n"
     ]
    },
    {
     "name": "stdout",
     "output_type": "stream",
     "text": [
      "🚀 Processing user_21/GOPR1182 → anger\n"
     ]
    },
    {
     "name": "stderr",
     "output_type": "stream",
     "text": [
      "/kaggle/working/v2e/v2e.py:506: DeprecationWarning: `np.math` is a deprecated alias for the standard library `math` module (Deprecated Numpy 1.25). Replace usages of `np.math` with `math`\n",
      "  dvsNumFrames = np.math.floor(\n",
      "rgb2luma: 100%|██████████| 51/51 [00:01<00:00, 40.95fr/s]\n",
      "npy2png: 51fr [00:00, 155.49fr/s]\n",
      "dvs: 100%|██████████| 51/51 [00:04<00:00, 11.25fr/s]\n",
      "/bin/sh: 1: xprop: not found\n"
     ]
    },
    {
     "name": "stdout",
     "output_type": "stream",
     "text": [
      "🚀 Processing user_21/GOPR1183 → contempt\n"
     ]
    },
    {
     "name": "stderr",
     "output_type": "stream",
     "text": [
      "/kaggle/working/v2e/v2e.py:506: DeprecationWarning: `np.math` is a deprecated alias for the standard library `math` module (Deprecated Numpy 1.25). Replace usages of `np.math` with `math`\n",
      "  dvsNumFrames = np.math.floor(\n",
      "rgb2luma: 100%|██████████| 51/51 [00:01<00:00, 41.75fr/s]\n",
      "npy2png: 51fr [00:00, 156.74fr/s]\n",
      "dvs: 100%|██████████| 51/51 [00:04<00:00, 11.34fr/s]\n",
      "/bin/sh: 1: xprop: not found\n"
     ]
    },
    {
     "name": "stdout",
     "output_type": "stream",
     "text": [
      "🚀 Processing user_21/GOPR1184 → nan\n"
     ]
    },
    {
     "name": "stderr",
     "output_type": "stream",
     "text": [
      "/kaggle/working/v2e/v2e.py:506: DeprecationWarning: `np.math` is a deprecated alias for the standard library `math` module (Deprecated Numpy 1.25). Replace usages of `np.math` with `math`\n",
      "  dvsNumFrames = np.math.floor(\n",
      "rgb2luma: 100%|██████████| 51/51 [00:01<00:00, 45.31fr/s]\n",
      "npy2png: 51fr [00:00, 156.64fr/s]\n",
      "dvs: 100%|██████████| 51/51 [00:04<00:00, 11.40fr/s]\n",
      "/bin/sh: 1: xprop: not found\n"
     ]
    },
    {
     "name": "stdout",
     "output_type": "stream",
     "text": [
      "🚀 Processing user_21/GOPR1185 → nan\n"
     ]
    },
    {
     "name": "stderr",
     "output_type": "stream",
     "text": [
      "/kaggle/working/v2e/v2e.py:506: DeprecationWarning: `np.math` is a deprecated alias for the standard library `math` module (Deprecated Numpy 1.25). Replace usages of `np.math` with `math`\n",
      "  dvsNumFrames = np.math.floor(\n",
      "rgb2luma: 100%|██████████| 51/51 [00:01<00:00, 42.15fr/s]\n",
      "npy2png: 51fr [00:00, 156.05fr/s]\n",
      "dvs: 100%|██████████| 51/51 [00:04<00:00, 10.86fr/s]\n",
      "/bin/sh: 1: xprop: not found\n"
     ]
    },
    {
     "name": "stdout",
     "output_type": "stream",
     "text": [
      "🚀 Processing user_21/GOPR1186 → surprise\n"
     ]
    },
    {
     "name": "stderr",
     "output_type": "stream",
     "text": [
      "/kaggle/working/v2e/v2e.py:506: DeprecationWarning: `np.math` is a deprecated alias for the standard library `math` module (Deprecated Numpy 1.25). Replace usages of `np.math` with `math`\n",
      "  dvsNumFrames = np.math.floor(\n",
      "rgb2luma: 100%|██████████| 51/51 [00:01<00:00, 44.10fr/s]\n",
      "npy2png: 51fr [00:00, 158.20fr/s]\n",
      "dvs: 100%|██████████| 51/51 [00:04<00:00, 11.67fr/s]\n",
      "/bin/sh: 1: xprop: not found\n"
     ]
    },
    {
     "name": "stdout",
     "output_type": "stream",
     "text": [
      "🚀 Processing user_21/GOPR1187 → anger\n"
     ]
    },
    {
     "name": "stderr",
     "output_type": "stream",
     "text": [
      "/kaggle/working/v2e/v2e.py:506: DeprecationWarning: `np.math` is a deprecated alias for the standard library `math` module (Deprecated Numpy 1.25). Replace usages of `np.math` with `math`\n",
      "  dvsNumFrames = np.math.floor(\n",
      "rgb2luma: 100%|██████████| 51/51 [00:01<00:00, 43.98fr/s]\n",
      "npy2png: 51fr [00:00, 157.30fr/s]\n",
      "dvs: 100%|██████████| 51/51 [00:04<00:00, 10.90fr/s]\n",
      "/bin/sh: 1: xprop: not found\n"
     ]
    },
    {
     "name": "stdout",
     "output_type": "stream",
     "text": [
      "🚀 Processing user_21/GOPR1188 → surprise\n"
     ]
    },
    {
     "name": "stderr",
     "output_type": "stream",
     "text": [
      "/kaggle/working/v2e/v2e.py:506: DeprecationWarning: `np.math` is a deprecated alias for the standard library `math` module (Deprecated Numpy 1.25). Replace usages of `np.math` with `math`\n",
      "  dvsNumFrames = np.math.floor(\n",
      "rgb2luma: 100%|██████████| 51/51 [00:01<00:00, 34.10fr/s]\n",
      "npy2png: 51fr [00:00, 157.37fr/s]\n",
      "dvs: 100%|██████████| 51/51 [00:04<00:00, 11.28fr/s]\n",
      "/bin/sh: 1: xprop: not found\n"
     ]
    },
    {
     "name": "stdout",
     "output_type": "stream",
     "text": [
      "🚀 Processing user_21/GOPR1189 → sadness\n"
     ]
    },
    {
     "name": "stderr",
     "output_type": "stream",
     "text": [
      "/kaggle/working/v2e/v2e.py:506: DeprecationWarning: `np.math` is a deprecated alias for the standard library `math` module (Deprecated Numpy 1.25). Replace usages of `np.math` with `math`\n",
      "  dvsNumFrames = np.math.floor(\n",
      "rgb2luma: 100%|██████████| 51/51 [00:01<00:00, 43.66fr/s]\n",
      "npy2png: 51fr [00:00, 154.10fr/s]\n",
      "dvs: 100%|██████████| 51/51 [00:04<00:00, 11.46fr/s]\n",
      "/bin/sh: 1: xprop: not found\n"
     ]
    },
    {
     "name": "stdout",
     "output_type": "stream",
     "text": [
      "🚀 Processing user_21/GOPR1190 → anger\n"
     ]
    },
    {
     "name": "stderr",
     "output_type": "stream",
     "text": [
      "/kaggle/working/v2e/v2e.py:506: DeprecationWarning: `np.math` is a deprecated alias for the standard library `math` module (Deprecated Numpy 1.25). Replace usages of `np.math` with `math`\n",
      "  dvsNumFrames = np.math.floor(\n",
      "rgb2luma: 100%|██████████| 51/51 [00:01<00:00, 41.95fr/s]\n",
      "npy2png: 51fr [00:00, 156.62fr/s]\n",
      "dvs: 100%|██████████| 51/51 [00:04<00:00, 11.39fr/s]\n",
      "/bin/sh: 1: xprop: not found\n"
     ]
    },
    {
     "name": "stdout",
     "output_type": "stream",
     "text": [
      "🚀 Processing user_21/GOPR1191 → nan\n"
     ]
    },
    {
     "name": "stderr",
     "output_type": "stream",
     "text": [
      "/kaggle/working/v2e/v2e.py:506: DeprecationWarning: `np.math` is a deprecated alias for the standard library `math` module (Deprecated Numpy 1.25). Replace usages of `np.math` with `math`\n",
      "  dvsNumFrames = np.math.floor(\n",
      "rgb2luma: 100%|██████████| 51/51 [00:01<00:00, 46.44fr/s]\n",
      "npy2png: 51fr [00:00, 152.54fr/s]\n",
      "dvs: 100%|██████████| 51/51 [00:04<00:00, 11.31fr/s]\n",
      "/bin/sh: 1: xprop: not found\n"
     ]
    },
    {
     "name": "stdout",
     "output_type": "stream",
     "text": [
      "🚀 Processing user_21/GOPR1192 → surprise\n"
     ]
    },
    {
     "name": "stderr",
     "output_type": "stream",
     "text": [
      "/kaggle/working/v2e/v2e.py:506: DeprecationWarning: `np.math` is a deprecated alias for the standard library `math` module (Deprecated Numpy 1.25). Replace usages of `np.math` with `math`\n",
      "  dvsNumFrames = np.math.floor(\n",
      "rgb2luma: 100%|██████████| 51/51 [00:01<00:00, 38.79fr/s]\n",
      "npy2png: 51fr [00:00, 156.68fr/s]\n",
      "dvs: 100%|██████████| 51/51 [00:04<00:00, 11.70fr/s]\n",
      "/bin/sh: 1: xprop: not found\n"
     ]
    },
    {
     "name": "stdout",
     "output_type": "stream",
     "text": [
      "🚀 Processing user_21/GOPR1193 → happiness\n"
     ]
    },
    {
     "name": "stderr",
     "output_type": "stream",
     "text": [
      "/kaggle/working/v2e/v2e.py:506: DeprecationWarning: `np.math` is a deprecated alias for the standard library `math` module (Deprecated Numpy 1.25). Replace usages of `np.math` with `math`\n",
      "  dvsNumFrames = np.math.floor(\n",
      "rgb2luma: 100%|██████████| 51/51 [00:01<00:00, 33.81fr/s]\n",
      "npy2png: 51fr [00:00, 137.50fr/s]\n",
      "dvs: 100%|██████████| 51/51 [00:04<00:00, 11.72fr/s]\n",
      "/bin/sh: 1: xprop: not found\n"
     ]
    },
    {
     "name": "stdout",
     "output_type": "stream",
     "text": [
      "🚀 Processing user_22/GOPR1194 → happiness\n"
     ]
    },
    {
     "name": "stderr",
     "output_type": "stream",
     "text": [
      "/kaggle/working/v2e/v2e.py:506: DeprecationWarning: `np.math` is a deprecated alias for the standard library `math` module (Deprecated Numpy 1.25). Replace usages of `np.math` with `math`\n",
      "  dvsNumFrames = np.math.floor(\n",
      "rgb2luma: 100%|██████████| 51/51 [00:01<00:00, 45.79fr/s]\n",
      "npy2png: 51fr [00:00, 159.47fr/s]\n",
      "dvs: 100%|██████████| 51/51 [00:04<00:00, 11.91fr/s]\n",
      "/bin/sh: 1: xprop: not found\n"
     ]
    },
    {
     "name": "stdout",
     "output_type": "stream",
     "text": [
      "🚀 Processing user_22/GOPR1195 → fear\n"
     ]
    },
    {
     "name": "stderr",
     "output_type": "stream",
     "text": [
      "/kaggle/working/v2e/v2e.py:506: DeprecationWarning: `np.math` is a deprecated alias for the standard library `math` module (Deprecated Numpy 1.25). Replace usages of `np.math` with `math`\n",
      "  dvsNumFrames = np.math.floor(\n",
      "rgb2luma: 100%|██████████| 51/51 [00:01<00:00, 35.93fr/s]\n",
      "npy2png: 51fr [00:00, 147.34fr/s]\n",
      "dvs: 100%|██████████| 51/51 [00:04<00:00, 11.45fr/s]\n",
      "/bin/sh: 1: xprop: not found\n"
     ]
    },
    {
     "name": "stdout",
     "output_type": "stream",
     "text": [
      "🚀 Processing user_22/GOPR1196 → disgust\n"
     ]
    },
    {
     "name": "stderr",
     "output_type": "stream",
     "text": [
      "/kaggle/working/v2e/v2e.py:506: DeprecationWarning: `np.math` is a deprecated alias for the standard library `math` module (Deprecated Numpy 1.25). Replace usages of `np.math` with `math`\n",
      "  dvsNumFrames = np.math.floor(\n",
      "rgb2luma: 100%|██████████| 51/51 [00:01<00:00, 45.78fr/s]\n",
      "npy2png: 51fr [00:00, 158.85fr/s]\n",
      "dvs: 100%|██████████| 51/51 [00:04<00:00, 11.42fr/s]\n",
      "/bin/sh: 1: xprop: not found\n"
     ]
    },
    {
     "name": "stdout",
     "output_type": "stream",
     "text": [
      "🚀 Processing user_22/GOPR1197 → sadness\n"
     ]
    },
    {
     "name": "stderr",
     "output_type": "stream",
     "text": [
      "/kaggle/working/v2e/v2e.py:506: DeprecationWarning: `np.math` is a deprecated alias for the standard library `math` module (Deprecated Numpy 1.25). Replace usages of `np.math` with `math`\n",
      "  dvsNumFrames = np.math.floor(\n",
      "rgb2luma: 100%|██████████| 51/51 [00:01<00:00, 28.10fr/s]\n",
      "npy2png: 51fr [00:00, 158.47fr/s]\n",
      "dvs: 100%|██████████| 51/51 [00:04<00:00, 11.29fr/s]\n",
      "/bin/sh: 1: xprop: not found\n"
     ]
    },
    {
     "name": "stdout",
     "output_type": "stream",
     "text": [
      "🚀 Processing user_22/GOPR1198 → sadness\n"
     ]
    },
    {
     "name": "stderr",
     "output_type": "stream",
     "text": [
      "/kaggle/working/v2e/v2e.py:506: DeprecationWarning: `np.math` is a deprecated alias for the standard library `math` module (Deprecated Numpy 1.25). Replace usages of `np.math` with `math`\n",
      "  dvsNumFrames = np.math.floor(\n",
      "rgb2luma: 100%|██████████| 51/51 [00:01<00:00, 44.51fr/s]\n",
      "npy2png: 51fr [00:00, 159.23fr/s]\n",
      "dvs: 100%|██████████| 51/51 [00:04<00:00, 11.66fr/s]\n",
      "/bin/sh: 1: xprop: not found\n"
     ]
    },
    {
     "name": "stdout",
     "output_type": "stream",
     "text": [
      "🚀 Processing user_22/GOPR1199 → anger\n"
     ]
    },
    {
     "name": "stderr",
     "output_type": "stream",
     "text": [
      "/kaggle/working/v2e/v2e.py:506: DeprecationWarning: `np.math` is a deprecated alias for the standard library `math` module (Deprecated Numpy 1.25). Replace usages of `np.math` with `math`\n",
      "  dvsNumFrames = np.math.floor(\n",
      "rgb2luma: 100%|██████████| 51/51 [00:01<00:00, 38.52fr/s]\n",
      "npy2png: 51fr [00:00, 155.87fr/s]\n",
      "dvs: 100%|██████████| 51/51 [00:04<00:00, 11.43fr/s]\n",
      "/bin/sh: 1: xprop: not found\n"
     ]
    },
    {
     "name": "stdout",
     "output_type": "stream",
     "text": [
      "🚀 Processing user_22/GOPR1200 → happiness\n"
     ]
    },
    {
     "name": "stderr",
     "output_type": "stream",
     "text": [
      "/kaggle/working/v2e/v2e.py:506: DeprecationWarning: `np.math` is a deprecated alias for the standard library `math` module (Deprecated Numpy 1.25). Replace usages of `np.math` with `math`\n",
      "  dvsNumFrames = np.math.floor(\n",
      "rgb2luma: 100%|██████████| 51/51 [00:01<00:00, 44.35fr/s]\n",
      "npy2png: 51fr [00:00, 159.71fr/s]\n",
      "dvs: 100%|██████████| 51/51 [00:04<00:00, 11.62fr/s]\n",
      "/bin/sh: 1: xprop: not found\n"
     ]
    },
    {
     "name": "stdout",
     "output_type": "stream",
     "text": [
      "🚀 Processing user_22/GOPR1201 → disgust\n"
     ]
    },
    {
     "name": "stderr",
     "output_type": "stream",
     "text": [
      "/kaggle/working/v2e/v2e.py:506: DeprecationWarning: `np.math` is a deprecated alias for the standard library `math` module (Deprecated Numpy 1.25). Replace usages of `np.math` with `math`\n",
      "  dvsNumFrames = np.math.floor(\n",
      "rgb2luma: 100%|██████████| 51/51 [00:01<00:00, 38.81fr/s]\n",
      "npy2png: 51fr [00:00, 161.57fr/s]\n",
      "dvs: 100%|██████████| 51/51 [00:04<00:00, 11.26fr/s]\n",
      "/bin/sh: 1: xprop: not found\n"
     ]
    },
    {
     "name": "stdout",
     "output_type": "stream",
     "text": [
      "🚀 Processing user_22/GOPR1202 → anger\n"
     ]
    },
    {
     "name": "stderr",
     "output_type": "stream",
     "text": [
      "/kaggle/working/v2e/v2e.py:506: DeprecationWarning: `np.math` is a deprecated alias for the standard library `math` module (Deprecated Numpy 1.25). Replace usages of `np.math` with `math`\n",
      "  dvsNumFrames = np.math.floor(\n",
      "rgb2luma: 100%|██████████| 51/51 [00:01<00:00, 47.34fr/s]\n",
      "npy2png: 51fr [00:00, 158.96fr/s]\n",
      "dvs: 100%|██████████| 51/51 [00:04<00:00, 11.21fr/s]\n",
      "/bin/sh: 1: xprop: not found\n"
     ]
    },
    {
     "name": "stdout",
     "output_type": "stream",
     "text": [
      "🚀 Processing user_22/GOPR1203 → sadness\n"
     ]
    },
    {
     "name": "stderr",
     "output_type": "stream",
     "text": [
      "/kaggle/working/v2e/v2e.py:506: DeprecationWarning: `np.math` is a deprecated alias for the standard library `math` module (Deprecated Numpy 1.25). Replace usages of `np.math` with `math`\n",
      "  dvsNumFrames = np.math.floor(\n",
      "rgb2luma: 100%|██████████| 51/51 [00:01<00:00, 46.90fr/s]\n",
      "npy2png: 51fr [00:00, 160.64fr/s]\n",
      "dvs: 100%|██████████| 51/51 [00:04<00:00, 11.51fr/s]\n",
      "/bin/sh: 1: xprop: not found\n"
     ]
    },
    {
     "name": "stdout",
     "output_type": "stream",
     "text": [
      "🚀 Processing user_22/GOPR1204 → nan\n"
     ]
    },
    {
     "name": "stderr",
     "output_type": "stream",
     "text": [
      "/kaggle/working/v2e/v2e.py:506: DeprecationWarning: `np.math` is a deprecated alias for the standard library `math` module (Deprecated Numpy 1.25). Replace usages of `np.math` with `math`\n",
      "  dvsNumFrames = np.math.floor(\n",
      "rgb2luma: 100%|██████████| 51/51 [00:01<00:00, 47.82fr/s]\n",
      "npy2png: 51fr [00:00, 164.63fr/s]\n",
      "dvs: 100%|██████████| 51/51 [00:04<00:00, 11.27fr/s]\n",
      "/bin/sh: 1: xprop: not found\n"
     ]
    },
    {
     "name": "stdout",
     "output_type": "stream",
     "text": [
      "🚀 Processing user_22/GOPR1205 → disgust\n"
     ]
    },
    {
     "name": "stderr",
     "output_type": "stream",
     "text": [
      "/kaggle/working/v2e/v2e.py:506: DeprecationWarning: `np.math` is a deprecated alias for the standard library `math` module (Deprecated Numpy 1.25). Replace usages of `np.math` with `math`\n",
      "  dvsNumFrames = np.math.floor(\n",
      "rgb2luma: 100%|██████████| 51/51 [00:01<00:00, 46.34fr/s]\n",
      "npy2png: 51fr [00:00, 165.63fr/s]\n",
      "dvs: 100%|██████████| 51/51 [00:04<00:00, 11.37fr/s]\n",
      "/bin/sh: 1: xprop: not found\n"
     ]
    },
    {
     "name": "stdout",
     "output_type": "stream",
     "text": [
      "🚀 Processing user_22/GOPR1206 → fear\n"
     ]
    },
    {
     "name": "stderr",
     "output_type": "stream",
     "text": [
      "/kaggle/working/v2e/v2e.py:506: DeprecationWarning: `np.math` is a deprecated alias for the standard library `math` module (Deprecated Numpy 1.25). Replace usages of `np.math` with `math`\n",
      "  dvsNumFrames = np.math.floor(\n",
      "rgb2luma: 100%|██████████| 51/51 [00:01<00:00, 50.51fr/s]\n",
      "npy2png: 51fr [00:00, 156.04fr/s]\n",
      "dvs: 100%|██████████| 51/51 [00:04<00:00, 11.19fr/s]\n",
      "/bin/sh: 1: xprop: not found\n"
     ]
    },
    {
     "name": "stdout",
     "output_type": "stream",
     "text": [
      "🚀 Processing user_22/GOPR1207 → nan\n"
     ]
    },
    {
     "name": "stderr",
     "output_type": "stream",
     "text": [
      "/kaggle/working/v2e/v2e.py:506: DeprecationWarning: `np.math` is a deprecated alias for the standard library `math` module (Deprecated Numpy 1.25). Replace usages of `np.math` with `math`\n",
      "  dvsNumFrames = np.math.floor(\n",
      "rgb2luma: 100%|██████████| 51/51 [00:01<00:00, 43.65fr/s]\n",
      "npy2png: 51fr [00:00, 163.97fr/s]\n",
      "dvs: 100%|██████████| 51/51 [00:04<00:00, 11.31fr/s]\n",
      "/bin/sh: 1: xprop: not found\n"
     ]
    },
    {
     "name": "stdout",
     "output_type": "stream",
     "text": [
      "🚀 Processing user_22/GOPR1208 → contempt\n"
     ]
    },
    {
     "name": "stderr",
     "output_type": "stream",
     "text": [
      "/kaggle/working/v2e/v2e.py:506: DeprecationWarning: `np.math` is a deprecated alias for the standard library `math` module (Deprecated Numpy 1.25). Replace usages of `np.math` with `math`\n",
      "  dvsNumFrames = np.math.floor(\n",
      "rgb2luma: 100%|██████████| 51/51 [00:01<00:00, 47.38fr/s]\n",
      "npy2png: 51fr [00:00, 164.35fr/s]\n",
      "dvs: 100%|██████████| 51/51 [00:04<00:00, 11.40fr/s]\n",
      "/bin/sh: 1: xprop: not found\n"
     ]
    },
    {
     "name": "stdout",
     "output_type": "stream",
     "text": [
      "🚀 Processing user_22/GOPR1209 → nan\n"
     ]
    },
    {
     "name": "stderr",
     "output_type": "stream",
     "text": [
      "/kaggle/working/v2e/v2e.py:506: DeprecationWarning: `np.math` is a deprecated alias for the standard library `math` module (Deprecated Numpy 1.25). Replace usages of `np.math` with `math`\n",
      "  dvsNumFrames = np.math.floor(\n",
      "rgb2luma: 100%|██████████| 51/51 [00:01<00:00, 49.37fr/s]\n",
      "npy2png: 51fr [00:00, 166.64fr/s]\n",
      "dvs: 100%|██████████| 51/51 [00:04<00:00, 11.27fr/s]\n",
      "/bin/sh: 1: xprop: not found\n"
     ]
    },
    {
     "name": "stdout",
     "output_type": "stream",
     "text": [
      "🚀 Processing user_22/GOPR1210 → sadness\n"
     ]
    },
    {
     "name": "stderr",
     "output_type": "stream",
     "text": [
      "/kaggle/working/v2e/v2e.py:506: DeprecationWarning: `np.math` is a deprecated alias for the standard library `math` module (Deprecated Numpy 1.25). Replace usages of `np.math` with `math`\n",
      "  dvsNumFrames = np.math.floor(\n",
      "rgb2luma: 100%|██████████| 51/51 [00:01<00:00, 50.24fr/s]\n",
      "npy2png: 51fr [00:00, 163.09fr/s]\n",
      "dvs: 100%|██████████| 51/51 [00:04<00:00, 10.97fr/s]\n",
      "/bin/sh: 1: xprop: not found\n"
     ]
    },
    {
     "name": "stdout",
     "output_type": "stream",
     "text": [
      "🚀 Processing user_22/GOPR1211 → sadness\n"
     ]
    },
    {
     "name": "stderr",
     "output_type": "stream",
     "text": [
      "/kaggle/working/v2e/v2e.py:506: DeprecationWarning: `np.math` is a deprecated alias for the standard library `math` module (Deprecated Numpy 1.25). Replace usages of `np.math` with `math`\n",
      "  dvsNumFrames = np.math.floor(\n",
      "rgb2luma: 100%|██████████| 51/51 [00:01<00:00, 45.22fr/s]\n",
      "npy2png: 51fr [00:00, 164.96fr/s]\n",
      "dvs: 100%|██████████| 51/51 [00:04<00:00, 11.60fr/s]\n",
      "/bin/sh: 1: xprop: not found\n"
     ]
    },
    {
     "name": "stdout",
     "output_type": "stream",
     "text": [
      "🚀 Processing user_22/GOPR1212 → happiness\n"
     ]
    },
    {
     "name": "stderr",
     "output_type": "stream",
     "text": [
      "/kaggle/working/v2e/v2e.py:506: DeprecationWarning: `np.math` is a deprecated alias for the standard library `math` module (Deprecated Numpy 1.25). Replace usages of `np.math` with `math`\n",
      "  dvsNumFrames = np.math.floor(\n",
      "rgb2luma: 100%|██████████| 51/51 [00:01<00:00, 46.01fr/s]\n",
      "npy2png: 51fr [00:00, 164.32fr/s]\n",
      "dvs: 100%|██████████| 51/51 [00:04<00:00, 11.30fr/s]\n",
      "/bin/sh: 1: xprop: not found\n"
     ]
    },
    {
     "name": "stdout",
     "output_type": "stream",
     "text": [
      "🚀 Processing user_22/GOPR1213 → fear\n"
     ]
    },
    {
     "name": "stderr",
     "output_type": "stream",
     "text": [
      "/kaggle/working/v2e/v2e.py:506: DeprecationWarning: `np.math` is a deprecated alias for the standard library `math` module (Deprecated Numpy 1.25). Replace usages of `np.math` with `math`\n",
      "  dvsNumFrames = np.math.floor(\n",
      "rgb2luma: 100%|██████████| 51/51 [00:01<00:00, 47.25fr/s]\n",
      "npy2png: 51fr [00:00, 164.42fr/s]\n",
      "dvs: 100%|██████████| 51/51 [00:04<00:00, 10.94fr/s]\n",
      "/bin/sh: 1: xprop: not found\n"
     ]
    },
    {
     "name": "stdout",
     "output_type": "stream",
     "text": [
      "🚀 Processing user_22/GOPR1214 → surprise\n"
     ]
    },
    {
     "name": "stderr",
     "output_type": "stream",
     "text": [
      "/kaggle/working/v2e/v2e.py:506: DeprecationWarning: `np.math` is a deprecated alias for the standard library `math` module (Deprecated Numpy 1.25). Replace usages of `np.math` with `math`\n",
      "  dvsNumFrames = np.math.floor(\n",
      "rgb2luma: 100%|██████████| 51/51 [00:01<00:00, 46.52fr/s]\n",
      "npy2png: 51fr [00:00, 150.22fr/s]\n",
      "dvs: 100%|██████████| 51/51 [00:04<00:00, 10.88fr/s]\n",
      "/bin/sh: 1: xprop: not found\n"
     ]
    },
    {
     "name": "stdout",
     "output_type": "stream",
     "text": [
      "🚀 Processing user_23/GOPR1226 → happiness\n"
     ]
    },
    {
     "name": "stderr",
     "output_type": "stream",
     "text": [
      "/kaggle/working/v2e/v2e.py:506: DeprecationWarning: `np.math` is a deprecated alias for the standard library `math` module (Deprecated Numpy 1.25). Replace usages of `np.math` with `math`\n",
      "  dvsNumFrames = np.math.floor(\n",
      "rgb2luma: 100%|██████████| 51/51 [00:01<00:00, 44.51fr/s]\n",
      "npy2png: 51fr [00:00, 166.88fr/s]\n",
      "dvs: 100%|██████████| 51/51 [00:04<00:00, 11.38fr/s]\n",
      "/bin/sh: 1: xprop: not found\n"
     ]
    },
    {
     "name": "stdout",
     "output_type": "stream",
     "text": [
      "🚀 Processing user_23/GOPR1227 → surprise\n"
     ]
    },
    {
     "name": "stderr",
     "output_type": "stream",
     "text": [
      "/kaggle/working/v2e/v2e.py:506: DeprecationWarning: `np.math` is a deprecated alias for the standard library `math` module (Deprecated Numpy 1.25). Replace usages of `np.math` with `math`\n",
      "  dvsNumFrames = np.math.floor(\n",
      "rgb2luma: 100%|██████████| 51/51 [00:01<00:00, 50.67fr/s]\n",
      "npy2png: 51fr [00:00, 169.94fr/s]\n",
      "dvs: 100%|██████████| 51/51 [00:04<00:00, 11.52fr/s]\n",
      "/bin/sh: 1: xprop: not found\n"
     ]
    },
    {
     "name": "stdout",
     "output_type": "stream",
     "text": [
      "🚀 Processing user_23/GOPR1228 → disgust\n"
     ]
    },
    {
     "name": "stderr",
     "output_type": "stream",
     "text": [
      "/kaggle/working/v2e/v2e.py:506: DeprecationWarning: `np.math` is a deprecated alias for the standard library `math` module (Deprecated Numpy 1.25). Replace usages of `np.math` with `math`\n",
      "  dvsNumFrames = np.math.floor(\n",
      "rgb2luma: 100%|██████████| 51/51 [00:01<00:00, 47.64fr/s]\n",
      "npy2png: 51fr [00:00, 170.05fr/s]\n",
      "dvs: 100%|██████████| 51/51 [00:04<00:00, 11.58fr/s]\n",
      "/bin/sh: 1: xprop: not found\n"
     ]
    },
    {
     "name": "stdout",
     "output_type": "stream",
     "text": [
      "🚀 Processing user_23/GOPR1229 → sadness\n"
     ]
    },
    {
     "name": "stderr",
     "output_type": "stream",
     "text": [
      "/kaggle/working/v2e/v2e.py:506: DeprecationWarning: `np.math` is a deprecated alias for the standard library `math` module (Deprecated Numpy 1.25). Replace usages of `np.math` with `math`\n",
      "  dvsNumFrames = np.math.floor(\n",
      "rgb2luma: 100%|██████████| 51/51 [00:01<00:00, 47.98fr/s]\n",
      "npy2png: 51fr [00:00, 166.18fr/s]\n",
      "dvs: 100%|██████████| 51/51 [00:04<00:00, 11.53fr/s]\n",
      "/bin/sh: 1: xprop: not found\n"
     ]
    },
    {
     "name": "stdout",
     "output_type": "stream",
     "text": [
      "🚀 Processing user_23/GOPR1230 → sadness\n"
     ]
    },
    {
     "name": "stderr",
     "output_type": "stream",
     "text": [
      "/kaggle/working/v2e/v2e.py:506: DeprecationWarning: `np.math` is a deprecated alias for the standard library `math` module (Deprecated Numpy 1.25). Replace usages of `np.math` with `math`\n",
      "  dvsNumFrames = np.math.floor(\n",
      "rgb2luma: 100%|██████████| 51/51 [00:01<00:00, 46.50fr/s]\n",
      "npy2png: 51fr [00:00, 169.68fr/s]\n",
      "dvs: 100%|██████████| 51/51 [00:04<00:00, 11.36fr/s]\n",
      "/bin/sh: 1: xprop: not found\n"
     ]
    },
    {
     "name": "stdout",
     "output_type": "stream",
     "text": [
      "🚀 Processing user_23/GOPR1231 → contempt\n"
     ]
    },
    {
     "name": "stderr",
     "output_type": "stream",
     "text": [
      "/kaggle/working/v2e/v2e.py:506: DeprecationWarning: `np.math` is a deprecated alias for the standard library `math` module (Deprecated Numpy 1.25). Replace usages of `np.math` with `math`\n",
      "  dvsNumFrames = np.math.floor(\n",
      "rgb2luma: 100%|██████████| 51/51 [00:01<00:00, 50.53fr/s]\n",
      "npy2png: 51fr [00:00, 170.81fr/s]\n",
      "dvs: 100%|██████████| 51/51 [00:04<00:00, 11.40fr/s]\n",
      "/bin/sh: 1: xprop: not found\n"
     ]
    },
    {
     "name": "stdout",
     "output_type": "stream",
     "text": [
      "🚀 Processing user_23/GOPR1232 → happiness\n"
     ]
    },
    {
     "name": "stderr",
     "output_type": "stream",
     "text": [
      "/kaggle/working/v2e/v2e.py:506: DeprecationWarning: `np.math` is a deprecated alias for the standard library `math` module (Deprecated Numpy 1.25). Replace usages of `np.math` with `math`\n",
      "  dvsNumFrames = np.math.floor(\n",
      "rgb2luma: 100%|██████████| 51/51 [00:01<00:00, 47.62fr/s]\n",
      "npy2png: 51fr [00:00, 167.90fr/s]\n",
      "dvs: 100%|██████████| 51/51 [00:04<00:00, 11.17fr/s]\n",
      "/bin/sh: 1: xprop: not found\n"
     ]
    },
    {
     "name": "stdout",
     "output_type": "stream",
     "text": [
      "🚀 Processing user_23/GOPR1233 → disgust\n"
     ]
    },
    {
     "name": "stderr",
     "output_type": "stream",
     "text": [
      "/kaggle/working/v2e/v2e.py:506: DeprecationWarning: `np.math` is a deprecated alias for the standard library `math` module (Deprecated Numpy 1.25). Replace usages of `np.math` with `math`\n",
      "  dvsNumFrames = np.math.floor(\n",
      "rgb2luma: 100%|██████████| 51/51 [00:01<00:00, 50.06fr/s]\n",
      "npy2png: 51fr [00:00, 172.80fr/s]\n",
      "dvs: 100%|██████████| 51/51 [00:04<00:00, 11.42fr/s]\n",
      "/bin/sh: 1: xprop: not found\n"
     ]
    },
    {
     "name": "stdout",
     "output_type": "stream",
     "text": [
      "🚀 Processing user_23/GOPR1234 → surprise\n"
     ]
    },
    {
     "name": "stderr",
     "output_type": "stream",
     "text": [
      "/kaggle/working/v2e/v2e.py:506: DeprecationWarning: `np.math` is a deprecated alias for the standard library `math` module (Deprecated Numpy 1.25). Replace usages of `np.math` with `math`\n",
      "  dvsNumFrames = np.math.floor(\n",
      "rgb2luma: 100%|██████████| 51/51 [00:01<00:00, 46.28fr/s]\n",
      "npy2png: 51fr [00:00, 172.62fr/s]\n",
      "dvs: 100%|██████████| 51/51 [00:04<00:00, 11.49fr/s]\n",
      "/bin/sh: 1: xprop: not found\n"
     ]
    },
    {
     "name": "stdout",
     "output_type": "stream",
     "text": [
      "🚀 Processing user_23/GOPR1235 → anger\n"
     ]
    },
    {
     "name": "stderr",
     "output_type": "stream",
     "text": [
      "/kaggle/working/v2e/v2e.py:506: DeprecationWarning: `np.math` is a deprecated alias for the standard library `math` module (Deprecated Numpy 1.25). Replace usages of `np.math` with `math`\n",
      "  dvsNumFrames = np.math.floor(\n",
      "rgb2luma: 100%|██████████| 51/51 [00:00<00:00, 51.63fr/s]\n",
      "npy2png: 51fr [00:00, 170.45fr/s]\n",
      "dvs: 100%|██████████| 51/51 [00:04<00:00, 11.41fr/s]\n",
      "/bin/sh: 1: xprop: not found\n"
     ]
    },
    {
     "name": "stdout",
     "output_type": "stream",
     "text": [
      "🚀 Processing user_23/GOPR1236 → surprise\n"
     ]
    },
    {
     "name": "stderr",
     "output_type": "stream",
     "text": [
      "/kaggle/working/v2e/v2e.py:506: DeprecationWarning: `np.math` is a deprecated alias for the standard library `math` module (Deprecated Numpy 1.25). Replace usages of `np.math` with `math`\n",
      "  dvsNumFrames = np.math.floor(\n",
      "rgb2luma: 100%|██████████| 51/51 [00:01<00:00, 47.04fr/s]\n",
      "npy2png: 51fr [00:00, 173.07fr/s]\n",
      "dvs: 100%|██████████| 51/51 [00:04<00:00, 11.47fr/s]\n",
      "/bin/sh: 1: xprop: not found\n"
     ]
    },
    {
     "name": "stdout",
     "output_type": "stream",
     "text": [
      "🚀 Processing user_23/GOPR1237 → disgust\n"
     ]
    },
    {
     "name": "stderr",
     "output_type": "stream",
     "text": [
      "/kaggle/working/v2e/v2e.py:506: DeprecationWarning: `np.math` is a deprecated alias for the standard library `math` module (Deprecated Numpy 1.25). Replace usages of `np.math` with `math`\n",
      "  dvsNumFrames = np.math.floor(\n",
      "rgb2luma: 100%|██████████| 51/51 [00:01<00:00, 43.00fr/s]\n",
      "npy2png: 51fr [00:00, 168.10fr/s]\n",
      "dvs: 100%|██████████| 51/51 [00:04<00:00, 11.56fr/s]\n",
      "/bin/sh: 1: xprop: not found\n"
     ]
    },
    {
     "name": "stdout",
     "output_type": "stream",
     "text": [
      "🚀 Processing user_23/GOPR1238 → surprise\n"
     ]
    },
    {
     "name": "stderr",
     "output_type": "stream",
     "text": [
      "/kaggle/working/v2e/v2e.py:506: DeprecationWarning: `np.math` is a deprecated alias for the standard library `math` module (Deprecated Numpy 1.25). Replace usages of `np.math` with `math`\n",
      "  dvsNumFrames = np.math.floor(\n",
      "rgb2luma: 100%|██████████| 51/51 [00:01<00:00, 46.19fr/s]\n",
      "npy2png: 51fr [00:00, 174.12fr/s]\n",
      "dvs: 100%|██████████| 51/51 [00:04<00:00, 11.52fr/s]\n",
      "/bin/sh: 1: xprop: not found\n"
     ]
    },
    {
     "name": "stdout",
     "output_type": "stream",
     "text": [
      "🚀 Processing user_23/GOPR1239 → surprise\n"
     ]
    },
    {
     "name": "stderr",
     "output_type": "stream",
     "text": [
      "/kaggle/working/v2e/v2e.py:506: DeprecationWarning: `np.math` is a deprecated alias for the standard library `math` module (Deprecated Numpy 1.25). Replace usages of `np.math` with `math`\n",
      "  dvsNumFrames = np.math.floor(\n",
      "rgb2luma: 100%|██████████| 51/51 [00:01<00:00, 49.69fr/s]\n",
      "npy2png: 51fr [00:00, 167.62fr/s]\n",
      "dvs: 100%|██████████| 51/51 [00:04<00:00, 11.70fr/s]\n",
      "/bin/sh: 1: xprop: not found\n"
     ]
    },
    {
     "name": "stdout",
     "output_type": "stream",
     "text": [
      "🚀 Processing user_23/GOPR1240 → anger\n"
     ]
    },
    {
     "name": "stderr",
     "output_type": "stream",
     "text": [
      "/kaggle/working/v2e/v2e.py:506: DeprecationWarning: `np.math` is a deprecated alias for the standard library `math` module (Deprecated Numpy 1.25). Replace usages of `np.math` with `math`\n",
      "  dvsNumFrames = np.math.floor(\n",
      "rgb2luma: 100%|██████████| 51/51 [00:01<00:00, 47.74fr/s]\n",
      "npy2png: 51fr [00:00, 169.68fr/s]\n",
      "dvs: 100%|██████████| 51/51 [00:04<00:00, 11.42fr/s]\n",
      "/bin/sh: 1: xprop: not found\n"
     ]
    },
    {
     "name": "stdout",
     "output_type": "stream",
     "text": [
      "🚀 Processing user_23/GOPR1241 → surprise\n"
     ]
    },
    {
     "name": "stderr",
     "output_type": "stream",
     "text": [
      "/kaggle/working/v2e/v2e.py:506: DeprecationWarning: `np.math` is a deprecated alias for the standard library `math` module (Deprecated Numpy 1.25). Replace usages of `np.math` with `math`\n",
      "  dvsNumFrames = np.math.floor(\n",
      "rgb2luma: 100%|██████████| 51/51 [00:01<00:00, 42.32fr/s]\n",
      "npy2png: 51fr [00:00, 120.50fr/s]\n",
      "dvs: 100%|██████████| 51/51 [00:04<00:00, 10.70fr/s]\n",
      "/bin/sh: 1: xprop: not found\n"
     ]
    },
    {
     "name": "stdout",
     "output_type": "stream",
     "text": [
      "🚀 Processing user_23/GOPR1242 → sadness\n"
     ]
    },
    {
     "name": "stderr",
     "output_type": "stream",
     "text": [
      "/kaggle/working/v2e/v2e.py:506: DeprecationWarning: `np.math` is a deprecated alias for the standard library `math` module (Deprecated Numpy 1.25). Replace usages of `np.math` with `math`\n",
      "  dvsNumFrames = np.math.floor(\n",
      "rgb2luma: 100%|██████████| 51/51 [00:01<00:00, 46.63fr/s]\n",
      "npy2png: 51fr [00:00, 162.72fr/s]\n",
      "dvs: 100%|██████████| 51/51 [00:04<00:00, 11.41fr/s]\n",
      "/bin/sh: 1: xprop: not found\n"
     ]
    },
    {
     "name": "stdout",
     "output_type": "stream",
     "text": [
      "🚀 Processing user_23/GOPR1243 → anger\n"
     ]
    },
    {
     "name": "stderr",
     "output_type": "stream",
     "text": [
      "/kaggle/working/v2e/v2e.py:506: DeprecationWarning: `np.math` is a deprecated alias for the standard library `math` module (Deprecated Numpy 1.25). Replace usages of `np.math` with `math`\n",
      "  dvsNumFrames = np.math.floor(\n",
      "rgb2luma: 100%|██████████| 51/51 [00:01<00:00, 45.26fr/s]\n",
      "npy2png: 51fr [00:00, 165.81fr/s]\n",
      "dvs: 100%|██████████| 51/51 [00:04<00:00, 11.26fr/s]\n",
      "/bin/sh: 1: xprop: not found\n"
     ]
    },
    {
     "name": "stdout",
     "output_type": "stream",
     "text": [
      "🚀 Processing user_23/GOPR1244 → happiness\n"
     ]
    },
    {
     "name": "stderr",
     "output_type": "stream",
     "text": [
      "/kaggle/working/v2e/v2e.py:506: DeprecationWarning: `np.math` is a deprecated alias for the standard library `math` module (Deprecated Numpy 1.25). Replace usages of `np.math` with `math`\n",
      "  dvsNumFrames = np.math.floor(\n",
      "rgb2luma: 100%|██████████| 51/51 [00:01<00:00, 49.01fr/s]\n",
      "npy2png: 51fr [00:00, 164.82fr/s]\n",
      "dvs: 100%|██████████| 51/51 [00:04<00:00, 11.06fr/s]\n",
      "/bin/sh: 1: xprop: not found\n"
     ]
    },
    {
     "name": "stdout",
     "output_type": "stream",
     "text": [
      "🚀 Processing user_23/GOPR1245 → surprise\n"
     ]
    },
    {
     "name": "stderr",
     "output_type": "stream",
     "text": [
      "/kaggle/working/v2e/v2e.py:506: DeprecationWarning: `np.math` is a deprecated alias for the standard library `math` module (Deprecated Numpy 1.25). Replace usages of `np.math` with `math`\n",
      "  dvsNumFrames = np.math.floor(\n",
      "rgb2luma: 100%|██████████| 51/51 [00:01<00:00, 46.58fr/s]\n",
      "npy2png: 51fr [00:00, 167.39fr/s]\n",
      "dvs: 100%|██████████| 51/51 [00:04<00:00, 11.35fr/s]\n",
      "/bin/sh: 1: xprop: not found\n"
     ]
    },
    {
     "name": "stdout",
     "output_type": "stream",
     "text": [
      "🚀 Processing user_23/GOPR1246 → happiness\n"
     ]
    },
    {
     "name": "stderr",
     "output_type": "stream",
     "text": [
      "/kaggle/working/v2e/v2e.py:506: DeprecationWarning: `np.math` is a deprecated alias for the standard library `math` module (Deprecated Numpy 1.25). Replace usages of `np.math` with `math`\n",
      "  dvsNumFrames = np.math.floor(\n",
      "rgb2luma: 100%|██████████| 51/51 [00:01<00:00, 48.87fr/s]\n",
      "npy2png: 51fr [00:00, 163.46fr/s]\n",
      "dvs: 100%|██████████| 51/51 [00:04<00:00, 11.03fr/s]\n",
      "/bin/sh: 1: xprop: not found\n"
     ]
    },
    {
     "name": "stdout",
     "output_type": "stream",
     "text": [
      "🚀 Processing user_24/GOPR1247 → surprise\n"
     ]
    },
    {
     "name": "stderr",
     "output_type": "stream",
     "text": [
      "/kaggle/working/v2e/v2e.py:506: DeprecationWarning: `np.math` is a deprecated alias for the standard library `math` module (Deprecated Numpy 1.25). Replace usages of `np.math` with `math`\n",
      "  dvsNumFrames = np.math.floor(\n",
      "rgb2luma: 100%|██████████| 51/51 [00:01<00:00, 50.62fr/s]\n",
      "npy2png: 51fr [00:00, 170.98fr/s]\n",
      "dvs: 100%|██████████| 51/51 [00:04<00:00, 11.16fr/s]\n",
      "/bin/sh: 1: xprop: not found\n"
     ]
    },
    {
     "name": "stdout",
     "output_type": "stream",
     "text": [
      "🚀 Processing user_24/GOPR1248 → fear\n"
     ]
    },
    {
     "name": "stderr",
     "output_type": "stream",
     "text": [
      "/kaggle/working/v2e/v2e.py:506: DeprecationWarning: `np.math` is a deprecated alias for the standard library `math` module (Deprecated Numpy 1.25). Replace usages of `np.math` with `math`\n",
      "  dvsNumFrames = np.math.floor(\n",
      "rgb2luma: 100%|██████████| 51/51 [00:01<00:00, 47.36fr/s]\n",
      "npy2png: 51fr [00:00, 170.39fr/s]\n",
      "dvs: 100%|██████████| 51/51 [00:04<00:00, 11.42fr/s]\n",
      "/bin/sh: 1: xprop: not found\n"
     ]
    },
    {
     "name": "stdout",
     "output_type": "stream",
     "text": [
      "🚀 Processing user_24/GOPR1249 → surprise\n"
     ]
    },
    {
     "name": "stderr",
     "output_type": "stream",
     "text": [
      "/kaggle/working/v2e/v2e.py:506: DeprecationWarning: `np.math` is a deprecated alias for the standard library `math` module (Deprecated Numpy 1.25). Replace usages of `np.math` with `math`\n",
      "  dvsNumFrames = np.math.floor(\n",
      "rgb2luma: 100%|██████████| 51/51 [00:01<00:00, 49.88fr/s]\n",
      "npy2png: 51fr [00:00, 170.13fr/s]\n",
      "dvs: 100%|██████████| 51/51 [00:04<00:00, 11.06fr/s]\n",
      "/bin/sh: 1: xprop: not found\n"
     ]
    },
    {
     "name": "stdout",
     "output_type": "stream",
     "text": [
      "🚀 Processing user_24/GOPR1250 → sadness\n"
     ]
    },
    {
     "name": "stderr",
     "output_type": "stream",
     "text": [
      "/kaggle/working/v2e/v2e.py:506: DeprecationWarning: `np.math` is a deprecated alias for the standard library `math` module (Deprecated Numpy 1.25). Replace usages of `np.math` with `math`\n",
      "  dvsNumFrames = np.math.floor(\n",
      "rgb2luma: 100%|██████████| 51/51 [00:01<00:00, 46.19fr/s]\n",
      "npy2png: 51fr [00:00, 167.73fr/s]\n",
      "dvs: 100%|██████████| 51/51 [00:04<00:00, 11.79fr/s]\n",
      "/bin/sh: 1: xprop: not found\n"
     ]
    },
    {
     "name": "stdout",
     "output_type": "stream",
     "text": [
      "🚀 Processing user_24/GOPR1251 → sadness\n"
     ]
    },
    {
     "name": "stderr",
     "output_type": "stream",
     "text": [
      "/kaggle/working/v2e/v2e.py:506: DeprecationWarning: `np.math` is a deprecated alias for the standard library `math` module (Deprecated Numpy 1.25). Replace usages of `np.math` with `math`\n",
      "  dvsNumFrames = np.math.floor(\n",
      "rgb2luma: 100%|██████████| 51/51 [00:01<00:00, 48.49fr/s]\n",
      "npy2png: 51fr [00:00, 172.19fr/s]\n",
      "dvs: 100%|██████████| 51/51 [00:04<00:00, 11.56fr/s]\n",
      "/bin/sh: 1: xprop: not found\n"
     ]
    },
    {
     "name": "stdout",
     "output_type": "stream",
     "text": [
      "🚀 Processing user_24/GOPR1252 → fear\n"
     ]
    },
    {
     "name": "stderr",
     "output_type": "stream",
     "text": [
      "/kaggle/working/v2e/v2e.py:506: DeprecationWarning: `np.math` is a deprecated alias for the standard library `math` module (Deprecated Numpy 1.25). Replace usages of `np.math` with `math`\n",
      "  dvsNumFrames = np.math.floor(\n",
      "rgb2luma: 100%|██████████| 51/51 [00:01<00:00, 47.55fr/s]\n",
      "npy2png: 51fr [00:00, 168.66fr/s]\n",
      "dvs: 100%|██████████| 51/51 [00:04<00:00, 11.38fr/s]\n",
      "/bin/sh: 1: xprop: not found\n"
     ]
    },
    {
     "name": "stdout",
     "output_type": "stream",
     "text": [
      "🚀 Processing user_24/GOPR1253 → happiness\n"
     ]
    },
    {
     "name": "stderr",
     "output_type": "stream",
     "text": [
      "/kaggle/working/v2e/v2e.py:506: DeprecationWarning: `np.math` is a deprecated alias for the standard library `math` module (Deprecated Numpy 1.25). Replace usages of `np.math` with `math`\n",
      "  dvsNumFrames = np.math.floor(\n",
      "rgb2luma: 100%|██████████| 51/51 [00:00<00:00, 51.66fr/s]\n",
      "npy2png: 51fr [00:00, 172.59fr/s]\n",
      "dvs: 100%|██████████| 51/51 [00:04<00:00, 11.42fr/s]\n",
      "/bin/sh: 1: xprop: not found\n"
     ]
    },
    {
     "name": "stdout",
     "output_type": "stream",
     "text": [
      "🚀 Processing user_24/GOPR1254 → disgust\n"
     ]
    },
    {
     "name": "stderr",
     "output_type": "stream",
     "text": [
      "/kaggle/working/v2e/v2e.py:506: DeprecationWarning: `np.math` is a deprecated alias for the standard library `math` module (Deprecated Numpy 1.25). Replace usages of `np.math` with `math`\n",
      "  dvsNumFrames = np.math.floor(\n",
      "rgb2luma: 100%|██████████| 51/51 [00:01<00:00, 48.37fr/s]\n",
      "npy2png: 51fr [00:00, 174.20fr/s]\n",
      "dvs: 100%|██████████| 51/51 [00:04<00:00, 11.34fr/s]\n",
      "/bin/sh: 1: xprop: not found\n"
     ]
    },
    {
     "name": "stdout",
     "output_type": "stream",
     "text": [
      "🚀 Processing user_24/GOPR1255 → anger\n"
     ]
    },
    {
     "name": "stderr",
     "output_type": "stream",
     "text": [
      "/kaggle/working/v2e/v2e.py:506: DeprecationWarning: `np.math` is a deprecated alias for the standard library `math` module (Deprecated Numpy 1.25). Replace usages of `np.math` with `math`\n",
      "  dvsNumFrames = np.math.floor(\n",
      "rgb2luma: 100%|██████████| 51/51 [00:01<00:00, 48.67fr/s]\n",
      "npy2png: 51fr [00:00, 171.51fr/s]\n",
      "dvs: 100%|██████████| 51/51 [00:04<00:00, 11.75fr/s]\n",
      "/bin/sh: 1: xprop: not found\n"
     ]
    },
    {
     "name": "stdout",
     "output_type": "stream",
     "text": [
      "🚀 Processing user_24/GOPR1256 → anger\n"
     ]
    },
    {
     "name": "stderr",
     "output_type": "stream",
     "text": [
      "/kaggle/working/v2e/v2e.py:506: DeprecationWarning: `np.math` is a deprecated alias for the standard library `math` module (Deprecated Numpy 1.25). Replace usages of `np.math` with `math`\n",
      "  dvsNumFrames = np.math.floor(\n",
      "rgb2luma: 100%|██████████| 51/51 [00:01<00:00, 49.77fr/s]\n",
      "npy2png: 51fr [00:00, 169.51fr/s]\n",
      "dvs: 100%|██████████| 51/51 [00:04<00:00, 11.28fr/s]\n",
      "/bin/sh: 1: xprop: not found\n"
     ]
    },
    {
     "name": "stdout",
     "output_type": "stream",
     "text": [
      "🚀 Processing user_24/GOPR1257 → nan\n"
     ]
    },
    {
     "name": "stderr",
     "output_type": "stream",
     "text": [
      "/kaggle/working/v2e/v2e.py:506: DeprecationWarning: `np.math` is a deprecated alias for the standard library `math` module (Deprecated Numpy 1.25). Replace usages of `np.math` with `math`\n",
      "  dvsNumFrames = np.math.floor(\n",
      "rgb2luma: 100%|██████████| 51/51 [00:01<00:00, 50.03fr/s]\n",
      "npy2png: 51fr [00:00, 169.69fr/s]\n",
      "dvs: 100%|██████████| 51/51 [00:04<00:00, 12.16fr/s]\n",
      "/bin/sh: 1: xprop: not found\n"
     ]
    },
    {
     "name": "stdout",
     "output_type": "stream",
     "text": [
      "🚀 Processing user_24/GOPR1258 → disgust\n"
     ]
    },
    {
     "name": "stderr",
     "output_type": "stream",
     "text": [
      "/kaggle/working/v2e/v2e.py:506: DeprecationWarning: `np.math` is a deprecated alias for the standard library `math` module (Deprecated Numpy 1.25). Replace usages of `np.math` with `math`\n",
      "  dvsNumFrames = np.math.floor(\n",
      "rgb2luma: 100%|██████████| 51/51 [00:01<00:00, 49.58fr/s]\n",
      "npy2png: 51fr [00:00, 162.07fr/s]\n",
      "dvs: 100%|██████████| 51/51 [00:04<00:00, 11.58fr/s]\n",
      "/bin/sh: 1: xprop: not found\n"
     ]
    },
    {
     "name": "stdout",
     "output_type": "stream",
     "text": [
      "🚀 Processing user_24/GOPR1259 → surprise\n"
     ]
    },
    {
     "name": "stderr",
     "output_type": "stream",
     "text": [
      "/kaggle/working/v2e/v2e.py:506: DeprecationWarning: `np.math` is a deprecated alias for the standard library `math` module (Deprecated Numpy 1.25). Replace usages of `np.math` with `math`\n",
      "  dvsNumFrames = np.math.floor(\n",
      "rgb2luma: 100%|██████████| 51/51 [00:01<00:00, 49.35fr/s]\n",
      "npy2png: 51fr [00:00, 168.39fr/s]\n",
      "dvs: 100%|██████████| 51/51 [00:04<00:00, 11.36fr/s]\n",
      "/bin/sh: 1: xprop: not found\n"
     ]
    },
    {
     "name": "stdout",
     "output_type": "stream",
     "text": [
      "🚀 Processing user_24/GOPR1260 → anger\n"
     ]
    },
    {
     "name": "stderr",
     "output_type": "stream",
     "text": [
      "/kaggle/working/v2e/v2e.py:506: DeprecationWarning: `np.math` is a deprecated alias for the standard library `math` module (Deprecated Numpy 1.25). Replace usages of `np.math` with `math`\n",
      "  dvsNumFrames = np.math.floor(\n",
      "rgb2luma: 100%|██████████| 51/51 [00:00<00:00, 51.28fr/s]\n",
      "npy2png: 51fr [00:00, 165.58fr/s]\n",
      "dvs: 100%|██████████| 51/51 [00:04<00:00, 11.66fr/s]\n",
      "/bin/sh: 1: xprop: not found\n"
     ]
    },
    {
     "name": "stdout",
     "output_type": "stream",
     "text": [
      "🚀 Processing user_24/GOPR1261 → disgust\n"
     ]
    },
    {
     "name": "stderr",
     "output_type": "stream",
     "text": [
      "/kaggle/working/v2e/v2e.py:506: DeprecationWarning: `np.math` is a deprecated alias for the standard library `math` module (Deprecated Numpy 1.25). Replace usages of `np.math` with `math`\n",
      "  dvsNumFrames = np.math.floor(\n",
      "rgb2luma: 100%|██████████| 51/51 [00:01<00:00, 48.58fr/s]\n",
      "npy2png: 51fr [00:00, 172.71fr/s]\n",
      "dvs: 100%|██████████| 51/51 [00:04<00:00, 11.88fr/s]\n",
      "/bin/sh: 1: xprop: not found\n"
     ]
    },
    {
     "name": "stdout",
     "output_type": "stream",
     "text": [
      "🚀 Processing user_24/GOPR1262 → surprise\n"
     ]
    },
    {
     "name": "stderr",
     "output_type": "stream",
     "text": [
      "/kaggle/working/v2e/v2e.py:506: DeprecationWarning: `np.math` is a deprecated alias for the standard library `math` module (Deprecated Numpy 1.25). Replace usages of `np.math` with `math`\n",
      "  dvsNumFrames = np.math.floor(\n",
      "rgb2luma: 100%|██████████| 51/51 [00:00<00:00, 53.20fr/s]\n",
      "npy2png: 51fr [00:00, 174.46fr/s]\n",
      "dvs: 100%|██████████| 51/51 [00:04<00:00, 11.52fr/s]\n",
      "/bin/sh: 1: xprop: not found\n"
     ]
    },
    {
     "name": "stdout",
     "output_type": "stream",
     "text": [
      "🚀 Processing user_24/GOPR1263 → sadness\n"
     ]
    },
    {
     "name": "stderr",
     "output_type": "stream",
     "text": [
      "/kaggle/working/v2e/v2e.py:506: DeprecationWarning: `np.math` is a deprecated alias for the standard library `math` module (Deprecated Numpy 1.25). Replace usages of `np.math` with `math`\n",
      "  dvsNumFrames = np.math.floor(\n",
      "rgb2luma: 100%|██████████| 51/51 [00:00<00:00, 52.79fr/s]\n",
      "npy2png: 51fr [00:00, 170.64fr/s]\n",
      "dvs: 100%|██████████| 51/51 [00:04<00:00, 11.78fr/s]\n",
      "/bin/sh: 1: xprop: not found\n"
     ]
    },
    {
     "name": "stdout",
     "output_type": "stream",
     "text": [
      "🚀 Processing user_24/GOPR1264 → contempt\n"
     ]
    },
    {
     "name": "stderr",
     "output_type": "stream",
     "text": [
      "/kaggle/working/v2e/v2e.py:506: DeprecationWarning: `np.math` is a deprecated alias for the standard library `math` module (Deprecated Numpy 1.25). Replace usages of `np.math` with `math`\n",
      "  dvsNumFrames = np.math.floor(\n",
      "rgb2luma: 100%|██████████| 51/51 [00:00<00:00, 51.22fr/s]\n",
      "npy2png: 51fr [00:00, 172.13fr/s]\n",
      "dvs: 100%|██████████| 51/51 [00:04<00:00, 11.60fr/s]\n",
      "/bin/sh: 1: xprop: not found\n"
     ]
    },
    {
     "name": "stdout",
     "output_type": "stream",
     "text": [
      "🚀 Processing user_24/GOPR1265 → happiness\n"
     ]
    },
    {
     "name": "stderr",
     "output_type": "stream",
     "text": [
      "/kaggle/working/v2e/v2e.py:506: DeprecationWarning: `np.math` is a deprecated alias for the standard library `math` module (Deprecated Numpy 1.25). Replace usages of `np.math` with `math`\n",
      "  dvsNumFrames = np.math.floor(\n",
      "rgb2luma: 100%|██████████| 51/51 [00:01<00:00, 50.18fr/s]\n",
      "npy2png: 51fr [00:00, 172.87fr/s]\n",
      "dvs: 100%|██████████| 51/51 [00:04<00:00, 11.63fr/s]\n",
      "/bin/sh: 1: xprop: not found\n"
     ]
    },
    {
     "name": "stdout",
     "output_type": "stream",
     "text": [
      "🚀 Processing user_24/GOPR1266 → surprise\n"
     ]
    },
    {
     "name": "stderr",
     "output_type": "stream",
     "text": [
      "/kaggle/working/v2e/v2e.py:506: DeprecationWarning: `np.math` is a deprecated alias for the standard library `math` module (Deprecated Numpy 1.25). Replace usages of `np.math` with `math`\n",
      "  dvsNumFrames = np.math.floor(\n",
      "rgb2luma: 100%|██████████| 51/51 [00:00<00:00, 51.19fr/s]\n",
      "npy2png: 51fr [00:00, 168.70fr/s]\n",
      "dvs: 100%|██████████| 51/51 [00:04<00:00, 11.46fr/s]\n",
      "/bin/sh: 1: xprop: not found\n"
     ]
    },
    {
     "name": "stdout",
     "output_type": "stream",
     "text": [
      "🚀 Processing user_24/GOPR1267 → surprise\n"
     ]
    },
    {
     "name": "stderr",
     "output_type": "stream",
     "text": [
      "/kaggle/working/v2e/v2e.py:506: DeprecationWarning: `np.math` is a deprecated alias for the standard library `math` module (Deprecated Numpy 1.25). Replace usages of `np.math` with `math`\n",
      "  dvsNumFrames = np.math.floor(\n",
      "rgb2luma: 100%|██████████| 51/51 [00:01<00:00, 50.11fr/s]\n",
      "npy2png: 51fr [00:00, 170.84fr/s]\n",
      "dvs: 100%|██████████| 51/51 [00:04<00:00, 11.55fr/s]\n",
      "/bin/sh: 1: xprop: not found\n"
     ]
    },
    {
     "name": "stdout",
     "output_type": "stream",
     "text": [
      "🚀 Processing user_25/GOPR1268 → nan\n"
     ]
    },
    {
     "name": "stderr",
     "output_type": "stream",
     "text": [
      "/kaggle/working/v2e/v2e.py:506: DeprecationWarning: `np.math` is a deprecated alias for the standard library `math` module (Deprecated Numpy 1.25). Replace usages of `np.math` with `math`\n",
      "  dvsNumFrames = np.math.floor(\n",
      "rgb2luma: 100%|██████████| 51/51 [00:01<00:00, 44.00fr/s]\n",
      "npy2png: 51fr [00:00, 160.78fr/s]\n",
      "dvs: 100%|██████████| 51/51 [00:04<00:00, 11.75fr/s]\n",
      "/bin/sh: 1: xprop: not found\n"
     ]
    },
    {
     "name": "stdout",
     "output_type": "stream",
     "text": [
      "🚀 Processing user_25/GOPR1269 → fear\n"
     ]
    },
    {
     "name": "stderr",
     "output_type": "stream",
     "text": [
      "/kaggle/working/v2e/v2e.py:506: DeprecationWarning: `np.math` is a deprecated alias for the standard library `math` module (Deprecated Numpy 1.25). Replace usages of `np.math` with `math`\n",
      "  dvsNumFrames = np.math.floor(\n",
      "rgb2luma: 100%|██████████| 51/51 [00:01<00:00, 47.43fr/s]\n",
      "npy2png: 51fr [00:00, 168.99fr/s]\n",
      "dvs: 100%|██████████| 51/51 [00:04<00:00, 11.62fr/s]\n",
      "/bin/sh: 1: xprop: not found\n"
     ]
    },
    {
     "name": "stdout",
     "output_type": "stream",
     "text": [
      "🚀 Processing user_25/GOPR1270 → disgust\n"
     ]
    },
    {
     "name": "stderr",
     "output_type": "stream",
     "text": [
      "/kaggle/working/v2e/v2e.py:506: DeprecationWarning: `np.math` is a deprecated alias for the standard library `math` module (Deprecated Numpy 1.25). Replace usages of `np.math` with `math`\n",
      "  dvsNumFrames = np.math.floor(\n",
      "rgb2luma: 100%|██████████| 51/51 [00:01<00:00, 43.72fr/s]\n",
      "npy2png: 51fr [00:00, 169.17fr/s]\n",
      "dvs: 100%|██████████| 51/51 [00:04<00:00, 11.60fr/s]\n",
      "/bin/sh: 1: xprop: not found\n"
     ]
    },
    {
     "name": "stdout",
     "output_type": "stream",
     "text": [
      "🚀 Processing user_25/GOPR1271 → sadness\n"
     ]
    },
    {
     "name": "stderr",
     "output_type": "stream",
     "text": [
      "/kaggle/working/v2e/v2e.py:506: DeprecationWarning: `np.math` is a deprecated alias for the standard library `math` module (Deprecated Numpy 1.25). Replace usages of `np.math` with `math`\n",
      "  dvsNumFrames = np.math.floor(\n",
      "rgb2luma: 100%|██████████| 51/51 [00:01<00:00, 49.78fr/s]\n",
      "npy2png: 51fr [00:00, 171.70fr/s]\n",
      "dvs: 100%|██████████| 51/51 [00:04<00:00, 11.72fr/s]\n",
      "/bin/sh: 1: xprop: not found\n"
     ]
    },
    {
     "name": "stdout",
     "output_type": "stream",
     "text": [
      "🚀 Processing user_25/GOPR1272 → sadness\n"
     ]
    },
    {
     "name": "stderr",
     "output_type": "stream",
     "text": [
      "/kaggle/working/v2e/v2e.py:506: DeprecationWarning: `np.math` is a deprecated alias for the standard library `math` module (Deprecated Numpy 1.25). Replace usages of `np.math` with `math`\n",
      "  dvsNumFrames = np.math.floor(\n",
      "rgb2luma: 100%|██████████| 51/51 [00:01<00:00, 47.92fr/s]\n",
      "npy2png: 51fr [00:00, 169.12fr/s]\n",
      "dvs: 100%|██████████| 51/51 [00:04<00:00, 11.27fr/s]\n",
      "/bin/sh: 1: xprop: not found\n"
     ]
    },
    {
     "name": "stdout",
     "output_type": "stream",
     "text": [
      "🚀 Processing user_25/GOPR1273 → disgust\n"
     ]
    },
    {
     "name": "stderr",
     "output_type": "stream",
     "text": [
      "/kaggle/working/v2e/v2e.py:506: DeprecationWarning: `np.math` is a deprecated alias for the standard library `math` module (Deprecated Numpy 1.25). Replace usages of `np.math` with `math`\n",
      "  dvsNumFrames = np.math.floor(\n",
      "rgb2luma: 100%|██████████| 51/51 [00:01<00:00, 48.84fr/s]\n",
      "npy2png: 51fr [00:00, 171.35fr/s]\n",
      "dvs: 100%|██████████| 51/51 [00:04<00:00, 11.53fr/s]\n",
      "/bin/sh: 1: xprop: not found\n"
     ]
    },
    {
     "name": "stdout",
     "output_type": "stream",
     "text": [
      "🚀 Processing user_25/GOPR1274 → happiness\n"
     ]
    },
    {
     "name": "stderr",
     "output_type": "stream",
     "text": [
      "/kaggle/working/v2e/v2e.py:506: DeprecationWarning: `np.math` is a deprecated alias for the standard library `math` module (Deprecated Numpy 1.25). Replace usages of `np.math` with `math`\n",
      "  dvsNumFrames = np.math.floor(\n",
      "rgb2luma: 100%|██████████| 51/51 [00:01<00:00, 49.23fr/s]\n",
      "npy2png: 51fr [00:00, 172.81fr/s]\n",
      "dvs: 100%|██████████| 51/51 [00:04<00:00, 11.77fr/s]\n",
      "/bin/sh: 1: xprop: not found\n"
     ]
    },
    {
     "name": "stdout",
     "output_type": "stream",
     "text": [
      "🚀 Processing user_25/GOPR1275 → disgust\n"
     ]
    },
    {
     "name": "stderr",
     "output_type": "stream",
     "text": [
      "/kaggle/working/v2e/v2e.py:506: DeprecationWarning: `np.math` is a deprecated alias for the standard library `math` module (Deprecated Numpy 1.25). Replace usages of `np.math` with `math`\n",
      "  dvsNumFrames = np.math.floor(\n",
      "rgb2luma: 100%|██████████| 51/51 [00:01<00:00, 46.99fr/s]\n",
      "npy2png: 51fr [00:00, 171.13fr/s]\n",
      "dvs: 100%|██████████| 51/51 [00:04<00:00, 11.74fr/s]\n",
      "/bin/sh: 1: xprop: not found\n"
     ]
    },
    {
     "name": "stdout",
     "output_type": "stream",
     "text": [
      "🚀 Processing user_25/GOPR1276 → surprise\n"
     ]
    },
    {
     "name": "stderr",
     "output_type": "stream",
     "text": [
      "/kaggle/working/v2e/v2e.py:506: DeprecationWarning: `np.math` is a deprecated alias for the standard library `math` module (Deprecated Numpy 1.25). Replace usages of `np.math` with `math`\n",
      "  dvsNumFrames = np.math.floor(\n",
      "rgb2luma: 100%|██████████| 51/51 [00:01<00:00, 47.68fr/s]\n",
      "npy2png: 51fr [00:00, 171.03fr/s]\n",
      "dvs: 100%|██████████| 51/51 [00:04<00:00, 11.49fr/s]\n",
      "/bin/sh: 1: xprop: not found\n"
     ]
    },
    {
     "name": "stdout",
     "output_type": "stream",
     "text": [
      "🚀 Processing user_25/GOPR1277 → anger\n"
     ]
    },
    {
     "name": "stderr",
     "output_type": "stream",
     "text": [
      "/kaggle/working/v2e/v2e.py:506: DeprecationWarning: `np.math` is a deprecated alias for the standard library `math` module (Deprecated Numpy 1.25). Replace usages of `np.math` with `math`\n",
      "  dvsNumFrames = np.math.floor(\n",
      "rgb2luma: 100%|██████████| 51/51 [00:01<00:00, 50.39fr/s]\n",
      "npy2png: 51fr [00:00, 171.79fr/s]\n",
      "dvs: 100%|██████████| 51/51 [00:04<00:00, 11.42fr/s]\n",
      "/bin/sh: 1: xprop: not found\n"
     ]
    },
    {
     "name": "stdout",
     "output_type": "stream",
     "text": [
      "🚀 Processing user_25/GOPR1278 → surprise\n"
     ]
    },
    {
     "name": "stderr",
     "output_type": "stream",
     "text": [
      "/kaggle/working/v2e/v2e.py:506: DeprecationWarning: `np.math` is a deprecated alias for the standard library `math` module (Deprecated Numpy 1.25). Replace usages of `np.math` with `math`\n",
      "  dvsNumFrames = np.math.floor(\n",
      "rgb2luma: 100%|██████████| 51/51 [00:00<00:00, 51.34fr/s]\n",
      "npy2png: 51fr [00:00, 171.76fr/s]\n",
      "dvs: 100%|██████████| 51/51 [00:04<00:00, 12.01fr/s]\n",
      "/bin/sh: 1: xprop: not found\n"
     ]
    },
    {
     "name": "stdout",
     "output_type": "stream",
     "text": [
      "🚀 Processing user_25/GOPR1279 → disgust\n"
     ]
    },
    {
     "name": "stderr",
     "output_type": "stream",
     "text": [
      "/kaggle/working/v2e/v2e.py:506: DeprecationWarning: `np.math` is a deprecated alias for the standard library `math` module (Deprecated Numpy 1.25). Replace usages of `np.math` with `math`\n",
      "  dvsNumFrames = np.math.floor(\n",
      "rgb2luma: 100%|██████████| 51/51 [00:01<00:00, 44.85fr/s]\n",
      "npy2png: 51fr [00:00, 170.77fr/s]\n",
      "dvs: 100%|██████████| 51/51 [00:04<00:00, 11.87fr/s]\n",
      "/bin/sh: 1: xprop: not found\n"
     ]
    },
    {
     "name": "stdout",
     "output_type": "stream",
     "text": [
      "🚀 Processing user_25/GOPR1280 → fear\n"
     ]
    },
    {
     "name": "stderr",
     "output_type": "stream",
     "text": [
      "/kaggle/working/v2e/v2e.py:506: DeprecationWarning: `np.math` is a deprecated alias for the standard library `math` module (Deprecated Numpy 1.25). Replace usages of `np.math` with `math`\n",
      "  dvsNumFrames = np.math.floor(\n",
      "rgb2luma: 100%|██████████| 51/51 [00:01<00:00, 44.93fr/s]\n",
      "npy2png: 51fr [00:00, 172.08fr/s]\n",
      "dvs: 100%|██████████| 51/51 [00:04<00:00, 11.43fr/s]\n",
      "/bin/sh: 1: xprop: not found\n"
     ]
    },
    {
     "name": "stdout",
     "output_type": "stream",
     "text": [
      "🚀 Processing user_25/GOPR1281 → contempt\n"
     ]
    },
    {
     "name": "stderr",
     "output_type": "stream",
     "text": [
      "/kaggle/working/v2e/v2e.py:506: DeprecationWarning: `np.math` is a deprecated alias for the standard library `math` module (Deprecated Numpy 1.25). Replace usages of `np.math` with `math`\n",
      "  dvsNumFrames = np.math.floor(\n",
      "rgb2luma: 100%|██████████| 51/51 [00:01<00:00, 48.11fr/s]\n",
      "npy2png: 51fr [00:00, 172.98fr/s]\n",
      "dvs: 100%|██████████| 51/51 [00:04<00:00, 11.12fr/s]\n",
      "/bin/sh: 1: xprop: not found\n"
     ]
    },
    {
     "name": "stdout",
     "output_type": "stream",
     "text": [
      "🚀 Processing user_25/GOPR1282 → anger\n"
     ]
    },
    {
     "name": "stderr",
     "output_type": "stream",
     "text": [
      "/kaggle/working/v2e/v2e.py:506: DeprecationWarning: `np.math` is a deprecated alias for the standard library `math` module (Deprecated Numpy 1.25). Replace usages of `np.math` with `math`\n",
      "  dvsNumFrames = np.math.floor(\n",
      "rgb2luma: 100%|██████████| 51/51 [00:00<00:00, 51.76fr/s]\n",
      "npy2png: 51fr [00:00, 173.00fr/s]\n",
      "dvs: 100%|██████████| 51/51 [00:04<00:00, 11.71fr/s]\n",
      "/bin/sh: 1: xprop: not found\n"
     ]
    },
    {
     "name": "stdout",
     "output_type": "stream",
     "text": [
      "🚀 Processing user_25/GOPR1283 → surprise\n"
     ]
    },
    {
     "name": "stderr",
     "output_type": "stream",
     "text": [
      "/kaggle/working/v2e/v2e.py:506: DeprecationWarning: `np.math` is a deprecated alias for the standard library `math` module (Deprecated Numpy 1.25). Replace usages of `np.math` with `math`\n",
      "  dvsNumFrames = np.math.floor(\n",
      "rgb2luma: 100%|██████████| 51/51 [00:01<00:00, 47.94fr/s]\n",
      "npy2png: 51fr [00:00, 171.83fr/s]\n",
      "dvs: 100%|██████████| 51/51 [00:04<00:00, 11.86fr/s]\n",
      "/bin/sh: 1: xprop: not found\n"
     ]
    },
    {
     "name": "stdout",
     "output_type": "stream",
     "text": [
      "🚀 Processing user_25/GOPR1284 → sadness\n"
     ]
    },
    {
     "name": "stderr",
     "output_type": "stream",
     "text": [
      "/kaggle/working/v2e/v2e.py:506: DeprecationWarning: `np.math` is a deprecated alias for the standard library `math` module (Deprecated Numpy 1.25). Replace usages of `np.math` with `math`\n",
      "  dvsNumFrames = np.math.floor(\n",
      "rgb2luma: 100%|██████████| 51/51 [00:01<00:00, 47.15fr/s]\n",
      "npy2png: 51fr [00:00, 169.70fr/s]\n",
      "dvs: 100%|██████████| 51/51 [00:04<00:00, 11.76fr/s]\n",
      "/bin/sh: 1: xprop: not found\n"
     ]
    },
    {
     "name": "stdout",
     "output_type": "stream",
     "text": [
      "🚀 Processing user_25/GOPR1285 → contempt\n"
     ]
    },
    {
     "name": "stderr",
     "output_type": "stream",
     "text": [
      "/kaggle/working/v2e/v2e.py:506: DeprecationWarning: `np.math` is a deprecated alias for the standard library `math` module (Deprecated Numpy 1.25). Replace usages of `np.math` with `math`\n",
      "  dvsNumFrames = np.math.floor(\n",
      "rgb2luma: 100%|██████████| 51/51 [00:01<00:00, 46.95fr/s]\n",
      "npy2png: 51fr [00:00, 172.34fr/s]\n",
      "dvs: 100%|██████████| 51/51 [00:04<00:00, 11.46fr/s]\n",
      "/bin/sh: 1: xprop: not found\n"
     ]
    },
    {
     "name": "stdout",
     "output_type": "stream",
     "text": [
      "🚀 Processing user_25/GOPR1286 → happiness\n"
     ]
    },
    {
     "name": "stderr",
     "output_type": "stream",
     "text": [
      "/kaggle/working/v2e/v2e.py:506: DeprecationWarning: `np.math` is a deprecated alias for the standard library `math` module (Deprecated Numpy 1.25). Replace usages of `np.math` with `math`\n",
      "  dvsNumFrames = np.math.floor(\n",
      "rgb2luma: 100%|██████████| 51/51 [00:00<00:00, 51.69fr/s]\n",
      "npy2png: 51fr [00:00, 171.26fr/s]\n",
      "dvs: 100%|██████████| 51/51 [00:04<00:00, 11.85fr/s]\n",
      "/bin/sh: 1: xprop: not found\n"
     ]
    },
    {
     "name": "stdout",
     "output_type": "stream",
     "text": [
      "🚀 Processing user_25/GOPR1287 → surprise\n"
     ]
    },
    {
     "name": "stderr",
     "output_type": "stream",
     "text": [
      "/kaggle/working/v2e/v2e.py:506: DeprecationWarning: `np.math` is a deprecated alias for the standard library `math` module (Deprecated Numpy 1.25). Replace usages of `np.math` with `math`\n",
      "  dvsNumFrames = np.math.floor(\n",
      "rgb2luma: 100%|██████████| 51/51 [00:01<00:00, 47.35fr/s]\n",
      "npy2png: 51fr [00:00, 168.06fr/s]\n",
      "dvs: 100%|██████████| 51/51 [00:04<00:00, 11.90fr/s]\n",
      "/bin/sh: 1: xprop: not found\n"
     ]
    },
    {
     "name": "stdout",
     "output_type": "stream",
     "text": [
      "🚀 Processing user_25/GOPR1288 → nan\n"
     ]
    },
    {
     "name": "stderr",
     "output_type": "stream",
     "text": [
      "/kaggle/working/v2e/v2e.py:506: DeprecationWarning: `np.math` is a deprecated alias for the standard library `math` module (Deprecated Numpy 1.25). Replace usages of `np.math` with `math`\n",
      "  dvsNumFrames = np.math.floor(\n",
      "rgb2luma: 100%|██████████| 51/51 [00:01<00:00, 49.13fr/s]\n",
      "npy2png: 51fr [00:00, 172.88fr/s]\n",
      "dvs: 100%|██████████| 51/51 [00:04<00:00, 11.76fr/s]\n",
      "/bin/sh: 1: xprop: not found\n"
     ]
    },
    {
     "name": "stdout",
     "output_type": "stream",
     "text": [
      "🚀 Processing user_26/GOPR1289 → happiness\n"
     ]
    },
    {
     "name": "stderr",
     "output_type": "stream",
     "text": [
      "/kaggle/working/v2e/v2e.py:506: DeprecationWarning: `np.math` is a deprecated alias for the standard library `math` module (Deprecated Numpy 1.25). Replace usages of `np.math` with `math`\n",
      "  dvsNumFrames = np.math.floor(\n",
      "rgb2luma: 100%|██████████| 51/51 [00:01<00:00, 49.92fr/s]\n",
      "npy2png: 51fr [00:00, 174.20fr/s]\n",
      "dvs: 100%|██████████| 51/51 [00:04<00:00, 11.60fr/s]\n",
      "/bin/sh: 1: xprop: not found\n"
     ]
    },
    {
     "name": "stdout",
     "output_type": "stream",
     "text": [
      "🚀 Processing user_26/GOPR1290 → surprise\n"
     ]
    },
    {
     "name": "stderr",
     "output_type": "stream",
     "text": [
      "/kaggle/working/v2e/v2e.py:506: DeprecationWarning: `np.math` is a deprecated alias for the standard library `math` module (Deprecated Numpy 1.25). Replace usages of `np.math` with `math`\n",
      "  dvsNumFrames = np.math.floor(\n",
      "rgb2luma: 100%|██████████| 51/51 [00:01<00:00, 50.96fr/s]\n",
      "npy2png: 51fr [00:00, 175.39fr/s]\n",
      "dvs: 100%|██████████| 51/51 [00:04<00:00, 11.16fr/s]\n",
      "/bin/sh: 1: xprop: not found\n"
     ]
    },
    {
     "name": "stdout",
     "output_type": "stream",
     "text": [
      "🚀 Processing user_26/GOPR1291 → disgust\n"
     ]
    },
    {
     "name": "stderr",
     "output_type": "stream",
     "text": [
      "/kaggle/working/v2e/v2e.py:506: DeprecationWarning: `np.math` is a deprecated alias for the standard library `math` module (Deprecated Numpy 1.25). Replace usages of `np.math` with `math`\n",
      "  dvsNumFrames = np.math.floor(\n",
      "rgb2luma: 100%|██████████| 51/51 [00:01<00:00, 50.09fr/s]\n",
      "npy2png: 51fr [00:00, 177.09fr/s]\n",
      "dvs: 100%|██████████| 51/51 [00:04<00:00, 11.35fr/s]\n",
      "/bin/sh: 1: xprop: not found\n"
     ]
    },
    {
     "name": "stdout",
     "output_type": "stream",
     "text": [
      "🚀 Processing user_26/GOPR1292 → sadness\n"
     ]
    },
    {
     "name": "stderr",
     "output_type": "stream",
     "text": [
      "/kaggle/working/v2e/v2e.py:506: DeprecationWarning: `np.math` is a deprecated alias for the standard library `math` module (Deprecated Numpy 1.25). Replace usages of `np.math` with `math`\n",
      "  dvsNumFrames = np.math.floor(\n",
      "rgb2luma: 100%|██████████| 51/51 [00:01<00:00, 49.38fr/s]\n",
      "npy2png: 51fr [00:00, 172.17fr/s]\n",
      "dvs: 100%|██████████| 51/51 [00:04<00:00, 10.89fr/s]\n",
      "/bin/sh: 1: xprop: not found\n"
     ]
    },
    {
     "name": "stdout",
     "output_type": "stream",
     "text": [
      "🚀 Processing user_26/GOPR1293 → sadness\n"
     ]
    },
    {
     "name": "stderr",
     "output_type": "stream",
     "text": [
      "/kaggle/working/v2e/v2e.py:506: DeprecationWarning: `np.math` is a deprecated alias for the standard library `math` module (Deprecated Numpy 1.25). Replace usages of `np.math` with `math`\n",
      "  dvsNumFrames = np.math.floor(\n",
      "rgb2luma: 100%|██████████| 51/51 [00:00<00:00, 52.69fr/s]\n",
      "npy2png: 51fr [00:00, 177.55fr/s]\n",
      "dvs: 100%|██████████| 51/51 [00:04<00:00, 11.42fr/s]\n",
      "/bin/sh: 1: xprop: not found\n"
     ]
    },
    {
     "name": "stdout",
     "output_type": "stream",
     "text": [
      "🚀 Processing user_26/GOPR1294 → sadness\n"
     ]
    },
    {
     "name": "stderr",
     "output_type": "stream",
     "text": [
      "/kaggle/working/v2e/v2e.py:506: DeprecationWarning: `np.math` is a deprecated alias for the standard library `math` module (Deprecated Numpy 1.25). Replace usages of `np.math` with `math`\n",
      "  dvsNumFrames = np.math.floor(\n",
      "rgb2luma: 100%|██████████| 51/51 [00:00<00:00, 52.73fr/s]\n",
      "npy2png: 51fr [00:00, 174.09fr/s]\n",
      "dvs: 100%|██████████| 51/51 [00:04<00:00, 11.14fr/s]\n",
      "/bin/sh: 1: xprop: not found\n"
     ]
    },
    {
     "name": "stdout",
     "output_type": "stream",
     "text": [
      "🚀 Processing user_26/GOPR1295 → happiness\n"
     ]
    },
    {
     "name": "stderr",
     "output_type": "stream",
     "text": [
      "/kaggle/working/v2e/v2e.py:506: DeprecationWarning: `np.math` is a deprecated alias for the standard library `math` module (Deprecated Numpy 1.25). Replace usages of `np.math` with `math`\n",
      "  dvsNumFrames = np.math.floor(\n",
      "rgb2luma: 100%|██████████| 51/51 [00:01<00:00, 49.40fr/s]\n",
      "npy2png: 51fr [00:00, 175.21fr/s]\n",
      "dvs: 100%|██████████| 51/51 [00:04<00:00, 11.26fr/s]\n",
      "/bin/sh: 1: xprop: not found\n"
     ]
    },
    {
     "name": "stdout",
     "output_type": "stream",
     "text": [
      "🚀 Processing user_26/GOPR1296 → disgust\n"
     ]
    },
    {
     "name": "stderr",
     "output_type": "stream",
     "text": [
      "/kaggle/working/v2e/v2e.py:506: DeprecationWarning: `np.math` is a deprecated alias for the standard library `math` module (Deprecated Numpy 1.25). Replace usages of `np.math` with `math`\n",
      "  dvsNumFrames = np.math.floor(\n",
      "rgb2luma: 100%|██████████| 51/51 [00:01<00:00, 49.98fr/s]\n",
      "npy2png: 51fr [00:00, 154.13fr/s]\n",
      "dvs: 100%|██████████| 51/51 [00:04<00:00, 11.47fr/s]\n",
      "/bin/sh: 1: xprop: not found\n"
     ]
    },
    {
     "name": "stdout",
     "output_type": "stream",
     "text": [
      "🚀 Processing user_26/GOPR1297 → anger\n"
     ]
    },
    {
     "name": "stderr",
     "output_type": "stream",
     "text": [
      "/kaggle/working/v2e/v2e.py:506: DeprecationWarning: `np.math` is a deprecated alias for the standard library `math` module (Deprecated Numpy 1.25). Replace usages of `np.math` with `math`\n",
      "  dvsNumFrames = np.math.floor(\n",
      "rgb2luma: 100%|██████████| 51/51 [00:00<00:00, 51.15fr/s]\n",
      "npy2png: 51fr [00:00, 178.59fr/s]\n",
      "dvs: 100%|██████████| 51/51 [00:04<00:00, 11.21fr/s]\n",
      "/bin/sh: 1: xprop: not found\n"
     ]
    },
    {
     "name": "stdout",
     "output_type": "stream",
     "text": [
      "🚀 Processing user_26/GOPR1298 → sadness\n"
     ]
    },
    {
     "name": "stderr",
     "output_type": "stream",
     "text": [
      "/kaggle/working/v2e/v2e.py:506: DeprecationWarning: `np.math` is a deprecated alias for the standard library `math` module (Deprecated Numpy 1.25). Replace usages of `np.math` with `math`\n",
      "  dvsNumFrames = np.math.floor(\n",
      "rgb2luma: 100%|██████████| 51/51 [00:01<00:00, 47.44fr/s]\n",
      "npy2png: 51fr [00:00, 173.73fr/s]\n",
      "dvs: 100%|██████████| 51/51 [00:04<00:00, 11.51fr/s]\n",
      "/bin/sh: 1: xprop: not found\n"
     ]
    },
    {
     "name": "stdout",
     "output_type": "stream",
     "text": [
      "🚀 Processing user_26/GOPR1299 → nan\n"
     ]
    },
    {
     "name": "stderr",
     "output_type": "stream",
     "text": [
      "/kaggle/working/v2e/v2e.py:506: DeprecationWarning: `np.math` is a deprecated alias for the standard library `math` module (Deprecated Numpy 1.25). Replace usages of `np.math` with `math`\n",
      "  dvsNumFrames = np.math.floor(\n",
      "rgb2luma: 100%|██████████| 51/51 [00:01<00:00, 49.33fr/s]\n",
      "npy2png: 51fr [00:00, 171.87fr/s]\n",
      "dvs: 100%|██████████| 51/51 [00:04<00:00, 11.23fr/s]\n",
      "/bin/sh: 1: xprop: not found\n"
     ]
    },
    {
     "name": "stdout",
     "output_type": "stream",
     "text": [
      "🚀 Processing user_26/GOPR1300 → disgust\n"
     ]
    },
    {
     "name": "stderr",
     "output_type": "stream",
     "text": [
      "/kaggle/working/v2e/v2e.py:506: DeprecationWarning: `np.math` is a deprecated alias for the standard library `math` module (Deprecated Numpy 1.25). Replace usages of `np.math` with `math`\n",
      "  dvsNumFrames = np.math.floor(\n",
      "rgb2luma: 100%|██████████| 51/51 [00:01<00:00, 49.43fr/s]\n",
      "npy2png: 51fr [00:00, 177.55fr/s]\n",
      "dvs: 100%|██████████| 51/51 [00:04<00:00, 11.11fr/s]\n",
      "/bin/sh: 1: xprop: not found\n"
     ]
    },
    {
     "name": "stdout",
     "output_type": "stream",
     "text": [
      "🚀 Processing user_26/GOPR1301 → nan\n"
     ]
    },
    {
     "name": "stderr",
     "output_type": "stream",
     "text": [
      "/kaggle/working/v2e/v2e.py:506: DeprecationWarning: `np.math` is a deprecated alias for the standard library `math` module (Deprecated Numpy 1.25). Replace usages of `np.math` with `math`\n",
      "  dvsNumFrames = np.math.floor(\n",
      "rgb2luma: 100%|██████████| 51/51 [00:00<00:00, 53.37fr/s]\n",
      "npy2png: 51fr [00:00, 175.32fr/s]\n",
      "dvs: 100%|██████████| 51/51 [00:04<00:00, 11.58fr/s]\n",
      "/bin/sh: 1: xprop: not found\n"
     ]
    },
    {
     "name": "stdout",
     "output_type": "stream",
     "text": [
      "🚀 Processing user_26/GOPR1302 → contempt\n"
     ]
    },
    {
     "name": "stderr",
     "output_type": "stream",
     "text": [
      "/kaggle/working/v2e/v2e.py:506: DeprecationWarning: `np.math` is a deprecated alias for the standard library `math` module (Deprecated Numpy 1.25). Replace usages of `np.math` with `math`\n",
      "  dvsNumFrames = np.math.floor(\n",
      "rgb2luma: 100%|██████████| 51/51 [00:01<00:00, 48.67fr/s]\n",
      "npy2png: 51fr [00:00, 181.39fr/s]\n",
      "dvs: 100%|██████████| 51/51 [00:04<00:00, 11.09fr/s]\n",
      "/bin/sh: 1: xprop: not found\n"
     ]
    },
    {
     "name": "stdout",
     "output_type": "stream",
     "text": [
      "🚀 Processing user_26/GOPR1303 → surprise\n"
     ]
    },
    {
     "name": "stderr",
     "output_type": "stream",
     "text": [
      "/kaggle/working/v2e/v2e.py:506: DeprecationWarning: `np.math` is a deprecated alias for the standard library `math` module (Deprecated Numpy 1.25). Replace usages of `np.math` with `math`\n",
      "  dvsNumFrames = np.math.floor(\n",
      "rgb2luma: 100%|██████████| 51/51 [00:01<00:00, 50.95fr/s]\n",
      "npy2png: 51fr [00:00, 176.69fr/s]\n",
      "dvs: 100%|██████████| 51/51 [00:04<00:00, 11.34fr/s]\n",
      "/bin/sh: 1: xprop: not found\n"
     ]
    },
    {
     "name": "stdout",
     "output_type": "stream",
     "text": [
      "🚀 Processing user_26/GOPR1304 → surprise\n"
     ]
    },
    {
     "name": "stderr",
     "output_type": "stream",
     "text": [
      "/kaggle/working/v2e/v2e.py:506: DeprecationWarning: `np.math` is a deprecated alias for the standard library `math` module (Deprecated Numpy 1.25). Replace usages of `np.math` with `math`\n",
      "  dvsNumFrames = np.math.floor(\n",
      "rgb2luma: 100%|██████████| 51/51 [00:00<00:00, 52.41fr/s]\n",
      "npy2png: 51fr [00:00, 171.20fr/s]\n",
      "dvs: 100%|██████████| 51/51 [00:04<00:00, 10.93fr/s]\n",
      "/bin/sh: 1: xprop: not found\n"
     ]
    },
    {
     "name": "stdout",
     "output_type": "stream",
     "text": [
      "🚀 Processing user_26/GOPR1305 → sadness\n"
     ]
    },
    {
     "name": "stderr",
     "output_type": "stream",
     "text": [
      "/kaggle/working/v2e/v2e.py:506: DeprecationWarning: `np.math` is a deprecated alias for the standard library `math` module (Deprecated Numpy 1.25). Replace usages of `np.math` with `math`\n",
      "  dvsNumFrames = np.math.floor(\n",
      "rgb2luma: 100%|██████████| 51/51 [00:00<00:00, 53.40fr/s]\n",
      "npy2png: 51fr [00:00, 177.45fr/s]\n",
      "dvs: 100%|██████████| 51/51 [00:04<00:00, 11.54fr/s]\n",
      "/bin/sh: 1: xprop: not found\n"
     ]
    },
    {
     "name": "stdout",
     "output_type": "stream",
     "text": [
      "🚀 Processing user_26/GOPR1306 → sadness\n"
     ]
    },
    {
     "name": "stderr",
     "output_type": "stream",
     "text": [
      "/kaggle/working/v2e/v2e.py:506: DeprecationWarning: `np.math` is a deprecated alias for the standard library `math` module (Deprecated Numpy 1.25). Replace usages of `np.math` with `math`\n",
      "  dvsNumFrames = np.math.floor(\n",
      "rgb2luma: 100%|██████████| 51/51 [00:00<00:00, 51.37fr/s]\n",
      "npy2png: 51fr [00:00, 176.87fr/s]\n",
      "dvs: 100%|██████████| 51/51 [00:04<00:00, 11.27fr/s]\n",
      "/bin/sh: 1: xprop: not found\n"
     ]
    },
    {
     "name": "stdout",
     "output_type": "stream",
     "text": [
      "🚀 Processing user_26/GOPR1307 → happiness\n"
     ]
    },
    {
     "name": "stderr",
     "output_type": "stream",
     "text": [
      "/kaggle/working/v2e/v2e.py:506: DeprecationWarning: `np.math` is a deprecated alias for the standard library `math` module (Deprecated Numpy 1.25). Replace usages of `np.math` with `math`\n",
      "  dvsNumFrames = np.math.floor(\n",
      "rgb2luma: 100%|██████████| 51/51 [00:01<00:00, 49.75fr/s]\n",
      "npy2png: 51fr [00:00, 179.06fr/s]\n",
      "dvs: 100%|██████████| 51/51 [00:04<00:00, 11.43fr/s]\n",
      "/bin/sh: 1: xprop: not found\n"
     ]
    },
    {
     "name": "stdout",
     "output_type": "stream",
     "text": [
      "🚀 Processing user_26/GOPR1308 → surprise\n"
     ]
    },
    {
     "name": "stderr",
     "output_type": "stream",
     "text": [
      "/kaggle/working/v2e/v2e.py:506: DeprecationWarning: `np.math` is a deprecated alias for the standard library `math` module (Deprecated Numpy 1.25). Replace usages of `np.math` with `math`\n",
      "  dvsNumFrames = np.math.floor(\n",
      "rgb2luma: 100%|██████████| 51/51 [00:01<00:00, 49.14fr/s]\n",
      "npy2png: 51fr [00:00, 179.76fr/s]\n",
      "dvs: 100%|██████████| 51/51 [00:04<00:00, 11.63fr/s]\n",
      "/bin/sh: 1: xprop: not found\n"
     ]
    },
    {
     "name": "stdout",
     "output_type": "stream",
     "text": [
      "🚀 Processing user_26/GOPR1309 → surprise\n"
     ]
    },
    {
     "name": "stderr",
     "output_type": "stream",
     "text": [
      "/kaggle/working/v2e/v2e.py:506: DeprecationWarning: `np.math` is a deprecated alias for the standard library `math` module (Deprecated Numpy 1.25). Replace usages of `np.math` with `math`\n",
      "  dvsNumFrames = np.math.floor(\n",
      "rgb2luma: 100%|██████████| 51/51 [00:00<00:00, 52.37fr/s]\n",
      "npy2png: 51fr [00:00, 180.67fr/s]\n",
      "dvs: 100%|██████████| 51/51 [00:04<00:00, 11.39fr/s]\n",
      "/bin/sh: 1: xprop: not found\n"
     ]
    },
    {
     "name": "stdout",
     "output_type": "stream",
     "text": [
      "🚀 Processing user_27/GOPR1310 → unknown\n"
     ]
    },
    {
     "name": "stderr",
     "output_type": "stream",
     "text": [
      "/kaggle/working/v2e/v2e.py:506: DeprecationWarning: `np.math` is a deprecated alias for the standard library `math` module (Deprecated Numpy 1.25). Replace usages of `np.math` with `math`\n",
      "  dvsNumFrames = np.math.floor(\n",
      "rgb2luma: 100%|██████████| 51/51 [00:01<00:00, 47.34fr/s]\n",
      "npy2png: 51fr [00:00, 167.35fr/s]\n",
      "dvs: 100%|██████████| 51/51 [00:04<00:00, 11.55fr/s]\n",
      "/bin/sh: 1: xprop: not found\n"
     ]
    },
    {
     "name": "stdout",
     "output_type": "stream",
     "text": [
      "🚀 Processing user_27/GOPR1311 → unknown\n"
     ]
    },
    {
     "name": "stderr",
     "output_type": "stream",
     "text": [
      "/kaggle/working/v2e/v2e.py:506: DeprecationWarning: `np.math` is a deprecated alias for the standard library `math` module (Deprecated Numpy 1.25). Replace usages of `np.math` with `math`\n",
      "  dvsNumFrames = np.math.floor(\n",
      "rgb2luma: 100%|██████████| 51/51 [00:01<00:00, 47.70fr/s]\n",
      "npy2png: 51fr [00:00, 163.49fr/s]\n",
      "dvs: 100%|██████████| 51/51 [00:04<00:00, 11.26fr/s]\n",
      "/bin/sh: 1: xprop: not found\n"
     ]
    },
    {
     "name": "stdout",
     "output_type": "stream",
     "text": [
      "🚀 Processing user_27/GOPR1312 → unknown\n"
     ]
    },
    {
     "name": "stderr",
     "output_type": "stream",
     "text": [
      "/kaggle/working/v2e/v2e.py:506: DeprecationWarning: `np.math` is a deprecated alias for the standard library `math` module (Deprecated Numpy 1.25). Replace usages of `np.math` with `math`\n",
      "  dvsNumFrames = np.math.floor(\n",
      "rgb2luma: 100%|██████████| 51/51 [00:01<00:00, 43.89fr/s]\n",
      "npy2png: 51fr [00:00, 166.79fr/s]\n",
      "dvs: 100%|██████████| 51/51 [00:04<00:00, 11.04fr/s]\n",
      "/bin/sh: 1: xprop: not found\n"
     ]
    },
    {
     "name": "stdout",
     "output_type": "stream",
     "text": [
      "🚀 Processing user_27/GOPR1313 → unknown\n"
     ]
    },
    {
     "name": "stderr",
     "output_type": "stream",
     "text": [
      "/kaggle/working/v2e/v2e.py:506: DeprecationWarning: `np.math` is a deprecated alias for the standard library `math` module (Deprecated Numpy 1.25). Replace usages of `np.math` with `math`\n",
      "  dvsNumFrames = np.math.floor(\n",
      "rgb2luma: 100%|██████████| 51/51 [00:01<00:00, 45.25fr/s]\n",
      "npy2png: 51fr [00:00, 168.04fr/s]\n",
      "dvs: 100%|██████████| 51/51 [00:04<00:00, 11.48fr/s]\n",
      "/bin/sh: 1: xprop: not found\n"
     ]
    },
    {
     "name": "stdout",
     "output_type": "stream",
     "text": [
      "🚀 Processing user_27/GOPR1314 → unknown\n"
     ]
    },
    {
     "name": "stderr",
     "output_type": "stream",
     "text": [
      "/kaggle/working/v2e/v2e.py:506: DeprecationWarning: `np.math` is a deprecated alias for the standard library `math` module (Deprecated Numpy 1.25). Replace usages of `np.math` with `math`\n",
      "  dvsNumFrames = np.math.floor(\n",
      "rgb2luma: 100%|██████████| 51/51 [00:01<00:00, 47.39fr/s]\n",
      "npy2png: 51fr [00:00, 166.76fr/s]\n",
      "dvs: 100%|██████████| 51/51 [00:04<00:00, 11.22fr/s]\n",
      "/bin/sh: 1: xprop: not found\n"
     ]
    },
    {
     "name": "stdout",
     "output_type": "stream",
     "text": [
      "🚀 Processing user_27/GOPR1315 → unknown\n"
     ]
    },
    {
     "name": "stderr",
     "output_type": "stream",
     "text": [
      "/kaggle/working/v2e/v2e.py:506: DeprecationWarning: `np.math` is a deprecated alias for the standard library `math` module (Deprecated Numpy 1.25). Replace usages of `np.math` with `math`\n",
      "  dvsNumFrames = np.math.floor(\n",
      "rgb2luma: 100%|██████████| 51/51 [00:01<00:00, 48.19fr/s]\n",
      "npy2png: 51fr [00:00, 154.73fr/s]\n",
      "dvs: 100%|██████████| 51/51 [00:04<00:00, 11.51fr/s]\n",
      "/bin/sh: 1: xprop: not found\n"
     ]
    },
    {
     "name": "stdout",
     "output_type": "stream",
     "text": [
      "🚀 Processing user_27/GOPR1316 → unknown\n"
     ]
    },
    {
     "name": "stderr",
     "output_type": "stream",
     "text": [
      "/kaggle/working/v2e/v2e.py:506: DeprecationWarning: `np.math` is a deprecated alias for the standard library `math` module (Deprecated Numpy 1.25). Replace usages of `np.math` with `math`\n",
      "  dvsNumFrames = np.math.floor(\n",
      "rgb2luma: 100%|██████████| 51/51 [00:01<00:00, 48.82fr/s]\n",
      "npy2png: 51fr [00:00, 162.96fr/s]\n",
      "dvs: 100%|██████████| 51/51 [00:04<00:00, 11.49fr/s]\n",
      "/bin/sh: 1: xprop: not found\n"
     ]
    },
    {
     "name": "stdout",
     "output_type": "stream",
     "text": [
      "🚀 Processing user_27/GOPR1317 → unknown\n"
     ]
    },
    {
     "name": "stderr",
     "output_type": "stream",
     "text": [
      "/kaggle/working/v2e/v2e.py:506: DeprecationWarning: `np.math` is a deprecated alias for the standard library `math` module (Deprecated Numpy 1.25). Replace usages of `np.math` with `math`\n",
      "  dvsNumFrames = np.math.floor(\n",
      "rgb2luma: 100%|██████████| 51/51 [00:01<00:00, 48.99fr/s]\n",
      "npy2png: 51fr [00:00, 167.59fr/s]\n",
      "dvs: 100%|██████████| 51/51 [00:04<00:00, 11.55fr/s]\n",
      "/bin/sh: 1: xprop: not found\n"
     ]
    },
    {
     "name": "stdout",
     "output_type": "stream",
     "text": [
      "🚀 Processing user_27/GOPR1318 → unknown\n"
     ]
    },
    {
     "name": "stderr",
     "output_type": "stream",
     "text": [
      "/kaggle/working/v2e/v2e.py:506: DeprecationWarning: `np.math` is a deprecated alias for the standard library `math` module (Deprecated Numpy 1.25). Replace usages of `np.math` with `math`\n",
      "  dvsNumFrames = np.math.floor(\n",
      "rgb2luma: 100%|██████████| 51/51 [00:01<00:00, 45.67fr/s]\n",
      "npy2png: 51fr [00:00, 167.40fr/s]\n",
      "dvs: 100%|██████████| 51/51 [00:04<00:00, 11.67fr/s]\n",
      "/bin/sh: 1: xprop: not found\n"
     ]
    },
    {
     "name": "stdout",
     "output_type": "stream",
     "text": [
      "🚀 Processing user_27/GOPR1319 → unknown\n"
     ]
    },
    {
     "name": "stderr",
     "output_type": "stream",
     "text": [
      "/kaggle/working/v2e/v2e.py:506: DeprecationWarning: `np.math` is a deprecated alias for the standard library `math` module (Deprecated Numpy 1.25). Replace usages of `np.math` with `math`\n",
      "  dvsNumFrames = np.math.floor(\n",
      "rgb2luma: 100%|██████████| 51/51 [00:01<00:00, 50.23fr/s]\n",
      "npy2png: 51fr [00:00, 169.18fr/s]\n",
      "dvs: 100%|██████████| 51/51 [00:04<00:00, 11.74fr/s]\n",
      "/bin/sh: 1: xprop: not found\n"
     ]
    },
    {
     "name": "stdout",
     "output_type": "stream",
     "text": [
      "🚀 Processing user_27/GOPR1320 → unknown\n"
     ]
    },
    {
     "name": "stderr",
     "output_type": "stream",
     "text": [
      "/kaggle/working/v2e/v2e.py:506: DeprecationWarning: `np.math` is a deprecated alias for the standard library `math` module (Deprecated Numpy 1.25). Replace usages of `np.math` with `math`\n",
      "  dvsNumFrames = np.math.floor(\n",
      "rgb2luma: 100%|██████████| 51/51 [00:01<00:00, 41.26fr/s]\n",
      "npy2png: 51fr [00:00, 167.96fr/s]\n",
      "dvs: 100%|██████████| 51/51 [00:04<00:00, 11.75fr/s]\n",
      "/bin/sh: 1: xprop: not found\n"
     ]
    },
    {
     "name": "stdout",
     "output_type": "stream",
     "text": [
      "🚀 Processing user_27/GOPR1321 → unknown\n"
     ]
    },
    {
     "name": "stderr",
     "output_type": "stream",
     "text": [
      "/kaggle/working/v2e/v2e.py:506: DeprecationWarning: `np.math` is a deprecated alias for the standard library `math` module (Deprecated Numpy 1.25). Replace usages of `np.math` with `math`\n",
      "  dvsNumFrames = np.math.floor(\n",
      "rgb2luma: 100%|██████████| 51/51 [00:01<00:00, 37.67fr/s]\n",
      "npy2png: 51fr [00:00, 162.83fr/s]\n",
      "dvs: 100%|██████████| 51/51 [00:04<00:00, 11.59fr/s]\n",
      "/bin/sh: 1: xprop: not found\n"
     ]
    },
    {
     "name": "stdout",
     "output_type": "stream",
     "text": [
      "🚀 Processing user_27/GOPR1322 → unknown\n"
     ]
    },
    {
     "name": "stderr",
     "output_type": "stream",
     "text": [
      "/kaggle/working/v2e/v2e.py:506: DeprecationWarning: `np.math` is a deprecated alias for the standard library `math` module (Deprecated Numpy 1.25). Replace usages of `np.math` with `math`\n",
      "  dvsNumFrames = np.math.floor(\n",
      "rgb2luma: 100%|██████████| 51/51 [00:01<00:00, 40.50fr/s]\n",
      "npy2png: 51fr [00:00, 170.57fr/s]\n",
      "dvs: 100%|██████████| 51/51 [00:04<00:00, 11.59fr/s]\n",
      "/bin/sh: 1: xprop: not found\n"
     ]
    },
    {
     "name": "stdout",
     "output_type": "stream",
     "text": [
      "🚀 Processing user_27/GOPR1323 → unknown\n"
     ]
    },
    {
     "name": "stderr",
     "output_type": "stream",
     "text": [
      "/kaggle/working/v2e/v2e.py:506: DeprecationWarning: `np.math` is a deprecated alias for the standard library `math` module (Deprecated Numpy 1.25). Replace usages of `np.math` with `math`\n",
      "  dvsNumFrames = np.math.floor(\n",
      "rgb2luma: 100%|██████████| 51/51 [00:01<00:00, 48.71fr/s]\n",
      "npy2png: 51fr [00:00, 161.44fr/s]\n",
      "dvs: 100%|██████████| 51/51 [00:04<00:00, 11.57fr/s]\n",
      "/bin/sh: 1: xprop: not found\n"
     ]
    },
    {
     "name": "stdout",
     "output_type": "stream",
     "text": [
      "🚀 Processing user_27/GOPR1324 → unknown\n"
     ]
    },
    {
     "name": "stderr",
     "output_type": "stream",
     "text": [
      "/kaggle/working/v2e/v2e.py:506: DeprecationWarning: `np.math` is a deprecated alias for the standard library `math` module (Deprecated Numpy 1.25). Replace usages of `np.math` with `math`\n",
      "  dvsNumFrames = np.math.floor(\n",
      "rgb2luma: 100%|██████████| 51/51 [00:01<00:00, 50.05fr/s]\n",
      "npy2png: 51fr [00:00, 167.75fr/s]\n",
      "dvs: 100%|██████████| 51/51 [00:04<00:00, 11.80fr/s]\n",
      "/bin/sh: 1: xprop: not found\n"
     ]
    },
    {
     "name": "stdout",
     "output_type": "stream",
     "text": [
      "🚀 Processing user_27/GOPR1325 → unknown\n"
     ]
    },
    {
     "name": "stderr",
     "output_type": "stream",
     "text": [
      "/kaggle/working/v2e/v2e.py:506: DeprecationWarning: `np.math` is a deprecated alias for the standard library `math` module (Deprecated Numpy 1.25). Replace usages of `np.math` with `math`\n",
      "  dvsNumFrames = np.math.floor(\n",
      "rgb2luma: 100%|██████████| 51/51 [00:01<00:00, 44.66fr/s]\n",
      "npy2png: 51fr [00:00, 168.35fr/s]\n",
      "dvs: 100%|██████████| 51/51 [00:04<00:00, 11.83fr/s]\n",
      "/bin/sh: 1: xprop: not found\n"
     ]
    },
    {
     "name": "stdout",
     "output_type": "stream",
     "text": [
      "🚀 Processing user_27/GOPR1326 → unknown\n"
     ]
    },
    {
     "name": "stderr",
     "output_type": "stream",
     "text": [
      "/kaggle/working/v2e/v2e.py:506: DeprecationWarning: `np.math` is a deprecated alias for the standard library `math` module (Deprecated Numpy 1.25). Replace usages of `np.math` with `math`\n",
      "  dvsNumFrames = np.math.floor(\n",
      "rgb2luma: 100%|██████████| 51/51 [00:01<00:00, 47.42fr/s]\n",
      "npy2png: 51fr [00:00, 171.57fr/s]\n",
      "dvs: 100%|██████████| 51/51 [00:04<00:00, 11.93fr/s]\n",
      "/bin/sh: 1: xprop: not found\n"
     ]
    },
    {
     "name": "stdout",
     "output_type": "stream",
     "text": [
      "🚀 Processing user_27/GOPR1327 → unknown\n"
     ]
    },
    {
     "name": "stderr",
     "output_type": "stream",
     "text": [
      "/kaggle/working/v2e/v2e.py:506: DeprecationWarning: `np.math` is a deprecated alias for the standard library `math` module (Deprecated Numpy 1.25). Replace usages of `np.math` with `math`\n",
      "  dvsNumFrames = np.math.floor(\n",
      "rgb2luma: 100%|██████████| 51/51 [00:01<00:00, 50.89fr/s]\n",
      "npy2png: 51fr [00:00, 166.07fr/s]\n",
      "dvs: 100%|██████████| 51/51 [00:04<00:00, 11.81fr/s]\n",
      "/bin/sh: 1: xprop: not found\n"
     ]
    },
    {
     "name": "stdout",
     "output_type": "stream",
     "text": [
      "🚀 Processing user_27/GOPR1328 → unknown\n"
     ]
    },
    {
     "name": "stderr",
     "output_type": "stream",
     "text": [
      "/kaggle/working/v2e/v2e.py:506: DeprecationWarning: `np.math` is a deprecated alias for the standard library `math` module (Deprecated Numpy 1.25). Replace usages of `np.math` with `math`\n",
      "  dvsNumFrames = np.math.floor(\n",
      "rgb2luma: 100%|██████████| 51/51 [00:01<00:00, 48.55fr/s]\n",
      "npy2png: 51fr [00:00, 153.42fr/s]\n",
      "dvs: 100%|██████████| 51/51 [00:04<00:00, 11.47fr/s]\n",
      "/bin/sh: 1: xprop: not found\n"
     ]
    },
    {
     "name": "stdout",
     "output_type": "stream",
     "text": [
      "🚀 Processing user_27/GOPR1329 → unknown\n"
     ]
    },
    {
     "name": "stderr",
     "output_type": "stream",
     "text": [
      "/kaggle/working/v2e/v2e.py:506: DeprecationWarning: `np.math` is a deprecated alias for the standard library `math` module (Deprecated Numpy 1.25). Replace usages of `np.math` with `math`\n",
      "  dvsNumFrames = np.math.floor(\n",
      "rgb2luma: 100%|██████████| 51/51 [00:01<00:00, 45.44fr/s]\n",
      "npy2png: 51fr [00:00, 153.45fr/s]\n",
      "dvs: 100%|██████████| 51/51 [00:05<00:00, 10.16fr/s]\n",
      "/bin/sh: 1: xprop: not found\n"
     ]
    },
    {
     "name": "stdout",
     "output_type": "stream",
     "text": [
      "🚀 Processing user_27/GOPR1330 → unknown\n"
     ]
    },
    {
     "name": "stderr",
     "output_type": "stream",
     "text": [
      "/kaggle/working/v2e/v2e.py:506: DeprecationWarning: `np.math` is a deprecated alias for the standard library `math` module (Deprecated Numpy 1.25). Replace usages of `np.math` with `math`\n",
      "  dvsNumFrames = np.math.floor(\n",
      "rgb2luma: 100%|██████████| 51/51 [00:01<00:00, 48.67fr/s]\n",
      "npy2png: 51fr [00:00, 165.11fr/s]\n",
      "dvs: 100%|██████████| 51/51 [00:04<00:00, 11.73fr/s]\n",
      "/bin/sh: 1: xprop: not found\n"
     ]
    },
    {
     "name": "stdout",
     "output_type": "stream",
     "text": [
      "🚀 Processing user_28/GOPR1331 → unknown\n"
     ]
    },
    {
     "name": "stderr",
     "output_type": "stream",
     "text": [
      "/kaggle/working/v2e/v2e.py:506: DeprecationWarning: `np.math` is a deprecated alias for the standard library `math` module (Deprecated Numpy 1.25). Replace usages of `np.math` with `math`\n",
      "  dvsNumFrames = np.math.floor(\n",
      "rgb2luma: 100%|██████████| 51/51 [00:00<00:00, 51.32fr/s]\n",
      "npy2png: 51fr [00:00, 169.01fr/s]\n",
      "dvs: 100%|██████████| 51/51 [00:04<00:00, 11.45fr/s]\n",
      "/bin/sh: 1: xprop: not found\n"
     ]
    },
    {
     "name": "stdout",
     "output_type": "stream",
     "text": [
      "🚀 Processing user_28/GOPR1332 → unknown\n"
     ]
    },
    {
     "name": "stderr",
     "output_type": "stream",
     "text": [
      "/kaggle/working/v2e/v2e.py:506: DeprecationWarning: `np.math` is a deprecated alias for the standard library `math` module (Deprecated Numpy 1.25). Replace usages of `np.math` with `math`\n",
      "  dvsNumFrames = np.math.floor(\n",
      "rgb2luma: 100%|██████████| 51/51 [00:01<00:00, 50.98fr/s]\n",
      "npy2png: 51fr [00:00, 173.00fr/s]\n",
      "dvs: 100%|██████████| 51/51 [00:04<00:00, 11.41fr/s]\n",
      "/bin/sh: 1: xprop: not found\n"
     ]
    },
    {
     "name": "stdout",
     "output_type": "stream",
     "text": [
      "🚀 Processing user_28/GOPR1333 → unknown\n"
     ]
    },
    {
     "name": "stderr",
     "output_type": "stream",
     "text": [
      "/kaggle/working/v2e/v2e.py:506: DeprecationWarning: `np.math` is a deprecated alias for the standard library `math` module (Deprecated Numpy 1.25). Replace usages of `np.math` with `math`\n",
      "  dvsNumFrames = np.math.floor(\n",
      "rgb2luma: 100%|██████████| 51/51 [00:01<00:00, 46.15fr/s]\n",
      "npy2png: 51fr [00:00, 172.92fr/s]\n",
      "dvs: 100%|██████████| 51/51 [00:04<00:00, 11.72fr/s]\n",
      "/bin/sh: 1: xprop: not found\n"
     ]
    },
    {
     "name": "stdout",
     "output_type": "stream",
     "text": [
      "🚀 Processing user_28/GOPR1334 → unknown\n"
     ]
    },
    {
     "name": "stderr",
     "output_type": "stream",
     "text": [
      "/kaggle/working/v2e/v2e.py:506: DeprecationWarning: `np.math` is a deprecated alias for the standard library `math` module (Deprecated Numpy 1.25). Replace usages of `np.math` with `math`\n",
      "  dvsNumFrames = np.math.floor(\n",
      "rgb2luma: 100%|██████████| 51/51 [00:01<00:00, 48.24fr/s]\n",
      "npy2png: 51fr [00:00, 175.83fr/s]\n",
      "dvs: 100%|██████████| 51/51 [00:04<00:00, 11.45fr/s]\n",
      "/bin/sh: 1: xprop: not found\n"
     ]
    },
    {
     "name": "stdout",
     "output_type": "stream",
     "text": [
      "🚀 Processing user_28/GOPR1335 → unknown\n"
     ]
    },
    {
     "name": "stderr",
     "output_type": "stream",
     "text": [
      "/kaggle/working/v2e/v2e.py:506: DeprecationWarning: `np.math` is a deprecated alias for the standard library `math` module (Deprecated Numpy 1.25). Replace usages of `np.math` with `math`\n",
      "  dvsNumFrames = np.math.floor(\n",
      "rgb2luma: 100%|██████████| 51/51 [00:01<00:00, 47.60fr/s]\n",
      "npy2png: 51fr [00:00, 169.91fr/s]\n",
      "dvs: 100%|██████████| 51/51 [00:04<00:00, 11.71fr/s]\n",
      "/bin/sh: 1: xprop: not found\n"
     ]
    },
    {
     "name": "stdout",
     "output_type": "stream",
     "text": [
      "🚀 Processing user_28/GOPR1336 → unknown\n"
     ]
    },
    {
     "name": "stderr",
     "output_type": "stream",
     "text": [
      "/kaggle/working/v2e/v2e.py:506: DeprecationWarning: `np.math` is a deprecated alias for the standard library `math` module (Deprecated Numpy 1.25). Replace usages of `np.math` with `math`\n",
      "  dvsNumFrames = np.math.floor(\n",
      "rgb2luma: 100%|██████████| 51/51 [00:01<00:00, 49.51fr/s]\n",
      "npy2png: 51fr [00:00, 172.19fr/s]\n",
      "dvs: 100%|██████████| 51/51 [00:04<00:00, 11.56fr/s]\n",
      "/bin/sh: 1: xprop: not found\n"
     ]
    },
    {
     "name": "stdout",
     "output_type": "stream",
     "text": [
      "🚀 Processing user_28/GOPR1337 → unknown\n"
     ]
    },
    {
     "name": "stderr",
     "output_type": "stream",
     "text": [
      "/kaggle/working/v2e/v2e.py:506: DeprecationWarning: `np.math` is a deprecated alias for the standard library `math` module (Deprecated Numpy 1.25). Replace usages of `np.math` with `math`\n",
      "  dvsNumFrames = np.math.floor(\n",
      "rgb2luma: 100%|██████████| 51/51 [00:01<00:00, 49.66fr/s]\n",
      "npy2png: 51fr [00:00, 175.28fr/s]\n",
      "dvs: 100%|██████████| 51/51 [00:04<00:00, 11.46fr/s]\n",
      "/bin/sh: 1: xprop: not found\n"
     ]
    },
    {
     "name": "stdout",
     "output_type": "stream",
     "text": [
      "🚀 Processing user_28/GOPR1338 → unknown\n"
     ]
    },
    {
     "name": "stderr",
     "output_type": "stream",
     "text": [
      "/kaggle/working/v2e/v2e.py:506: DeprecationWarning: `np.math` is a deprecated alias for the standard library `math` module (Deprecated Numpy 1.25). Replace usages of `np.math` with `math`\n",
      "  dvsNumFrames = np.math.floor(\n",
      "rgb2luma: 100%|██████████| 51/51 [00:01<00:00, 47.29fr/s]\n",
      "npy2png: 51fr [00:00, 173.00fr/s]\n",
      "dvs: 100%|██████████| 51/51 [00:04<00:00, 11.42fr/s]\n",
      "/bin/sh: 1: xprop: not found\n"
     ]
    },
    {
     "name": "stdout",
     "output_type": "stream",
     "text": [
      "🚀 Processing user_28/GOPR1339 → unknown\n"
     ]
    },
    {
     "name": "stderr",
     "output_type": "stream",
     "text": [
      "/kaggle/working/v2e/v2e.py:506: DeprecationWarning: `np.math` is a deprecated alias for the standard library `math` module (Deprecated Numpy 1.25). Replace usages of `np.math` with `math`\n",
      "  dvsNumFrames = np.math.floor(\n",
      "rgb2luma: 100%|██████████| 51/51 [00:01<00:00, 49.60fr/s]\n",
      "npy2png: 51fr [00:00, 177.02fr/s]\n",
      "dvs: 100%|██████████| 51/51 [00:04<00:00, 11.50fr/s]\n",
      "/bin/sh: 1: xprop: not found\n"
     ]
    },
    {
     "name": "stdout",
     "output_type": "stream",
     "text": [
      "🚀 Processing user_28/GOPR1340 → unknown\n"
     ]
    },
    {
     "name": "stderr",
     "output_type": "stream",
     "text": [
      "/kaggle/working/v2e/v2e.py:506: DeprecationWarning: `np.math` is a deprecated alias for the standard library `math` module (Deprecated Numpy 1.25). Replace usages of `np.math` with `math`\n",
      "  dvsNumFrames = np.math.floor(\n",
      "rgb2luma: 100%|██████████| 51/51 [00:01<00:00, 46.07fr/s]\n",
      "npy2png: 51fr [00:00, 175.22fr/s]\n",
      "dvs: 100%|██████████| 51/51 [00:04<00:00, 11.57fr/s]\n",
      "/bin/sh: 1: xprop: not found\n"
     ]
    },
    {
     "name": "stdout",
     "output_type": "stream",
     "text": [
      "🚀 Processing user_28/GOPR1341 → unknown\n"
     ]
    },
    {
     "name": "stderr",
     "output_type": "stream",
     "text": [
      "/kaggle/working/v2e/v2e.py:506: DeprecationWarning: `np.math` is a deprecated alias for the standard library `math` module (Deprecated Numpy 1.25). Replace usages of `np.math` with `math`\n",
      "  dvsNumFrames = np.math.floor(\n",
      "rgb2luma: 100%|██████████| 51/51 [00:01<00:00, 46.10fr/s]\n",
      "npy2png: 51fr [00:00, 177.82fr/s]\n",
      "dvs: 100%|██████████| 51/51 [00:04<00:00, 11.59fr/s]\n",
      "/bin/sh: 1: xprop: not found\n"
     ]
    },
    {
     "name": "stdout",
     "output_type": "stream",
     "text": [
      "🚀 Processing user_28/GOPR1342 → unknown\n"
     ]
    },
    {
     "name": "stderr",
     "output_type": "stream",
     "text": [
      "/kaggle/working/v2e/v2e.py:506: DeprecationWarning: `np.math` is a deprecated alias for the standard library `math` module (Deprecated Numpy 1.25). Replace usages of `np.math` with `math`\n",
      "  dvsNumFrames = np.math.floor(\n",
      "rgb2luma: 100%|██████████| 51/51 [00:01<00:00, 50.52fr/s]\n",
      "npy2png: 51fr [00:00, 175.93fr/s]\n",
      "dvs: 100%|██████████| 51/51 [00:04<00:00, 11.49fr/s]\n",
      "/bin/sh: 1: xprop: not found\n"
     ]
    },
    {
     "name": "stdout",
     "output_type": "stream",
     "text": [
      "🚀 Processing user_28/GOPR1343 → unknown\n"
     ]
    },
    {
     "name": "stderr",
     "output_type": "stream",
     "text": [
      "/kaggle/working/v2e/v2e.py:506: DeprecationWarning: `np.math` is a deprecated alias for the standard library `math` module (Deprecated Numpy 1.25). Replace usages of `np.math` with `math`\n",
      "  dvsNumFrames = np.math.floor(\n",
      "rgb2luma: 100%|██████████| 51/51 [00:01<00:00, 50.30fr/s]\n",
      "npy2png: 51fr [00:00, 167.18fr/s]\n",
      "dvs: 100%|██████████| 51/51 [00:04<00:00, 11.21fr/s]\n",
      "/bin/sh: 1: xprop: not found\n"
     ]
    },
    {
     "name": "stdout",
     "output_type": "stream",
     "text": [
      "🚀 Processing user_28/GOPR1344 → unknown\n"
     ]
    },
    {
     "name": "stderr",
     "output_type": "stream",
     "text": [
      "/kaggle/working/v2e/v2e.py:506: DeprecationWarning: `np.math` is a deprecated alias for the standard library `math` module (Deprecated Numpy 1.25). Replace usages of `np.math` with `math`\n",
      "  dvsNumFrames = np.math.floor(\n",
      "rgb2luma: 100%|██████████| 51/51 [00:01<00:00, 46.56fr/s]\n",
      "npy2png: 51fr [00:00, 168.17fr/s]\n",
      "dvs: 100%|██████████| 51/51 [00:04<00:00, 11.01fr/s]\n",
      "/bin/sh: 1: xprop: not found\n"
     ]
    },
    {
     "name": "stdout",
     "output_type": "stream",
     "text": [
      "🚀 Processing user_28/GOPR1345 → unknown\n"
     ]
    },
    {
     "name": "stderr",
     "output_type": "stream",
     "text": [
      "/kaggle/working/v2e/v2e.py:506: DeprecationWarning: `np.math` is a deprecated alias for the standard library `math` module (Deprecated Numpy 1.25). Replace usages of `np.math` with `math`\n",
      "  dvsNumFrames = np.math.floor(\n",
      "rgb2luma: 100%|██████████| 51/51 [00:01<00:00, 49.68fr/s]\n",
      "npy2png: 51fr [00:00, 175.81fr/s]\n",
      "dvs: 100%|██████████| 51/51 [00:04<00:00, 11.33fr/s]\n",
      "/bin/sh: 1: xprop: not found\n"
     ]
    },
    {
     "name": "stdout",
     "output_type": "stream",
     "text": [
      "🚀 Processing user_28/GOPR1346 → unknown\n"
     ]
    },
    {
     "name": "stderr",
     "output_type": "stream",
     "text": [
      "/kaggle/working/v2e/v2e.py:506: DeprecationWarning: `np.math` is a deprecated alias for the standard library `math` module (Deprecated Numpy 1.25). Replace usages of `np.math` with `math`\n",
      "  dvsNumFrames = np.math.floor(\n",
      "rgb2luma: 100%|██████████| 51/51 [00:00<00:00, 51.22fr/s]\n",
      "npy2png: 51fr [00:00, 173.65fr/s]\n",
      "dvs: 100%|██████████| 51/51 [00:04<00:00, 11.07fr/s]\n",
      "/bin/sh: 1: xprop: not found\n"
     ]
    },
    {
     "name": "stdout",
     "output_type": "stream",
     "text": [
      "🚀 Processing user_28/GOPR1347 → unknown\n"
     ]
    },
    {
     "name": "stderr",
     "output_type": "stream",
     "text": [
      "/kaggle/working/v2e/v2e.py:506: DeprecationWarning: `np.math` is a deprecated alias for the standard library `math` module (Deprecated Numpy 1.25). Replace usages of `np.math` with `math`\n",
      "  dvsNumFrames = np.math.floor(\n",
      "rgb2luma: 100%|██████████| 51/51 [00:01<00:00, 45.74fr/s]\n",
      "npy2png: 51fr [00:00, 177.64fr/s]\n",
      "dvs: 100%|██████████| 51/51 [00:04<00:00, 11.03fr/s]\n",
      "/bin/sh: 1: xprop: not found\n"
     ]
    },
    {
     "name": "stdout",
     "output_type": "stream",
     "text": [
      "🚀 Processing user_28/GOPR1348 → unknown\n"
     ]
    },
    {
     "name": "stderr",
     "output_type": "stream",
     "text": [
      "/kaggle/working/v2e/v2e.py:506: DeprecationWarning: `np.math` is a deprecated alias for the standard library `math` module (Deprecated Numpy 1.25). Replace usages of `np.math` with `math`\n",
      "  dvsNumFrames = np.math.floor(\n",
      "rgb2luma: 100%|██████████| 51/51 [00:01<00:00, 48.19fr/s]\n",
      "npy2png: 51fr [00:00, 175.82fr/s]\n",
      "dvs: 100%|██████████| 51/51 [00:04<00:00, 11.40fr/s]\n",
      "/bin/sh: 1: xprop: not found\n"
     ]
    },
    {
     "name": "stdout",
     "output_type": "stream",
     "text": [
      "🚀 Processing user_28/GOPR1349 → unknown\n"
     ]
    },
    {
     "name": "stderr",
     "output_type": "stream",
     "text": [
      "/kaggle/working/v2e/v2e.py:506: DeprecationWarning: `np.math` is a deprecated alias for the standard library `math` module (Deprecated Numpy 1.25). Replace usages of `np.math` with `math`\n",
      "  dvsNumFrames = np.math.floor(\n",
      "rgb2luma: 100%|██████████| 51/51 [00:01<00:00, 48.86fr/s]\n",
      "npy2png: 51fr [00:00, 176.08fr/s]\n",
      "dvs: 100%|██████████| 51/51 [00:04<00:00, 11.07fr/s]\n",
      "/bin/sh: 1: xprop: not found\n"
     ]
    },
    {
     "name": "stdout",
     "output_type": "stream",
     "text": [
      "🚀 Processing user_28/GOPR1350 → unknown\n"
     ]
    },
    {
     "name": "stderr",
     "output_type": "stream",
     "text": [
      "/kaggle/working/v2e/v2e.py:506: DeprecationWarning: `np.math` is a deprecated alias for the standard library `math` module (Deprecated Numpy 1.25). Replace usages of `np.math` with `math`\n",
      "  dvsNumFrames = np.math.floor(\n",
      "rgb2luma: 100%|██████████| 51/51 [00:01<00:00, 49.18fr/s]\n",
      "npy2png: 51fr [00:00, 175.92fr/s]\n",
      "dvs: 100%|██████████| 51/51 [00:04<00:00, 11.39fr/s]\n",
      "/bin/sh: 1: xprop: not found\n"
     ]
    },
    {
     "name": "stdout",
     "output_type": "stream",
     "text": [
      "🚀 Processing user_28/GOPR1351 → unknown\n"
     ]
    },
    {
     "name": "stderr",
     "output_type": "stream",
     "text": [
      "/kaggle/working/v2e/v2e.py:506: DeprecationWarning: `np.math` is a deprecated alias for the standard library `math` module (Deprecated Numpy 1.25). Replace usages of `np.math` with `math`\n",
      "  dvsNumFrames = np.math.floor(\n",
      "rgb2luma: 100%|██████████| 51/51 [00:01<00:00, 50.10fr/s]\n",
      "npy2png: 51fr [00:00, 174.46fr/s]\n",
      "dvs: 100%|██████████| 51/51 [00:04<00:00, 11.00fr/s]\n",
      "/bin/sh: 1: xprop: not found\n"
     ]
    },
    {
     "name": "stdout",
     "output_type": "stream",
     "text": [
      "\n",
      "✅ Done. Total processed (excl. user_00): 568\n",
      "📄 Labels CSV: /kaggle/working/v2e_event_labels.csv\n"
     ]
    }
   ],
   "source": [
    "# ============================\n",
    "# 1) INSTALL dependencies\n",
    "# ============================\n",
    "!pip install -q \\\n",
    "    ffmpeg-python imageio[ffmpeg] pims \\\n",
    "    opencv-python-headless torch torchvision \\\n",
    "    tqdm numpy pillow requests gdown\n",
    "\n",
    "# ============================\n",
    "# 2) CLONE & INSTALL v2e\n",
    "# ============================\n",
    "import os, shutil, subprocess\n",
    "\n",
    "WORKING_DIR = \"/kaggle/working\"\n",
    "V2E_DIR     = os.path.join(WORKING_DIR, \"v2e\")\n",
    "\n",
    "if os.path.isdir(V2E_DIR):\n",
    "    shutil.rmtree(V2E_DIR)\n",
    "\n",
    "subprocess.run(f\"git clone https://github.com/SensorsINI/v2e.git {V2E_DIR}\", \n",
    "               shell=True, check=True)\n",
    "subprocess.run(f\"pip install -q -e {V2E_DIR}\", shell=True, check=True)\n",
    "\n",
    "# ============================\n",
    "# 3) DOWNLOAD SuperSloMo checkpoint\n",
    "# ============================\n",
    "DRIVE_ID   = \"1ETID_4xqLpRBrRo1aOT7Yphs3QqWR_fx\"   # correct file ID\n",
    "CKPT_LOCAL = os.path.join(WORKING_DIR, \"SuperSloMo39.ckpt\")\n",
    "MODEL_DIR  = os.path.join(V2E_DIR, \"v2e_networks\")\n",
    "MODEL_PATH = os.path.join(MODEL_DIR, \"SuperSloMo39.pth.tar\")\n",
    "\n",
    "if not os.path.isfile(CKPT_LOCAL):\n",
    "    print(\"⬇️ Downloading SuperSloMo39.ckpt…\")\n",
    "    subprocess.run(f\"gdown --id {DRIVE_ID} -O {CKPT_LOCAL}\", shell=True, check=True)\n",
    "    print(\"✅ Downloaded ckpt to:\", CKPT_LOCAL)\n",
    "\n",
    "os.makedirs(MODEL_DIR, exist_ok=True)\n",
    "shutil.move(CKPT_LOCAL, MODEL_PATH)\n",
    "print(\"✅ Model moved to:\", MODEL_PATH)\n",
    "\n",
    "# ============================\n",
    "# 4) LOAD LABELS\n",
    "# ============================\n",
    "import pandas as pd\n",
    "\n",
    "RGB_ROOT = '/kaggle/input/nefer-data/rgb_frames'\n",
    "CSV_PATH = '/kaggle/input/nefer-data/annotations/reported_emotions/train_gopro_subjective.csv'\n",
    "OUTPUT_ROOT = os.path.join(WORKING_DIR, \"v2e_output\")\n",
    "OUTPUT_CSV  = os.path.join(WORKING_DIR, \"v2e_event_labels.csv\")\n",
    "FRAME_RATE  = 60\n",
    "\n",
    "df = pd.read_csv(CSV_PATH)\n",
    "df.columns = df.columns.str.strip()\n",
    "df = df.rename(columns={df.columns[0]:\"user\", df.columns[1]:\"session\", df.columns[3]:\"label\"})\n",
    "df[\"user\"]    = df[\"user\"].str.strip()\n",
    "df[\"session\"] = df[\"session\"].str.strip()\n",
    "df[\"label\"]   = df[\"label\"].str.strip().str.lower()\n",
    "\n",
    "session_labels = (\n",
    "    df\n",
    "    .drop_duplicates(subset=[\"user\",\"session\"])\n",
    "    .set_index([\"user\",\"session\"])[\"label\"]\n",
    "    .to_dict()\n",
    ")\n",
    "\n",
    "# ============================\n",
    "# 5) BATCH PROCESS (skip user_00)\n",
    "# ============================\n",
    "records, total = [], 0\n",
    "import subprocess\n",
    "\n",
    "for user in sorted(os.listdir(RGB_ROOT)):\n",
    "    if user == \"user_00\":\n",
    "        print(f\"⏭️ Skipping {user}\")\n",
    "        continue\n",
    "    udir = os.path.join(RGB_ROOT, user)\n",
    "    if not os.path.isdir(udir):\n",
    "        continue\n",
    "\n",
    "    for session in sorted(os.listdir(udir)):\n",
    "        sdir = os.path.join(udir, session)\n",
    "        if not os.path.isdir(sdir):\n",
    "            continue\n",
    "\n",
    "        pngs = [f for f in os.listdir(sdir) if f.endswith(\".png\")]\n",
    "        if len(pngs) < 2:\n",
    "            print(f\"⚠️ Skipping {user}/{session} (<2 frames)\")\n",
    "            continue\n",
    "\n",
    "        out_dir = os.path.join(OUTPUT_ROOT, user, session)\n",
    "        os.makedirs(out_dir, exist_ok=True)\n",
    "        label = session_labels.get((user,session), \"unknown\")\n",
    "\n",
    "        print(f\"🚀 Processing {user}/{session} → {label}\")\n",
    "        cmd = (\n",
    "            f'cd \"{V2E_DIR}\" && python v2e.py '\n",
    "            f'-i \"{sdir}\" -o \"{out_dir}\" '\n",
    "            f'--slomo_model \"{MODEL_PATH}\" '\n",
    "            f'--input_frame_rate {FRAME_RATE} '\n",
    "            f'--dvs_exposure duration 0.01 '\n",
    "            f'--cutoff_hz 300 '\n",
    "            f'--overwrite '\n",
    "            f'--no_preview '\n",
    "            f'--disable_slomo'\n",
    "        )\n",
    "        try:\n",
    "            subprocess.run(cmd, shell=True, check=True)\n",
    "            records.append({\n",
    "                \"user\": user,\n",
    "                \"session\": session,\n",
    "                \"label\": label,\n",
    "                \"dvs_output_folder\": out_dir\n",
    "            })\n",
    "            total += 1\n",
    "        except subprocess.CalledProcessError as e:\n",
    "            print(f\"❌ Failed: {user}/{session} — exit code {e.returncode}\")\n",
    "\n",
    "# ============================\n",
    "# 6) SAVE SUMMARY CSV\n",
    "# ============================\n",
    "pd.DataFrame(records).to_csv(OUTPUT_CSV, index=False)\n",
    "print(f\"\\n✅ Done. Total processed (excl. user_00): {total}\")\n",
    "print(f\"📄 Labels CSV: {OUTPUT_CSV}\")\n"
   ]
  },
  {
   "cell_type": "markdown",
   "metadata": {},
   "source": [
    "# ALEXNET AND LSTM"
   ]
  },
  {
   "cell_type": "code",
   "execution_count": 25,
   "metadata": {
    "execution": {
     "iopub.execute_input": "2025-04-18T18:10:29.508998Z",
     "iopub.status.busy": "2025-04-18T18:10:29.508250Z",
     "iopub.status.idle": "2025-04-18T18:36:36.607144Z",
     "shell.execute_reply": "2025-04-18T18:36:36.606273Z",
     "shell.execute_reply.started": "2025-04-18T18:10:29.508973Z"
    }
   },
   "outputs": [
    {
     "name": "stdout",
     "output_type": "stream",
     "text": [
      "✔️  393 usable sessions\n",
      "Epoch 01/20  train=1.9384  val=1.9631  macro‑F1=0.020\n",
      "Epoch 02/20  train=1.9469  val=1.9631  macro‑F1=0.020\n",
      "Epoch 03/20  train=1.9505  val=1.9631  macro‑F1=0.020\n",
      "Epoch 04/20  train=1.9517  val=1.9631  macro‑F1=0.020\n",
      "Epoch 05/20  train=1.9504  val=1.9631  macro‑F1=0.020\n",
      "Epoch 06/20  train=1.9498  val=1.9631  macro‑F1=0.020\n",
      "Epoch 07/20  train=1.9518  val=1.9631  macro‑F1=0.020\n",
      "Epoch 08/20  train=1.9516  val=1.9631  macro‑F1=0.020\n",
      "Epoch 09/20  train=1.9506  val=1.9631  macro‑F1=0.020\n",
      "Epoch 10/20  train=1.9476  val=1.9631  macro‑F1=0.020\n",
      "Epoch 11/20  train=1.9488  val=1.9631  macro‑F1=0.020\n",
      "Epoch 12/20  train=1.9442  val=1.9631  macro‑F1=0.020\n",
      "Epoch 13/20  train=1.9525  val=1.9631  macro‑F1=0.020\n",
      "Epoch 14/20  train=1.9398  val=1.9631  macro‑F1=0.020\n",
      "Epoch 15/20  train=1.9491  val=1.9631  macro‑F1=0.020\n",
      "Epoch 16/20  train=1.9467  val=1.9631  macro‑F1=0.020\n",
      "Epoch 17/20  train=1.9443  val=1.9631  macro‑F1=0.020\n",
      "Epoch 18/20  train=1.9495  val=1.9631  macro‑F1=0.020\n",
      "Epoch 19/20  train=1.9445  val=1.9631  macro‑F1=0.020\n",
      "Epoch 20/20  train=1.9454  val=1.9631  macro‑F1=0.020\n",
      "\n",
      "              precision    recall  f1-score   support\n",
      "\n",
      "       anger       0.00      0.00      0.00         8\n",
      "    contempt       0.00      0.00      0.00         9\n",
      "     disgust       0.00      0.00      0.00        11\n",
      "        fear       0.08      1.00      0.14         6\n",
      "   happiness       0.00      0.00      0.00        13\n",
      "     sadness       0.00      0.00      0.00        15\n",
      "    surprise       0.00      0.00      0.00        17\n",
      "\n",
      "    accuracy                           0.08        79\n",
      "   macro avg       0.01      0.14      0.02        79\n",
      "weighted avg       0.01      0.08      0.01        79\n",
      "\n"
     ]
    },
    {
     "data": {
      "image/png": "[encoded data removed]",
      "text/plain": [
       "<Figure size 640x480 with 1 Axes>"
      ]
     },
     "metadata": {},
     "output_type": "display_data"
    },
    {
     "data": {
      "image/png": "[encoded data removed]",
      "text/plain": [
       "<Figure size 640x480 with 1 Axes>"
      ]
     },
     "metadata": {},
     "output_type": "display_data"
    }
   ],
   "source": [
    "# ─────────────────────────────────────────────────────────────────────────────\n",
    "# 0) Imports & device\n",
    "# ─────────────────────────────────────────────────────────────────────────────\n",
    "import os, cv2, random, math, numpy as np, pandas as pd, torch, matplotlib.pyplot as plt\n",
    "import torch.nn as nn\n",
    "from torch.utils.data import Dataset, DataLoader, WeightedRandomSampler\n",
    "from torchvision.models import alexnet\n",
    "from sklearn.model_selection import train_test_split\n",
    "from sklearn.metrics import precision_recall_fscore_support, classification_report\n",
    "torch.manual_seed(0); random.seed(0); np.random.seed(0)\n",
    "device = torch.device('cuda' if torch.cuda.is_available() else 'cpu')\n",
    "\n",
    "# ─────────────────────────────────────────────────────────────────────────────\n",
    "# 1) Load CSV & keep valid clips (skip `user_00`, `unknown`, NaN)\n",
    "# ─────────────────────────────────────────────────────────────────────────────\n",
    "CSV = \"/kaggle/working/v2e_event_labels.csv\"          # ← adjust if needed\n",
    "df  = (pd.read_csv(CSV)\n",
    "         .dropna(subset=[\"label\"])\n",
    "         .query(\"label!='unknown' and user!='user_00'\")\n",
    "         .reset_index(drop=True))\n",
    "\n",
    "df[\"avi\"] = df[\"dvs_output_folder\"].apply(\n",
    "              lambda p: os.path.join(p,\"dvs-video.avi\"))\n",
    "df[\"txt\"] = df[\"avi\"].str.replace(\".avi\",\"-frame_times.txt\")\n",
    "df = df[df.apply(lambda r: os.path.isfile(r.avi) and os.path.isfile(r.txt), axis=1)]\n",
    "print(f\"✔️  {len(df)} usable sessions\")\n",
    "\n",
    "labels   = sorted(df.label.unique());           NUM_CLS = len(labels)\n",
    "lbl2idx  = {l:i for i,l in enumerate(labels)};  idx2lbl = {i:l for l,i in lbl2idx.items()}\n",
    "\n",
    "# ─────────────────────────────────────────────────────────────────────────────\n",
    "# 2) Dataset — uses *‑frame_times.txt*, jitter, flip\n",
    "# ─────────────────────────────────────────────────────────────────────────────\n",
    "# 2) Dataset with fixed‑length sampling & safe flip\n",
    "class VideoEventDataset(Dataset):\n",
    "    def __init__(self, df, T=32, size=128, augment=False):\n",
    "        self.df, self.T, self.H, self.W, self.aug = df.reset_index(drop=True), T, size, size, augment\n",
    "        self.lbl2idx = {l:i for i,l in enumerate(sorted(df.label.unique()))}\n",
    "\n",
    "    def __len__(self): return len(self.df)\n",
    "\n",
    "    def _frame_times(self, txt):                    # load frame timestamps\n",
    "        return np.loadtxt(txt, comments='#', usecols=[1]).astype(np.float32)\n",
    "\n",
    "    def _read_frame(self, cap, k):\n",
    "        cap.set(cv2.CAP_PROP_POS_FRAMES, int(k))\n",
    "        ok,img = cap.read()\n",
    "        if not ok: raise RuntimeError(f'missing frame {k}')\n",
    "        g = cv2.cvtColor(img, cv2.COLOR_BGR2GRAY)\n",
    "        g = cv2.resize(g, (self.W, self.H), interpolation=cv2.INTER_AREA)\n",
    "        return g.astype(np.float32)/255.\n",
    "\n",
    "    def __getitem__(self, idx):\n",
    "        row = self.df.iloc[idx]\n",
    "        ts   = self._frame_times(row.txt)\n",
    "        want = np.linspace(ts[0], ts[-1], self.T, dtype=np.float32)\n",
    "        fidx = np.searchsorted(ts, want).clip(0, len(ts)-1)\n",
    "\n",
    "        if self.aug:\n",
    "            fidx = (fidx + np.random.randint(-1, 2, self.T)).clip(0, len(ts)-1)\n",
    "\n",
    "        cap = cv2.VideoCapture(row.avi)\n",
    "        clip = np.stack([self._read_frame(cap, k) for k in fidx], 0)   # (T,H,W)\n",
    "        cap.release()\n",
    "\n",
    "        if self.aug and np.random.rand() < .5:               # safe horizontal flip\n",
    "            clip = np.ascontiguousarray(clip[:, :, ::-1])\n",
    "\n",
    "        clip = torch.from_numpy(clip[:, None])               # (T,1,H,W) float32\n",
    "        label = self.lbl2idx[row.label]\n",
    "        return clip, label\n",
    "\n",
    "train_df,val_df=train_test_split(df,test_size=.2,stratify=df.label,random_state=1)\n",
    "train_ds=VideoEventDataset(train_df,augment=True)\n",
    "val_ds  =VideoEventDataset(val_df,  augment=False)\n",
    "\n",
    "# class‑balanced sampler\n",
    "freq=train_df.label.value_counts().to_dict()\n",
    "weights=[1./freq[l] for l in train_df.label]\n",
    "sampler=WeightedRandomSampler(weights,len(weights),replacement=True)\n",
    "\n",
    "train_loader=DataLoader(train_ds,batch_size=8,sampler=sampler,\n",
    "                        num_workers=2,pin_memory=True)\n",
    "val_loader  =DataLoader(val_ds,batch_size=8,shuffle=False,\n",
    "                        num_workers=2,pin_memory=True)\n",
    "\n",
    "# ─────────────────────────────────────────────────────────────────────────────\n",
    "# 3) AlexNet → LSTM model  (1‑channel input)\n",
    "# ─────────────────────────────────────────────────────────────────────────────\n",
    "class AlexLSTM(nn.Module):\n",
    "    def __init__(self,hid=128,n_cls=NUM_CLS):\n",
    "        super().__init__()\n",
    "        net=alexnet(weights=None)                 # offline; no download\n",
    "        net.features[0]=nn.Conv2d(1,64,11,4,2)    # 1‑ch instead of 3‑ch\n",
    "        net.classifier = nn.Identity()\n",
    "        with torch.no_grad(): feat=net(torch.zeros(1,1,128,128)).shape[1]\n",
    "        self.cnn, self.lstm = net, nn.LSTM(feat,hid,batch_first=True)\n",
    "        self.fc = nn.Linear(hid,n_cls)\n",
    "    def forward(self,x):                          # x (B,T,1,H,W)\n",
    "        B,T,_,H,W=x.size(); x=x.view(B*T,1,H,W)\n",
    "        f=self.cnn(x).view(B,T,-1)\n",
    "        h,_=self.lstm(f)\n",
    "        return self.fc(h[:,-1])\n",
    "\n",
    "model, opt = AlexLSTM().to(device), torch.optim.AdamW(AlexLSTM().parameters(),lr=3e-4)\n",
    "criterion = nn.CrossEntropyLoss()\n",
    "\n",
    "# ─────────────────────────────────────────────────────────────────────────────\n",
    "# 4) Train\n",
    "# ─────────────────────────────────────────────────────────────────────────────\n",
    "EPOCHS=20; tr_loss=[]; va_loss=[]; va_f1=[]\n",
    "for ep in range(1,EPOCHS+1):\n",
    "    # train\n",
    "    model.train(); s=0\n",
    "    for X,y in train_loader:\n",
    "        X,y=X.to(device),y.to(device)\n",
    "        opt.zero_grad(); l=criterion(model(X),y); l.backward(); opt.step(); s+=l.item()\n",
    "    tr_loss.append(s/len(train_loader))\n",
    "    # val\n",
    "    model.eval(); s=0; yt,yp=[],[]\n",
    "    with torch.no_grad():\n",
    "        for X,y in val_loader:\n",
    "            X,y=X.to(device),y.to(device)\n",
    "            out=model(X); s+=criterion(out,y).item()\n",
    "            yp+=out.argmax(1).cpu().tolist(); yt+=y.cpu().tolist()\n",
    "    va_loss.append(s/len(val_loader))\n",
    "    _,_,f1,_=precision_recall_fscore_support(\n",
    "        yt,yp,labels=list(range(NUM_CLS)),average=None,zero_division=0)\n",
    "    va_f1.append(f1.mean())\n",
    "    print(f\"Epoch {ep:02}/{EPOCHS}  \"\n",
    "          f\"train={tr_loss[-1]:.4f}  val={va_loss[-1]:.4f}  macro‑F1={va_f1[-1]:.3f}\")\n",
    "\n",
    "# ─────────────────────────────────────────────────────────────────────────────\n",
    "# 5) Report & curves\n",
    "# ─────────────────────────────────────────────────────────────────────────────\n",
    "print(\"\\n\"+classification_report(\n",
    "    yt,yp,target_names=[idx2lbl[i] for i in range(NUM_CLS)],zero_division=0))\n",
    "\n",
    "plt.figure(); plt.plot(tr_loss,label='train'); plt.plot(va_loss,label='val')\n",
    "plt.xlabel('epoch'); plt.ylabel('cross‑entropy'); plt.legend(); plt.title('Loss'); plt.show()\n",
    "\n",
    "plt.figure(); plt.plot(range(1,EPOCHS+1),va_f1,marker='o')\n",
    "plt.xlabel('epoch'); plt.ylabel('macro‑F1'); plt.title('Validation macro‑F1'); plt.show()\n"
   ]
  },
  {
   "cell_type": "code",
   "execution_count": null,
   "metadata": {},
   "outputs": [],
   "source": []
  }
 ],
 "metadata": {
  "kaggle": {
   "accelerator": "gpu",
   "dataSources": [
    {
     "datasetId": 7159993,
     "sourceId": 11431825,
     "sourceType": "datasetVersion"
    }
   ],
   "dockerImageVersionId": 31011,
   "isGpuEnabled": true,
   "isInternetEnabled": true,
   "language": "python",
   "sourceType": "notebook"
  },
  "kernelspec": {
   "display_name": "Python 3 (ipykernel)",
   "language": "python",
   "name": "python3"
  },
  "language_info": {
   "codemirror_mode": {
    "name": "ipython",
    "version": 3
   },
   "file_extension": ".py",
   "mimetype": "text/x-python",
   "name": "python",
   "nbconvert_exporter": "python",
   "pygments_lexer": "ipython3",
   "version": "3.12.3"
  }
 },
 "nbformat": 4,
 "nbformat_minor": 4
}
